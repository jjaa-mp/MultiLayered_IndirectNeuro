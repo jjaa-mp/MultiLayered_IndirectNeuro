{
 "cells": [
  {
   "cell_type": "markdown",
   "id": "bb3910de",
   "metadata": {},
   "source": [
    "# Paleogenomics paper section"
   ]
  },
  {
   "cell_type": "code",
   "execution_count": null,
   "id": "a344a05a",
   "metadata": {},
   "outputs": [],
   "source": [
    "import pandas as pd\n",
    "import numpy as np"
   ]
  },
  {
   "cell_type": "code",
   "execution_count": null,
   "id": "f32540f2",
   "metadata": {},
   "outputs": [],
   "source": [
    "import seaborn as sns"
   ]
  },
  {
   "cell_type": "code",
   "execution_count": null,
   "id": "fc9f8991",
   "metadata": {},
   "outputs": [],
   "source": [
    "import matplotlib.pyplot as plt"
   ]
  },
  {
   "cell_type": "markdown",
   "id": "99372382",
   "metadata": {},
   "source": [
    "# Load regulatory islands data"
   ]
  },
  {
   "cell_type": "markdown",
   "id": "7974eaa8",
   "metadata": {},
   "source": [
    "**Genes in regulatory islands**"
   ]
  },
  {
   "cell_type": "code",
   "execution_count": null,
   "id": "1cb28ced",
   "metadata": {},
   "outputs": [],
   "source": [
    "regisl = pd.read_csv(\"/home/jovyan/jm_jlab/CBL_data/indirectNeurogenesis/regulatory_islands/hg38_regulatory_islands_genenames.tsv\", sep='\\t')"
   ]
  },
  {
   "cell_type": "raw",
   "id": "6daf4c09",
   "metadata": {},
   "source": [
    "regisl"
   ]
  },
  {
   "cell_type": "code",
   "execution_count": null,
   "id": "4f55cab7",
   "metadata": {},
   "outputs": [],
   "source": [
    "regisl_genenames = regisl['gene_name'].str.split(\", \").explode().drop_duplicates()\n",
    "\n",
    "regisl_genenames.dropna(inplace=True)\n",
    "\n",
    "regisl_genenames = regisl_genenames.tolist()"
   ]
  },
  {
   "cell_type": "code",
   "execution_count": null,
   "id": "44674d2b",
   "metadata": {},
   "outputs": [],
   "source": [
    "len(set(regisl_genenames))"
   ]
  },
  {
   "cell_type": "markdown",
   "id": "0c513c78",
   "metadata": {},
   "source": [
    "**Regulatory islands genes in Deserts**"
   ]
  },
  {
   "cell_type": "code",
   "execution_count": null,
   "id": "5fc128e5",
   "metadata": {},
   "outputs": [],
   "source": [
    "regisl_deserts = pd.read_csv(\"/home/jovyan/jm_jlab/CBL_data/indirectNeurogenesis/regulatory_islands/hg38_regulatory_islands_DESERTS.tsv\", sep='\\t')"
   ]
  },
  {
   "cell_type": "code",
   "execution_count": null,
   "id": "ec56574d",
   "metadata": {},
   "outputs": [],
   "source": [
    "ri_deserts_genenames = regisl_deserts['gene_name'].str.split(\", \").explode().drop_duplicates()"
   ]
  },
  {
   "cell_type": "code",
   "execution_count": null,
   "id": "2b1c007b",
   "metadata": {},
   "outputs": [],
   "source": [
    "ri_deserts_genenames.dropna(inplace=True)"
   ]
  },
  {
   "cell_type": "code",
   "execution_count": null,
   "id": "fc84640e",
   "metadata": {},
   "outputs": [],
   "source": [
    "ri_deserts_genenames = ri_deserts_genenames.tolist()"
   ]
  },
  {
   "cell_type": "markdown",
   "id": "c6014e03",
   "metadata": {},
   "source": [
    "**Regulatory islands genes in Positive Selection**"
   ]
  },
  {
   "cell_type": "code",
   "execution_count": null,
   "id": "9bdc5aa8",
   "metadata": {},
   "outputs": [],
   "source": [
    "regisl_possel = pd.read_csv(\"/home/jovyan/jm_jlab/CBL_data/indirectNeurogenesis/regulatory_islands/hg38_regulatory_islands_POS_Sel.tsv\", sep='\\t')"
   ]
  },
  {
   "cell_type": "code",
   "execution_count": null,
   "id": "ccce2f51",
   "metadata": {},
   "outputs": [],
   "source": [
    "ri_possel_genenames = regisl_possel['gene_name'].str.split(\", \").explode().drop_duplicates()"
   ]
  },
  {
   "cell_type": "code",
   "execution_count": null,
   "id": "95cb2aba",
   "metadata": {},
   "outputs": [],
   "source": [
    "ri_possel_genenames.dropna(inplace=True)"
   ]
  },
  {
   "cell_type": "code",
   "execution_count": null,
   "id": "4353bf00",
   "metadata": {},
   "outputs": [],
   "source": [
    "ri_possel_genenames = ri_possel_genenames.tolist()"
   ]
  },
  {
   "cell_type": "markdown",
   "id": "90a78beb",
   "metadata": {},
   "source": [
    "# Overlap with Moriano & Boeckx, 2020"
   ]
  },
  {
   "cell_type": "raw",
   "id": "252bfe5a",
   "metadata": {},
   "source": [
    "https://bmcgenomics.biomedcentral.com/articles/10.1186/s12864-020-6706-x"
   ]
  },
  {
   "cell_type": "code",
   "execution_count": null,
   "id": "2dca15d2",
   "metadata": {
    "scrolled": true
   },
   "outputs": [],
   "source": [
    "#Download BMC data\n",
    "!wget https://figshare.com/ndownloader/files/20997426 -O tmp_bmc_genes.xlsx\n",
    "    \n",
    "xls = pd.ExcelFile('tmp_bmc_genes.xlsx')\n",
    "bmc1 = pd.read_excel(xls, 'S1_ENH_onlyhuman_5to20')\n",
    "bmc2 = pd.read_excel(xls, 'S2_PROM_onlyhuman_5to20')\n",
    "\n",
    "bmc_genes = []\n",
    "bmc_genes.append(bmc1['gene_name'])\n",
    "bmc_genes.append(bmc2['gene_name'])\n",
    "\n",
    "list_BMC = [item for sublist in bmc_genes for item in sublist]\n",
    "\n",
    "list_BMC = [*set(list_BMC)]\n",
    "\n",
    "print(len(list_BMC))\n",
    "\n",
    "!rm tmp_bmc_genes.xlsx"
   ]
  },
  {
   "cell_type": "markdown",
   "id": "9d6d79cd",
   "metadata": {},
   "source": [
    "**Regulatory islands genes in Moriano & Boeckx, 2020**"
   ]
  },
  {
   "cell_type": "code",
   "execution_count": null,
   "id": "a9fa2895",
   "metadata": {},
   "outputs": [],
   "source": [
    "overlap_w_BMC = list(set(list_BMC) & set(regisl_genenames))\n",
    "\n",
    "print(\"% Overlap gene names: \"+str(len(set(overlap_w_BMC))/len(list_BMC)*100))"
   ]
  },
  {
   "cell_type": "code",
   "execution_count": null,
   "id": "796206e8",
   "metadata": {
    "scrolled": true
   },
   "outputs": [],
   "source": [
    "rr_hg19 = pd.read_csv(\"/home/jovyan/jm_jlab/data_CBL/indNeuro_tmp/regulatory_region_data/regulatory_region_results/regulatory_islands_completeINFO.tsv\", sep='\\t')"
   ]
  },
  {
   "cell_type": "code",
   "execution_count": null,
   "id": "bdcd47b6",
   "metadata": {},
   "outputs": [],
   "source": [
    "all_pos_bmc = pd.concat([bmc1['SNC_coordinate'], bmc2['SNC_coordinate']])"
   ]
  },
  {
   "cell_type": "code",
   "execution_count": null,
   "id": "d3c86bad",
   "metadata": {},
   "outputs": [],
   "source": [
    "all_pos_bmc = 'chr'+all_pos_bmc"
   ]
  },
  {
   "cell_type": "code",
   "execution_count": null,
   "id": "567445ee",
   "metadata": {},
   "outputs": [],
   "source": [
    "allpos_rrhg19 = rr_hg19['Chr'].astype(str)+\":\"+rr_hg19['SNV_end_hg19'].astype(str)"
   ]
  },
  {
   "cell_type": "code",
   "execution_count": null,
   "id": "5d2dec2f",
   "metadata": {},
   "outputs": [],
   "source": [
    "len(set(all_pos_bmc) & set(allpos_rrhg19))"
   ]
  },
  {
   "cell_type": "code",
   "execution_count": null,
   "id": "1b97877e",
   "metadata": {},
   "outputs": [],
   "source": [
    "len(set(all_pos_bmc) & set(allpos_rrhg19))/len(set(all_pos_bmc))*100"
   ]
  },
  {
   "cell_type": "raw",
   "id": "f8aeddee",
   "metadata": {},
   "source": [
    "\n",
    "\n"
   ]
  },
  {
   "cell_type": "markdown",
   "id": "2d241d93",
   "metadata": {},
   "source": [
    "# Regulatory islands genes that are present in the 4K HVGs"
   ]
  },
  {
   "cell_type": "code",
   "execution_count": null,
   "id": "9a37d69a",
   "metadata": {},
   "outputs": [],
   "source": [
    "import celloracle as co"
   ]
  },
  {
   "cell_type": "code",
   "execution_count": null,
   "id": "9c4ed274",
   "metadata": {},
   "outputs": [],
   "source": [
    "tr21_pcw16 = co.load_hdf5(\"/home/jovyan/jm_jlab/data_indNeuro/1.GRN/tr21_pcw16.celloracle.oracle\")"
   ]
  },
  {
   "cell_type": "code",
   "execution_count": null,
   "id": "d6a5cc88",
   "metadata": {},
   "outputs": [],
   "source": [
    "tr21_pcw16.adata.var_names"
   ]
  },
  {
   "cell_type": "code",
   "execution_count": null,
   "id": "c7bd2326",
   "metadata": {},
   "outputs": [],
   "source": [
    "regisl_genenames_in4K = list(set(tr21_pcw16.adata.var_names) & set(regisl_genenames))"
   ]
  },
  {
   "cell_type": "code",
   "execution_count": null,
   "id": "096488e8",
   "metadata": {},
   "outputs": [],
   "source": [
    "len(regisl_genenames_in4K)"
   ]
  },
  {
   "cell_type": "code",
   "execution_count": null,
   "id": "f564d29c",
   "metadata": {},
   "outputs": [],
   "source": [
    "ri_deserts_in4K = list(set(tr21_pcw16.adata.var_names) & set(ri_deserts_genenames))"
   ]
  },
  {
   "cell_type": "code",
   "execution_count": null,
   "id": "1a9819e6",
   "metadata": {},
   "outputs": [],
   "source": [
    "ri_possel_in4K = list(set(tr21_pcw16.adata.var_names) & set(ri_possel_genenames))"
   ]
  },
  {
   "cell_type": "raw",
   "id": "4171cd8b",
   "metadata": {},
   "source": []
  },
  {
   "cell_type": "markdown",
   "id": "96fc5045",
   "metadata": {},
   "source": [
    "# Top 100 genes in piNMF - Trevino"
   ]
  },
  {
   "cell_type": "markdown",
   "id": "e6638f5f",
   "metadata": {},
   "source": [
    "**oRG**"
   ]
  },
  {
   "cell_type": "code",
   "execution_count": null,
   "id": "6763226f",
   "metadata": {},
   "outputs": [],
   "source": [
    "tr21_dir = '/home/jovyan/jm_jlab/data_indNeuro/3.NMF_data/4k_oRG_pcw16/'"
   ]
  },
  {
   "cell_type": "code",
   "execution_count": null,
   "id": "7b688309",
   "metadata": {},
   "outputs": [],
   "source": [
    "topgenes_oRG = pd.read_csv(tr21_dir+'4k_oRG_pcw16modules_to_oRG_topgenes_pcw16_4K_piNMF.tsv', sep='\\t')"
   ]
  },
  {
   "cell_type": "code",
   "execution_count": null,
   "id": "14f7f605",
   "metadata": {},
   "outputs": [],
   "source": [
    "topgenes_oRG.columns"
   ]
  },
  {
   "cell_type": "code",
   "execution_count": null,
   "id": "1721a2f2",
   "metadata": {},
   "outputs": [],
   "source": [
    "tmp_early = list(set(topgenes_oRG['Module_1']) | set(topgenes_oRG['Module_2']))"
   ]
  },
  {
   "cell_type": "code",
   "execution_count": null,
   "id": "5bf2c4bf",
   "metadata": {},
   "outputs": [],
   "source": [
    "len(tmp_early)"
   ]
  },
  {
   "cell_type": "code",
   "execution_count": null,
   "id": "40ef0297",
   "metadata": {},
   "outputs": [],
   "source": [
    "tmp_late = list(set(topgenes_oRG['Module_3']) | set(topgenes_oRG['Module_4']))"
   ]
  },
  {
   "cell_type": "code",
   "execution_count": null,
   "id": "bde8d956",
   "metadata": {
    "scrolled": true
   },
   "outputs": [],
   "source": [
    "len(tmp_late)"
   ]
  },
  {
   "cell_type": "raw",
   "id": "a8a1a176",
   "metadata": {},
   "source": [
    "set(tmp_early) & set(tmp_late)"
   ]
  },
  {
   "cell_type": "markdown",
   "id": "299c864c",
   "metadata": {},
   "source": [
    "**oRG Early vs Late modules** in regulatory islands"
   ]
  },
  {
   "cell_type": "code",
   "execution_count": null,
   "id": "75667a83",
   "metadata": {},
   "outputs": [],
   "source": [
    "islands_info = pd.read_csv(\"/home/jovyan/jm_jlab/data_CBL/indNeuro_tmp/regulatory_region_data/regulatory_region_results/regulatory_islands_completeINFO.tsv\", sep='\\t')\n",
    "\n",
    "islands_info2 = islands_info.assign(tmp_genename=islands_info['gene_name'].str.split(', ')).explode('tmp_genename')\n",
    "\n",
    "Early_Risland = islands_info2[islands_info2['tmp_genename'].isin(tmp_early)].drop(columns='tmp_genename')\n",
    "\n",
    "Late_Risland = islands_info2[islands_info2['tmp_genename'].isin(tmp_late)].drop(columns='tmp_genename')\n",
    "\n",
    "Early_Risland.reset_index(drop=True, inplace=True)\n",
    "\n",
    "Late_Risland.reset_index(drop=True, inplace=True)"
   ]
  },
  {
   "cell_type": "raw",
   "id": "ea8091f3-9b0a-4f13-87a0-dd28a2ca344b",
   "metadata": {},
   "source": [
    "Early_Risland.to_csv(\"/home/jovyan/jm_jlab/HomoSapiens_TFaffi/regulatory_islands_data/Early_piNMF_oRG_regulatory_islands.tsv\",\n",
    "                    sep='\\t', index=False)\n",
    "\n",
    "Late_Risland.to_csv(\"/home/jovyan/jm_jlab/HomoSapiens_TFaffi/regulatory_islands_data/Late_piNMF_oRG_regulatory_islands.tsv\",\n",
    "                    sep='\\t', index=False)"
   ]
  },
  {
   "cell_type": "code",
   "execution_count": null,
   "id": "db0e44c3",
   "metadata": {},
   "outputs": [],
   "source": []
  },
  {
   "cell_type": "raw",
   "id": "7369a50f",
   "metadata": {},
   "source": []
  },
  {
   "cell_type": "code",
   "execution_count": null,
   "id": "d98179d7",
   "metadata": {},
   "outputs": [],
   "source": [
    "for i in topgenes_oRG.columns:\n",
    "    print(len(list(set(regisl_genenames_in4K) & set(topgenes_oRG[i]))))"
   ]
  },
  {
   "cell_type": "code",
   "execution_count": null,
   "id": "924d1ced",
   "metadata": {},
   "outputs": [],
   "source": []
  },
  {
   "cell_type": "code",
   "execution_count": null,
   "id": "caac8f86",
   "metadata": {},
   "outputs": [],
   "source": [
    "tr21_dir_ipc = '/home/jovyan/jm_jlab/data_indNeuro/3.NMF_data/4k_IPC_pcw16/4k_IPC_pcw16/'"
   ]
  },
  {
   "cell_type": "code",
   "execution_count": null,
   "id": "6d637538",
   "metadata": {
    "scrolled": true
   },
   "outputs": [],
   "source": [
    "topgenes_IPC = pd.read_csv(tr21_dir_ipc+'modules_to_IPC_topgenes_pcw16_4K_piNMF.tsv', sep='\\t')"
   ]
  },
  {
   "cell_type": "code",
   "execution_count": null,
   "id": "8a610188",
   "metadata": {},
   "outputs": [],
   "source": [
    "for i in topgenes_IPC.columns:\n",
    "    print(len(list(set(regisl_genenames_in4K) & set(topgenes_IPC[i]))))"
   ]
  },
  {
   "cell_type": "raw",
   "id": "01e75b40",
   "metadata": {},
   "source": []
  },
  {
   "cell_type": "code",
   "execution_count": null,
   "id": "512d7605",
   "metadata": {},
   "outputs": [],
   "source": [
    "tmp_early_ipc = list(set(topgenes_IPC['Module_1']) | set(topgenes_IPC['Module_2']))"
   ]
  },
  {
   "cell_type": "code",
   "execution_count": null,
   "id": "decfa0ad",
   "metadata": {
    "scrolled": true
   },
   "outputs": [],
   "source": [
    "len(tmp_early_ipc)"
   ]
  },
  {
   "cell_type": "code",
   "execution_count": null,
   "id": "50ded799",
   "metadata": {},
   "outputs": [],
   "source": [
    "tmp_late_ipc = list(set(topgenes_IPC['Module_3']) | set(topgenes_IPC['Module_4']))"
   ]
  },
  {
   "cell_type": "code",
   "execution_count": null,
   "id": "d6e00753",
   "metadata": {
    "scrolled": true
   },
   "outputs": [],
   "source": [
    "len(tmp_late_ipc)"
   ]
  },
  {
   "cell_type": "code",
   "execution_count": null,
   "id": "afe3c42b",
   "metadata": {},
   "outputs": [],
   "source": [
    "set(tmp_early_ipc) & set(tmp_late_ipc)"
   ]
  },
  {
   "cell_type": "code",
   "execution_count": null,
   "id": "fbc9651e",
   "metadata": {},
   "outputs": [],
   "source": [
    "len(set(regisl_genenames_in4K) & set(tmp_early_ipc))"
   ]
  },
  {
   "cell_type": "code",
   "execution_count": null,
   "id": "d40ea9dc",
   "metadata": {},
   "outputs": [],
   "source": [
    "len(set(regisl_genenames_in4K) & set(tmp_late_ipc))"
   ]
  },
  {
   "cell_type": "code",
   "execution_count": null,
   "id": "b8f9c92a",
   "metadata": {},
   "outputs": [],
   "source": [
    "for i in [tmp_early, tmp_late]:\n",
    "    print(len(set(regisl_genenames_in4K) & set(i)) / len(set(i))*100)"
   ]
  },
  {
   "cell_type": "raw",
   "id": "68ec7714",
   "metadata": {},
   "source": []
  },
  {
   "cell_type": "raw",
   "id": "6c961e04",
   "metadata": {},
   "source": []
  },
  {
   "cell_type": "code",
   "execution_count": null,
   "id": "f0cde1de",
   "metadata": {},
   "outputs": [],
   "source": [
    "def p_EarlyLate_fct(list_of_genes, topgenes_NMF, branch_name, database_name):\n",
    "    \n",
    "    \"\"\"\n",
    "    Calculate percentage of overlap between an input list of genes (e.g. genes found in deserts of introgression) and\n",
    "    genes found in piNMF modules. Modules 1 and 2 are grouped as 'Early', and Modules 3 and 4 as 'Late'. \n",
    "    \n",
    "    \n",
    "    Parameters\n",
    "    ----------\n",
    "        \n",
    "\n",
    "    list_of_genes: Evolutionary-relevant dataset\n",
    "    topgenes_NMF: 100 marker genes from pseudotime-informed NMF analysis\n",
    "    branch_name: vRG-to-IPC or vRG-to-IPC in our case, for instance. \n",
    "    database_name: Define list_of_genes\n",
    "      \n",
    "    Returns\n",
    "    -------\n",
    "    \n",
    "    dataframe\n",
    "    \"\"\"\n",
    "    \n",
    "    overlap_Early = []\n",
    "    overlap_Late = []\n",
    "    Early = []\n",
    "    Late = []\n",
    "    module1_2 = set(topgenes_NMF['Module_1']) | set(topgenes_NMF['Module_2'])\n",
    "    module3_4 = set(topgenes_NMF['Module_3']) | set(topgenes_NMF['Module_4'])\n",
    "    \n",
    "    for i in topgenes_NMF.columns:\n",
    "        if i == 'Module_1' or i == 'Module_2':\n",
    "            overlap_genes = list(set(list_of_genes) & module1_2)\n",
    "            Early.extend([gene for gene in overlap_genes if gene not in Early])\n",
    "            \n",
    "            overlap_Early.append(len(set(Early))/(len(module1_2))*100)\n",
    "            \n",
    "            \n",
    "        elif i == 'Module_3' or i == 'Module_4':\n",
    "            overlap_genes = list(set(list_of_genes) & module3_4)\n",
    "            Late.extend([gene for gene in overlap_genes if gene not in Late])\n",
    "            \n",
    "            overlap_Late.append(len(set(Late))/(len(module3_4))*100)\n",
    "      \n",
    "    d = {'Branch': [branch_name]*2, \n",
    "         'Database': [database_name]*2, \n",
    "         'Module': ['Early', 'Late'], \n",
    "         'Genes': [\",\".join(Early), \",\".join(Late)],\n",
    "         'Percentage overlap': [overlap_Early[0], overlap_Late[0]]}\n",
    "    return pd.DataFrame(d)\n"
   ]
  },
  {
   "cell_type": "code",
   "execution_count": null,
   "id": "67c886fe",
   "metadata": {},
   "outputs": [],
   "source": [
    "ipc_overlap = p_EarlyLate_fct(regisl_genenames_in4K, topgenes_IPC, branch_name='IPC',database_name='regulatory_islands')\n",
    "\n",
    "oRG_overlap = p_EarlyLate_fct(regisl_genenames_in4K, topgenes_oRG, branch_name='oRG',database_name='regulatory_islands')\n",
    "\n",
    "merged_df = pd.concat([ipc_overlap, oRG_overlap], axis=0)"
   ]
  },
  {
   "cell_type": "code",
   "execution_count": null,
   "id": "1a37b55e",
   "metadata": {},
   "outputs": [],
   "source": [
    "%matplotlib inline"
   ]
  },
  {
   "cell_type": "raw",
   "id": "1c5e58d4",
   "metadata": {},
   "source": [
    "Heatmap"
   ]
  },
  {
   "cell_type": "code",
   "execution_count": null,
   "id": "d4a5de02",
   "metadata": {
    "scrolled": true
   },
   "outputs": [],
   "source": [
    "matrix = merged_df.pivot(index='Module', columns=['Database', 'Branch'], values='Percentage overlap')\n",
    "\n",
    "if matrix.shape[0] < 2:\n",
    "    matrix = matrix.T\n",
    "\n",
    "\n",
    "g = sns.heatmap(matrix, cmap='coolwarm', \n",
    "                annot=True, fmt='.2f',\n",
    "                cbar_kws={'label': 'Percentage overlap'},\n",
    "               xticklabels=['vRG-IPC', 'vRG-oRG'])\n",
    "\n",
    "\n",
    "g.set_title('Overlap piNMF modules & genes in regulatory islands', fontsize=10)\n",
    "g.set_xlabel('Branch')\n",
    "g.set_ylabel('')\n",
    "\n",
    "plt.show()"
   ]
  },
  {
   "cell_type": "code",
   "execution_count": null,
   "id": "b6887a65",
   "metadata": {
    "scrolled": true
   },
   "outputs": [],
   "source": [
    "matrix = merged_df.pivot(index='Module', columns=['Database', 'Branch'], values='Percentage overlap')\n",
    "\n",
    "if matrix.shape[0] < 2:\n",
    "    matrix = matrix.T\n",
    "\n",
    "plt.figure(figsize=(5, 5), dpi=300)\n",
    "\n",
    "g = sns.heatmap(matrix, cmap='coolwarm', \n",
    "                annot=True, fmt='.2f',\n",
    "                cbar_kws={'label': 'Percentage'},\n",
    "               xticklabels=['vRG-IPC', 'vRG-oRG'])\n",
    "\n",
    "g.set_title('', fontsize=8) #Gene overlap piNMF modules & regulatory islands\n",
    "g.set_xlabel('Branch')\n",
    "g.set_ylabel('Modules')\n",
    "\n",
    "plt.show()"
   ]
  },
  {
   "cell_type": "code",
   "execution_count": null,
   "id": "cce7cf00",
   "metadata": {},
   "outputs": [],
   "source": [
    "merged_df.reset_index(inplace=True, drop=True)\n",
    "merged_df"
   ]
  },
  {
   "cell_type": "markdown",
   "id": "1d63ec41",
   "metadata": {},
   "source": [
    "# Add Polioudakis 2019 data"
   ]
  },
  {
   "cell_type": "markdown",
   "id": "17d1af6d",
   "metadata": {},
   "source": [
    "# Top 100 genes in piNMF - Polioudakis"
   ]
  },
  {
   "cell_type": "markdown",
   "id": "e83b3818",
   "metadata": {},
   "source": [
    "**oRG**"
   ]
  },
  {
   "cell_type": "code",
   "execution_count": null,
   "id": "e4ad9adc",
   "metadata": {},
   "outputs": [],
   "source": [
    "pol19_dir = '/home/jovyan/jm_jlab/data_indNeuro/3.NMF_data/4k_oRG_polioudakis2019/4k_oRG_polioudakis2019/'"
   ]
  },
  {
   "cell_type": "code",
   "execution_count": null,
   "id": "239c6724",
   "metadata": {},
   "outputs": [],
   "source": [
    "pol19_topgenes_oRG = pd.read_csv(pol19_dir+'modules_to_oRG_topgenes_Polioudakis2019_4K_piNMF.tsv', sep='\\t')"
   ]
  },
  {
   "cell_type": "code",
   "execution_count": null,
   "id": "b1e87454",
   "metadata": {
    "scrolled": true
   },
   "outputs": [],
   "source": [
    "for i in pol19_topgenes_oRG.columns:\n",
    "    print(len(list(set(regisl_genenames_in4K) & set(pol19_topgenes_oRG[i]))))"
   ]
  },
  {
   "cell_type": "code",
   "execution_count": null,
   "id": "e2df3038",
   "metadata": {},
   "outputs": [],
   "source": [
    "pol19_dir_ipc = '/home/jovyan/jm_jlab/data_indNeuro/3.NMF_data/4k_IPC_polioudakis2019/4k_IPC_polioudakis2019/'"
   ]
  },
  {
   "cell_type": "code",
   "execution_count": null,
   "id": "60f032ee",
   "metadata": {
    "scrolled": true
   },
   "outputs": [],
   "source": [
    "pol19_topgenes_IPC = pd.read_csv(pol19_dir_ipc+'modules_to_IPC_topgenes_Polioudakis2019_4K_piNMF.tsv', sep='\\t')"
   ]
  },
  {
   "cell_type": "code",
   "execution_count": null,
   "id": "191d2fd6",
   "metadata": {},
   "outputs": [],
   "source": [
    "for i in pol19_topgenes_IPC.columns:\n",
    "    print(len(list(set(regisl_genenames_in4K) & set(pol19_topgenes_IPC[i]))))"
   ]
  },
  {
   "cell_type": "raw",
   "id": "890f1535",
   "metadata": {},
   "source": [
    "Early vs Late"
   ]
  },
  {
   "cell_type": "code",
   "execution_count": null,
   "id": "dfee41e3",
   "metadata": {},
   "outputs": [],
   "source": [
    "pol19_ipc_overlap = p_EarlyLate_fct(regisl_genenames_in4K, pol19_topgenes_IPC, branch_name='vRG-IPC_Polioudakis19',database_name='regulatory_islands')\n",
    "\n",
    "pol19_oRG_overlap = p_EarlyLate_fct(regisl_genenames_in4K, pol19_topgenes_oRG, branch_name='vRG-oRG_Polioudakis19',database_name='regulatory_islands')\n",
    "\n",
    "merged_df2 = pd.concat([pol19_ipc_overlap, pol19_oRG_overlap], axis=0)"
   ]
  },
  {
   "cell_type": "code",
   "execution_count": null,
   "id": "0a242c92",
   "metadata": {},
   "outputs": [],
   "source": [
    "%matplotlib inline"
   ]
  },
  {
   "cell_type": "code",
   "execution_count": null,
   "id": "01f05b2c",
   "metadata": {},
   "outputs": [],
   "source": [
    "matrix2 = merged_df2.pivot(index='Module', columns=['Database', 'Branch'], values='Percentage overlap')\n",
    "\n",
    "if matrix2.shape[0] < 2:\n",
    "    matrix2 = matrix2.T\n",
    "\n",
    "g = sns.heatmap(matrix2, cmap='coolwarm', \n",
    "                annot=True, fmt='.2f',\n",
    "                cbar_kws={'label': 'Percentage'},\n",
    "               xticklabels=['vRG-IPC', 'vRG-oRG'])\n",
    "\n",
    "g.set_title('Gene overlap piNMF modules & regulatory islands', fontsize=8)\n",
    "g.set_xlabel('')\n",
    "g.set_ylabel('Modules')\n",
    "\n",
    "plt.show()"
   ]
  },
  {
   "cell_type": "code",
   "execution_count": null,
   "id": "6b80bcb1",
   "metadata": {},
   "outputs": [],
   "source": [
    "merged_df2.reset_index(inplace=True, drop=True)\n",
    "merged_df2"
   ]
  },
  {
   "cell_type": "raw",
   "id": "c34407b8",
   "metadata": {},
   "source": []
  },
  {
   "cell_type": "code",
   "execution_count": null,
   "id": "2a885d98",
   "metadata": {},
   "outputs": [],
   "source": [
    "final_df = pd.concat([merged_df, merged_df2])"
   ]
  },
  {
   "cell_type": "code",
   "execution_count": null,
   "id": "4ab2dfcd",
   "metadata": {
    "scrolled": true
   },
   "outputs": [],
   "source": [
    "matrix3 = final_df.pivot(index='Module', columns=['Database', 'Branch'], values='Percentage overlap')\n",
    "\n",
    "if matrix3.shape[0] < 2:\n",
    "    matrix3 = matrix3.T\n",
    "\n",
    "g = sns.heatmap(matrix3, cmap='coolwarm', \n",
    "                annot=True, fmt='.2f', \n",
    "                cbar_kws={'label': 'Percentage'},\n",
    "               xticklabels=['vRG-IPC_Trevino21', 'vRG-oRG_Trevino21', \n",
    "                            'vRG-IPC_Polioudakis19', 'vRG-oRG_Polioudakis19'])\n",
    "\n",
    "\n",
    "g.set_title('Gene overlap piNMF modules & regulatory islands', fontsize=8)\n",
    "g.set_xlabel('')\n",
    "g.set_xticklabels(g.get_xticklabels(), fontsize=8)\n",
    "g.set_ylabel('Modules')\n",
    "\n",
    "plt.show()"
   ]
  },
  {
   "cell_type": "raw",
   "id": "d08d9db6",
   "metadata": {},
   "source": [
    "Include Positive selection and Desert"
   ]
  },
  {
   "cell_type": "raw",
   "id": "bb26bad9",
   "metadata": {},
   "source": []
  },
  {
   "cell_type": "code",
   "execution_count": null,
   "id": "95898357",
   "metadata": {},
   "outputs": [],
   "source": [
    "ipc_deserts = p_EarlyLate_fct(ri_deserts_in4K, topgenes_IPC, branch_name='vRG-IPC',database_name='Deserts')\n",
    "\n",
    "oRG_deserts = p_EarlyLate_fct(ri_deserts_in4K, topgenes_oRG, branch_name='vRG-oRG',database_name='Deserts')\n",
    "\n",
    "ipc_possel = p_EarlyLate_fct(ri_possel_in4K, topgenes_IPC, branch_name='vRG-IPC',database_name='PosSel')\n",
    "\n",
    "oRG_possel = p_EarlyLate_fct(ri_possel_in4K, topgenes_oRG, branch_name='vRG-oRG',database_name='PosSel')\n"
   ]
  },
  {
   "cell_type": "code",
   "execution_count": null,
   "id": "a2667862",
   "metadata": {
    "scrolled": true
   },
   "outputs": [],
   "source": [
    "evo_sets = pd.concat([ipc_deserts,\n",
    "                      oRG_deserts,\n",
    "                      ipc_possel,\n",
    "                      oRG_possel])\n",
    "\n",
    "\n",
    "m_evosets = evo_sets.pivot(index='Module', columns=['Database', 'Branch'], values='Percentage overlap')\n",
    "\n",
    "if m_evosets.shape[0] < 2:\n",
    "    m_evosets = m_evosets.T\n",
    "\n",
    "g = sns.heatmap(m_evosets, cmap='coolwarm', \n",
    "                annot=True, fmt='.2f', \n",
    "                cbar_kws={'label': 'Percentage'},\n",
    "                xticklabels=['vRG-IPC_deserts', 'vRG-oRG_deserts', \n",
    "             'vRG-IPC_PositiveSelection', 'vRG-oRG_PositiveSelection'])\n",
    "\n",
    "\n",
    "g.set_title('Overlap piNMF modules & Deserts / Positive selection', fontsize=10)\n",
    "g.set_xlabel('')\n",
    "g.set_xticklabels(g.get_xticklabels(), fontsize=8)\n",
    "g.set_ylabel('Modules')\n",
    "\n",
    "plt.show()"
   ]
  },
  {
   "cell_type": "code",
   "execution_count": null,
   "id": "1390d94d",
   "metadata": {},
   "outputs": [],
   "source": [
    "evo_sets.reset_index(inplace=True, drop=True)"
   ]
  },
  {
   "cell_type": "code",
   "execution_count": null,
   "id": "14e4d0a5",
   "metadata": {},
   "outputs": [],
   "source": [
    "evo_sets"
   ]
  },
  {
   "cell_type": "raw",
   "id": "3c2df4c4",
   "metadata": {},
   "source": []
  },
  {
   "cell_type": "code",
   "execution_count": null,
   "id": "51ad1274",
   "metadata": {
    "scrolled": true
   },
   "outputs": [],
   "source": [
    "# All dataframes\n",
    "final_all = pd.concat([merged_df, \n",
    "                       merged_df2,\n",
    "                      ipc_deserts,\n",
    "                      oRG_deserts,\n",
    "                      ipc_possel,\n",
    "                      oRG_possel])\n",
    "\n",
    "\n",
    "matrix4 = final_all.pivot(index='Module', columns=['Database', 'Branch'], values='Percentage overlap')\n",
    "\n",
    "if matrix4.shape[0] < 2:\n",
    "    matrix4 = matrix4.T\n",
    "\n",
    "plt.figure(dpi=300)\n",
    "\n",
    "g = sns.heatmap(matrix4, cmap='coolwarm', \n",
    "                annot=True, fmt='.2f', \n",
    "                cbar_kws={'label': 'Percentage'})\n",
    "\n",
    "g.set_title('')\n",
    "g.set_xlabel('')\n",
    "g.set_xticklabels(g.get_xticklabels(), fontsize=8)\n",
    "g.set_ylabel('')\n",
    "\n",
    "plt.show()"
   ]
  },
  {
   "cell_type": "code",
   "execution_count": null,
   "id": "545105c9",
   "metadata": {},
   "outputs": [],
   "source": [
    "final_all.reset_index(inplace=True, drop=True)\n",
    "final_all"
   ]
  },
  {
   "cell_type": "code",
   "execution_count": null,
   "id": "e3ebf38a",
   "metadata": {},
   "outputs": [],
   "source": [
    "final_all.to_csv(\"/home/jovyan/jm_jlab/CBL_data/indirectNeurogenesis/nmf_data/Overlap_EvoSets.tsv\", sep='\\t',index=False)"
   ]
  },
  {
   "cell_type": "raw",
   "id": "e5c59de9",
   "metadata": {},
   "source": [
    "\n",
    "\n"
   ]
  },
  {
   "cell_type": "markdown",
   "id": "9d4c6088",
   "metadata": {},
   "source": [
    "# *Optional exploration of CellOracle Top TFs*"
   ]
  },
  {
   "cell_type": "code",
   "execution_count": null,
   "id": "edf0d836",
   "metadata": {},
   "outputs": [],
   "source": [
    "tr21_links = co.load_hdf5(file_path=\"/home/jovyan/jm_jlab/data_indNeuro/1.GRN/milestones_pcw16_baggindridge.celloracle.links\")"
   ]
  },
  {
   "cell_type": "code",
   "execution_count": null,
   "id": "3810812d",
   "metadata": {},
   "outputs": [],
   "source": [
    "# Selecting top 10 TFs for each cluster on eigenvector centrality\n",
    "\n",
    "IPC_GRN = []\n",
    "\n",
    "vRG_GRN = []\n",
    "\n",
    "oRG_GRN = []\n",
    "\n",
    "for cluster in ['vRG', 'oRG', 'IPC']:\n",
    "    \n",
    "    if cluster == 'vRG':\n",
    "        res = tr21_links.merged_score[tr21_links.merged_score.cluster == cluster]\n",
    "        vRG_GRN.append(res['eigenvector_centrality'].sort_values(ascending=False).head(10).index.tolist())\n",
    "        vRG_GRN =[item for sublist in vRG_GRN for item in sublist]      \n",
    "        \n",
    "    if cluster == 'oRG':\n",
    "        res = tr21_links.merged_score[tr21_links.merged_score.cluster == cluster]\n",
    "        oRG_GRN.append(res['eigenvector_centrality'].sort_values(ascending=False).head(10).index.tolist())\n",
    "        oRG_GRN =[item for sublist in oRG_GRN for item in sublist]                \n",
    "        \n",
    "    if cluster == 'IPC':\n",
    "        res = tr21_links.merged_score[tr21_links.merged_score.cluster == cluster]\n",
    "        IPC_GRN.append(res['eigenvector_centrality'].sort_values(ascending=False).head(10).index.tolist())\n",
    "        IPC_GRN =[item for sublist in IPC_GRN for item in sublist]                \n"
   ]
  },
  {
   "cell_type": "raw",
   "id": "e9bd93b1",
   "metadata": {},
   "source": []
  },
  {
   "cell_type": "code",
   "execution_count": null,
   "id": "e5d7c3c8",
   "metadata": {},
   "outputs": [],
   "source": [
    "d_vRG = []\n",
    "d_oRG = []\n",
    "d_IPC = []\n",
    "for cluster in ['vRG', 'oRG', 'IPC']:\n",
    "    l = []\n",
    "    if cluster == 'vRG':\n",
    "        for gene in vRG_GRN:\n",
    "            l.append(tr21_links.filtered_links[cluster][tr21_links.filtered_links[cluster]['source'] == gene]['target'].tolist())\n",
    "            l.append(gene)    \n",
    "        d_vRG = [item for sublist in l for item in sublist] \n",
    "\n",
    "        \n",
    "    if cluster == 'oRG':\n",
    "        for gene in oRG_GRN:\n",
    "            l.append(tr21_links.filtered_links[cluster][tr21_links.filtered_links[cluster]['source'] == gene]['target'].tolist())\n",
    "            l.append(gene)\n",
    "        d_oRG = [item for sublist in l for item in sublist]\n",
    "\n",
    "    if cluster == 'IPC':\n",
    "        for gene in IPC_GRN:\n",
    "            l.append(tr21_links.filtered_links[cluster][tr21_links.filtered_links[cluster]['source'] == gene]['target'].tolist())\n",
    "            l.append(gene)\n",
    "        d_IPC = [item for sublist in l for item in sublist]                "
   ]
  },
  {
   "cell_type": "code",
   "execution_count": null,
   "id": "65972a8d",
   "metadata": {
    "scrolled": true
   },
   "outputs": [],
   "source": [
    "# Overlap to targets from top 10 TFs in each cluster\n",
    "for list_of_genes in [d_vRG, d_oRG, d_IPC]:\n",
    "    print(len(set(regisl_genenames_in4K) & set(list_of_genes))/(len(set(list_of_genes)))*100)"
   ]
  },
  {
   "cell_type": "raw",
   "id": "7bf26d4a",
   "metadata": {},
   "source": []
  },
  {
   "cell_type": "raw",
   "id": "acf2630f",
   "metadata": {},
   "source": []
  }
 ],
 "metadata": {
  "kernelspec": {
   "display_name": "Python 3 (ipykernel)",
   "language": "python",
   "name": "python3"
  },
  "language_info": {
   "codemirror_mode": {
    "name": "ipython",
    "version": 3
   },
   "file_extension": ".py",
   "mimetype": "text/x-python",
   "name": "python",
   "nbconvert_exporter": "python",
   "pygments_lexer": "ipython3",
   "version": "3.10.5"
  }
 },
 "nbformat": 4,
 "nbformat_minor": 5
}
