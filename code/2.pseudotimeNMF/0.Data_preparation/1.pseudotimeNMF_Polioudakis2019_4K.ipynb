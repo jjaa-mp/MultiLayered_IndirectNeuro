{
 "cells": [
  {
   "cell_type": "markdown",
   "id": "aa537fc2",
   "metadata": {},
   "source": [
    "# pseudotime-informed NMF - <span style=\"color:red\">Polioudakis 2019 - 4k</span>"
   ]
  },
  {
   "cell_type": "markdown",
   "id": "5e5c148d",
   "metadata": {},
   "source": [
    "**CellOracle environment**"
   ]
  },
  {
   "cell_type": "raw",
   "id": "42d46277",
   "metadata": {},
   "source": []
  },
  {
   "cell_type": "code",
   "execution_count": null,
   "id": "f96ad757",
   "metadata": {},
   "outputs": [],
   "source": [
    "import scanpy as sc\n",
    "\n",
    "import celloracle as co\n",
    "\n",
    "import pandas as pd\n",
    "\n",
    "import seaborn as sns\n",
    "\n",
    "import numpy as np\n",
    "\n",
    "import matplotlib.pyplot as plt\n",
    "\n",
    "# visualization settings\n",
    "%config InlineBackend.figure_format = 'retina'\n",
    "%matplotlib inline\n",
    "\n",
    "plt.rcParams['figure.figsize'] = (15,7)\n",
    "plt.rcParams[\"savefig.dpi\"] = 600"
   ]
  },
  {
   "cell_type": "raw",
   "id": "265c8c05",
   "metadata": {},
   "source": []
  },
  {
   "cell_type": "markdown",
   "id": "4fd8a9ee",
   "metadata": {},
   "source": [
    "# Polioudakis et al 2019 dataset"
   ]
  },
  {
   "cell_type": "markdown",
   "id": "91f80239",
   "metadata": {},
   "source": [
    "## Loading raw data"
   ]
  },
  {
   "cell_type": "code",
   "execution_count": null,
   "id": "b8140381",
   "metadata": {},
   "outputs": [],
   "source": [
    "adata = sc.read_h5ad(\"/home/jovyan/jm_jlab/data_indNeuro/intermediate_files/pol19_counts.h5ad\")\n",
    "\n",
    "milestones = pd.read_csv(\"/home/jovyan/jm_jlab/data_indNeuro/scFates_output/polioudakis19_scFates_clustering.tsv\", sep='\\t', index_col=0)\n",
    "\n",
    "adata.obs = pd.concat([adata.obs, milestones], axis=1)\n",
    "\n",
    "\n",
    "#Including embeddings\n",
    "cellembeddings = pd.read_csv(\"/home/jovyan/jm_jlab/data_indNeuro/intermediate_files/integrated_polioudakis19_cellembeddings.tsv\", sep='\\t')\n",
    "\n",
    "cellembeddings.iloc[:,0] = cellembeddings.iloc[:,0]*-1 #for consistent better geometry\n",
    "\n",
    "cellembeddings.iloc[:,1] = cellembeddings.iloc[:,1]*-1 #for consistent better geometry\n",
    "\n",
    "cellembeddings = cellembeddings[cellembeddings.index.str.contains(\"pol19\")]\n",
    "\n",
    "cellembeddings.index = pd.DataFrame(cellembeddings.index)[0].str.split(\"pol19_\", expand=True)[1]\n",
    "\n",
    "adata = adata[adata.obs.index.isin(cellembeddings.index),:].copy()\n",
    "\n",
    "cellembeddings = cellembeddings[cellembeddings.index.isin(adata.obs.index)].copy()\n",
    "\n",
    "cellembeddings = cellembeddings.reindex(adata.obs.index)\n",
    "\n",
    "adata.obsm['X_pca'] = cellembeddings.to_numpy() #sharing embeddings"
   ]
  },
  {
   "cell_type": "raw",
   "id": "879dcee7",
   "metadata": {},
   "source": [
    "Keep PCA coordinates"
   ]
  },
  {
   "cell_type": "code",
   "execution_count": null,
   "id": "a4b9bd40",
   "metadata": {},
   "outputs": [],
   "source": [
    "adata.obs['PC_1'] = adata.obsm['X_pca'][:,0]\n",
    "adata.obs['PC_2'] = adata.obsm['X_pca'][:,1]"
   ]
  },
  {
   "cell_type": "markdown",
   "id": "2e755d4c",
   "metadata": {},
   "source": [
    "## oRG"
   ]
  },
  {
   "cell_type": "raw",
   "id": "ff0b1844",
   "metadata": {},
   "source": [
    "Selecting vRG-to-oRG branches and ordering by pseudotime values"
   ]
  },
  {
   "cell_type": "code",
   "execution_count": null,
   "id": "bfb5936d",
   "metadata": {
    "scrolled": true
   },
   "outputs": [],
   "source": [
    "branch_oRG = adata[(adata.obs['segmentation'] == 's_vRG') | (adata.obs['segmentation'] == 's_oRG'),:]\n",
    "\n",
    "sc.pp.filter_genes(branch_oRG, min_cells=25)\n",
    "\n",
    "sc.pp.highly_variable_genes(branch_oRG, n_top_genes=4000, flavor='seurat_v3')\n",
    "\n",
    "branch_oRG = branch_oRG[:,branch_oRG.var['highly_variable'] == True].copy()\n",
    "\n",
    "my_data = pd.DataFrame(branch_oRG.X.todense(), index=branch_oRG.obs['t'], columns=branch_oRG.var_names)\n",
    "\n",
    "my_data.sort_index(inplace=True, ascending=True)\n",
    "\n",
    "for_NMF = sc.AnnData(my_data)\n",
    "\n",
    "for_NMF\n",
    "\n",
    "#Including metadata to final object\n",
    "branch_oRG.obs.index = branch_oRG.obs['t'].astype(np.float64)\n",
    "\n",
    "branch_oRG.obs = branch_oRG.obs.reindex(np.sort(branch_oRG.obs.index))\n",
    "\n",
    "for_NMF.obs.index = for_NMF.obs.index.astype(np.float64)\n",
    "\n",
    "for_NMF.obs = for_NMF.obs.join(branch_oRG.obs)\n",
    "\n",
    "for_NMF"
   ]
  },
  {
   "cell_type": "raw",
   "id": "b1b57ee6",
   "metadata": {},
   "source": []
  },
  {
   "cell_type": "code",
   "execution_count": null,
   "id": "8d6bcc50",
   "metadata": {},
   "outputs": [],
   "source": [
    "for_NMF.write(\"/home/jovyan/jm_jlab/data_indNeuro/2.NMF/polioudakis19_vRGtooRG_4k.h5ad\")"
   ]
  },
  {
   "cell_type": "markdown",
   "id": "670dff02",
   "metadata": {},
   "source": [
    "## IPC"
   ]
  },
  {
   "cell_type": "raw",
   "id": "98e21eb7",
   "metadata": {},
   "source": []
  },
  {
   "cell_type": "code",
   "execution_count": null,
   "id": "5e76231f",
   "metadata": {},
   "outputs": [],
   "source": [
    "branch_IPC = adata[(adata.obs['segmentation'] == 's_vRG') | (adata.obs['segmentation'] == 's_IPC'),:]\n",
    "\n",
    "sc.pp.filter_genes(branch_IPC, min_cells=25)\n",
    "\n",
    "sc.pp.highly_variable_genes(branch_IPC, n_top_genes=4000, flavor='seurat_v3') \n",
    "\n",
    "branch_IPC = branch_IPC[:,branch_IPC.var['highly_variable'] == True].copy()\n",
    "\n",
    "my_data = pd.DataFrame(branch_IPC.X.todense(), index=branch_IPC.obs['t'], columns=branch_IPC.var_names)\n",
    "\n",
    "my_data.sort_index(inplace=True, ascending=True)"
   ]
  },
  {
   "cell_type": "code",
   "execution_count": null,
   "id": "252cb9e5",
   "metadata": {},
   "outputs": [],
   "source": [
    "for_NMF = sc.AnnData(my_data)\n",
    "\n",
    "for_NMF"
   ]
  },
  {
   "cell_type": "code",
   "execution_count": null,
   "id": "a3c2a392",
   "metadata": {},
   "outputs": [],
   "source": [
    "#Including metadata to final object\n",
    "branch_IPC.obs.index = branch_IPC.obs['t'].astype(np.float64)\n",
    "\n",
    "branch_IPC.obs = branch_IPC.obs.reindex(np.sort(branch_IPC.obs.index))\n",
    "\n",
    "for_NMF.obs.index = for_NMF.obs.index.astype(np.float64)\n",
    "\n",
    "for_NMF.obs = for_NMF.obs.join(branch_IPC.obs)"
   ]
  },
  {
   "cell_type": "code",
   "execution_count": null,
   "id": "417f8c70",
   "metadata": {},
   "outputs": [],
   "source": [
    "for_NMF.write(\"/home/jovyan/jm_jlab/data_indNeuro/2.NMF/polioudakis19_vRGtoIPC_4k.h5ad\")"
   ]
  },
  {
   "cell_type": "raw",
   "id": "c94ffc8a",
   "metadata": {},
   "source": []
  }
 ],
 "metadata": {
  "kernelspec": {
   "display_name": "Python 3 (ipykernel)",
   "language": "python",
   "name": "python3"
  },
  "language_info": {
   "codemirror_mode": {
    "name": "ipython",
    "version": 3
   },
   "file_extension": ".py",
   "mimetype": "text/x-python",
   "name": "python",
   "nbconvert_exporter": "python",
   "pygments_lexer": "ipython3",
   "version": "3.8.15"
  }
 },
 "nbformat": 4,
 "nbformat_minor": 5
}
