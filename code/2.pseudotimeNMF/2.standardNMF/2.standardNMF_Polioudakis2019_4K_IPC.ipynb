{
 "cells": [
  {
   "cell_type": "markdown",
   "metadata": {},
   "source": [
    "# standard NMF with consensus clustering\n",
    "\n",
    "**NMF_indNeuro environment**"
   ]
  },
  {
   "cell_type": "markdown",
   "metadata": {},
   "source": [
    "# <span style=\"color:red\">standard NMF</span> - kernel: cnmf_env"
   ]
  },
  {
   "cell_type": "markdown",
   "metadata": {},
   "source": [
    "# <span style=\"color:red\">vRG_to_IPC - 4k Polioudakis 2019</span>"
   ]
  },
  {
   "cell_type": "raw",
   "metadata": {},
   "source": [
    "Following https://github.com/dylkot/cNMF/blob/master/Tutorials/analyze_pbmc_example_data.ipynb"
   ]
  },
  {
   "cell_type": "markdown",
   "metadata": {
    "tags": []
   },
   "source": [
    "### Loading pcw 16 data"
   ]
  },
  {
   "cell_type": "code",
   "execution_count": null,
   "metadata": {},
   "outputs": [],
   "source": [
    "import scanpy as sc\n",
    "\n",
    "import pandas as pd\n",
    "\n",
    "import seaborn as sns\n",
    "\n",
    "import numpy as np\n",
    "\n",
    "import matplotlib.pyplot as plt\n",
    "\n",
    "# visualization settings\n",
    "%config InlineBackend.figure_format = 'retina'\n",
    "%matplotlib inline\n",
    "\n",
    "plt.rcParams['figure.figsize'] = (15,7)\n",
    "plt.rcParams[\"savefig.dpi\"] = 600"
   ]
  },
  {
   "cell_type": "markdown",
   "metadata": {},
   "source": [
    "## cNMF"
   ]
  },
  {
   "cell_type": "code",
   "execution_count": null,
   "metadata": {
    "scrolled": true
   },
   "outputs": [],
   "source": [
    "%matplotlib inline\n",
    "\n",
    "import os\n",
    "from scipy.io import mmread\n",
    "\n",
    "import scipy.sparse as sp\n",
    "from IPython.display import Image\n",
    "from cnmf import cNMF\n",
    "\n",
    "np.random.seed(14)"
   ]
  },
  {
   "cell_type": "code",
   "execution_count": null,
   "metadata": {},
   "outputs": [],
   "source": [
    "!mkdir /home/jovyan/jm_jlab/data_indNeuro/3.NMF_data/standardNMF_polioudakis19_vRGtoIPC_4k"
   ]
  },
  {
   "cell_type": "raw",
   "metadata": {},
   "source": [
    "!rm -r /home/jovyan/jm_jlab/data_indNeuro/3.NMF_data/standardNMF_polioudakis19_vRGtoIPC_4k"
   ]
  },
  {
   "cell_type": "code",
   "execution_count": null,
   "metadata": {},
   "outputs": [],
   "source": [
    "numiter=  750 # Number of NMF replicates. Recommended ~200 for real data\n",
    "numhvgenes= 4000 \n",
    "\n",
    "countfn = '/home/jovyan/jm_jlab/data_indNeuro/2.NMF/polioudakis19_vRGtoIPC_4k.h5ad'\n",
    "\n",
    "## Results will be saved to [output_directory]/[run_name]\n",
    "output_directory = '/home/jovyan/jm_jlab/data_indNeuro/3.NMF_data/standardNMF_polioudakis19_vRGtoIPC_4k'\n",
    "if not os.path.exists(output_directory):\n",
    "    os.mkdir(output_directory)\n",
    "run_name = 'standardNMF_polioudakis19_vRGtoIPC_4k'\n",
    "\n",
    "seed = 14 ## Specify a seed pseudorandom number generation for reproducibility"
   ]
  },
  {
   "cell_type": "code",
   "execution_count": null,
   "metadata": {},
   "outputs": [],
   "source": [
    "## Initialize\n",
    "cnmf_obj = cNMF(output_dir=output_directory, name=run_name)"
   ]
  },
  {
   "cell_type": "code",
   "execution_count": null,
   "metadata": {},
   "outputs": [],
   "source": [
    "cnmf_obj.prepare(counts_fn=countfn, components=np.arange(3,7), n_iter=numiter, seed=seed, num_highvar_genes=numhvgenes)"
   ]
  },
  {
   "cell_type": "raw",
   "metadata": {},
   "source": []
  },
  {
   "cell_type": "code",
   "execution_count": null,
   "metadata": {
    "scrolled": true
   },
   "outputs": [],
   "source": [
    "# Specify that the jobs are being distributed over a single worker (total_workers=1) and then launch that worker\n",
    "cnmf_obj.factorize(worker_i=0, total_workers=1)"
   ]
  },
  {
   "cell_type": "raw",
   "metadata": {},
   "source": []
  },
  {
   "cell_type": "code",
   "execution_count": null,
   "metadata": {},
   "outputs": [],
   "source": [
    "cnmf_obj.combine(skip_missing_files=True)"
   ]
  },
  {
   "cell_type": "code",
   "execution_count": null,
   "metadata": {
    "scrolled": true
   },
   "outputs": [],
   "source": [
    "cnmf_obj.k_selection_plot(close_fig=False)"
   ]
  },
  {
   "cell_type": "code",
   "execution_count": null,
   "metadata": {
    "scrolled": true
   },
   "outputs": [],
   "source": [
    "print('This saves the corresponding figure to the following file: %s' % cnmf_obj.paths['k_selection_plot'])"
   ]
  },
  {
   "cell_type": "code",
   "execution_count": null,
   "metadata": {},
   "outputs": [],
   "source": [
    "selected_K = 4\n",
    "density_threshold = 2.00"
   ]
  },
  {
   "cell_type": "code",
   "execution_count": null,
   "metadata": {
    "scrolled": true
   },
   "outputs": [],
   "source": [
    "cnmf_obj.consensus(k=selected_K, \n",
    "                   density_threshold=density_threshold, \n",
    "                   show_clustering=True, \n",
    "                   close_clustergram_fig=False, refit_usage=False)"
   ]
  },
  {
   "cell_type": "raw",
   "metadata": {},
   "source": []
  },
  {
   "cell_type": "code",
   "execution_count": null,
   "metadata": {
    "scrolled": true
   },
   "outputs": [],
   "source": [
    "adata = sc.read(countfn)\n",
    "\n",
    "adata.obsm['X_pca'] = np.empty([adata.shape[0], 2])\n",
    "adata.obsm['X_pca'][:,0] = adata.obs['PC_1']\n",
    "adata.obsm['X_pca'][:,1] = adata.obs['PC_2']"
   ]
  },
  {
   "cell_type": "code",
   "execution_count": null,
   "metadata": {},
   "outputs": [],
   "source": [
    "# Load high variance genes that used for cNMF\n",
    "hvgs = open(output_directory+\"/\"+run_name+'/standardNMF_polioudakis19_vRGtoIPC_4k.overdispersed_genes.txt').read().split('\\n')"
   ]
  },
  {
   "cell_type": "code",
   "execution_count": null,
   "metadata": {},
   "outputs": [],
   "source": [
    "len(hvgs)"
   ]
  },
  {
   "cell_type": "code",
   "execution_count": null,
   "metadata": {
    "scrolled": true
   },
   "outputs": [],
   "source": [
    "usage_norm, gep_scores, gep_tpm, topgenes = cnmf_obj.load_results(K=selected_K, density_threshold=density_threshold)\n",
    "usage_norm.columns = ['Usage_%d' % i for i in usage_norm.columns]"
   ]
  },
  {
   "cell_type": "code",
   "execution_count": null,
   "metadata": {
    "scrolled": true
   },
   "outputs": [],
   "source": [
    "print(\"Number of HVGs used: %d\" %len(hvgs))\n",
    "print(\"Number of genes per module: %d \" %topgenes.shape[0])"
   ]
  },
  {
   "cell_type": "code",
   "execution_count": null,
   "metadata": {
    "scrolled": true
   },
   "outputs": [],
   "source": [
    "sc.set_figure_params(figsize=(12,6))\n",
    "\n",
    "sns.heatmap(usage_norm.transpose(), xticklabels=False, yticklabels=True, cmap='mako')"
   ]
  },
  {
   "cell_type": "raw",
   "metadata": {},
   "source": [
    "topgenes.head()"
   ]
  },
  {
   "cell_type": "code",
   "execution_count": null,
   "metadata": {},
   "outputs": [],
   "source": [
    "#For pseudotemporal ordering in heatmap\n",
    "usage_norm.rename(columns={'Usage_1':\"Module_4\", 'Usage_2':\"Module_2\", 'Usage_3':\"Module_1\", 'Usage_4':\"Module_3\"}, inplace=True)\n",
    "topgenes.rename(columns={1:\"Module_4\", 2:\"Module_2\", 3:\"Module_1\", 4:\"Module_3\"}, inplace=True)"
   ]
  },
  {
   "cell_type": "code",
   "execution_count": null,
   "metadata": {},
   "outputs": [],
   "source": [
    "usage_norm = usage_norm[['Module_1','Module_2','Module_3','Module_4']]\n",
    "topgenes = topgenes[['Module_1','Module_2','Module_3','Module_4']]"
   ]
  },
  {
   "cell_type": "code",
   "execution_count": null,
   "metadata": {},
   "outputs": [],
   "source": [
    "sc.set_figure_params(figsize=(12,6))\n",
    "\n",
    "pl1 = sns.heatmap(usage_norm.transpose(), xticklabels=False, yticklabels=True, cmap='mako')\n",
    "pl1.set(xlabel=\"pseudotime\") \n",
    "\n",
    "\n",
    "figure = pl1.get_figure()    \n",
    "figure.savefig(output_directory+\"/\"+run_name+\"/modules_to_IPC_4K_standardNMF.png\", dpi=400)"
   ]
  },
  {
   "cell_type": "markdown",
   "metadata": {},
   "source": [
    "**PCA plots**"
   ]
  },
  {
   "cell_type": "code",
   "execution_count": null,
   "metadata": {},
   "outputs": [],
   "source": [
    "usage_norm.index = np.arange(0, usage_norm.shape[0])"
   ]
  },
  {
   "cell_type": "code",
   "execution_count": null,
   "metadata": {},
   "outputs": [],
   "source": [
    "adata.obs.index = np.arange(0, adata.obs.shape[0])"
   ]
  },
  {
   "cell_type": "code",
   "execution_count": null,
   "metadata": {
    "scrolled": true
   },
   "outputs": [],
   "source": [
    "adata.obs = pd.merge(left=adata.obs, right=usage_norm, how='left', left_index=True, right_index=True)"
   ]
  },
  {
   "cell_type": "code",
   "execution_count": null,
   "metadata": {},
   "outputs": [],
   "source": [
    "sc.set_figure_params(figsize=(4,4))\n",
    "\n",
    "sc.pl.pca(adata, color=usage_norm.columns, ncols=1)"
   ]
  },
  {
   "cell_type": "code",
   "execution_count": null,
   "metadata": {},
   "outputs": [],
   "source": [
    "sc.settings.figdir = output_directory+\"/\"+run_name"
   ]
  },
  {
   "cell_type": "code",
   "execution_count": null,
   "metadata": {},
   "outputs": [],
   "source": [
    "sc.set_figure_params(figsize=(4,4))\n",
    "\n",
    "sc.pl.pca(adata, color=usage_norm.columns, ncols=1, save='modules_to_IPC_4K_standardNMF.png')"
   ]
  },
  {
   "cell_type": "raw",
   "metadata": {},
   "source": []
  },
  {
   "cell_type": "raw",
   "metadata": {},
   "source": [
    "fig, ax = plt.subplots(figsize=(8, 4))\n",
    "sns.lineplot(data=np.array(usage_norm), legend=False)\n",
    "#sns.move_legend(ax, loc='upper left', frameon=False)\n",
    "plt.show()"
   ]
  },
  {
   "cell_type": "code",
   "execution_count": null,
   "metadata": {
    "scrolled": true
   },
   "outputs": [],
   "source": [
    "from gprofiler import GProfiler"
   ]
  },
  {
   "cell_type": "code",
   "execution_count": null,
   "metadata": {},
   "outputs": [],
   "source": [
    "gp = GProfiler(return_dataframe=True)"
   ]
  },
  {
   "cell_type": "code",
   "execution_count": null,
   "metadata": {},
   "outputs": [],
   "source": [
    "topgenes.shape"
   ]
  },
  {
   "cell_type": "code",
   "execution_count": null,
   "metadata": {
    "scrolled": true
   },
   "outputs": [],
   "source": [
    "for j in topgenes.columns:\n",
    "    \n",
    "    print(\"\")\n",
    "\n",
    "    print(\"GO analysis for %s\" %j)\n",
    "    tmp = gp.profile(organism='hsapiens', \n",
    "               query=topgenes[j].tolist(), no_evidences=False)\n",
    "    for i in tmp['source'].value_counts().index:\n",
    "        if (\"GO\" not in i) and (\"TF\" not in i):\n",
    "            print(i+\"____\")\n",
    "            print(tmp[tmp['source'] == i]['name'])"
   ]
  },
  {
   "cell_type": "raw",
   "metadata": {},
   "source": []
  },
  {
   "cell_type": "code",
   "execution_count": null,
   "metadata": {},
   "outputs": [],
   "source": [
    "writer = pd.ExcelWriter(output_directory+\"/\"+run_name+\"/modules_to_IPC_Polioudakis2019_4K_GOenrich_standardNMF.xlsx\", engine='xlsxwriter')\n",
    "\n",
    "for j in topgenes.columns:\n",
    "\n",
    "    print(\"%s\" %j)\n",
    "    \n",
    "    tmp = gp.profile(organism='hsapiens', \n",
    "               query=topgenes[j].tolist(), no_evidences=False)\n",
    "    tmp.to_excel(writer, sheet_name=str(j))\n",
    "\n",
    "writer.close()"
   ]
  },
  {
   "cell_type": "raw",
   "metadata": {},
   "source": [
    "!ls /home/jovyan/jm_jlab/cNMF_dev/src/cnmf/GOenrich/"
   ]
  },
  {
   "cell_type": "code",
   "execution_count": null,
   "metadata": {},
   "outputs": [],
   "source": [
    "topgenes.to_csv(output_directory+\"/\"+run_name+\"/modules_to_IPC_topgenes_Polioudakis2019_4K_standardNMF.tsv\", sep='\\t', index=False, header=True)"
   ]
  },
  {
   "cell_type": "code",
   "execution_count": null,
   "metadata": {},
   "outputs": [],
   "source": [
    "usage_norm.to_csv(output_directory+\"/\"+run_name+'/modules_to_IPC_activation_Polioudakis2019_4K_standardNMF.tsv', sep='\\t', index=False, header=True)"
   ]
  }
 ],
 "metadata": {
  "kernelspec": {
   "display_name": "Python 3 (ipykernel)",
   "language": "python",
   "name": "python3"
  },
  "language_info": {
   "codemirror_mode": {
    "name": "ipython",
    "version": 3
   },
   "file_extension": ".py",
   "mimetype": "text/x-python",
   "name": "python",
   "nbconvert_exporter": "python",
   "pygments_lexer": "ipython3",
   "version": "3.10.5"
  }
 },
 "nbformat": 4,
 "nbformat_minor": 4
}
