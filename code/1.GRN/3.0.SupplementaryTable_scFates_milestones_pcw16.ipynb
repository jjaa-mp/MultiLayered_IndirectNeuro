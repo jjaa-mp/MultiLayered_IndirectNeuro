{
 "cells": [
  {
   "cell_type": "markdown",
   "id": "69cf490c-4b6e-4e19-9f98-965d5bd59be4",
   "metadata": {},
   "source": [
    "# GRN - over-representation pcw16"
   ]
  },
  {
   "cell_type": "raw",
   "id": "a510639b",
   "metadata": {},
   "source": [
    "!mkdir /home/jovyan/jm_jlab/data_indNeuro/1.GRN"
   ]
  },
  {
   "cell_type": "code",
   "execution_count": null,
   "id": "a71d2393",
   "metadata": {
    "scrolled": true
   },
   "outputs": [],
   "source": [
    "!cd /home/jovyan/jm_jlab/\n",
    "\n",
    "import os\n",
    "import sys\n",
    "\n",
    "import matplotlib.pyplot as plt\n",
    "import numpy as np\n",
    "import pandas as pd\n",
    "import scanpy as sc\n",
    "import seaborn as sns\n",
    "\n",
    "import celloracle as co\n",
    "co.__version__\n",
    "\n",
    "# visualization settings\n",
    "%config InlineBackend.figure_format = 'retina'\n",
    "%matplotlib inline\n",
    "\n",
    "#plt.rcParams['figure.figsize'] = (15,7)\n",
    "#plt.rcParams[\"savefig.dpi\"] = 600\n",
    "\n",
    "save_folder = \"/home/jovyan/jm_jlab/data_indNeuro/1.GRN/\"\n",
    "os.makedirs(save_folder, exist_ok=True)\n",
    "\n",
    "from pathlib import Path\n",
    "\n",
    "sc._settings.ScanpyConfig.cachedir = Path('/home/jovyan/jm_jlab/celloracle_data/cache')"
   ]
  },
  {
   "cell_type": "code",
   "execution_count": null,
   "id": "fcf83c25",
   "metadata": {},
   "outputs": [],
   "source": [
    "from scipy.stats import hypergeom"
   ]
  },
  {
   "cell_type": "raw",
   "id": "949c194b-212c-402f-afd8-51799cb35d47",
   "metadata": {},
   "source": []
  },
  {
   "cell_type": "markdown",
   "id": "4f20ff3e-83a4-431f-a12d-1eaee1918080",
   "metadata": {},
   "source": [
    "## **PEAKS**"
   ]
  },
  {
   "cell_type": "code",
   "execution_count": null,
   "id": "662d9fe2-d9fe-4157-9340-f5f6dcd12ab2",
   "metadata": {},
   "outputs": [],
   "source": [
    "import os, sys, shutil, importlib, glob\n",
    "from tqdm.notebook import tqdm"
   ]
  },
  {
   "cell_type": "code",
   "execution_count": null,
   "id": "32398f45-0f64-4b32-8c40-9610e66372d0",
   "metadata": {},
   "outputs": [],
   "source": [
    "from celloracle import motif_analysis as ma\n",
    "from celloracle.utility import save_as_pickled_object"
   ]
  },
  {
   "cell_type": "code",
   "execution_count": null,
   "id": "c367596d-d35d-4d79-8773-0e9987068050",
   "metadata": {},
   "outputs": [],
   "source": [
    "%config InlineBackend.figure_format = 'retina'\n",
    "%matplotlib inline\n",
    "\n",
    "plt.rcParams['figure.figsize'] = (15,7)\n",
    "plt.rcParams[\"savefig.dpi\"] = 600"
   ]
  },
  {
   "cell_type": "code",
   "execution_count": null,
   "id": "d8958bf1",
   "metadata": {},
   "outputs": [],
   "source": [
    "df = pd.read_parquet(\"/home/jovyan/jm_jlab/data_indNeuro/consensus_atlas_ATACregions_hg38/base_GRN_dataframe_HOCOMOCOv11.parquet\")"
   ]
  },
  {
   "cell_type": "raw",
   "id": "18ecd896",
   "metadata": {},
   "source": [
    "df.head(2)"
   ]
  },
  {
   "cell_type": "markdown",
   "id": "d5197b37-619b-496d-89b0-7e37bbd801b1",
   "metadata": {},
   "source": [
    "## "
   ]
  },
  {
   "cell_type": "code",
   "execution_count": null,
   "id": "805458ce",
   "metadata": {},
   "outputs": [],
   "source": [
    "links = co.load_hdf5(file_path=\"/home/jovyan/jm_jlab/data_indNeuro/1.GRN/milestones_pcw16_baggindridge.celloracle.links\")"
   ]
  },
  {
   "cell_type": "code",
   "execution_count": null,
   "id": "2ea381c5",
   "metadata": {},
   "outputs": [],
   "source": [
    "links_bayesian_ridge = co.load_hdf5(file_path=\"/home/jovyan/jm_jlab/data_indNeuro/1.GRN/alt_milestones_pcw16_bayesianridge.celloracle.links\")"
   ]
  },
  {
   "cell_type": "markdown",
   "id": "dd4d5102",
   "metadata": {},
   "source": [
    "## **ENRICHMENT**"
   ]
  },
  {
   "cell_type": "raw",
   "id": "a142824d",
   "metadata": {},
   "source": [
    "hypergeom.sf(x-1, M, n, N)\n",
    "\n",
    "The hypergeometric distribution models drawing objects from a bin. M is the total number of objects, n is total number of Type I objects. The random variate represents the number of Type I objects in N drawn without replacement from the total population."
   ]
  },
  {
   "cell_type": "markdown",
   "id": "4ded4f29",
   "metadata": {},
   "source": [
    "### Comparison to CO Bayesian ridge-based results"
   ]
  },
  {
   "cell_type": "raw",
   "id": "9c67f916",
   "metadata": {},
   "source": [
    "links.filtered_links"
   ]
  },
  {
   "cell_type": "raw",
   "id": "c70b662d",
   "metadata": {},
   "source": [
    "links_bayesian_ridge"
   ]
  },
  {
   "cell_type": "markdown",
   "id": "bd8d5c74",
   "metadata": {},
   "source": [
    "### Comparison to Polioudakis 2019 regulons"
   ]
  },
  {
   "cell_type": "code",
   "execution_count": null,
   "id": "26c54936",
   "metadata": {},
   "outputs": [],
   "source": [
    "regulons = pd.read_excel(\"/home/jovyan/jm_jlab/ST7_regulons_pol19.xlsx\")\n",
    "\n",
    "universe_regulons = regulons.copy()\n",
    "\n",
    "universe_regulons.drop('TF', axis=1, inplace=True)\n",
    "\n",
    "universe_regulons = universe_regulons.stack().reset_index(drop=True)\n",
    "\n",
    "universe_regulons.drop_duplicates(inplace=True)"
   ]
  },
  {
   "cell_type": "raw",
   "id": "94fe0bb1",
   "metadata": {},
   "source": []
  },
  {
   "cell_type": "markdown",
   "id": "a393f071",
   "metadata": {},
   "source": [
    "All targets"
   ]
  },
  {
   "cell_type": "code",
   "execution_count": null,
   "id": "06e09a57",
   "metadata": {},
   "outputs": [],
   "source": [
    "A_1 = pd.DataFrame(links.filtered_links['vRG']['source']+\"-\"+links.filtered_links['vRG']['target'])[0].to_list()\n",
    "A_2 = pd.DataFrame(links.filtered_links['IPC']['source']+\"-\"+links.filtered_links['IPC']['target'])[0].to_list()\n",
    "A_3 = pd.DataFrame(links.filtered_links['oRG']['source']+\"-\"+links.filtered_links['oRG']['target'])[0].to_list()"
   ]
  },
  {
   "cell_type": "code",
   "execution_count": null,
   "id": "346cafe4",
   "metadata": {
    "scrolled": true
   },
   "outputs": [],
   "source": [
    "vRG_TFtargets = pd.DataFrame(A_1, columns=['TF_targets_vRG'])\n",
    "IPC_TFtargets = pd.DataFrame(A_2, columns=['TF_targets_IPC'])\n",
    "oRG_TFtargets = pd.DataFrame(A_3, columns=['TF_targets_oRG'])"
   ]
  },
  {
   "cell_type": "raw",
   "id": "6d009e8a",
   "metadata": {},
   "source": []
  },
  {
   "cell_type": "markdown",
   "id": "f748e0ce",
   "metadata": {},
   "source": [
    "**Saving to excel**"
   ]
  },
  {
   "cell_type": "code",
   "execution_count": null,
   "id": "ce6858ab",
   "metadata": {},
   "outputs": [],
   "source": [
    "writer = pd.ExcelWriter(\"/home/jovyan/jm_jlab/CBL_data/indirectNeurogenesis/GRN_CellOracle/GRN_CellOracle_Trevino21/pcw16/SupplementaryTable_pcw16.xlsx\", engine='xlsxwriter')\n",
    "\n",
    "for j in ['vRG', 'IPC', 'oRG']:\n",
    "\n",
    "    tmp = pd.DataFrame(links.filtered_links[j])\n",
    "    tmp2 = pd.DataFrame(links_bayesian_ridge.filtered_links[j])\n",
    "    d=[]\n",
    "\n",
    "    for i in set(tmp['source']).intersection(tmp2['source']):\n",
    "        subset1 = tmp[tmp['source'] == i].copy()\n",
    "        subset2 = tmp2[tmp2['source'] == i].copy()\n",
    "\n",
    "        d.append({\n",
    "\n",
    "            'N_Targets': len(subset1['target'].drop_duplicates()),\n",
    "\n",
    "            'Intersection': len(subset1[subset1['target'].isin(subset2['target'])]),\n",
    "\n",
    "            'N_Targets_in_bayesianridge': len(subset2['target'].drop_duplicates()),\n",
    "            \n",
    "            '%_reference': (len(subset1[subset1['target'].isin(subset2['target'])])*100)/len(subset1['target'].drop_duplicates()),\n",
    "\n",
    "            'pval': hypergeom.sf(len(subset1[subset1['target'].isin(subset2['target'])])-1, \n",
    "                                  4000, \n",
    "                                  subset1.shape[0], len(subset2['target']))\n",
    "\n",
    "            })\n",
    "    pd.DataFrame(d, index=set(tmp['source']).intersection(tmp2['source'])).to_excel(writer, sheet_name=\"CO_\"+j)\n",
    "    \n",
    "for j in ['vRG', 'IPC', 'oRG']:\n",
    "\n",
    "    tmp = pd.DataFrame(links.filtered_links[j])\n",
    "    d=[]\n",
    "\n",
    "    for i in set(tmp['source']).intersection(regulons.columns):\n",
    "        subset = tmp[tmp['source'] == i]\n",
    "        goi = regulons.iloc[:,regulons.columns.str.contains(i)]\n",
    "        goi.dropna(inplace=True)\n",
    "        goi.drop_duplicates(inplace=True)\n",
    "\n",
    "        d.append({\n",
    "\n",
    "            'N_Targets': subset.shape[0],\n",
    "\n",
    "            'Intersection_w_Pol19_regulon': len(subset[subset['target'].isin(goi[i])]),\n",
    "\n",
    "            'N_Targets_in_Pol19_regulon': len(goi),\n",
    "            \n",
    "            '%_reference': (len(subset[subset['target'].isin(goi[i])])*100)/subset.shape[0],\n",
    "\n",
    "            'pval': hypergeom.sf(len(subset[subset['target'].isin(goi[i])])-1, \n",
    "                                  len(universe_regulons), \n",
    "                                  subset.shape[0], len(goi))\n",
    "\n",
    "            })\n",
    "\n",
    "    pd.DataFrame(d, index=set(tmp['source']).intersection(regulons.columns)).to_excel(writer, sheet_name=\"Pol19_\"+j)\n",
    "\n",
    "    \n",
    "  \n",
    "\n",
    "for l in [vRG_TFtargets, oRG_TFtargets, IPC_TFtargets]:\n",
    "    \n",
    "    l.to_excel(writer, sheet_name=l.columns[0], index=False)\n",
    "\n",
    "    \n",
    "writer.close()"
   ]
  },
  {
   "cell_type": "raw",
   "id": "87359922",
   "metadata": {},
   "source": []
  },
  {
   "cell_type": "markdown",
   "id": "1b83d5e1",
   "metadata": {},
   "source": [
    "**PLOT**"
   ]
  },
  {
   "cell_type": "code",
   "execution_count": null,
   "id": "6211590c",
   "metadata": {},
   "outputs": [],
   "source": [
    "filename = \"/home/jovyan/jm_jlab/CBL_data/indirectNeurogenesis/GRN_CellOracle/GRN_CellOracle_Trevino21/pcw16/SupplementaryTable_pcw16.xlsx\"\n",
    "ST = pd.ExcelFile(filename)"
   ]
  },
  {
   "cell_type": "code",
   "execution_count": null,
   "id": "8b279eb6",
   "metadata": {
    "scrolled": true
   },
   "outputs": [],
   "source": [
    "ST.sheet_names"
   ]
  },
  {
   "cell_type": "code",
   "execution_count": null,
   "id": "cea90a64",
   "metadata": {},
   "outputs": [],
   "source": [
    "df0 = pd.read_excel(filename, sheet_name=ST.sheet_names[0])\n",
    "df1 = pd.read_excel(filename, sheet_name=ST.sheet_names[1])\n",
    "df2 = pd.read_excel(filename, sheet_name=ST.sheet_names[2])\n",
    "\n",
    "df3 = pd.read_excel(filename, sheet_name=ST.sheet_names[3])\n",
    "df4 = pd.read_excel(filename, sheet_name=ST.sheet_names[4])\n",
    "df5 = pd.read_excel(filename, sheet_name=ST.sheet_names[5])"
   ]
  },
  {
   "cell_type": "raw",
   "id": "edb14b2b",
   "metadata": {},
   "source": []
  },
  {
   "cell_type": "code",
   "execution_count": null,
   "id": "02d80079",
   "metadata": {},
   "outputs": [],
   "source": [
    "names = [['RegressionModels_vRG'],['RegressionModels_IPC'],['RegressionModels_oRG'],\n",
    "['Datasets_vRG'],['Datasets_IPC'],['Datasets_oRG']]\n",
    "\n",
    "dfs = []\n",
    "for i, n in enumerate([df0,df1,df2,df3,df4,df5]):\n",
    "    d = {'Comparison': names[i]*n.shape[0], '%_Overlap': n['%_reference']}\n",
    "    tmp = pd.DataFrame(d)\n",
    "    dfs.append(tmp)\n",
    "    all_dfs = pd.concat(dfs)"
   ]
  },
  {
   "cell_type": "code",
   "execution_count": null,
   "id": "e7323ec1",
   "metadata": {
    "scrolled": true
   },
   "outputs": [],
   "source": [
    "all_dfs\n",
    "all_dfs.groupby('Comparison', as_index=False)['%_Overlap'].mean()"
   ]
  },
  {
   "cell_type": "raw",
   "id": "09fcd9e1",
   "metadata": {},
   "source": [
    "all_dfs.groupby('Comparison', as_index=False)['%_Overlap'].mean().to_csv(\"/home/jovyan/jm_jlab/CBL_data/indirectNeurogenesis/GRN_CellOracle/Comparison_Rmodels_Datasets.tsv\", sep='\\t', index=False, header=True)"
   ]
  },
  {
   "cell_type": "code",
   "execution_count": null,
   "id": "64e233d5",
   "metadata": {},
   "outputs": [],
   "source": [
    "sns.set(rc={'figure.figsize':(12,8)})\n",
    "\n",
    "sns.set(style='whitegrid')\n",
    "\n",
    "\n",
    "sns.stripplot(x=\"Comparison\",\n",
    "                y=\"%_Overlap\", hue='Comparison',data=all_dfs)\n",
    "\n",
    "g = sns.boxplot(x=\"Comparison\",\n",
    "                y=\"%_Overlap\", hue='Comparison',\n",
    "                data=all_dfs, \n",
    "                dodge =False, \n",
    "                width=.1, \n",
    "                boxprops=dict(alpha=.3), \n",
    "                showfliers=False) #outliers from dotplot\n",
    "\n",
    "g.set(xlabel=\"Pairwise comparisons\")\n",
    "g.set(ylabel=\"% Overlap\")\n",
    "\n",
    "plt.xticks(fontsize=12, rotation=90)                                                               \n",
    "g.legend_.remove()"
   ]
  },
  {
   "cell_type": "raw",
   "id": "806b0e3d",
   "metadata": {},
   "source": []
  },
  {
   "cell_type": "raw",
   "id": "55809244",
   "metadata": {},
   "source": [
    "save_folder = \"/home/jovyan/jm_jlab/data_indNeuro/consensus_atlas_ATACregions_hg38/GRN_trevino21/milestones_pcw16/\"\n",
    "\n",
    "links.plot_degree_distributions(plot_model=True, save=f\"{save_folder}/degree_distribution/\",)"
   ]
  },
  {
   "cell_type": "raw",
   "id": "d6175119",
   "metadata": {},
   "source": [
    "save_folder = \"/home/jovyan/jm_jlab/data_indNeuro/consensus_atlas_ATACregions_hg38/GRN_trevino21/milestones_pcw16/\"\n",
    "\n",
    "links_bayesian_ridge.plot_degree_distributions(plot_model=True, save=f\"{save_folder}/degree_distribution_bayesianridge/\",)"
   ]
  },
  {
   "cell_type": "raw",
   "id": "08945d6c",
   "metadata": {},
   "source": [
    "\n",
    "\n"
   ]
  },
  {
   "cell_type": "code",
   "execution_count": null,
   "id": "eea2882b",
   "metadata": {},
   "outputs": [],
   "source": [
    "for i in df.iloc[:,df.columns.isin(oRG_TFtargets['TF_targets_oRG'].str.split(\"-\", expand=True)[0])].columns:\n",
    "    if oRG_TFtargets['TF_targets_oRG'].str.split(\"-\", expand=True)[0].str.contains(i).sum() >= 30:\n",
    "        #print(i)\n",
    "\n",
    "        print(\"Number of targets found for \"+i+\" in oRG: \"+oRG_TFtargets['TF_targets_oRG'].str.split(\"-\", expand=True)[0].str.contains(i).sum().astype(str))"
   ]
  },
  {
   "cell_type": "code",
   "execution_count": null,
   "id": "2651a73b",
   "metadata": {},
   "outputs": [],
   "source": [
    "for i in df.iloc[:,df.columns.isin(vRG_TFtargets['TF_targets_vRG'].str.split(\"-\", expand=True)[0])].columns:\n",
    "    if vRG_TFtargets['TF_targets_vRG'].str.split(\"-\", expand=True)[0].str.contains(i).sum() >= 30:\n",
    "        #print(i)\n",
    "\n",
    "        print(\"Number of targets found for \"+i+\" in vRG: \"+vRG_TFtargets['TF_targets_vRG'].str.split(\"-\", expand=True)[0].str.contains(i).sum().astype(str))"
   ]
  },
  {
   "cell_type": "code",
   "execution_count": null,
   "id": "4ccc7d45",
   "metadata": {
    "scrolled": true
   },
   "outputs": [],
   "source": [
    "for i in df.iloc[:,df.columns.isin(IPC_TFtargets['TF_targets_IPC'].str.split(\"-\", expand=True)[0])].columns:\n",
    "    if IPC_TFtargets['TF_targets_IPC'].str.split(\"-\", expand=True)[0].str.contains(i).sum() >= 30:\n",
    "        #print(i)\n",
    "\n",
    "        print(\"Number of targets found for \"+i+\" in IPC: \"+IPC_TFtargets['TF_targets_IPC'].str.split(\"-\", expand=True)[0].str.contains(i).sum().astype(str))"
   ]
  },
  {
   "cell_type": "raw",
   "id": "553a5f87",
   "metadata": {},
   "source": [
    "\n",
    "\n"
   ]
  },
  {
   "cell_type": "raw",
   "id": "452ab72d",
   "metadata": {},
   "source": []
  },
  {
   "cell_type": "markdown",
   "id": "f11f71e2",
   "metadata": {},
   "source": [
    "## **IDENTIFYING UNIQUE TF-target genes in pairwise comparisons**"
   ]
  },
  {
   "cell_type": "markdown",
   "id": "646e9a6e",
   "metadata": {},
   "source": [
    "**vRG vs IPC**"
   ]
  },
  {
   "cell_type": "raw",
   "id": "3a2c6d13",
   "metadata": {},
   "source": [
    "u1 = pd.DataFrame(links.filtered_links['vRG']['source']+\"-\"+links.filtered_links['vRG']['target'])\n",
    "u2 = pd.DataFrame(links.filtered_links['IPC']['source']+\"-\"+links.filtered_links['IPC']['target'])\n",
    "\n",
    "c1 = pd.merge(u1, u2, how='outer', on=0,  indicator=\"cell_specificity\")\n",
    "\n",
    "c1['cell_specificity'] = np.select([c1['cell_specificity'] == 'left_only', c1['cell_specificity'] == 'right_only'],\n",
    "                            ['vRG',  'IPC'], \n",
    "                            default='both')\n",
    "c1.rename(columns={0:\"vRG_vs_IPC\"}, inplace=True)\n",
    "\n",
    "c1.head()"
   ]
  },
  {
   "cell_type": "markdown",
   "id": "b6db04cd",
   "metadata": {},
   "source": [
    "**vRG vs oRG**"
   ]
  },
  {
   "cell_type": "raw",
   "id": "2c794468",
   "metadata": {},
   "source": [
    "u1 = pd.DataFrame(links.filtered_links['vRG']['source']+\"-\"+links.filtered_links['vRG']['target'])\n",
    "u2 = pd.DataFrame(links.filtered_links['oRG']['source']+\"-\"+links.filtered_links['oRG']['target'])\n",
    "\n",
    "c2 = pd.merge(u1, u2, how='outer', on=0,  indicator=\"cell_specificity\")\n",
    "\n",
    "c2['cell_specificity'] = np.select([c2['cell_specificity'] == 'left_only', c2['cell_specificity'] == 'right_only'],\n",
    "                            ['vRG',  'oRG'], \n",
    "                            default='both')\n",
    "c2.rename(columns={0:\"vRG_vs_oRG\"}, inplace=True)\n",
    "\n",
    "c2.head()"
   ]
  },
  {
   "cell_type": "markdown",
   "id": "b846447f",
   "metadata": {},
   "source": [
    "**oRG vs IPC**"
   ]
  },
  {
   "cell_type": "raw",
   "id": "bcbea844",
   "metadata": {},
   "source": [
    "u1 = pd.DataFrame(links.filtered_links['oRG']['source']+\"-\"+links.filtered_links['oRG']['target'])\n",
    "u2 = pd.DataFrame(links.filtered_links['IPC']['source']+\"-\"+links.filtered_links['IPC']['target'])\n",
    "\n",
    "c3 = pd.merge(u1, u2, how='outer', on=0,  indicator=\"cell_specificity\")\n",
    "\n",
    "c3['cell_specificity'] = np.select([c3['cell_specificity'] == 'left_only', c3['cell_specificity'] == 'right_only'],\n",
    "                            ['oRG',  'IPC'], \n",
    "                            default='both')\n",
    "c3.rename(columns={0:\"oRG_vs_IPC\"}, inplace=True)\n",
    "\n",
    "c3.head()"
   ]
  },
  {
   "cell_type": "raw",
   "id": "e900b452",
   "metadata": {},
   "source": [
    "Save"
   ]
  },
  {
   "cell_type": "raw",
   "id": "fa5e49cc",
   "metadata": {},
   "source": [
    "writer = pd.ExcelWriter(save_filtered_links+'pcw16_celltype_specific_TFtargets.xlsx', engine='xlsxwriter')\n",
    "\n",
    "for i in [c1,c2,c3]:\n",
    "    i.to_excel(writer, sheet_name=i.columns[0], index=False)\n",
    "    \n",
    "writer.close()"
   ]
  },
  {
   "cell_type": "raw",
   "id": "c6709e0f",
   "metadata": {},
   "source": []
  }
 ],
 "metadata": {
  "kernelspec": {
   "display_name": "Python 3 (ipykernel)",
   "language": "python",
   "name": "python3"
  },
  "language_info": {
   "codemirror_mode": {
    "name": "ipython",
    "version": 3
   },
   "file_extension": ".py",
   "mimetype": "text/x-python",
   "name": "python",
   "nbconvert_exporter": "python",
   "pygments_lexer": "ipython3",
   "version": "3.10.5"
  }
 },
 "nbformat": 4,
 "nbformat_minor": 5
}
