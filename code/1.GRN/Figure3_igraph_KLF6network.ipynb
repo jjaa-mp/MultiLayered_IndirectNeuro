{
 "cells": [
  {
   "cell_type": "markdown",
   "id": "71ae12f4",
   "metadata": {},
   "source": [
    "# Figure 3 - KLF6 targets"
   ]
  },
  {
   "cell_type": "code",
   "execution_count": 2,
   "id": "4ef4906a",
   "metadata": {},
   "outputs": [
    {
     "name": "stderr",
     "output_type": "stream",
     "text": [
      "OMP: Info #276: omp_set_nested routine deprecated, please use omp_set_max_active_levels instead.\n"
     ]
    }
   ],
   "source": [
    "!cd /home/jovyan/jm_jlab/\n",
    "\n",
    "import os\n",
    "import sys\n",
    "\n",
    "import matplotlib.pyplot as plt\n",
    "import numpy as np\n",
    "import pandas as pd\n",
    "import scanpy as sc\n",
    "import seaborn as sns\n",
    "\n",
    "import celloracle as co\n",
    "co.__version__\n",
    "\n",
    "# visualization settings\n",
    "%config InlineBackend.figure_format = 'retina'\n",
    "%matplotlib inline\n",
    "\n",
    "#plt.rcParams['figure.figsize'] = (15,7)\n",
    "#plt.rcParams[\"savefig.dpi\"] = 600\n",
    "\n",
    "save_folder = \"/home/jovyan/jm_jlab/data_indNeuro/1.GRN/\"\n",
    "os.makedirs(save_folder, exist_ok=True)\n",
    "\n",
    "from pathlib import Path\n",
    "\n",
    "sc._settings.ScanpyConfig.cachedir = Path('/home/jovyan/jm_jlab/celloracle_data/cache')"
   ]
  },
  {
   "cell_type": "raw",
   "id": "408ea151",
   "metadata": {},
   "source": [
    "links = co.load_hdf5(file_path=\"/home/jovyan/jm_jlab/data_indNeuro/1.GRN/milestones_pcw16_baggindridge.celloracle.links\")\n",
    "\n",
    "tf_target_df = links.filtered_links['oRG']\n",
    "\n",
    "tf_target_df = tf_target_df[tf_target_df['source'] == 'KLF6'][['source', 'target', 'coef_abs']]\n",
    "\n",
    "tf_target_df.to_csv(\"/home/jovyan/jm_jlab/KLF6_targets_plot.tsv\", sep='\\t', index=False)"
   ]
  },
  {
   "cell_type": "raw",
   "id": "72a1bbfd",
   "metadata": {},
   "source": [
    "INCOMPATIBILITY SOME IGRAPH DEPENDENCIES IN THIS ENVIRONMENT - RELYING ON LOCAL ENVIROMENT"
   ]
  },
  {
   "cell_type": "raw",
   "id": "d828474b",
   "metadata": {},
   "source": [
    "df = pd.read_csv(\"/home/jovyan/jm_jlab/KLF6_targets_plot.tsv\", sep='\\t')\n",
    "\n",
    "tf_target_df = df.head(20)"
   ]
  },
  {
   "cell_type": "raw",
   "id": "69667a03",
   "metadata": {},
   "source": [
    "import pandas as pd\n",
    "import igraph as ig\n",
    "\n",
    "# Choose the center TF for the subgraph if needed\n",
    "center_tf = 'KLF6'\n",
    "\n",
    "# Get all the direct targets of the center TF\n",
    "all_targets = list(tf_target_df.loc[tf_target_df['source'] == center_tf, 'target'])\n",
    "\n",
    "# Build the subgraph\n",
    "subgraph_df = tf_target_df.loc[tf_target_df['source'].isin([center_tf] + all_targets)]\n",
    "subgraph = ig.Graph.TupleList(subgraph_df.itertuples(index=False), directed=True, edge_attrs=['strength'])\n",
    "\n",
    "# Set the visual style for the plot\n",
    "visual_style = {}\n",
    "#visual_style['vertex_size'] = 35\n",
    "visual_style['vertex_size'] = [80 if v == center_tf else 35 for v in subgraph.vs['name']] # modified line\n",
    "\n",
    "visual_style[\"bbox\"] = (500, 500)\n",
    "visual_style['vertex_color'] = 'white'\n",
    "visual_style['vertex_label'] = subgraph.vs['name']\n",
    "\n",
    "# Determine the font size of the central node\n",
    "\n",
    "visual_style['vertex_label_size'] = ['16' if v == center_tf else '8' for v in subgraph.vs['name']]\n",
    "\n",
    "\n",
    "visual_style['edge_arrow_size'] = 0\n",
    "visual_style['edge_arrow_width'] = 10\n",
    "visual_style['edge_color'] = '#808080'\n",
    "visual_style['edge_curved'] = 0\n",
    "visual_style['layout'] = subgraph.layout_kamada_kawai()\n",
    "\n",
    "# Set the vertex colors\n",
    "vertex_colors = ['#d55e00' if v == center_tf else 'white' for v in subgraph.vs['name']]\n",
    "visual_style['vertex_color'] = vertex_colors\n",
    "\n",
    "# Plot the subgraph\n",
    "ig.plot(subgraph, **visual_style)"
   ]
  }
 ],
 "metadata": {
  "kernelspec": {
   "display_name": "Python 3 (ipykernel)",
   "language": "python",
   "name": "python3"
  },
  "language_info": {
   "codemirror_mode": {
    "name": "ipython",
    "version": 3
   },
   "file_extension": ".py",
   "mimetype": "text/x-python",
   "name": "python",
   "nbconvert_exporter": "python",
   "pygments_lexer": "ipython3",
   "version": "3.8.15"
  }
 },
 "nbformat": 4,
 "nbformat_minor": 5
}
