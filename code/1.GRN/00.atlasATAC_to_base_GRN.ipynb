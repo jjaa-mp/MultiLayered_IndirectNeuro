{
 "cells": [
  {
   "cell_type": "markdown",
   "id": "6f2b1b9a-9ca6-4ff3-b29a-1ab935c34456",
   "metadata": {
    "tags": []
   },
   "source": [
    "# **base GRN - *from atlas of ATAC regulatory regions***"
   ]
  },
  {
   "cell_type": "code",
   "execution_count": 2,
   "id": "34165deb-bdc3-437a-ba6a-b989b44dffa2",
   "metadata": {},
   "outputs": [],
   "source": [
    "import pandas as pd"
   ]
  },
  {
   "cell_type": "code",
   "execution_count": 3,
   "id": "bfe13b41-1406-414f-8b54-c6e92a359cf3",
   "metadata": {},
   "outputs": [
    {
     "name": "stdout",
     "output_type": "stream",
     "text": [
      "/home/jovyan/jm_jlab/data_indNeuro/consensus_atlas_ATACregions_hg38/GREAT_results\n"
     ]
    }
   ],
   "source": [
    "cd /home/jovyan/jm_jlab/data_indNeuro/consensus_atlas_ATACregions_hg38/GREAT_results/"
   ]
  },
  {
   "cell_type": "code",
   "execution_count": 6,
   "id": "7e532133-e284-4faa-b551-fbbaa95fb50b",
   "metadata": {},
   "outputs": [],
   "source": [
    "great_output  = pd.read_csv(\"./consensus_peaks_hg38_GREAT.txt\", sep='\\t')"
   ]
  },
  {
   "cell_type": "code",
   "execution_count": 7,
   "id": "01840bd5-0f22-4a7f-900c-8aa8aae52ff7",
   "metadata": {},
   "outputs": [
    {
     "data": {
      "text/plain": [
       "392961"
      ]
     },
     "execution_count": 7,
     "metadata": {},
     "output_type": "execute_result"
    }
   ],
   "source": [
    "len(great_output)"
   ]
  },
  {
   "cell_type": "code",
   "execution_count": 8,
   "id": "9084da85-89e3-4a3b-8036-14a4eebce71d",
   "metadata": {},
   "outputs": [
    {
     "data": {
      "text/html": [
       "<div>\n",
       "<style scoped>\n",
       "    .dataframe tbody tr th:only-of-type {\n",
       "        vertical-align: middle;\n",
       "    }\n",
       "\n",
       "    .dataframe tbody tr th {\n",
       "        vertical-align: top;\n",
       "    }\n",
       "\n",
       "    .dataframe thead th {\n",
       "        text-align: right;\n",
       "    }\n",
       "</style>\n",
       "<table border=\"1\" class=\"dataframe\">\n",
       "  <thead>\n",
       "    <tr style=\"text-align: right;\">\n",
       "      <th></th>\n",
       "      <th># GREAT version 4.0.4</th>\n",
       "      <th>Species assembly: hg38</th>\n",
       "      <th>Association rule: Basal+extension: 5000 bp upstream, 1000 bp downstream, 1000000 bp max extension, curated regulatory domains included</th>\n",
       "    </tr>\n",
       "  </thead>\n",
       "  <tbody>\n",
       "    <tr>\n",
       "      <th>0</th>\n",
       "      <td>tr21singleome_0</td>\n",
       "      <td>OR4F5 (-55141)</td>\n",
       "      <td>NaN</td>\n",
       "    </tr>\n",
       "    <tr>\n",
       "      <th>1</th>\n",
       "      <td>tr21singleome_1</td>\n",
       "      <td>OR4F5 (+115478), OR4F29 (+270800)</td>\n",
       "      <td>NaN</td>\n",
       "    </tr>\n",
       "    <tr>\n",
       "      <th>2</th>\n",
       "      <td>tr21singleome_2</td>\n",
       "      <td>OR4F5 (+116065), OR4F29 (+270213)</td>\n",
       "      <td>NaN</td>\n",
       "    </tr>\n",
       "    <tr>\n",
       "      <th>3</th>\n",
       "      <td>tr21singleome_3</td>\n",
       "      <td>OR4F5 (+126049), OR4F29 (+260229)</td>\n",
       "      <td>NaN</td>\n",
       "    </tr>\n",
       "    <tr>\n",
       "      <th>4</th>\n",
       "      <td>tr21singleome_8</td>\n",
       "      <td>OR4F29 (-182330), OR4F16 (+52646)</td>\n",
       "      <td>NaN</td>\n",
       "    </tr>\n",
       "  </tbody>\n",
       "</table>\n",
       "</div>"
      ],
      "text/plain": [
       "  # GREAT version 4.0.4             Species assembly: hg38  \\\n",
       "0       tr21singleome_0                     OR4F5 (-55141)   \n",
       "1       tr21singleome_1  OR4F5 (+115478), OR4F29 (+270800)   \n",
       "2       tr21singleome_2  OR4F5 (+116065), OR4F29 (+270213)   \n",
       "3       tr21singleome_3  OR4F5 (+126049), OR4F29 (+260229)   \n",
       "4       tr21singleome_8  OR4F29 (-182330), OR4F16 (+52646)   \n",
       "\n",
       "   Association rule: Basal+extension: 5000 bp upstream, 1000 bp downstream, 1000000 bp max extension, curated regulatory domains included  \n",
       "0                                                NaN                                                                                       \n",
       "1                                                NaN                                                                                       \n",
       "2                                                NaN                                                                                       \n",
       "3                                                NaN                                                                                       \n",
       "4                                                NaN                                                                                       "
      ]
     },
     "execution_count": 8,
     "metadata": {},
     "output_type": "execute_result"
    }
   ],
   "source": [
    "great_output.head()"
   ]
  },
  {
   "cell_type": "code",
   "execution_count": 9,
   "id": "4f030f5b-37f1-4feb-b182-5c3228c80e63",
   "metadata": {},
   "outputs": [],
   "source": [
    "great_output = great_output.iloc[:,0:2]\n",
    "great_output.rename(columns={'# GREAT version 4.0.4':\"peak_name\", 'Species assembly: hg38':'gene_short_name'}, inplace=True)"
   ]
  },
  {
   "cell_type": "code",
   "execution_count": 10,
   "id": "01e42b90-582f-4627-9d23-0e32b24bc776",
   "metadata": {},
   "outputs": [
    {
     "data": {
      "text/plain": [
       "392961"
      ]
     },
     "execution_count": 10,
     "metadata": {},
     "output_type": "execute_result"
    }
   ],
   "source": [
    "len(great_output)"
   ]
  },
  {
   "cell_type": "code",
   "execution_count": 11,
   "id": "0482c10e-4831-4ab7-bf19-5f717155c668",
   "metadata": {
    "scrolled": true
   },
   "outputs": [
    {
     "data": {
      "text/html": [
       "<div>\n",
       "<style scoped>\n",
       "    .dataframe tbody tr th:only-of-type {\n",
       "        vertical-align: middle;\n",
       "    }\n",
       "\n",
       "    .dataframe tbody tr th {\n",
       "        vertical-align: top;\n",
       "    }\n",
       "\n",
       "    .dataframe thead th {\n",
       "        text-align: right;\n",
       "    }\n",
       "</style>\n",
       "<table border=\"1\" class=\"dataframe\">\n",
       "  <thead>\n",
       "    <tr style=\"text-align: right;\">\n",
       "      <th></th>\n",
       "      <th>peak_name</th>\n",
       "      <th>gene_short_name</th>\n",
       "    </tr>\n",
       "  </thead>\n",
       "  <tbody>\n",
       "    <tr>\n",
       "      <th>0</th>\n",
       "      <td>tr21singleome_0</td>\n",
       "      <td>OR4F5 (-55141)</td>\n",
       "    </tr>\n",
       "    <tr>\n",
       "      <th>1</th>\n",
       "      <td>tr21singleome_1</td>\n",
       "      <td>OR4F5 (+115478), OR4F29 (+270800)</td>\n",
       "    </tr>\n",
       "    <tr>\n",
       "      <th>2</th>\n",
       "      <td>tr21singleome_2</td>\n",
       "      <td>OR4F5 (+116065), OR4F29 (+270213)</td>\n",
       "    </tr>\n",
       "    <tr>\n",
       "      <th>3</th>\n",
       "      <td>tr21singleome_3</td>\n",
       "      <td>OR4F5 (+126049), OR4F29 (+260229)</td>\n",
       "    </tr>\n",
       "    <tr>\n",
       "      <th>4</th>\n",
       "      <td>tr21singleome_8</td>\n",
       "      <td>OR4F29 (-182330), OR4F16 (+52646)</td>\n",
       "    </tr>\n",
       "  </tbody>\n",
       "</table>\n",
       "</div>"
      ],
      "text/plain": [
       "         peak_name                    gene_short_name\n",
       "0  tr21singleome_0                     OR4F5 (-55141)\n",
       "1  tr21singleome_1  OR4F5 (+115478), OR4F29 (+270800)\n",
       "2  tr21singleome_2  OR4F5 (+116065), OR4F29 (+270213)\n",
       "3  tr21singleome_3  OR4F5 (+126049), OR4F29 (+260229)\n",
       "4  tr21singleome_8  OR4F29 (-182330), OR4F16 (+52646)"
      ]
     },
     "execution_count": 11,
     "metadata": {},
     "output_type": "execute_result"
    }
   ],
   "source": [
    "#Cleaning output\n",
    "great_output.head()"
   ]
  },
  {
   "cell_type": "code",
   "execution_count": 12,
   "id": "7ac41c4a-a76e-4355-a194-0f5a5f60a05e",
   "metadata": {},
   "outputs": [
    {
     "data": {
      "text/html": [
       "<div>\n",
       "<style scoped>\n",
       "    .dataframe tbody tr th:only-of-type {\n",
       "        vertical-align: middle;\n",
       "    }\n",
       "\n",
       "    .dataframe tbody tr th {\n",
       "        vertical-align: top;\n",
       "    }\n",
       "\n",
       "    .dataframe thead th {\n",
       "        text-align: right;\n",
       "    }\n",
       "</style>\n",
       "<table border=\"1\" class=\"dataframe\">\n",
       "  <thead>\n",
       "    <tr style=\"text-align: right;\">\n",
       "      <th></th>\n",
       "      <th>peak_name</th>\n",
       "      <th>gene_short_name</th>\n",
       "    </tr>\n",
       "  </thead>\n",
       "  <tbody>\n",
       "    <tr>\n",
       "      <th>392956</th>\n",
       "      <td>mk20_103807</td>\n",
       "      <td>NLGN4Y (+805180)</td>\n",
       "    </tr>\n",
       "    <tr>\n",
       "      <th>392957</th>\n",
       "      <td>mk20_103808</td>\n",
       "      <td>NLGN4Y (+956846)</td>\n",
       "    </tr>\n",
       "    <tr>\n",
       "      <th>392958</th>\n",
       "      <td>mk20_103809</td>\n",
       "      <td>NONE</td>\n",
       "    </tr>\n",
       "    <tr>\n",
       "      <th>392959</th>\n",
       "      <td>mk20_103810</td>\n",
       "      <td>HSFY2 (-130682), KDM5D (+840506)</td>\n",
       "    </tr>\n",
       "    <tr>\n",
       "      <th>392960</th>\n",
       "      <td>mk20_103811</td>\n",
       "      <td>HSFY2 (-224311), KDM5D (+746877)</td>\n",
       "    </tr>\n",
       "  </tbody>\n",
       "</table>\n",
       "</div>"
      ],
      "text/plain": [
       "          peak_name                   gene_short_name\n",
       "392956  mk20_103807                  NLGN4Y (+805180)\n",
       "392957  mk20_103808                  NLGN4Y (+956846)\n",
       "392958  mk20_103809                              NONE\n",
       "392959  mk20_103810  HSFY2 (-130682), KDM5D (+840506)\n",
       "392960  mk20_103811  HSFY2 (-224311), KDM5D (+746877)"
      ]
     },
     "execution_count": 12,
     "metadata": {},
     "output_type": "execute_result"
    }
   ],
   "source": [
    "#Cleaning output\n",
    "great_output.tail()"
   ]
  },
  {
   "cell_type": "code",
   "execution_count": 13,
   "id": "77c92b13-ed16-401a-9fb7-461985a40473",
   "metadata": {},
   "outputs": [],
   "source": [
    "great_output['gene_short_name'] = great_output['gene_short_name'].str.replace(r\"\\(.*?\\)\", \"\", regex=True).str.strip().str.split(\" , \")"
   ]
  },
  {
   "cell_type": "code",
   "execution_count": 14,
   "id": "9ad2968a-f2a2-4efa-9888-5f916a2ca7c9",
   "metadata": {},
   "outputs": [],
   "source": [
    "great_output = great_output.explode('gene_short_name')"
   ]
  },
  {
   "cell_type": "code",
   "execution_count": 15,
   "id": "d82f15fe-5c77-46d6-8350-15abce8627c6",
   "metadata": {},
   "outputs": [],
   "source": [
    "great_output = great_output[great_output[\"gene_short_name\"].str.contains(\"NONE\")==False]"
   ]
  },
  {
   "cell_type": "code",
   "execution_count": 16,
   "id": "329eefdc-dfee-4f4f-afe8-9ff0649ceeec",
   "metadata": {},
   "outputs": [
    {
     "name": "stdout",
     "output_type": "stream",
     "text": [
      "         peak_name gene_short_name\n",
      "0  tr21singleome_0           OR4F5\n",
      "1  tr21singleome_1           OR4F5\n",
      "1  tr21singleome_1          OR4F29\n",
      "2  tr21singleome_2           OR4F5\n",
      "2  tr21singleome_2          OR4F29\n",
      "679729\n"
     ]
    }
   ],
   "source": [
    "print(great_output.head())\n",
    "print(len(great_output))"
   ]
  },
  {
   "cell_type": "code",
   "execution_count": 19,
   "id": "eb3f679b-d44e-4f61-ac2a-8210b5b6035a",
   "metadata": {},
   "outputs": [],
   "source": [
    "all_sorted = pd.read_csv(\"/home/jovyan/jm_jlab/data_indNeuro/consensus_atlas_ATACregions_hg38/consensus_signals.bed\", sep='\\t', header=None)"
   ]
  },
  {
   "cell_type": "code",
   "execution_count": 20,
   "id": "aae1f7ac-9dbf-43cf-a6dc-e05f710441be",
   "metadata": {},
   "outputs": [
    {
     "data": {
      "text/html": [
       "<div>\n",
       "<style scoped>\n",
       "    .dataframe tbody tr th:only-of-type {\n",
       "        vertical-align: middle;\n",
       "    }\n",
       "\n",
       "    .dataframe tbody tr th {\n",
       "        vertical-align: top;\n",
       "    }\n",
       "\n",
       "    .dataframe thead th {\n",
       "        text-align: right;\n",
       "    }\n",
       "</style>\n",
       "<table border=\"1\" class=\"dataframe\">\n",
       "  <thead>\n",
       "    <tr style=\"text-align: right;\">\n",
       "      <th></th>\n",
       "      <th>0</th>\n",
       "      <th>1</th>\n",
       "      <th>2</th>\n",
       "      <th>3</th>\n",
       "    </tr>\n",
       "  </thead>\n",
       "  <tbody>\n",
       "    <tr>\n",
       "      <th>0</th>\n",
       "      <td>chr1</td>\n",
       "      <td>10027</td>\n",
       "      <td>10528</td>\n",
       "      <td>tr21singleome_0</td>\n",
       "    </tr>\n",
       "    <tr>\n",
       "      <th>1</th>\n",
       "      <td>chr1</td>\n",
       "      <td>180646</td>\n",
       "      <td>181147</td>\n",
       "      <td>tr21singleome_1</td>\n",
       "    </tr>\n",
       "  </tbody>\n",
       "</table>\n",
       "</div>"
      ],
      "text/plain": [
       "      0       1       2                3\n",
       "0  chr1   10027   10528  tr21singleome_0\n",
       "1  chr1  180646  181147  tr21singleome_1"
      ]
     },
     "execution_count": 20,
     "metadata": {},
     "output_type": "execute_result"
    }
   ],
   "source": [
    "all_sorted.head(2)"
   ]
  },
  {
   "cell_type": "code",
   "execution_count": 21,
   "id": "b925a836-a50e-4e73-802e-1cbf38ae19cd",
   "metadata": {},
   "outputs": [],
   "source": [
    "all_sorted.rename(columns={0:'chr',1:'start',2:'end',3:'peak_name'}, inplace=True)"
   ]
  },
  {
   "cell_type": "code",
   "execution_count": 22,
   "id": "122eb37c-42ac-4ea8-ab37-d5f3dbea60d7",
   "metadata": {},
   "outputs": [],
   "source": [
    "great_output = great_output.merge(all_sorted, on = ['peak_name'])"
   ]
  },
  {
   "cell_type": "code",
   "execution_count": 23,
   "id": "37549f53-3efe-4b11-ac78-4d27c2c64a33",
   "metadata": {},
   "outputs": [
    {
     "data": {
      "text/html": [
       "<div>\n",
       "<style scoped>\n",
       "    .dataframe tbody tr th:only-of-type {\n",
       "        vertical-align: middle;\n",
       "    }\n",
       "\n",
       "    .dataframe tbody tr th {\n",
       "        vertical-align: top;\n",
       "    }\n",
       "\n",
       "    .dataframe thead th {\n",
       "        text-align: right;\n",
       "    }\n",
       "</style>\n",
       "<table border=\"1\" class=\"dataframe\">\n",
       "  <thead>\n",
       "    <tr style=\"text-align: right;\">\n",
       "      <th></th>\n",
       "      <th>peak_name</th>\n",
       "      <th>gene_short_name</th>\n",
       "      <th>chr</th>\n",
       "      <th>start</th>\n",
       "      <th>end</th>\n",
       "    </tr>\n",
       "  </thead>\n",
       "  <tbody>\n",
       "    <tr>\n",
       "      <th>0</th>\n",
       "      <td>tr21singleome_0</td>\n",
       "      <td>OR4F5</td>\n",
       "      <td>chr1</td>\n",
       "      <td>10027</td>\n",
       "      <td>10528</td>\n",
       "    </tr>\n",
       "    <tr>\n",
       "      <th>1</th>\n",
       "      <td>tr21singleome_1</td>\n",
       "      <td>OR4F5</td>\n",
       "      <td>chr1</td>\n",
       "      <td>180646</td>\n",
       "      <td>181147</td>\n",
       "    </tr>\n",
       "  </tbody>\n",
       "</table>\n",
       "</div>"
      ],
      "text/plain": [
       "         peak_name gene_short_name   chr   start     end\n",
       "0  tr21singleome_0           OR4F5  chr1   10027   10528\n",
       "1  tr21singleome_1           OR4F5  chr1  180646  181147"
      ]
     },
     "execution_count": 23,
     "metadata": {},
     "output_type": "execute_result"
    }
   ],
   "source": [
    "great_output.head(2)"
   ]
  },
  {
   "cell_type": "code",
   "execution_count": 24,
   "id": "68cb9e7e-a87c-4a46-8cd2-f7cc9f20037c",
   "metadata": {},
   "outputs": [],
   "source": [
    "data = {'peak_id': great_output.iloc[:,2].astype(str)+\"_\"+great_output.iloc[:,3].astype(str)+\"_\"+great_output.iloc[:,4].astype(str), \n",
    " 'gene_short_name': great_output.iloc[:,1]}"
   ]
  },
  {
   "cell_type": "code",
   "execution_count": 25,
   "id": "1783113d-3a00-4971-bbda-795c489d3ed4",
   "metadata": {},
   "outputs": [],
   "source": [
    "annotated = pd.DataFrame(data)"
   ]
  },
  {
   "cell_type": "code",
   "execution_count": 26,
   "id": "be3287b1-8f32-479c-8d9c-0be19b57d729",
   "metadata": {},
   "outputs": [
    {
     "data": {
      "text/html": [
       "<div>\n",
       "<style scoped>\n",
       "    .dataframe tbody tr th:only-of-type {\n",
       "        vertical-align: middle;\n",
       "    }\n",
       "\n",
       "    .dataframe tbody tr th {\n",
       "        vertical-align: top;\n",
       "    }\n",
       "\n",
       "    .dataframe thead th {\n",
       "        text-align: right;\n",
       "    }\n",
       "</style>\n",
       "<table border=\"1\" class=\"dataframe\">\n",
       "  <thead>\n",
       "    <tr style=\"text-align: right;\">\n",
       "      <th></th>\n",
       "      <th>peak_id</th>\n",
       "      <th>gene_short_name</th>\n",
       "    </tr>\n",
       "  </thead>\n",
       "  <tbody>\n",
       "    <tr>\n",
       "      <th>0</th>\n",
       "      <td>chr1_10027_10528</td>\n",
       "      <td>OR4F5</td>\n",
       "    </tr>\n",
       "    <tr>\n",
       "      <th>1</th>\n",
       "      <td>chr1_180646_181147</td>\n",
       "      <td>OR4F5</td>\n",
       "    </tr>\n",
       "  </tbody>\n",
       "</table>\n",
       "</div>"
      ],
      "text/plain": [
       "              peak_id gene_short_name\n",
       "0    chr1_10027_10528           OR4F5\n",
       "1  chr1_180646_181147           OR4F5"
      ]
     },
     "execution_count": 26,
     "metadata": {},
     "output_type": "execute_result"
    }
   ],
   "source": [
    "annotated.head(2)"
   ]
  },
  {
   "cell_type": "code",
   "execution_count": 27,
   "id": "374730d9-aa91-4005-8f57-131673ccfe56",
   "metadata": {},
   "outputs": [
    {
     "name": "stdout",
     "output_type": "stream",
     "text": [
      "679729\n"
     ]
    }
   ],
   "source": [
    "print(len(annotated))"
   ]
  },
  {
   "cell_type": "markdown",
   "id": "7205e99f-030e-41cd-b8a4-da6d3d3b9d0c",
   "metadata": {},
   "source": [
    "# **Scan for TF binding motifs** - CELLORACLE"
   ]
  },
  {
   "cell_type": "markdown",
   "id": "b0fd7590-0557-4c85-adaf-00b4b609638b",
   "metadata": {},
   "source": [
    "**Scan for TF binding motifs** - CELLORACLE"
   ]
  },
  {
   "cell_type": "code",
   "execution_count": 28,
   "id": "166ee36a-189d-4776-a19f-1ff07fc1158b",
   "metadata": {},
   "outputs": [
    {
     "name": "stderr",
     "output_type": "stream",
     "text": [
      "OMP: Info #276: omp_set_nested routine deprecated, please use omp_set_max_active_levels instead.\n"
     ]
    },
    {
     "data": {
      "text/plain": [
       "'0.10.14'"
      ]
     },
     "execution_count": 28,
     "metadata": {},
     "output_type": "execute_result"
    }
   ],
   "source": [
    "import pandas as pd\n",
    "import numpy as np\n",
    "import matplotlib.pyplot as plt\n",
    "\n",
    "\n",
    "import seaborn as sns\n",
    "\n",
    "import os, sys, shutil, importlib, glob\n",
    "from tqdm.notebook import tqdm\n",
    "\n",
    "import celloracle as co\n",
    "from celloracle import motif_analysis as ma\n",
    "from celloracle.utility import save_as_pickled_object\n",
    "co.__version__"
   ]
  },
  {
   "cell_type": "code",
   "execution_count": 29,
   "id": "5f31bdff-c14c-4e50-a46b-baa36e504588",
   "metadata": {},
   "outputs": [],
   "source": [
    "%config InlineBackend.figure_format = 'retina'\n",
    "%matplotlib inline\n",
    "\n",
    "plt.rcParams['figure.figsize'] = (15,7)\n",
    "plt.rcParams[\"savefig.dpi\"] = 600"
   ]
  },
  {
   "cell_type": "raw",
   "id": "d0fbf1bc",
   "metadata": {},
   "source": [
    "# PLEASE make sure reference genome is correct.\n",
    "ref_genome = \"hg38\"\n",
    "\n",
    "genome_installation = ma.is_genome_installed(ref_genome=ref_genome)\n",
    "print(ref_genome, \"installation: \", genome_installation)"
   ]
  },
  {
   "cell_type": "raw",
   "id": "0986cbed",
   "metadata": {},
   "source": [
    "import genomepy"
   ]
  },
  {
   "cell_type": "raw",
   "id": "28ed33e7",
   "metadata": {},
   "source": [
    "genomepy.install_genome(name=\"hg38\", provider=\"UCSC\")"
   ]
  },
  {
   "cell_type": "code",
   "execution_count": 34,
   "id": "a2457509",
   "metadata": {},
   "outputs": [],
   "source": [
    "if not genome_installation:\n",
    "    import genomepy\n",
    "    genomepy.install_genome(name=ref_genome, provider=\"UCSC\")\n",
    "else:\n",
    "    print(ref_genome, \"is installed.\")"
   ]
  },
  {
   "cell_type": "code",
   "execution_count": 35,
   "id": "c38a37c9-1d83-4035-9382-b812d20a1612",
   "metadata": {},
   "outputs": [],
   "source": [
    "def decompose_chrstr(peak_str):\n",
    "    \"\"\"\n",
    "    Args:\n",
    "        peak_str (str): peak_str. e.g. 'chr1_3094484_3095479'\n",
    "\n",
    "    Returns:\n",
    "        tuple: chromosome name, start position, end position\n",
    "    \"\"\"\n",
    "\n",
    "    *chr_, start, end = peak_str.split(\"_\")\n",
    "    chr_ = \"_\".join(chr_)\n",
    "    return chr_, start, end\n",
    "\n",
    "from genomepy import Genome\n",
    "\n",
    "def check_peak_format(peaks_df, ref_genome):\n",
    "    \"\"\"\n",
    "    Check peak format.\n",
    "     (1) Check chromosome name.\n",
    "     (2) Check peak size (length) and remove sort DNA sequences (<5bp)\n",
    "\n",
    "    \"\"\"\n",
    "\n",
    "    df = peaks_df.copy()\n",
    "\n",
    "    n_peaks_before = df.shape[0]\n",
    "\n",
    "    # Decompose peaks and make df\n",
    "    decomposed = [decompose_chrstr(peak_str) for peak_str in df[\"peak_id\"]]\n",
    "    df_decomposed = pd.DataFrame(np.array(decomposed), index=peaks_df.index)\n",
    "    df_decomposed.columns = [\"chr\", \"start\", \"end\"]\n",
    "    df_decomposed[\"start\"] = df_decomposed[\"start\"].astype(int)\n",
    "    df_decomposed[\"end\"] = df_decomposed[\"end\"].astype(int)\n",
    "\n",
    "    # Load genome data\n",
    "    genome_data = Genome(ref_genome)\n",
    "    all_chr_list = list(genome_data.keys())\n",
    "\n",
    "\n",
    "    # DNA length check\n",
    "    lengths = np.abs(df_decomposed[\"end\"] - df_decomposed[\"start\"])\n",
    "\n",
    "\n",
    "    # Filter peaks with invalid chromosome name\n",
    "    n_threshold = 5\n",
    "    df = df[(lengths >= n_threshold) & df_decomposed.chr.isin(all_chr_list)]\n",
    "\n",
    "    # DNA length check\n",
    "    lengths = np.abs(df_decomposed[\"end\"] - df_decomposed[\"start\"])\n",
    "\n",
    "    # Data counting\n",
    "    n_invalid_length = len(lengths[lengths < n_threshold])\n",
    "    n_peaks_invalid_chr = n_peaks_before - df_decomposed.chr.isin(all_chr_list).sum()\n",
    "    n_peaks_after = df.shape[0]\n",
    "\n",
    "\n",
    "    #\n",
    "    print(\"Peaks before filtering: \", n_peaks_before)\n",
    "    print(\"Peaks with invalid chr_name: \", n_peaks_invalid_chr)\n",
    "    print(\"Peaks with invalid length: \", n_invalid_length)\n",
    "    print(\"Peaks after filtering: \", n_peaks_after)\n",
    "\n",
    "    return df"
   ]
  },
  {
   "cell_type": "code",
   "execution_count": 36,
   "id": "be0e2932-70b6-41df-9ee6-a07f283bf53b",
   "metadata": {
    "scrolled": true
   },
   "outputs": [
    {
     "name": "stdout",
     "output_type": "stream",
     "text": [
      "Peaks before filtering:  679729\n",
      "Peaks with invalid chr_name:  0\n",
      "Peaks with invalid length:  0\n",
      "Peaks after filtering:  679729\n"
     ]
    }
   ],
   "source": [
    "peaks = check_peak_format(annotated, ref_genome)"
   ]
  },
  {
   "cell_type": "code",
   "execution_count": 37,
   "id": "e697babc-5a61-44f2-a2dc-4057b6008e2f",
   "metadata": {
    "scrolled": true
   },
   "outputs": [
    {
     "data": {
      "text/html": [
       "<div>\n",
       "<style scoped>\n",
       "    .dataframe tbody tr th:only-of-type {\n",
       "        vertical-align: middle;\n",
       "    }\n",
       "\n",
       "    .dataframe tbody tr th {\n",
       "        vertical-align: top;\n",
       "    }\n",
       "\n",
       "    .dataframe thead th {\n",
       "        text-align: right;\n",
       "    }\n",
       "</style>\n",
       "<table border=\"1\" class=\"dataframe\">\n",
       "  <thead>\n",
       "    <tr style=\"text-align: right;\">\n",
       "      <th></th>\n",
       "      <th>peak_id</th>\n",
       "      <th>gene_short_name</th>\n",
       "    </tr>\n",
       "  </thead>\n",
       "  <tbody>\n",
       "    <tr>\n",
       "      <th>0</th>\n",
       "      <td>chr1_10027_10528</td>\n",
       "      <td>OR4F5</td>\n",
       "    </tr>\n",
       "    <tr>\n",
       "      <th>1</th>\n",
       "      <td>chr1_180646_181147</td>\n",
       "      <td>OR4F5</td>\n",
       "    </tr>\n",
       "    <tr>\n",
       "      <th>2</th>\n",
       "      <td>chr1_180646_181147</td>\n",
       "      <td>OR4F29</td>\n",
       "    </tr>\n",
       "    <tr>\n",
       "      <th>3</th>\n",
       "      <td>chr1_181233_181734</td>\n",
       "      <td>OR4F5</td>\n",
       "    </tr>\n",
       "    <tr>\n",
       "      <th>4</th>\n",
       "      <td>chr1_181233_181734</td>\n",
       "      <td>OR4F29</td>\n",
       "    </tr>\n",
       "  </tbody>\n",
       "</table>\n",
       "</div>"
      ],
      "text/plain": [
       "              peak_id gene_short_name\n",
       "0    chr1_10027_10528           OR4F5\n",
       "1  chr1_180646_181147           OR4F5\n",
       "2  chr1_180646_181147          OR4F29\n",
       "3  chr1_181233_181734           OR4F5\n",
       "4  chr1_181233_181734          OR4F29"
      ]
     },
     "execution_count": 37,
     "metadata": {},
     "output_type": "execute_result"
    }
   ],
   "source": [
    "peaks.head()"
   ]
  },
  {
   "cell_type": "code",
   "execution_count": 38,
   "id": "5e600580-e945-4cb1-9eb4-fe6a2ff59cde",
   "metadata": {},
   "outputs": [],
   "source": [
    "# Instantiate TFinfo object\n",
    "tfi = ma.TFinfo(peak_data_frame=peaks,\n",
    "                ref_genome=ref_genome)"
   ]
  },
  {
   "cell_type": "raw",
   "id": "6d98239d",
   "metadata": {},
   "source": [
    "If you do not specify the motifs or set motifs to None, the default motifs will be loaded automatically.\n",
    "For mouse and human, “gimme.vertebrate.v5.0.” will be used as the default motifs."
   ]
  },
  {
   "cell_type": "code",
   "execution_count": 39,
   "id": "8131dd5e-1410-4c6a-976c-b54e21282066",
   "metadata": {},
   "outputs": [
    {
     "data": {
      "text/plain": [
       "['CIS-BP.pfm',\n",
       " 'ENCODE.pfm',\n",
       " 'HOCOMOCOv10_HUMAN.pfm',\n",
       " 'HOCOMOCOv10_MOUSE.pfm',\n",
       " 'HOCOMOCOv11_HUMAN.pfm',\n",
       " 'HOCOMOCOv11_MOUSE.pfm',\n",
       " 'HOMER.pfm',\n",
       " 'IMAGE.pfm',\n",
       " 'JASPAR2018.pfm',\n",
       " 'JASPAR2018_fungi.pfm',\n",
       " 'JASPAR2018_insects.pfm',\n",
       " 'JASPAR2018_nematodes.pfm',\n",
       " 'JASPAR2018_plants.pfm',\n",
       " 'JASPAR2018_urochordates.pfm',\n",
       " 'JASPAR2018_vertebrates.pfm',\n",
       " 'JASPAR2020.pfm',\n",
       " 'JASPAR2020_fungi.pfm',\n",
       " 'JASPAR2020_insects.pfm',\n",
       " 'JASPAR2020_nematodes.pfm',\n",
       " 'JASPAR2020_plants.pfm',\n",
       " 'JASPAR2020_urochordates.pfm',\n",
       " 'JASPAR2020_vertebrates.pfm',\n",
       " 'JASPAR2022.pfm',\n",
       " 'JASPAR2022_fungi.pfm',\n",
       " 'JASPAR2022_insects.pfm',\n",
       " 'JASPAR2022_nematodes.pfm',\n",
       " 'JASPAR2022_plants.pfm',\n",
       " 'JASPAR2022_urochordates.pfm',\n",
       " 'JASPAR2022_vertebrates.pfm',\n",
       " 'RSAT_insects.pfm',\n",
       " 'RSAT_plants.pfm',\n",
       " 'RSAT_vertebrates.pfm',\n",
       " 'SwissRegulon.pfm',\n",
       " 'factorbook.pfm',\n",
       " 'gimme.vertebrate.v5.0.pfm']"
      ]
     },
     "execution_count": 39,
     "metadata": {},
     "output_type": "execute_result"
    }
   ],
   "source": [
    "import os, glob\n",
    "from gimmemotifs.motif import MotifConfig\n",
    "config = MotifConfig()\n",
    "motif_dir = config.get_motif_dir()\n",
    "\n",
    "# Get motif data names\n",
    "motifs_data_name = [i for i in os.listdir(motif_dir) if i.endswith(\".pfm\")]\n",
    "motifs_data_name.sort()\n",
    "motifs_data_name"
   ]
  },
  {
   "cell_type": "markdown",
   "id": "46e0259f-da52-4371-9401-8a41175df703",
   "metadata": {},
   "source": [
    "**Homococo**"
   ]
  },
  {
   "cell_type": "code",
   "execution_count": 41,
   "id": "f0e012c2-7156-4b9a-ac99-1e54f4d4fc2f",
   "metadata": {},
   "outputs": [
    {
     "data": {
      "text/plain": [
       "[AHR_HUMAN.H11MO.0.B_nTnGCGTGn,\n",
       " AIRE_HUMAN.H11MO.0.C_nTTGGwwnwAwTGGnTwn,\n",
       " ALX1_HUMAN.H11MO.0.B_nTAATTrnATTA,\n",
       " ANDR_HUMAN.H11MO.0.A_TGTnCTnnnnTGTTTryw,\n",
       " AP2A_HUMAN.H11MO.0.A_nTnsCCTGrGGsnAn,\n",
       " AP2B_HUMAN.H11MO.0.B_GCCyGnGGGn,\n",
       " AP2C_HUMAN.H11MO.0.A_nTGsCCTGrGGsnn,\n",
       " ARI5B_HUMAN.H11MO.0.C_nnyknGTATTskn,\n",
       " ARNT_HUMAN.H11MO.0.B_nTACGTGmC,\n",
       " ASCL1_HUMAN.H11MO.0.A_nnnCAsCTGCynyn]"
      ]
     },
     "execution_count": 41,
     "metadata": {},
     "output_type": "execute_result"
    }
   ],
   "source": [
    "# You can load motif files with \"read_motifs\"\n",
    "from gimmemotifs.motif import read_motifs\n",
    "\n",
    "path = os.path.join(motif_dir, \"HOCOMOCOv11_HUMAN.pfm\")\n",
    "motifs = read_motifs(path)\n",
    "\n",
    "# Check first 10 motifs\n",
    "motifs[:10]"
   ]
  },
  {
   "cell_type": "raw",
   "id": "4c5babd3-42b4-4fe9-8294-2e0ade7c25d9",
   "metadata": {},
   "source": [
    "# You can load motif files with \"read_motifs\"\n",
    "from gimmemotifs.motif import read_motifs\n",
    "\n",
    "path = os.path.join(motif_dir, \"JASPAR2022_vertebrates.pfm\")\n",
    "motifs = read_motifs(path)\n",
    "\n",
    "# Check first 10 motifs\n",
    "motifs[:10]"
   ]
  },
  {
   "cell_type": "raw",
   "id": "dfcb791a-1c3d-40bc-92b6-5b9bc9322ac0",
   "metadata": {},
   "source": [
    "# You can load motif files with \"read_motifs\"\n",
    "from gimmemotifs.motif import read_motifs\n",
    "\n",
    "path = os.path.join(motif_dir, \"HOMER.pfm\")\n",
    "motifs = read_motifs(path)\n",
    "\n",
    "# Check first 10 motifs\n",
    "motifs[:10]"
   ]
  },
  {
   "cell_type": "code",
   "execution_count": null,
   "id": "9273d82e-570f-4637-9dff-5361e317e121",
   "metadata": {},
   "outputs": [],
   "source": []
  },
  {
   "cell_type": "code",
   "execution_count": 42,
   "id": "ba25df0f-9ddb-4b31-8abc-230edaf977a3",
   "metadata": {},
   "outputs": [
    {
     "name": "stdout",
     "output_type": "stream",
     "text": [
      "Checking your motifs... Motifs format looks good. \n",
      "\n",
      "Initiating scanner... \n",
      "\n",
      "Calculating FPR-based threshold. This step may take substantial time when you load a new ref-genome. It will be done quicker on the second time. \n",
      "\n",
      "Motif scan started .. It may take long time.\n",
      "\n"
     ]
    },
    {
     "data": {
      "application/vnd.jupyter.widget-view+json": {
       "model_id": "163b2cdeb9d54059a6405fba377aea7d",
       "version_major": 2,
       "version_minor": 0
      },
      "text/plain": [
       "scanning:   0%|          | 0/385069 [00:00<?, ? sequences/s]"
      ]
     },
     "metadata": {},
     "output_type": "display_data"
    }
   ],
   "source": [
    "tfi.scan(motifs=motifs, verbose=True) #error with HOMOCOCO v11"
   ]
  },
  {
   "cell_type": "code",
   "execution_count": 43,
   "id": "c06c745b",
   "metadata": {},
   "outputs": [
    {
     "data": {
      "text/html": [
       "<div>\n",
       "<style scoped>\n",
       "    .dataframe tbody tr th:only-of-type {\n",
       "        vertical-align: middle;\n",
       "    }\n",
       "\n",
       "    .dataframe tbody tr th {\n",
       "        vertical-align: top;\n",
       "    }\n",
       "\n",
       "    .dataframe thead th {\n",
       "        text-align: right;\n",
       "    }\n",
       "</style>\n",
       "<table border=\"1\" class=\"dataframe\">\n",
       "  <thead>\n",
       "    <tr style=\"text-align: right;\">\n",
       "      <th></th>\n",
       "      <th>seqname</th>\n",
       "      <th>motif_id</th>\n",
       "      <th>factors_direct</th>\n",
       "      <th>factors_indirect</th>\n",
       "      <th>score</th>\n",
       "      <th>pos</th>\n",
       "      <th>strand</th>\n",
       "    </tr>\n",
       "  </thead>\n",
       "  <tbody>\n",
       "    <tr>\n",
       "      <th>0</th>\n",
       "      <td>chr10_100006240_100006741</td>\n",
       "      <td>AHR_HUMAN.H11MO.0.B</td>\n",
       "      <td>AHR</td>\n",
       "      <td></td>\n",
       "      <td>7.519250</td>\n",
       "      <td>81</td>\n",
       "      <td>-1</td>\n",
       "    </tr>\n",
       "    <tr>\n",
       "      <th>1</th>\n",
       "      <td>chr10_100006240_100006741</td>\n",
       "      <td>AIRE_HUMAN.H11MO.0.C</td>\n",
       "      <td>AIRE</td>\n",
       "      <td></td>\n",
       "      <td>9.127656</td>\n",
       "      <td>292</td>\n",
       "      <td>-1</td>\n",
       "    </tr>\n",
       "    <tr>\n",
       "      <th>2</th>\n",
       "      <td>chr10_100006240_100006741</td>\n",
       "      <td>BACH1_HUMAN.H11MO.0.A</td>\n",
       "      <td>BACH1</td>\n",
       "      <td></td>\n",
       "      <td>11.048207</td>\n",
       "      <td>241</td>\n",
       "      <td>-1</td>\n",
       "    </tr>\n",
       "    <tr>\n",
       "      <th>3</th>\n",
       "      <td>chr10_100006240_100006741</td>\n",
       "      <td>BACH2_HUMAN.H11MO.0.A</td>\n",
       "      <td>BACH2</td>\n",
       "      <td></td>\n",
       "      <td>9.697703</td>\n",
       "      <td>243</td>\n",
       "      <td>-1</td>\n",
       "    </tr>\n",
       "    <tr>\n",
       "      <th>4</th>\n",
       "      <td>chr10_100006240_100006741</td>\n",
       "      <td>BACH2_HUMAN.H11MO.0.A</td>\n",
       "      <td>BACH2</td>\n",
       "      <td></td>\n",
       "      <td>8.253610</td>\n",
       "      <td>9</td>\n",
       "      <td>-1</td>\n",
       "    </tr>\n",
       "  </tbody>\n",
       "</table>\n",
       "</div>"
      ],
      "text/plain": [
       "                     seqname               motif_id factors_direct  \\\n",
       "0  chr10_100006240_100006741    AHR_HUMAN.H11MO.0.B            AHR   \n",
       "1  chr10_100006240_100006741   AIRE_HUMAN.H11MO.0.C           AIRE   \n",
       "2  chr10_100006240_100006741  BACH1_HUMAN.H11MO.0.A          BACH1   \n",
       "3  chr10_100006240_100006741  BACH2_HUMAN.H11MO.0.A          BACH2   \n",
       "4  chr10_100006240_100006741  BACH2_HUMAN.H11MO.0.A          BACH2   \n",
       "\n",
       "  factors_indirect      score  pos  strand  \n",
       "0                    7.519250   81      -1  \n",
       "1                    9.127656  292      -1  \n",
       "2                   11.048207  241      -1  \n",
       "3                    9.697703  243      -1  \n",
       "4                    8.253610    9      -1  "
      ]
     },
     "execution_count": 43,
     "metadata": {},
     "output_type": "execute_result"
    }
   ],
   "source": [
    "# Check motif scan results\n",
    "tfi.scanned_df.head()"
   ]
  },
  {
   "cell_type": "code",
   "execution_count": 44,
   "id": "2179c373-f2c0-4aa2-abca-f1dcae11bbae",
   "metadata": {},
   "outputs": [
    {
     "name": "stdout",
     "output_type": "stream",
     "text": [
      "Filtering finished: 11696929 -> 3268833\n",
      "1. Converting scanned results into one-hot encoded dataframe.\n"
     ]
    },
    {
     "data": {
      "application/vnd.jupyter.widget-view+json": {
       "model_id": "4fd8ad465ece48559f8836e753cf651f",
       "version_major": 2,
       "version_minor": 0
      },
      "text/plain": [
       "  0%|          | 0/378212 [00:00<?, ?it/s]"
      ]
     },
     "metadata": {},
     "output_type": "display_data"
    },
    {
     "name": "stdout",
     "output_type": "stream",
     "text": [
      "2. Converting results into dictionaries.\n"
     ]
    },
    {
     "data": {
      "application/vnd.jupyter.widget-view+json": {
       "model_id": "dd34107aec1d4dac86cf986bd20b2d42",
       "version_major": 2,
       "version_minor": 0
      },
      "text/plain": [
       "  0%|          | 0/18193 [00:00<?, ?it/s]"
      ]
     },
     "metadata": {},
     "output_type": "display_data"
    },
    {
     "data": {
      "application/vnd.jupyter.widget-view+json": {
       "model_id": "7c37b0caa7c44625b9f0311c8285d1dc",
       "version_major": 2,
       "version_minor": 0
      },
      "text/plain": [
       "  0%|          | 0/399 [00:00<?, ?it/s]"
      ]
     },
     "metadata": {},
     "output_type": "display_data"
    }
   ],
   "source": [
    "# Reset filtering\n",
    "tfi.reset_filtering()\n",
    "\n",
    "# Do filtering\n",
    "tfi.filter_motifs_by_score(threshold=10)\n",
    "\n",
    "# Format post-filtering results.\n",
    "tfi.make_TFinfo_dataframe_and_dictionary(verbose=True)"
   ]
  },
  {
   "cell_type": "code",
   "execution_count": 45,
   "id": "594e95fa-0ed6-4376-956b-7c5b52b76deb",
   "metadata": {
    "scrolled": true
   },
   "outputs": [
    {
     "data": {
      "text/html": [
       "<div>\n",
       "<style scoped>\n",
       "    .dataframe tbody tr th:only-of-type {\n",
       "        vertical-align: middle;\n",
       "    }\n",
       "\n",
       "    .dataframe tbody tr th {\n",
       "        vertical-align: top;\n",
       "    }\n",
       "\n",
       "    .dataframe thead th {\n",
       "        text-align: right;\n",
       "    }\n",
       "</style>\n",
       "<table border=\"1\" class=\"dataframe\">\n",
       "  <thead>\n",
       "    <tr style=\"text-align: right;\">\n",
       "      <th></th>\n",
       "      <th>peak_id</th>\n",
       "      <th>gene_short_name</th>\n",
       "      <th>AHR</th>\n",
       "      <th>AIRE</th>\n",
       "      <th>ALX1</th>\n",
       "      <th>AR</th>\n",
       "      <th>ARID5B</th>\n",
       "      <th>ARNT</th>\n",
       "      <th>ARNTL</th>\n",
       "      <th>ASCL1</th>\n",
       "      <th>...</th>\n",
       "      <th>ZNF680</th>\n",
       "      <th>ZNF708</th>\n",
       "      <th>ZNF76</th>\n",
       "      <th>ZNF768</th>\n",
       "      <th>ZNF770</th>\n",
       "      <th>ZNF8</th>\n",
       "      <th>ZNF816</th>\n",
       "      <th>ZNF85</th>\n",
       "      <th>ZSCAN22</th>\n",
       "      <th>ZSCAN31</th>\n",
       "    </tr>\n",
       "  </thead>\n",
       "  <tbody>\n",
       "    <tr>\n",
       "      <th>0</th>\n",
       "      <td>chr10_100006240_100006741</td>\n",
       "      <td>ABCC2</td>\n",
       "      <td>0.0</td>\n",
       "      <td>0.0</td>\n",
       "      <td>0.0</td>\n",
       "      <td>0.0</td>\n",
       "      <td>0.0</td>\n",
       "      <td>0.0</td>\n",
       "      <td>0.0</td>\n",
       "      <td>0.0</td>\n",
       "      <td>...</td>\n",
       "      <td>0.0</td>\n",
       "      <td>0.0</td>\n",
       "      <td>0.0</td>\n",
       "      <td>0.0</td>\n",
       "      <td>0.0</td>\n",
       "      <td>0.0</td>\n",
       "      <td>0.0</td>\n",
       "      <td>0.0</td>\n",
       "      <td>0.0</td>\n",
       "      <td>0.0</td>\n",
       "    </tr>\n",
       "    <tr>\n",
       "      <th>1</th>\n",
       "      <td>chr10_100006240_100006741</td>\n",
       "      <td>DNMBP</td>\n",
       "      <td>0.0</td>\n",
       "      <td>0.0</td>\n",
       "      <td>0.0</td>\n",
       "      <td>0.0</td>\n",
       "      <td>0.0</td>\n",
       "      <td>0.0</td>\n",
       "      <td>0.0</td>\n",
       "      <td>0.0</td>\n",
       "      <td>...</td>\n",
       "      <td>0.0</td>\n",
       "      <td>0.0</td>\n",
       "      <td>0.0</td>\n",
       "      <td>0.0</td>\n",
       "      <td>0.0</td>\n",
       "      <td>0.0</td>\n",
       "      <td>0.0</td>\n",
       "      <td>0.0</td>\n",
       "      <td>0.0</td>\n",
       "      <td>0.0</td>\n",
       "    </tr>\n",
       "    <tr>\n",
       "      <th>2</th>\n",
       "      <td>chr10_100009160_100009661</td>\n",
       "      <td>DNMBP</td>\n",
       "      <td>0.0</td>\n",
       "      <td>0.0</td>\n",
       "      <td>0.0</td>\n",
       "      <td>0.0</td>\n",
       "      <td>0.0</td>\n",
       "      <td>0.0</td>\n",
       "      <td>0.0</td>\n",
       "      <td>0.0</td>\n",
       "      <td>...</td>\n",
       "      <td>0.0</td>\n",
       "      <td>0.0</td>\n",
       "      <td>0.0</td>\n",
       "      <td>0.0</td>\n",
       "      <td>0.0</td>\n",
       "      <td>0.0</td>\n",
       "      <td>0.0</td>\n",
       "      <td>0.0</td>\n",
       "      <td>0.0</td>\n",
       "      <td>0.0</td>\n",
       "    </tr>\n",
       "    <tr>\n",
       "      <th>3</th>\n",
       "      <td>chr10_100009709_100010210</td>\n",
       "      <td>DNMBP</td>\n",
       "      <td>0.0</td>\n",
       "      <td>0.0</td>\n",
       "      <td>0.0</td>\n",
       "      <td>0.0</td>\n",
       "      <td>0.0</td>\n",
       "      <td>0.0</td>\n",
       "      <td>0.0</td>\n",
       "      <td>0.0</td>\n",
       "      <td>...</td>\n",
       "      <td>0.0</td>\n",
       "      <td>0.0</td>\n",
       "      <td>0.0</td>\n",
       "      <td>0.0</td>\n",
       "      <td>0.0</td>\n",
       "      <td>0.0</td>\n",
       "      <td>0.0</td>\n",
       "      <td>0.0</td>\n",
       "      <td>1.0</td>\n",
       "      <td>0.0</td>\n",
       "    </tr>\n",
       "    <tr>\n",
       "      <th>4</th>\n",
       "      <td>chr10_100010303_100010804</td>\n",
       "      <td>DNMBP</td>\n",
       "      <td>0.0</td>\n",
       "      <td>0.0</td>\n",
       "      <td>0.0</td>\n",
       "      <td>0.0</td>\n",
       "      <td>0.0</td>\n",
       "      <td>0.0</td>\n",
       "      <td>0.0</td>\n",
       "      <td>0.0</td>\n",
       "      <td>...</td>\n",
       "      <td>0.0</td>\n",
       "      <td>0.0</td>\n",
       "      <td>0.0</td>\n",
       "      <td>0.0</td>\n",
       "      <td>0.0</td>\n",
       "      <td>0.0</td>\n",
       "      <td>0.0</td>\n",
       "      <td>0.0</td>\n",
       "      <td>0.0</td>\n",
       "      <td>0.0</td>\n",
       "    </tr>\n",
       "  </tbody>\n",
       "</table>\n",
       "<p>5 rows × 401 columns</p>\n",
       "</div>"
      ],
      "text/plain": [
       "                     peak_id gene_short_name  AHR  AIRE  ALX1   AR  ARID5B  \\\n",
       "0  chr10_100006240_100006741           ABCC2  0.0   0.0   0.0  0.0     0.0   \n",
       "1  chr10_100006240_100006741           DNMBP  0.0   0.0   0.0  0.0     0.0   \n",
       "2  chr10_100009160_100009661           DNMBP  0.0   0.0   0.0  0.0     0.0   \n",
       "3  chr10_100009709_100010210           DNMBP  0.0   0.0   0.0  0.0     0.0   \n",
       "4  chr10_100010303_100010804           DNMBP  0.0   0.0   0.0  0.0     0.0   \n",
       "\n",
       "   ARNT  ARNTL  ASCL1  ...  ZNF680  ZNF708  ZNF76  ZNF768  ZNF770  ZNF8  \\\n",
       "0   0.0    0.0    0.0  ...     0.0     0.0    0.0     0.0     0.0   0.0   \n",
       "1   0.0    0.0    0.0  ...     0.0     0.0    0.0     0.0     0.0   0.0   \n",
       "2   0.0    0.0    0.0  ...     0.0     0.0    0.0     0.0     0.0   0.0   \n",
       "3   0.0    0.0    0.0  ...     0.0     0.0    0.0     0.0     0.0   0.0   \n",
       "4   0.0    0.0    0.0  ...     0.0     0.0    0.0     0.0     0.0   0.0   \n",
       "\n",
       "   ZNF816  ZNF85  ZSCAN22  ZSCAN31  \n",
       "0     0.0    0.0      0.0      0.0  \n",
       "1     0.0    0.0      0.0      0.0  \n",
       "2     0.0    0.0      0.0      0.0  \n",
       "3     0.0    0.0      1.0      0.0  \n",
       "4     0.0    0.0      0.0      0.0  \n",
       "\n",
       "[5 rows x 401 columns]"
      ]
     },
     "execution_count": 45,
     "metadata": {},
     "output_type": "execute_result"
    }
   ],
   "source": [
    "df = tfi.to_dataframe()\n",
    "df.head()"
   ]
  },
  {
   "cell_type": "code",
   "execution_count": 39,
   "id": "d7bb123c-d1f0-434b-884d-084e93b7e27a",
   "metadata": {},
   "outputs": [
    {
     "data": {
      "text/plain": [
       "'/home/jovyan/jm_jlab/tmp_folder3'"
      ]
     },
     "execution_count": 39,
     "metadata": {},
     "output_type": "execute_result"
    }
   ],
   "source": [
    "pwd"
   ]
  },
  {
   "cell_type": "code",
   "execution_count": 47,
   "id": "314c5715-e0a4-47d2-98d2-5b9b3c1d00f5",
   "metadata": {},
   "outputs": [],
   "source": [
    "# Save result as a dataframe\n",
    "df.to_parquet(\"/home/jovyan/jm_jlab/data_indNeuro/consensus_atlas_ATACregions_hg38/base_GRN_dataframe_HOCOMOCOv11.parquet\")"
   ]
  }
 ],
 "metadata": {
  "kernelspec": {
   "display_name": "Python 3 (ipykernel)",
   "language": "python",
   "name": "python3"
  },
  "language_info": {
   "codemirror_mode": {
    "name": "ipython",
    "version": 3
   },
   "file_extension": ".py",
   "mimetype": "text/x-python",
   "name": "python",
   "nbconvert_exporter": "python",
   "pygments_lexer": "ipython3",
   "version": "3.8.15"
  }
 },
 "nbformat": 4,
 "nbformat_minor": 5
}
