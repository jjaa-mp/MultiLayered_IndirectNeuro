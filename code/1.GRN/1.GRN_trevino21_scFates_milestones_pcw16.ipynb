{
 "cells": [
  {
   "cell_type": "markdown",
   "id": "69cf490c-4b6e-4e19-9f98-965d5bd59be4",
   "metadata": {},
   "source": [
    "# GRN - based on scFates milestones (pcw16)"
   ]
  },
  {
   "cell_type": "code",
   "execution_count": null,
   "id": "67a3f8c8",
   "metadata": {
    "scrolled": true
   },
   "outputs": [],
   "source": [
    "pwd"
   ]
  },
  {
   "cell_type": "code",
   "execution_count": null,
   "id": "a71d2393",
   "metadata": {
    "scrolled": true
   },
   "outputs": [],
   "source": [
    "!cd /home/jovyan/jm_jlab/\n",
    "\n",
    "import os\n",
    "import sys\n",
    "\n",
    "import matplotlib.pyplot as plt\n",
    "import numpy as np\n",
    "import pandas as pd\n",
    "import scanpy as sc\n",
    "import seaborn as sns\n",
    "\n",
    "import celloracle as co\n",
    "co.__version__\n",
    "\n",
    "# visualization settings\n",
    "%config InlineBackend.figure_format = 'retina'\n",
    "%matplotlib inline\n",
    "\n",
    "\n",
    "save_folder = \"/home/jovyan/jm_jlab/data_indNeuro/1.GRN/\"\n",
    "os.makedirs(save_folder, exist_ok=True)\n",
    "\n",
    "from pathlib import Path\n",
    "\n",
    "sc._settings.ScanpyConfig.cachedir = Path('/home/jovyan/jm_jlab/celloracle_data/cache')"
   ]
  },
  {
   "cell_type": "code",
   "execution_count": null,
   "id": "d4bd9139",
   "metadata": {},
   "outputs": [],
   "source": [
    "save_filtered_links = \"/home/jovyan/jm_jlab/data_indNeuro/consensus_atlas_ATACregions_hg38/GRN_trevino21/milestones_pcw16/\""
   ]
  },
  {
   "cell_type": "raw",
   "id": "949c194b-212c-402f-afd8-51799cb35d47",
   "metadata": {},
   "source": []
  },
  {
   "cell_type": "markdown",
   "id": "889685dc-083d-4cee-9dc1-0b9735f11833",
   "metadata": {},
   "source": [
    "## **scRNA-seq processing**"
   ]
  },
  {
   "cell_type": "code",
   "execution_count": null,
   "id": "4492206e",
   "metadata": {},
   "outputs": [],
   "source": [
    "adata = sc.read_h5ad(\"/home/jovyan/jm_jlab/data_indNeuro/intermediate_files/rna_counts.h5ad\")\n",
    "\n",
    "milestones = pd.read_csv(\"/home/jovyan/jm_jlab/data_indNeuro/scFates_output/scFates_clustering.tsv\", sep='\\t', index_col=0)\n",
    "\n",
    "adata.obs = pd.concat([adata.obs, milestones], axis=1)\n",
    "\n",
    "cellembeddings = pd.read_csv(\"/home/jovyan/jm_jlab/data_indNeuro/intermediate_files/cellembeddings.tsv\", sep='\\t')\n",
    "cellembeddings.iloc[:,1] = cellembeddings.iloc[:,1]*-1 #for better geometry\n",
    "adata.obsm['X_pca'] = cellembeddings.to_numpy() #sharing embeddings\n",
    "\n",
    "adata = adata[adata.obs['Age'] == 'pcw16',:].copy()\n",
    "\n",
    "sc.pp.filter_genes(adata, min_cells=50)\n",
    "sc.pp.normalize_per_cell(adata, key_n_counts='n_counts_all')\n",
    "sc.pp.highly_variable_genes(adata, n_top_genes=4000, flavor='seurat_v3') #let's retain more genes before further filtering"
   ]
  },
  {
   "cell_type": "code",
   "execution_count": null,
   "id": "09492ace",
   "metadata": {
    "scrolled": true
   },
   "outputs": [],
   "source": [
    "sc.pl.highly_variable_genes(adata)"
   ]
  },
  {
   "cell_type": "code",
   "execution_count": null,
   "id": "43670148",
   "metadata": {},
   "outputs": [],
   "source": [
    "sc.pl.highly_variable_genes(adata[:,adata.var['means'] < 50])"
   ]
  },
  {
   "cell_type": "code",
   "execution_count": null,
   "id": "37779ae1",
   "metadata": {},
   "outputs": [],
   "source": [
    "adata=adata[:,adata.var.highly_variable]"
   ]
  },
  {
   "cell_type": "raw",
   "id": "fc7c7573",
   "metadata": {},
   "source": [
    "adata.X.todense()"
   ]
  },
  {
   "cell_type": "code",
   "execution_count": null,
   "id": "fa1d3784",
   "metadata": {
    "scrolled": true
   },
   "outputs": [],
   "source": [
    "#Renormalized after filtering\n",
    "sc.pp.normalize_per_cell(adata, key_n_counts='n_counts_all')"
   ]
  },
  {
   "cell_type": "code",
   "execution_count": null,
   "id": "8b5ad7d4",
   "metadata": {},
   "outputs": [],
   "source": [
    "# keep raw cont data before log transformation\n",
    "adata.raw = adata.copy()\n",
    "adata.layers[\"raw_count\"] = adata.raw.X.copy()\n",
    "\n",
    "# Log transformation\n",
    "sc.pp.log1p(adata)"
   ]
  },
  {
   "cell_type": "code",
   "execution_count": null,
   "id": "ae623338-13b2-4b50-b780-e200c07c34b7",
   "metadata": {},
   "outputs": [],
   "source": [
    "df = pd.read_parquet(\"/home/jovyan/jm_jlab/data_indNeuro/consensus_atlas_ATACregions_hg38/base_GRN_dataframe_HOCOMOCOv11.parquet\")\n",
    "\n",
    "df.head(2)"
   ]
  },
  {
   "cell_type": "code",
   "execution_count": null,
   "id": "00fff79c-0955-4484-94cb-ea4a37cd11ee",
   "metadata": {},
   "outputs": [],
   "source": [
    "adata.var['TF_HOCOMOCO'] = adata.var_names.isin(df.columns[2:])"
   ]
  },
  {
   "cell_type": "code",
   "execution_count": null,
   "id": "0426d312-7eb2-4b04-ae81-342051074c4c",
   "metadata": {},
   "outputs": [],
   "source": [
    "adata = adata[:,(adata.var['highly_variable'] == True) | (adata.var['TF_HOCOMOCO'] == True)].copy()"
   ]
  },
  {
   "cell_type": "code",
   "execution_count": null,
   "id": "7017ac4a-c9a8-4f4a-aea2-a7d43e525999",
   "metadata": {
    "scrolled": true
   },
   "outputs": [],
   "source": [
    "sc.set_figure_params(figsize=(4,4))\n",
    "\n",
    "sc.pl.pca(adata, color=['milestones'])"
   ]
  },
  {
   "cell_type": "code",
   "execution_count": null,
   "id": "36511873",
   "metadata": {
    "scrolled": true
   },
   "outputs": [],
   "source": [
    "sc.pl.pca(adata, color=['milestones', 'EGR1', 'HOPX', 'EOMES', 'GLI3', 'PPP1R17', 'NHLH1', 'HES1', 'KLF6'])"
   ]
  },
  {
   "cell_type": "code",
   "execution_count": null,
   "id": "812dd783",
   "metadata": {},
   "outputs": [],
   "source": [
    "sc.pl.pca(adata, color=['milestones', 'EGR1', 'HOPX', 'EOMES', 'GLI3', 'PPP1R17', 'NHLH1', 'HES1', 'KLF6'], use_raw=False)"
   ]
  },
  {
   "cell_type": "raw",
   "id": "9d4ddfad",
   "metadata": {},
   "source": [
    "\n",
    "\n"
   ]
  },
  {
   "cell_type": "markdown",
   "id": "e9056125-780a-47d1-8957-32310a99da7b",
   "metadata": {},
   "source": [
    "**pseudotime** (from scFates)"
   ]
  },
  {
   "cell_type": "code",
   "execution_count": null,
   "id": "45b7d082",
   "metadata": {},
   "outputs": [],
   "source": [
    "sc.pl.pca(adata, color=['t', 'milestones'])"
   ]
  },
  {
   "cell_type": "raw",
   "id": "3ae3f7c7-2a2d-4a53-9732-17bb8cfd9ef3",
   "metadata": {},
   "source": []
  },
  {
   "cell_type": "markdown",
   "id": "2114cdbf-28ac-4349-89b5-cb3645328b56",
   "metadata": {},
   "source": [
    "**Final object**"
   ]
  },
  {
   "cell_type": "code",
   "execution_count": null,
   "id": "28a79251-00a6-4c59-b09c-3455ee25a74a",
   "metadata": {
    "scrolled": true
   },
   "outputs": [],
   "source": [
    "adata"
   ]
  },
  {
   "cell_type": "raw",
   "id": "a47330ba-e604-4839-9e0a-1a3fddd6ee60",
   "metadata": {},
   "source": []
  },
  {
   "cell_type": "markdown",
   "id": "4f20ff3e-83a4-431f-a12d-1eaee1918080",
   "metadata": {},
   "source": [
    "## **PEAKS**"
   ]
  },
  {
   "cell_type": "code",
   "execution_count": null,
   "id": "662d9fe2-d9fe-4157-9340-f5f6dcd12ab2",
   "metadata": {},
   "outputs": [],
   "source": [
    "import os, sys, shutil, importlib, glob\n",
    "from tqdm.notebook import tqdm"
   ]
  },
  {
   "cell_type": "code",
   "execution_count": null,
   "id": "32398f45-0f64-4b32-8c40-9610e66372d0",
   "metadata": {},
   "outputs": [],
   "source": [
    "from celloracle import motif_analysis as ma\n",
    "from celloracle.utility import save_as_pickled_object"
   ]
  },
  {
   "cell_type": "code",
   "execution_count": null,
   "id": "c367596d-d35d-4d79-8773-0e9987068050",
   "metadata": {},
   "outputs": [],
   "source": [
    "%config InlineBackend.figure_format = 'retina'\n",
    "%matplotlib inline\n",
    "\n",
    "plt.rcParams['figure.figsize'] = (15,7)\n",
    "plt.rcParams[\"savefig.dpi\"] = 600"
   ]
  },
  {
   "cell_type": "raw",
   "id": "0f54e40a",
   "metadata": {},
   "source": [
    "Dataframe loaded before"
   ]
  },
  {
   "cell_type": "raw",
   "id": "b3d467dc",
   "metadata": {},
   "source": [
    "df = pd.read_parquet(\"/home/jovyan/jm_jlab/data_indNeuro/consensus_atlas_ATACregions_hg38/base_GRN_dataframe_HOCOMOCOv11.parquet\")"
   ]
  },
  {
   "cell_type": "code",
   "execution_count": null,
   "id": "776db029-746b-4318-bbc0-e4e047f2b200",
   "metadata": {},
   "outputs": [],
   "source": [
    "df.head(2)"
   ]
  },
  {
   "cell_type": "markdown",
   "id": "d5197b37-619b-496d-89b0-7e37bbd801b1",
   "metadata": {},
   "source": [
    "## "
   ]
  },
  {
   "cell_type": "markdown",
   "id": "38db3d44-9a7c-4d3c-bb7f-1418b913ac6f",
   "metadata": {},
   "source": [
    "## CellOracle"
   ]
  },
  {
   "cell_type": "code",
   "execution_count": null,
   "id": "603e5878-2ba1-41a1-b764-d200326ff464",
   "metadata": {},
   "outputs": [],
   "source": [
    "# Instantiate Oracle object\n",
    "oracle = co.Oracle()"
   ]
  },
  {
   "cell_type": "code",
   "execution_count": null,
   "id": "0d2a4d42-caed-4a2b-acfe-757428076517",
   "metadata": {
    "scrolled": true
   },
   "outputs": [],
   "source": [
    "oracle"
   ]
  },
  {
   "cell_type": "raw",
   "id": "cedb4c27-35c2-447d-a122-36d4b07b66a2",
   "metadata": {},
   "source": [
    "For the CellOracle analysis, your anndata should include (1) gene expression counts, (2) clustering information, and (3) trajectory (dimensional reduction embedding) data. Please refer to a previous notebook for more information on anndata preprocessing."
   ]
  },
  {
   "cell_type": "code",
   "execution_count": null,
   "id": "26b7e1f2-5e20-4e92-b576-392717f9dc2f",
   "metadata": {},
   "outputs": [],
   "source": [
    "# Show data name in anndata\n",
    "print(\"metadata columns :\", list(adata.obs.columns))\n",
    "print(\"dimensional reduction: \", list(adata.obsm.keys()))"
   ]
  },
  {
   "cell_type": "code",
   "execution_count": null,
   "id": "41d1b23c",
   "metadata": {},
   "outputs": [],
   "source": [
    "#adata = adata.copy()\n",
    "\n",
    "# In this notebook, we use the unscaled mRNA count for the input of Oracle object.\n",
    "adata.X = adata.layers[\"raw_count\"].copy()\n",
    "\n",
    "# Instantiate Oracle object.\n",
    "oracle.import_anndata_as_raw_count(adata=adata,\n",
    "                                   cluster_column_name=\"milestones\",\n",
    "                                   embedding_name=\"X_pca\") #It performs log-transform"
   ]
  },
  {
   "cell_type": "markdown",
   "id": "59720d6e-1134-4b8a-8a92-a082df70195e",
   "metadata": {},
   "source": [
    "**HOMOCOCO CELLORACLE OBJECT:**"
   ]
  },
  {
   "cell_type": "code",
   "execution_count": null,
   "id": "0c9c2b09",
   "metadata": {},
   "outputs": [],
   "source": [
    "# You can load TF info dataframe with the following code.\n",
    "oracle.import_TF_data(TF_info_matrix=df)"
   ]
  },
  {
   "cell_type": "code",
   "execution_count": null,
   "id": "231ddf7e",
   "metadata": {},
   "outputs": [],
   "source": [
    "oracle"
   ]
  },
  {
   "cell_type": "code",
   "execution_count": null,
   "id": "f425c228-cf68-471d-afcd-98aff1ad4795",
   "metadata": {},
   "outputs": [],
   "source": [
    "# Perform PCA\n",
    "oracle.perform_PCA()\n",
    "\n",
    "# Select important PCs\n",
    "plt.plot(np.cumsum(oracle.pca.explained_variance_ratio_)[:100])\n",
    "n_comps = np.where(np.diff(np.diff(np.cumsum(oracle.pca.explained_variance_ratio_))>0.002))[0][0]\n",
    "plt.axvline(n_comps, c=\"k\")\n",
    "print(n_comps)\n",
    "n_comps = min(n_comps, 50)"
   ]
  },
  {
   "cell_type": "code",
   "execution_count": null,
   "id": "6ad90135-ab8f-4fe6-8287-410417dde234",
   "metadata": {
    "scrolled": true
   },
   "outputs": [],
   "source": [
    "n_cell = oracle.adata.shape[0]\n",
    "print(f\"cell number is :{n_cell}\")"
   ]
  },
  {
   "cell_type": "code",
   "execution_count": null,
   "id": "570df38f-9d5e-470a-b605-9279e7231bb6",
   "metadata": {
    "scrolled": true
   },
   "outputs": [],
   "source": [
    "k = int(0.025*n_cell)\n",
    "print(f\"Auto-selected k is :{k}\")"
   ]
  },
  {
   "cell_type": "code",
   "execution_count": null,
   "id": "d56bb068-d96b-42c2-a30e-ad3fada92732",
   "metadata": {},
   "outputs": [],
   "source": [
    "oracle.knn_imputation(n_pca_dims=n_comps, k=k, balanced=True, b_sight=k*8,\n",
    "                      b_maxl=k*4, n_jobs=14)"
   ]
  },
  {
   "cell_type": "code",
   "execution_count": null,
   "id": "76a6ae2b",
   "metadata": {},
   "outputs": [],
   "source": [
    "%%time\n",
    "# Calculate GRN for each population clustering unit.\n",
    "\n",
    "links = oracle.get_links(cluster_name_for_GRN_unit='milestones', \n",
    "                         alpha=25, \n",
    "                         bagging_number=20, \n",
    "                         verbose_level=10, \n",
    "                         test_mode=False, \n",
    "                         model_method=\"bagging_ridge\", \n",
    "                         ignore_warning=False, n_jobs=-1)"
   ]
  },
  {
   "cell_type": "code",
   "execution_count": null,
   "id": "25965c26",
   "metadata": {
    "scrolled": true
   },
   "outputs": [],
   "source": [
    "%%time\n",
    "# Calculate GRN for each population clustering unit.\n",
    "# This step may take some time.(~30 minutes)\n",
    "\n",
    "links_bayesian_ridge = oracle.get_links(cluster_name_for_GRN_unit='milestones', \n",
    "                         alpha=25, \n",
    "                         bagging_number=20, \n",
    "                         verbose_level=10, \n",
    "                         test_mode=False, \n",
    "                         model_method=\"bayesian_ridge\", \n",
    "                         ignore_warning=False, n_jobs=-1)"
   ]
  },
  {
   "cell_type": "raw",
   "id": "e4759c99",
   "metadata": {},
   "source": []
  },
  {
   "cell_type": "markdown",
   "id": "cd9c02d9-f5ae-4771-8821-563292c99c24",
   "metadata": {},
   "source": [
    "**P VALUE - bagging_ridge**"
   ]
  },
  {
   "cell_type": "code",
   "execution_count": null,
   "id": "2a4ba855-7cc9-4bc7-8b44-6b904e9f5ecc",
   "metadata": {},
   "outputs": [],
   "source": [
    "links.filter_links(p=0.001, weight=\"coef_abs\", threshold_number=2000)"
   ]
  },
  {
   "cell_type": "markdown",
   "id": "cc42a926",
   "metadata": {},
   "source": [
    "**P VALUE - bayesian_ridge**"
   ]
  },
  {
   "cell_type": "code",
   "execution_count": null,
   "id": "4414b5c5",
   "metadata": {},
   "outputs": [],
   "source": [
    "links_bayesian_ridge.filter_links(p=0.001, weight=\"coef_abs\", threshold_number=2000)"
   ]
  },
  {
   "cell_type": "raw",
   "id": "a476fd5e",
   "metadata": {},
   "source": []
  },
  {
   "cell_type": "raw",
   "id": "3e5bcd5a",
   "metadata": {},
   "source": [
    "!mkdir /home/jovyan/jm_jlab/data_indNeuro/consensus_atlas_ATACregions_hg38/GRN_trevino21/milestones_pcw16"
   ]
  },
  {
   "cell_type": "code",
   "execution_count": null,
   "id": "d2c179c2",
   "metadata": {},
   "outputs": [],
   "source": [
    "for i in links.filtered_links.keys():\n",
    "\n",
    "    links.filtered_links[i].to_csv(save_filtered_links+\"GRN_for_\"+i+\"_baggingridge_pcw16.csv\", index=False)"
   ]
  },
  {
   "cell_type": "markdown",
   "id": "832481e0",
   "metadata": {},
   "source": [
    "**bayesian_ridge**"
   ]
  },
  {
   "cell_type": "code",
   "execution_count": null,
   "id": "d486e3d5",
   "metadata": {},
   "outputs": [],
   "source": [
    "for i in links.filtered_links.keys():\n",
    "\n",
    "    links_bayesian_ridge.filtered_links[i].to_csv(save_filtered_links+\"alt_GRN_for_\"+i+\"_bayesianridge_pcw16.csv\", index=False)"
   ]
  },
  {
   "cell_type": "raw",
   "id": "8c0b7cad",
   "metadata": {},
   "source": []
  },
  {
   "cell_type": "code",
   "execution_count": null,
   "id": "d433e17d-68dc-4b81-aafb-18543f0c0619",
   "metadata": {},
   "outputs": [],
   "source": [
    "plt.rcParams[\"figure.figsize\"] = [6, 4.5]"
   ]
  },
  {
   "cell_type": "code",
   "execution_count": null,
   "id": "a17ff539-71b2-49aa-9304-7823dad53a05",
   "metadata": {},
   "outputs": [],
   "source": [
    "links.plot_degree_distributions(plot_model=True)#save=f\"{save_folder}/degree_distribution/\",)"
   ]
  },
  {
   "cell_type": "markdown",
   "id": "f24b42d5",
   "metadata": {},
   "source": [
    "**Higher r2 scores for bagging ridge algorithm**"
   ]
  },
  {
   "cell_type": "code",
   "execution_count": null,
   "id": "bfb94cc4",
   "metadata": {},
   "outputs": [],
   "source": [
    "links_bayesian_ridge.plot_degree_distributions(plot_model=True)#save=f\"{save_folder}/degree_distribution/\",)"
   ]
  },
  {
   "cell_type": "code",
   "execution_count": null,
   "id": "dc535297-d651-4b86-95e5-da11cb00fd6d",
   "metadata": {},
   "outputs": [],
   "source": [
    "# Calculate network scores.\n",
    "links.get_network_score()"
   ]
  },
  {
   "cell_type": "code",
   "execution_count": null,
   "id": "86e84c89-683e-4b7c-8131-1810a6ffbd5a",
   "metadata": {},
   "outputs": [],
   "source": [
    "links.merged_score.head()"
   ]
  },
  {
   "cell_type": "markdown",
   "id": "c1542aab",
   "metadata": {},
   "source": [
    "**links_bayesian_ridge**"
   ]
  },
  {
   "cell_type": "code",
   "execution_count": null,
   "id": "617b2c96",
   "metadata": {},
   "outputs": [],
   "source": [
    "links_bayesian_ridge.get_network_score()"
   ]
  },
  {
   "cell_type": "code",
   "execution_count": null,
   "id": "210eb551",
   "metadata": {
    "scrolled": true
   },
   "outputs": [],
   "source": [
    "links_bayesian_ridge.merged_score.head()"
   ]
  },
  {
   "cell_type": "raw",
   "id": "407d14de",
   "metadata": {},
   "source": []
  },
  {
   "cell_type": "code",
   "execution_count": null,
   "id": "d05154f0",
   "metadata": {},
   "outputs": [],
   "source": [
    "# Save Links object.\n",
    "links.to_hdf5(file_path=\"/home/jovyan/jm_jlab/data_indNeuro/1.GRN/milestones_pcw16_baggindridge.celloracle.links\")"
   ]
  },
  {
   "cell_type": "code",
   "execution_count": null,
   "id": "1b6a6e07",
   "metadata": {},
   "outputs": [],
   "source": [
    "# links_bayesian_ridge\n",
    "# Save Links object.\n",
    "links_bayesian_ridge.to_hdf5(file_path=\"/home/jovyan/jm_jlab/data_indNeuro/1.GRN/alt_milestones_pcw16_bayesianridge.celloracle.links\")"
   ]
  },
  {
   "cell_type": "raw",
   "id": "1a16181e",
   "metadata": {},
   "source": [
    "# You can load files with the following command.\n",
    "links = co.load_hdf5(file_path=save_filtered_links+\"milestones_pcw16_bayesiandridge.celloracle.links\")"
   ]
  },
  {
   "cell_type": "raw",
   "id": "6a589ace",
   "metadata": {},
   "source": [
    "# You can load files with the following command.\n",
    "links = co.load_hdf5(file_path=save_filtered_links+\"alt_milestones_pcw16_bayesianridge.celloracle.links\")"
   ]
  },
  {
   "cell_type": "code",
   "execution_count": null,
   "id": "7a5a6886",
   "metadata": {},
   "outputs": [],
   "source": []
  },
  {
   "cell_type": "markdown",
   "id": "1dc78c04-97f9-4edd-92f0-65d7cfd4d86e",
   "metadata": {},
   "source": [
    "## Network analysis"
   ]
  },
  {
   "cell_type": "raw",
   "id": "ba0bd4fa-da2a-4359-837e-2717a678f2e0",
   "metadata": {},
   "source": [
    "Let’s visualize genes with high network centrality."
   ]
  },
  {
   "cell_type": "code",
   "execution_count": null,
   "id": "7bf44604-0ddd-46b7-a100-ade714204451",
   "metadata": {},
   "outputs": [],
   "source": [
    "sc.pl.pca(adata, color='milestones')"
   ]
  },
  {
   "cell_type": "raw",
   "id": "275154d7",
   "metadata": {},
   "source": [
    "# Visualize top n-th genes with high scores.\n",
    "links.plot_scores_as_rank(cluster=\"vRG\", n_gene=10) #save=f\"{save_folder}/ranked_score\")"
   ]
  },
  {
   "cell_type": "raw",
   "id": "468a34d2",
   "metadata": {},
   "source": [
    "# Visualize top n-th genes with high scores.\n",
    "links.plot_scores_as_rank(cluster=\"oRG\", n_gene=10) #save=f\"{save_folder}/ranked_score\")"
   ]
  },
  {
   "cell_type": "raw",
   "id": "9da7695e",
   "metadata": {},
   "source": [
    "# Visualize top n-th genes with high scores.\n",
    "links.plot_scores_as_rank(cluster=\"IPC\", n_gene=10) #save=f\"{save_folder}/ranked_score\")"
   ]
  },
  {
   "cell_type": "raw",
   "id": "0a93dc81",
   "metadata": {},
   "source": [
    "for i in links.filtered_links.keys():\n",
    "\n",
    "    print(i)\n",
    "    \n",
    "    links.plot_scores_as_rank(cluster=i, n_gene=10)"
   ]
  },
  {
   "cell_type": "code",
   "execution_count": null,
   "id": "01f0021c",
   "metadata": {
    "scrolled": true
   },
   "outputs": [],
   "source": [
    "for i in links.filtered_links.keys():\n",
    "\n",
    "    print(i)\n",
    "    \n",
    "    links.plot_scores_as_rank(cluster=i, n_gene=10)"
   ]
  },
  {
   "cell_type": "code",
   "execution_count": null,
   "id": "d240c4c4",
   "metadata": {
    "scrolled": true
   },
   "outputs": [],
   "source": [
    "for i in links.filtered_links.keys():\n",
    "\n",
    "    print(i)\n",
    "    \n",
    "    links.plot_scores_as_rank(cluster=i, n_gene=10, save=save_filtered_links+\"GRN_for_\"+i+\"_pcw16\")"
   ]
  },
  {
   "cell_type": "markdown",
   "id": "54500bec",
   "metadata": {},
   "source": [
    "# Save Oracle object pcw16"
   ]
  },
  {
   "cell_type": "code",
   "execution_count": null,
   "id": "2747194d",
   "metadata": {},
   "outputs": [],
   "source": [
    "oracle.to_hdf5(\"/home/jovyan/jm_jlab/data_indNeuro/1.GRN/tr21_pcw16.celloracle.oracle\")"
   ]
  },
  {
   "cell_type": "raw",
   "id": "868fbd80",
   "metadata": {},
   "source": [
    "\n",
    "\n"
   ]
  }
 ],
 "metadata": {
  "kernelspec": {
   "display_name": "Python 3 (ipykernel)",
   "language": "python",
   "name": "python3"
  },
  "language_info": {
   "codemirror_mode": {
    "name": "ipython",
    "version": 3
   },
   "file_extension": ".py",
   "mimetype": "text/x-python",
   "name": "python",
   "nbconvert_exporter": "python",
   "pygments_lexer": "ipython3",
   "version": "3.8.15"
  }
 },
 "nbformat": 4,
 "nbformat_minor": 5
}
