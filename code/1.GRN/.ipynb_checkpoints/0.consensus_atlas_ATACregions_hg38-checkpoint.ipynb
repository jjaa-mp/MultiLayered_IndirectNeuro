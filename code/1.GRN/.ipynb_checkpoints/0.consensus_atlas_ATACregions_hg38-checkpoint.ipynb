{
 "cells": [
  {
   "cell_type": "markdown",
   "id": "1a22e100-7803-4fa5-b5cd-218747b5597a",
   "metadata": {},
   "source": [
    "# **Consensus atlas of ATAC regions (hg38)** "
   ]
  },
  {
   "cell_type": "code",
   "execution_count": null,
   "id": "aa0fe30e-afb5-4567-a95f-7d39a83781ec",
   "metadata": {},
   "outputs": [],
   "source": [
    "import pandas as pd\n",
    "\n",
    "import numpy as np\n",
    "\n",
    "import seaborn as sns\n",
    "\n",
    "import matplotlib.pyplot as plt\n",
    "\n",
    "import os\n",
    "\n",
    "# pip install gprofiler\n",
    "from gprofiler import gprofiler"
   ]
  },
  {
   "cell_type": "raw",
   "id": "1bfdd45a-e58d-4280-83e6-d8bd588cce3a",
   "metadata": {},
   "source": []
  },
  {
   "cell_type": "markdown",
   "id": "0bef1075-04a7-47b9-8d53-31b04757c738",
   "metadata": {
    "tags": []
   },
   "source": [
    "# **ATAC regulatory regions from human brain primary samples**"
   ]
  },
  {
   "cell_type": "code",
   "execution_count": null,
   "id": "a54c862e-308c-4855-b439-9116a5aa0616",
   "metadata": {},
   "outputs": [],
   "source": [
    "pwd"
   ]
  },
  {
   "cell_type": "code",
   "execution_count": null,
   "id": "db7167d6-42b9-4b22-8cd3-d3765effaf87",
   "metadata": {},
   "outputs": [],
   "source": [
    "!mkdir /home/jovyan/jm_jlab/data_indNeuro/consensus_atlas_ATACregions_hg38/"
   ]
  },
  {
   "cell_type": "code",
   "execution_count": null,
   "id": "e341933e-e4d8-4fa6-9e66-002cc6361e2a",
   "metadata": {},
   "outputs": [],
   "source": [
    "folder = \"/home/jovyan/jm_jlab/data_indNeuro/consensus_atlas_ATACregions_hg38/\""
   ]
  },
  {
   "cell_type": "code",
   "execution_count": null,
   "id": "5f440ae8-4110-40d8-85f3-99c38f21cc9d",
   "metadata": {},
   "outputs": [],
   "source": [
    "cd $folder"
   ]
  },
  {
   "cell_type": "raw",
   "id": "24fef130-068e-4309-afe4-dcc0fff7a795",
   "metadata": {},
   "source": []
  },
  {
   "cell_type": "markdown",
   "id": "d66f2bf0-a711-4eac-bdf6-aa774214dff6",
   "metadata": {},
   "source": [
    "### **Trevino all (hg38)**"
   ]
  },
  {
   "cell_type": "code",
   "execution_count": null,
   "id": "45087741-668f-494d-b45e-0e2d6bb5f5c1",
   "metadata": {},
   "outputs": [],
   "source": [
    "# From GitHub: https://github.com/GreenleafLab/brainchromatin/blob/main/links.txt\n",
    "\n",
    "#Multiome:\n",
    "!wget https://atrev.s3.amazonaws.com/brainchromatin/multiome_atac_consensus_peaks.txt.gz -O tr21multiome.txt.gz\n",
    "\n",
    "#single ATAC-seq\n",
    "!wget https://atrev.s3.amazonaws.com/brainchromatin/atac_consensus_peaks.bed.gz -O tr21atac.bed.gz"
   ]
  },
  {
   "cell_type": "markdown",
   "id": "6d8a3143-f0b7-44ce-8455-f4151d3f3e5d",
   "metadata": {},
   "source": [
    "**Markenscoff-Papadimitriou et al (hg38)**"
   ]
  },
  {
   "cell_type": "code",
   "execution_count": null,
   "id": "04265d24-b048-47c2-a970-7d4e7395dab8",
   "metadata": {},
   "outputs": [],
   "source": [
    "!wget https://ftp.ncbi.nlm.nih.gov/geo/series/GSE149nnn/GSE149268/suppl/GSE149268%5Fannotation%2Docr%2Dhg38%2Ebed%2Egz -O mk20ocr.txt.gz"
   ]
  },
  {
   "cell_type": "markdown",
   "id": "e6f41abf-81ee-408d-85be-4ec43da6a225",
   "metadata": {},
   "source": [
    "**de la Torre-Ubieta et. al (hg19)**"
   ]
  },
  {
   "cell_type": "raw",
   "id": "6f80ea41-e454-42d8-bb15-018dceaa1a1a",
   "metadata": {},
   "source": [
    "n = ~62k\n",
    "The DiffBind (Ross-Innes et al., 2012) package (v1.10.2) was used to find high confidence peaks present in at least 40% of samples. We used a 40% threshold for overlapping peaks across samples as a stringent threshold to define a peak, because each peak identified in this fashion must be present in all donors of a given condition (GZ or CP). This stringent threshold increases confidence that these peaks are reproducible, as each peak must be called multiple times in both technical and biological replicates. When we used lower thresholds ranging from 10%–30% we found the expected decrease in correlation across replicates, further supporting the 40% threshold, which gave maximum confidence, while not requiring the peaks to be present in both GZ and CP, which would be the case if a higher threshold were used. Using our conservative thresholds we identified 62,005 peaks with an average merged peak width of 1188 bp (SD ± 757 bp)"
   ]
  },
  {
   "cell_type": "code",
   "execution_count": null,
   "id": "bfcacec6-53bc-477f-b8ae-fa22c1837504",
   "metadata": {},
   "outputs": [],
   "source": [
    "!wget https://www.cell.com/cms/10.1016/j.cell.2017.12.014/attachment/ec8faf3a-8470-4855-886d-cfb014c48573/mmc1.xlsx -O dT.xlsx"
   ]
  },
  {
   "cell_type": "markdown",
   "id": "bbd7ac71-e106-499c-952c-8918d50b6ae7",
   "metadata": {},
   "source": [
    "**Processing**"
   ]
  },
  {
   "cell_type": "code",
   "execution_count": null,
   "id": "7f20b3f1-9fc3-4be8-aa76-3cda919410f2",
   "metadata": {},
   "outputs": [],
   "source": [
    "ls"
   ]
  },
  {
   "cell_type": "code",
   "execution_count": null,
   "id": "22885b8e-cc45-450b-908d-6b54eab0b028",
   "metadata": {},
   "outputs": [],
   "source": [
    "mk20 = pd.read_csv(\"mk20ocr.txt.gz\", sep='\\t', header=None, compression=\"gzip\")\n",
    "mk20[3] = \"mk20_\"+mk20.index.astype(str)\n",
    "mk20 = mk20[~mk20[0].isin(['chr7_KI270803v1_alt', 'chr8_KI270821v1_alt', 'chr15_KI270850v1_alt', 'chr22_KI270879v1_alt'])]"
   ]
  },
  {
   "cell_type": "code",
   "execution_count": null,
   "id": "a6109ddd-1193-4a81-aca4-75d3a0827f17",
   "metadata": {},
   "outputs": [],
   "source": [
    "#print(mk20.head())\n",
    "print(\"Number of peaks: %d\" %len(mk20))"
   ]
  },
  {
   "cell_type": "code",
   "execution_count": null,
   "id": "8456ca78-c62b-4464-892e-96a3ff086b20",
   "metadata": {},
   "outputs": [],
   "source": [
    "# Downloading hg38 chromosome sizes as required for flankBed\n",
    "!wget https://hgdownload.cse.ucsc.edu/goldenpath/hg38/bigZips/hg38.chrom.sizes"
   ]
  },
  {
   "cell_type": "markdown",
   "id": "6be6670d-ce63-4a9b-9dcb-c7686631d466",
   "metadata": {},
   "source": [
    "**Function for plotting peak count per chromosome and lineplot for chromosome size**"
   ]
  },
  {
   "cell_type": "code",
   "execution_count": null,
   "id": "8fd7a6b5-4fe8-40f7-a200-980e3bca3d86",
   "metadata": {},
   "outputs": [],
   "source": [
    "def peak_count_plot(dataframe):\n",
    "    df_plot = dataframe.iloc[:,0].value_counts().rename_axis('chromosomes').reset_index(name='counts')\n",
    "    df_plot['counts'] = np.log(df_plot['counts'])\n",
    "\n",
    "    chrsizes = pd.read_csv(\"/home/jovyan/jm_jlab/data_indNeuro/consensus_atlas_ATACregions_hg38/hg38.chrom.sizes\", header=None, sep='\\t')\n",
    "\n",
    "    chrsizes.rename(columns={0:\"chromosomes\", 1:\"size\"}, inplace=True)\n",
    "\n",
    "    df_plot = df_plot.merge(chrsizes, how = 'inner', on = ['chromosomes'])\n",
    "    df_plot['size'] = np.log(df_plot['size'])\n",
    "\n",
    "    df_plot['chromosomes'] = df_plot['chromosomes'].str.replace(r'chr', '')\n",
    "    df_plot.sort_values(by=['chromosomes'], inplace=True)\n",
    "    print(df_plot.head())\n",
    "    print(len(df_plot.head()))\n",
    "\n",
    "    chr_list = dataframe.iloc[:,0].value_counts().rename_axis('chromosomes').reset_index(name='counts')['chromosomes'].unique()   \n",
    "    \n",
    "    if len(chr_list) < 22:\n",
    "        raise \"Function was expecting at least 22 chromosomes\"\n",
    "    if 'chrX' and 'chrY' in chr_list:\n",
    "        p1 = sns.barplot(data=df_plot, x=\"chromosomes\", y=\"size\", order=np.arange(1,23).astype(str).tolist()+['X','Y'])\n",
    "        p1.set_xticklabels(p1.get_xticklabels(), rotation=90)\n",
    "    if ('chrX' in chr_list) and ('chrY' not in chr_list):\n",
    "        p1 = sns.barplot(data=df_plot, x=\"chromosomes\", y=\"size\", order=np.arange(1,23).astype(str).tolist()+['X'])\n",
    "        p1.set_xticklabels(p1.get_xticklabels(), rotation=90)\n",
    "    if ('chrY' in chr_list) and ('chrX' not in chr_list):\n",
    "        p1 = sns.barplot(data=df_plot, x=\"chromosomes\", y=\"size\", order=np.arange(1,23).astype(str).tolist()+['Y'])\n",
    "        p1.set_xticklabels(p1.get_xticklabels(), rotation=90)\n",
    "    if ('chrY' not in chr_list) and ('chrX' not in chr_list):\n",
    "        p1 = sns.barplot(data=df_plot, x=\"chromosomes\", y=\"size\", order=np.arange(1,23).astype(str).tolist())\n",
    "        p1.set_xticklabels(p1.get_xticklabels(), rotation=90)\n",
    "        \n",
    "    # get the xtick locations\n",
    "    xticks = p1.get_xticks()\n",
    "\n",
    "    # plot the line to the xtick locs (or df.index)\n",
    "    p2 = sns.lineplot(data=df_plot, x=xticks, y='counts', marker='o', ax=p1)\n",
    "\n",
    "    p1.set(ylabel='log peak count (bar) or log chr size (line)', xlabel='chromosome')\n",
    "    plt.show()\n",
    "      "
   ]
  },
  {
   "cell_type": "code",
   "execution_count": null,
   "id": "4497a9dd-4d53-40f7-b345-729fb3098b53",
   "metadata": {},
   "outputs": [],
   "source": [
    "peak_count_plot(mk20)"
   ]
  },
  {
   "cell_type": "raw",
   "id": "309e1ee7-d227-4515-9d5a-ac92b9d60015",
   "metadata": {},
   "source": []
  },
  {
   "cell_type": "code",
   "execution_count": null,
   "id": "e1296427-82f1-4e26-b0c8-f5aabf9df2a0",
   "metadata": {},
   "outputs": [],
   "source": [
    "tr21singl = pd.read_csv(\"tr21atac.bed.gz\", sep='\\t', header=None, compression='gzip')\n",
    "tr21singl = tr21singl.iloc[:,0:3]\n",
    "tr21singl[3] = \"tr21singleome_\"+tr21singl.index.astype(str)\n",
    "tr21mult = pd.read_csv(\"tr21multiome.txt.gz\", sep='\\t', compression='gzip')\n",
    "tr21mult = tr21mult.iloc[:,0:3]\n",
    "tr21mult['start'] = tr21mult['start']-1 #Must be 0-based\n",
    "tr21mult[3] = \"tr21multiome_\"+tr21mult.index.astype(str)"
   ]
  },
  {
   "cell_type": "code",
   "execution_count": null,
   "id": "cf605c13-3b6d-44ad-b555-a3aa3777e7b4",
   "metadata": {},
   "outputs": [],
   "source": [
    "#print(tr21singl.head())\n",
    "print(\"Number of peaks Trevino singleome: %d\" %len(tr21singl))\n",
    "print(\"\")\n",
    "\n",
    "#print(tr21mult.head())\n",
    "print(\"Number of peaks Trevino multiome: %d\" %len(tr21mult))"
   ]
  },
  {
   "cell_type": "code",
   "execution_count": null,
   "id": "fa7f549d-7074-4450-a635-c92b913fb534",
   "metadata": {},
   "outputs": [],
   "source": [
    "peak_count_plot(tr21singl)"
   ]
  },
  {
   "cell_type": "code",
   "execution_count": null,
   "id": "e5e209b3-e2ae-4143-9e57-26e1c8707efe",
   "metadata": {},
   "outputs": [],
   "source": [
    "peak_count_plot(tr21mult)"
   ]
  },
  {
   "cell_type": "raw",
   "id": "d2b47f3f-84d3-426a-800d-3b2aed297e2d",
   "metadata": {},
   "source": []
  },
  {
   "cell_type": "code",
   "execution_count": null,
   "id": "4ac98b8f-1bc1-4e29-a5a2-9cc92c70bd55",
   "metadata": {},
   "outputs": [],
   "source": [
    "ls"
   ]
  },
  {
   "cell_type": "code",
   "execution_count": null,
   "id": "a98a0991-9229-43f0-b3a8-210024871f12",
   "metadata": {},
   "outputs": [],
   "source": [
    "dT_hg19 = pd.read_excel(\"./dT.xlsx\") #pip install openpyxl\n",
    "print(dT_hg19.head(2))"
   ]
  },
  {
   "cell_type": "code",
   "execution_count": null,
   "id": "fc044b1d-9657-4b2c-8935-fb8cb3126689",
   "metadata": {},
   "outputs": [],
   "source": [
    "dT_hg19 = dT_hg19.iloc[:,0:3]\n",
    "dT_hg19['Chr'] = 'chr'+dT_hg19['Chr'].astype(str)\n",
    "print(dT_hg19.head(2))\n",
    "dT_hg19['peak_name'] = \"dT18_\"+dT_hg19.index.astype(str)\n",
    "print(\"Number of peaks %d\" %len(dT_hg19))"
   ]
  },
  {
   "cell_type": "code",
   "execution_count": null,
   "id": "510becaa-9062-4520-bfc4-4c7964cfeab8",
   "metadata": {},
   "outputs": [],
   "source": [
    "peak_count_plot(dT_hg19) #chromosome size corresponds to hg38 though, just in case to spot weird things"
   ]
  },
  {
   "cell_type": "raw",
   "id": "8c409a36-e032-48eb-927b-dcf61717fb34",
   "metadata": {},
   "source": []
  },
  {
   "cell_type": "markdown",
   "id": "e345bfcf-d161-4d25-aa14-ad6d0a1a9f24",
   "metadata": {},
   "source": [
    "**Saving bed files**"
   ]
  },
  {
   "cell_type": "code",
   "execution_count": null,
   "id": "7ec8a56f-3cfe-48df-8fd0-d774487fe080",
   "metadata": {},
   "outputs": [],
   "source": [
    "tr21singl.to_csv(\"./trS.bed\", sep='\\t', header=None, index=False)\n",
    "tr21mult.to_csv(\"./trM.bed\", sep='\\t', header=None, index=False)\n",
    "mk20.to_csv(\"./mk20.bed\", sep='\\t', header=None, index=False)\n",
    "dT_hg19.to_csv(\"./dT18_hg19.bed\", sep='\\t', header=None, index=False)"
   ]
  },
  {
   "cell_type": "code",
   "execution_count": null,
   "id": "aeb62cd1-e463-4e37-9955-64b5a01ffcb0",
   "metadata": {},
   "outputs": [],
   "source": [
    "for item in ['tr21multiome.txt.gz', 'tr21atac.bed.gz', 'mk20ocr.txt.gz', 'dT.xlsx']:\n",
    "    os.remove(item)"
   ]
  },
  {
   "cell_type": "code",
   "execution_count": null,
   "id": "bdad8b35-5f4a-48e5-8a5a-227af36fd3af",
   "metadata": {},
   "outputs": [],
   "source": [
    "ls"
   ]
  },
  {
   "cell_type": "code",
   "execution_count": null,
   "id": "afe407a5-b69a-4245-8230-2a58d218dd85",
   "metadata": {},
   "outputs": [],
   "source": [
    "!bedtools sort -i trS.bed > trS_sorted.bed"
   ]
  },
  {
   "cell_type": "code",
   "execution_count": null,
   "id": "1097dc1c-8d72-4f57-a387-deecd12eda42",
   "metadata": {},
   "outputs": [],
   "source": [
    "!bedtools sort -i trM.bed > trM_sorted.bed"
   ]
  },
  {
   "cell_type": "code",
   "execution_count": null,
   "id": "81be8141-5c9f-4e59-b0b9-4adab6607f90",
   "metadata": {},
   "outputs": [],
   "source": [
    "!bedtools sort -i mk20.bed > mk_sorted.bed"
   ]
  },
  {
   "cell_type": "code",
   "execution_count": null,
   "id": "2b7f2650-7031-4dbf-b0f0-b277dbc67e05",
   "metadata": {},
   "outputs": [],
   "source": [
    "!bedtools sort -i dT18_hg19.bed > dT18_hg19_sorted.bed"
   ]
  },
  {
   "cell_type": "code",
   "execution_count": null,
   "id": "5742ca13-fc62-47e4-a707-cad6e3b37c8b",
   "metadata": {},
   "outputs": [],
   "source": [
    "for item in ['dT18_hg19.bed',  'mk20.bed',  'trM.bed',  'trS.bed']:\n",
    "    os.remove(item)"
   ]
  },
  {
   "cell_type": "code",
   "execution_count": null,
   "id": "b5d341e9-eb1d-42f1-b306-deed5f8007fe",
   "metadata": {},
   "outputs": [],
   "source": [
    "!cat trS_sorted.bed | wc -l\n",
    "!cat trM_sorted.bed | wc -l\n",
    "!cat mk_sorted.bed | wc -l\n",
    "!cat dT18_hg19_sorted.bed | wc -l"
   ]
  },
  {
   "cell_type": "markdown",
   "id": "f42c9d84-ebe6-4c00-981c-5d2ada463e29",
   "metadata": {},
   "source": [
    "**de la Torre-Ubieta hg19 to hg38**"
   ]
  },
  {
   "cell_type": "raw",
   "id": "c4ace9de-cd7d-4ef9-b49c-4c0735c8c362",
   "metadata": {},
   "source": [
    "conda install -c bioconda ucsc-liftover"
   ]
  },
  {
   "cell_type": "code",
   "execution_count": null,
   "id": "9cf8483c-c4ca-4c28-ad0b-b31524906fb9",
   "metadata": {},
   "outputs": [],
   "source": [
    "!wget https://hgdownload.cse.ucsc.edu/goldenpath/hg19/liftOver/hg19ToHg38.over.chain.gz"
   ]
  },
  {
   "cell_type": "raw",
   "id": "3ac0b255-7525-4b88-beaa-2daee5a34751",
   "metadata": {},
   "source": [
    "#Terminal\n",
    "liftOver dT18_hg19_sorted.bed hg19ToHg38.over.chain.gz dT18_hg38_sorted.bed dT18_unlifted.bed"
   ]
  },
  {
   "cell_type": "code",
   "execution_count": null,
   "id": "ed5151a4-2a2b-4489-84a5-8c5418702aff",
   "metadata": {},
   "outputs": [],
   "source": [
    "!rm dT18_unlifted.bed # wc -l: 48\n",
    "!rm dT18_hg19_sorted.bed"
   ]
  },
  {
   "cell_type": "code",
   "execution_count": null,
   "id": "84d122b8-ae35-4b7c-873f-a3a0905faf1f",
   "metadata": {},
   "outputs": [],
   "source": [
    "ls"
   ]
  },
  {
   "cell_type": "code",
   "execution_count": null,
   "id": "951ccbdb-8bbe-471c-ad9c-73132dc58b72",
   "metadata": {},
   "outputs": [],
   "source": [
    "!intersectBed -wo -filenames -f 0.5 -a trS_sorted.bed -b trM_sorted.bed mk_sorted.bed dT18_hg38_sorted.bed | uniq | head -n 2 "
   ]
  },
  {
   "cell_type": "code",
   "execution_count": null,
   "id": "b010477c-e78c-4531-9250-160e66c00f47",
   "metadata": {},
   "outputs": [],
   "source": [
    "# -wa to show original entries; in this case, Trevino singleome\n",
    "!intersectBed -wa -f 0.5 -a trS_sorted.bed -b trM_sorted.bed mk_sorted.bed dT18_hg38_sorted.bed | uniq | head -n 2"
   ]
  },
  {
   "cell_type": "raw",
   "id": "5d52b570-f9da-480a-80cd-6a1bad6f8d29",
   "metadata": {},
   "source": []
  },
  {
   "cell_type": "code",
   "execution_count": null,
   "id": "0f1a0400-2c0b-4cf2-a506-ec9751477cca",
   "metadata": {},
   "outputs": [],
   "source": [
    "# Saving (hg38). Trevino singleome ATAC contains the higher number of peaks.\n",
    "# These were required to overlap at least 50% with either:\n",
    "# 1) Trevino multiome\n",
    "# 2) Markenscoff-Papadimitriou ATAC\n",
    "# 3) de la Torre-Ubieta\n",
    "!intersectBed -wa -f 0.5 -a trS_sorted.bed -b trM_sorted.bed mk_sorted.bed dT18_hg38_sorted.bed | uniq > trS_intersected_consensus.bed"
   ]
  },
  {
   "cell_type": "markdown",
   "id": "125e2f32-419f-408b-aeb1-9903f3cc5731",
   "metadata": {},
   "source": [
    "**concat X, Y chr signals**"
   ]
  },
  {
   "cell_type": "code",
   "execution_count": null,
   "id": "f2aaedb3-4376-42e6-a7a6-67ee1049daa6",
   "metadata": {},
   "outputs": [],
   "source": [
    "!grep 'chrY\\|chrX' mk_sorted.bed > mk_XY.bed\n",
    "!grep 'chrX' dT18_hg38_sorted.bed > dT18_X.bed"
   ]
  },
  {
   "cell_type": "code",
   "execution_count": null,
   "id": "a00d8677-c4d8-4f23-8d55-852b89814976",
   "metadata": {},
   "outputs": [],
   "source": [
    "!cat mk_XY.bed dT18_X.bed > XY_all.bed\n",
    "!bedtools sort -i XY_all.bed > XY_all_sorted.bed\n",
    "!cat trS_intersected_consensus.bed XY_all_sorted.bed > consensus_signals.bed"
   ]
  },
  {
   "cell_type": "code",
   "execution_count": null,
   "id": "f6176134-96c8-49f6-a512-7f0679be1747",
   "metadata": {},
   "outputs": [],
   "source": [
    "!cat consensus_signals.bed | head -n 10"
   ]
  },
  {
   "cell_type": "code",
   "execution_count": null,
   "id": "49edec02-5374-4e95-8f3c-aa606e9bff7b",
   "metadata": {},
   "outputs": [],
   "source": [
    "!cat consensus_signals.bed | uniq | wc -l"
   ]
  },
  {
   "cell_type": "code",
   "execution_count": null,
   "id": "b1273e13-46b8-487f-84ea-7906b5b8c6aa",
   "metadata": {},
   "outputs": [],
   "source": [
    "!rm *_sorted.bed\n",
    "\n",
    "!rm dT18_X.bed mk_XY.bed trS_intersected_consensus.bed XY_all.bed"
   ]
  },
  {
   "cell_type": "code",
   "execution_count": null,
   "id": "9746ef3e-23f4-4570-84d2-5bfd906a5875",
   "metadata": {},
   "outputs": [],
   "source": [
    "ls"
   ]
  },
  {
   "cell_type": "code",
   "execution_count": null,
   "id": "89d9b0db-174e-4f5d-ba9a-48b3601d495d",
   "metadata": {},
   "outputs": [],
   "source": [
    "#plotting consensus peaks\n",
    "\n",
    "plot1 = pd.read_csv(\"/home/jovyan/jm_jlab/data_CBL/indNeuro_tmp/regulatory_region_data/regulatory_region_results/consensus_signals.bed\", sep='\\t', header=None)"
   ]
  },
  {
   "cell_type": "code",
   "execution_count": null,
   "id": "bd2c88ef-7dfa-4f3e-8359-bc4b47cfd153",
   "metadata": {},
   "outputs": [],
   "source": [
    "peak_count_plot(plot1)"
   ]
  },
  {
   "cell_type": "raw",
   "id": "9a3815de-332f-41c1-91c6-5caab95d9112",
   "metadata": {},
   "source": [
    "\n",
    "\n"
   ]
  },
  {
   "cell_type": "markdown",
   "id": "406cd44e-27f7-47fc-babb-c4b3aa809df4",
   "metadata": {},
   "source": [
    "**consensus_signals.bed to GREAT web server to build base GRN**"
   ]
  },
  {
   "cell_type": "code",
   "execution_count": null,
   "id": "ba4207ab-99f8-4790-a7ca-6df56468157b",
   "metadata": {},
   "outputs": [],
   "source": [
    "!mkdir ./GREAT_results"
   ]
  },
  {
   "cell_type": "markdown",
   "id": "bcf25d04-15d4-422f-bdd2-ad59ec265f3d",
   "metadata": {},
   "source": [
    "Using GREAT default options (version 4.0.4)\n",
    "    \n",
    "    Species Assembly: Human: GRCh38 (UCSC hg38, Dec. 2013)\n",
    "    Test regions: consensus_signals.bed\n",
    "    Background regions: Whole genome\n",
    "    Settings:\n",
    "         Basal plus extension\n",
    "             Proximal: 5 kb upstream, 1 kb downstream, plus Distal: 1000 up to kb\n",
    "         Included curated regulatory domains "
   ]
  },
  {
   "cell_type": "markdown",
   "id": "c0beec50-a209-47a2-a7bb-4652fbc81394",
   "metadata": {},
   "source": [
    "Files saved as:\n",
    "    Genomic region -> gene association table --> consensus_peaks_hg38_GREAT.txt\n",
    "    Gene-genomic region --> consensus_peaks_hg38_GREATallgenes.txt"
   ]
  },
  {
   "cell_type": "raw",
   "id": "c9a569ea-5317-44a8-99b7-c4fd134620b7",
   "metadata": {},
   "source": [
    "\n",
    "\n"
   ]
  },
  {
   "cell_type": "markdown",
   "id": "396b89ed-3329-4a1b-ab35-34158a091083",
   "metadata": {
    "tags": []
   },
   "source": [
    "#### **Regulatory region coordinates from human brain primary samples**\n",
    "\n",
    "#### *Intersecting with Homo species-specific changes*"
   ]
  },
  {
   "cell_type": "markdown",
   "id": "4072d2dc-2282-4ea0-a8ae-9ba7b9e23f0d",
   "metadata": {},
   "source": [
    "**(1) Replicated signals that contain Homo sapiens-derived changes**"
   ]
  },
  {
   "cell_type": "code",
   "execution_count": null,
   "id": "7d6a6773-94cd-4554-ac15-2a03c56d1325",
   "metadata": {},
   "outputs": [],
   "source": [
    "pwd"
   ]
  },
  {
   "cell_type": "code",
   "execution_count": null,
   "id": "2dea0412-088a-4250-a49f-bbcec58ffc4e",
   "metadata": {},
   "outputs": [],
   "source": [
    "# From Kulhwilm and Boeckx (2019)\n",
    "## Na_arcHFcoords_hg38.bed\n",
    "## Na_high_freq_hg38.bed\n",
    "\n",
    "!intersectBed -a /home/jovyan/jm_jlab/martinboeckx_to_hg38/Na_high_freq_hg38.bed -b consensus_signals.bed -wo -f 1 | uniq | wc -l"
   ]
  },
  {
   "cell_type": "code",
   "execution_count": null,
   "id": "4c37c495-fe19-4f29-8e1c-4c512cd789b9",
   "metadata": {},
   "outputs": [],
   "source": [
    "!intersectBed -a /home/jovyan/jm_jlab/martinboeckx_to_hg38/Na_high_freq_hg38.bed -b consensus_signals.bed -wo -f 1 > consensus_signals_w_homosapiensSNV.bed"
   ]
  },
  {
   "cell_type": "code",
   "execution_count": null,
   "id": "8cf0adef-720e-4605-a097-7e65c896df95",
   "metadata": {},
   "outputs": [],
   "source": [
    "!cat ./consensus_signals_w_homosapiensSNV.bed | head -n 2 # For enrichment too"
   ]
  },
  {
   "cell_type": "code",
   "execution_count": null,
   "id": "6fec555c-50db-4414-8244-7dc230319e9b",
   "metadata": {},
   "outputs": [],
   "source": [
    "ls"
   ]
  },
  {
   "cell_type": "markdown",
   "id": "5fdbf716-23cc-4d80-ab4c-047e75c95100",
   "metadata": {},
   "source": [
    "**(2) Extending to 3k bp around variants**"
   ]
  },
  {
   "cell_type": "raw",
   "id": "f269572f-9d21-42bf-b5d2-c519149ca4a9",
   "metadata": {},
   "source": [
    "!cat consensus_signals_w_homosapiensSNV.bed | head -n 2"
   ]
  },
  {
   "cell_type": "raw",
   "id": "e0bdcc3e-d824-4fb0-949c-615bed849aad",
   "metadata": {},
   "source": [
    "!cat hg38.chrom.sizes | head"
   ]
  },
  {
   "cell_type": "code",
   "execution_count": null,
   "id": "8f33616b-4ac8-4012-a165-bee2ed43789c",
   "metadata": {},
   "outputs": [],
   "source": [
    "# consensus_signals_w_homosapiensSNV.bed\n",
    "# (i) awk: Selecting first four columns (chr, start, end, rsID) and write tmp file as tab-delimited\n",
    "# (ii) Extending 3000bp around using flankBed (it requires chromosomes' size info)\n",
    "## If there are two SNPs close enough, the resulting island will be higher than 3000bp\n",
    "\n",
    "!cat consensus_signals_w_homosapiensSNV.bed | uniq | awk 'BEGIN {OFS=\"\\t\"}; { print $1, $2, $3, $4 }' > tmp_consensus_signals_w_homosapiensSNV.bed\n",
    "!flankBed -i tmp_consensus_signals_w_homosapiensSNV.bed -g hg38.chrom.sizes -b 1500 > tmp2_consensus_signals_w_homosapiensSNV.bed\n",
    "\n",
    "!rm tmp_consensus_signals_w_homosapiensSNV.bed\n",
    "\n",
    "!sortBed -i tmp2_consensus_signals_w_homosapiensSNV.bed > tmp2_consensus_signals_w_homosapiensSNV_sorted.bed\n",
    "\n",
    "!mergeBed -i tmp2_consensus_signals_w_homosapiensSNV_sorted.bed -d 1 > extended_consensus_w_homosapiensSNV_sorted.bed\n",
    "\n",
    "## Calculate length each interval:\n",
    "## !mergeBed -i tmp2_consensus_signals_w_homosapiensSNV_sorted.bed -d 1 | awk '{print($3-$2)}' | head\n",
    "\n",
    "!rm tmp2_consensus_signals_w_homosapiensSNV.bed tmp2_consensus_signals_w_homosapiensSNV_sorted.bed"
   ]
  },
  {
   "cell_type": "code",
   "execution_count": null,
   "id": "5d67a3d4-cd07-4565-9f3c-92ea103a18fe",
   "metadata": {},
   "outputs": [],
   "source": [
    "!cat extended_consensus_w_homosapiensSNV_sorted.bed | head -n 2"
   ]
  },
  {
   "cell_type": "code",
   "execution_count": null,
   "id": "55223f1b-54f7-4047-98d9-26938743227f",
   "metadata": {},
   "outputs": [],
   "source": [
    "!cat extended_consensus_w_homosapiensSNV_sorted.bed | wc -l"
   ]
  },
  {
   "cell_type": "markdown",
   "id": "e07c06cb-74c1-4323-8e46-96f19a7b372b",
   "metadata": {},
   "source": [
    "**(3) Excluding windows that contained Neanderthal/Denisovan variants: Homo sapiens-specific islands**"
   ]
  },
  {
   "cell_type": "code",
   "execution_count": null,
   "id": "74ed357e-e348-4d81-946b-0ebdd11ac5fe",
   "metadata": {},
   "outputs": [],
   "source": [
    "# islands with Homo sapiens-derived variants\n",
    "!intersectBed -wo -v -a extended_consensus_w_homosapiensSNV_sorted.bed -b /home/jovyan/jm_jlab/martinboeckx_to_hg38/Na_arcHFcoords_hg38.bed | wc -l"
   ]
  },
  {
   "cell_type": "code",
   "execution_count": null,
   "id": "daced5b9-7e13-4347-b3ee-3721e8de471f",
   "metadata": {},
   "outputs": [],
   "source": [
    "!intersectBed -wo -v -a extended_consensus_w_homosapiensSNV_sorted.bed -b /home/jovyan/jm_jlab/martinboeckx_to_hg38/Na_arcHFcoords_hg38.bed | head -n 2"
   ]
  },
  {
   "cell_type": "code",
   "execution_count": null,
   "id": "ab4c1531-6059-4187-a75d-8d3adfd35ada",
   "metadata": {},
   "outputs": [],
   "source": [
    "!intersectBed -wo -v -a extended_consensus_w_homosapiensSNV_sorted.bed -b /home/jovyan/jm_jlab/martinboeckx_to_hg38/Na_arcHFcoords_hg38.bed > islands_HomoSapiens.bed"
   ]
  },
  {
   "cell_type": "code",
   "execution_count": null,
   "id": "0a66cc65-5a48-48f9-a2a0-831446e271e8",
   "metadata": {},
   "outputs": [],
   "source": [
    "!cat islands_HomoSapiens.bed | head"
   ]
  },
  {
   "cell_type": "code",
   "execution_count": null,
   "id": "defb4fd5-3052-45b6-b961-f446ce11bdf6",
   "metadata": {},
   "outputs": [],
   "source": [
    "!cat islands_HomoSapiens.bed | wc -l"
   ]
  },
  {
   "cell_type": "code",
   "execution_count": null,
   "id": "6bab42f9-639b-4045-bb80-7024d72904ee",
   "metadata": {},
   "outputs": [],
   "source": [
    "ls"
   ]
  },
  {
   "cell_type": "code",
   "execution_count": null,
   "id": "a9fddd53-d13e-46e5-8b23-668b9bc2b773",
   "metadata": {},
   "outputs": [],
   "source": [
    "# Add SNV position to the islands\n",
    "!intersectBed -wo -a /home/jovyan/jm_jlab/martinboeckx_to_hg38/Na_high_freq_hg38.bed -b islands_HomoSapiens.bed | uniq > islands_HomoSapiens_SNVpos.bed"
   ]
  },
  {
   "cell_type": "code",
   "execution_count": null,
   "id": "88995a38-c505-42b1-a0c9-c98e59a2ca14",
   "metadata": {},
   "outputs": [],
   "source": [
    "# Add SNV position to the islands\n",
    "!intersectBed -wo -v -b /home/jovyan/jm_jlab/martinboeckx_to_hg38/Na_high_freq_hg38.bed -a islands_HomoSapiens.bed | wc -l #as expected"
   ]
  },
  {
   "cell_type": "raw",
   "id": "a880f96c-14a0-4071-9352-e7595be8b50f",
   "metadata": {},
   "source": []
  },
  {
   "cell_type": "code",
   "execution_count": null,
   "id": "1f6dfbe3-00f3-4f0e-8ab4-f4f855990d0c",
   "metadata": {},
   "outputs": [],
   "source": [
    "# extended regions that *do* contain Neanderthal/Denisovan variants\n",
    "!cat islands_HomoSapiens.bed | uniq | wc -l"
   ]
  },
  {
   "cell_type": "code",
   "execution_count": null,
   "id": "29826af2-274f-4bcf-92d8-5016b18128f6",
   "metadata": {},
   "outputs": [],
   "source": [
    "# extended regions that *do* contain Neanderthal/Denisovan variants\n",
    "!cat islands_HomoSapiens.bed | uniq | head -n 2"
   ]
  },
  {
   "cell_type": "code",
   "execution_count": null,
   "id": "bedc8594-7e6b-448b-a7db-64f992e687ce",
   "metadata": {},
   "outputs": [],
   "source": [
    "!awk '{print  $0 \"\\t region_\" NR }' islands_HomoSapiens.bed > uniqID_islands_HomoSapiens.bed"
   ]
  },
  {
   "cell_type": "code",
   "execution_count": null,
   "id": "17099fa1-3e3a-40ca-8c57-b6575db8fdb4",
   "metadata": {},
   "outputs": [],
   "source": [
    "!cat uniqID_islands_HomoSapiens.bed | head -n 2"
   ]
  },
  {
   "cell_type": "code",
   "execution_count": null,
   "id": "97fc2760-93db-46ec-9285-b5f7b195599c",
   "metadata": {},
   "outputs": [],
   "source": [
    "!cat uniqID_islands_HomoSapiens.bed | wc -l "
   ]
  },
  {
   "cell_type": "markdown",
   "id": "d627780b-0497-4d0c-9e4f-b88f9a650764",
   "metadata": {},
   "source": [
    "# **Regulatory region-gene association via Genomic Regions Enrichment of Annotations Tool (GREAT)**"
   ]
  },
  {
   "cell_type": "raw",
   "id": "0eed61f1-a8a9-4f9f-83b2-84738ca719f5",
   "metadata": {},
   "source": [
    "uniqID_islands_HomoSapiens.bed Input for GREAT"
   ]
  },
  {
   "cell_type": "code",
   "execution_count": null,
   "id": "aa7639fa-b123-45a4-8b05-c9ab6457f80d",
   "metadata": {},
   "outputs": [],
   "source": [
    "!gzip /home/jovyan/jm_jlab/data_CBL/indNeuro_tmp/regulatory_region_data/regulatory_region_results/20221104-public-4.0.4-Qvpddd-hg38-all-region.txt"
   ]
  },
  {
   "cell_type": "code",
   "execution_count": null,
   "id": "50f2694c-ff37-44b7-b3a7-c2988c738d15",
   "metadata": {},
   "outputs": [],
   "source": [
    "!mkdir enrichment_results"
   ]
  },
  {
   "cell_type": "code",
   "execution_count": null,
   "id": "ee457c96-4383-44e8-8ae9-5a4e9bcbe773",
   "metadata": {},
   "outputs": [],
   "source": [
    "#Output from GREAT (hg38): 20221029-public-4.0.4-lQ7Q3G-hg38-all-region\n",
    "\n",
    "great_output  = pd.read_csv(\"./20221104-public-4.0.4-Qvpddd-hg38-all-region.txt.gz\", sep='\\t', compression='gzip')"
   ]
  },
  {
   "cell_type": "code",
   "execution_count": null,
   "id": "876bd70d-d63c-4825-bd04-9a33e4f6d0a4",
   "metadata": {},
   "outputs": [],
   "source": [
    "great_output.head()"
   ]
  },
  {
   "cell_type": "code",
   "execution_count": null,
   "id": "51d9ba55-2724-45f3-a6a6-821ba9eedfd7",
   "metadata": {},
   "outputs": [],
   "source": [
    "great_output = great_output.iloc[:,0:2]\n",
    "great_output.rename(columns={'# GREAT version 4.0.4':\"peak_name\", 'Species assembly: hg38':'gene_name'}, inplace=True)"
   ]
  },
  {
   "cell_type": "code",
   "execution_count": null,
   "id": "d3f36728-ee74-4dda-9e63-aaa785f2cd5c",
   "metadata": {},
   "outputs": [],
   "source": [
    "len(great_output)"
   ]
  },
  {
   "cell_type": "code",
   "execution_count": null,
   "id": "8bbacf1c-f5e9-4a6e-9275-5a6f8b62b558",
   "metadata": {},
   "outputs": [],
   "source": [
    "great_output['gene_name'] = great_output['gene_name'].str.replace(r\"\\(.*?\\)\", \"\", regex=True).str.strip().str.split(\" , \")\n",
    "\n",
    "great_output = great_output.explode('gene_name')\n",
    "\n",
    "great_output = great_output[great_output[\"gene_name\"].str.contains(\"NONE\")==False]"
   ]
  },
  {
   "cell_type": "code",
   "execution_count": null,
   "id": "6cf92685-0093-4f4e-83c0-9a4f5f45e775",
   "metadata": {},
   "outputs": [],
   "source": [
    "great_output.head(2)"
   ]
  },
  {
   "cell_type": "code",
   "execution_count": null,
   "id": "01d84014-6fff-4419-80d7-cb60bcfb349b",
   "metadata": {},
   "outputs": [],
   "source": [
    "print(\"Number of genes associated to Homo sapiens regulatory islands: %d\" %len(great_output['gene_name'].unique()))"
   ]
  },
  {
   "cell_type": "code",
   "execution_count": null,
   "id": "63913421-bbd1-4a8e-a937-bd89980d40ac",
   "metadata": {},
   "outputs": [],
   "source": [
    "pd.DataFrame(great_output['gene_name'].unique(), columns=[\"gene_names\"]).to_csv(\"./enrichment_results/uniqID_islands_HomoSapiens_genenames.tsv\", sep='\\t', index=False)"
   ]
  },
  {
   "cell_type": "code",
   "execution_count": null,
   "id": "f71785ea-729d-4b05-ae56-827bd84d2ac4",
   "metadata": {},
   "outputs": [],
   "source": [
    "pd.DataFrame(great_output['gene_name'].unique(), \n",
    "             columns=[\"gene_names\"]).to_csv(\"/home/jovyan/jm_jlab/CBL_data/indirectNeurogenesis/regulatory_islands/uniqID_islands_HomoSapiens_genenames.tsv\", sep='\\t', index=False)"
   ]
  },
  {
   "cell_type": "code",
   "execution_count": null,
   "id": "cf5c9a82-32f7-4238-b881-33afd6b29df7",
   "metadata": {},
   "outputs": [],
   "source": [
    "enrichment = gprofiler(great_output['gene_name'].unique(), organism='hsapiens')"
   ]
  },
  {
   "cell_type": "code",
   "execution_count": null,
   "id": "0adcf96e-3c9b-4406-92d8-577ba57b6efb",
   "metadata": {},
   "outputs": [],
   "source": [
    "enrichment.to_csv(\"./enrichment_results/uniqID_islands_HomoSapiens_enrichment.tsv\", index=False, sep='\\t')"
   ]
  },
  {
   "cell_type": "code",
   "execution_count": null,
   "id": "b4776876-dde5-4abd-9ca2-50ca699f298e",
   "metadata": {},
   "outputs": [],
   "source": [
    "enrichment.to_csv(\"/home/jovyan/jm_jlab/CBL_data/indirectNeurogenesis/regulatory_islands/uniqID_islands_HomoSapiens_enrichment.tsv\", index=False, sep='\\t')"
   ]
  },
  {
   "cell_type": "raw",
   "id": "a65de64f-5300-4eea-bfc8-bcc04a7b17a9",
   "metadata": {},
   "source": [
    "enrichment.sort_values('p.value').groupby('domain').head(5)"
   ]
  },
  {
   "cell_type": "raw",
   "id": "0d6fe739-d2f6-4d95-a447-3a9a671e0e16",
   "metadata": {},
   "source": [
    "enrichment[(enrichment['domain'] == 'BP')].sort_values('p.value').groupby('domain').head(5)"
   ]
  },
  {
   "cell_type": "code",
   "execution_count": null,
   "id": "08f6298b-8c5f-48d8-83d6-42a010175559",
   "metadata": {},
   "outputs": [],
   "source": [
    "for i in pd.DataFrame(enrichment['domain'].value_counts()).index:\n",
    "    print(\"Module: %s - Top results\" %i)\n",
    "    print(\"\")\n",
    "    print(enrichment[(enrichment['domain'] == i)].sort_values('p.value').groupby('domain').head(5)['term.name'])\n",
    "    print(\"\")\n"
   ]
  },
  {
   "cell_type": "raw",
   "id": "0a32d6ea-194f-45b5-a298-c433b89a2b22",
   "metadata": {},
   "source": []
  },
  {
   "cell_type": "markdown",
   "id": "ba9082d4-f9c8-4853-aefe-a89ae8fef3d7",
   "metadata": {},
   "source": [
    "# Dataframes"
   ]
  },
  {
   "cell_type": "raw",
   "id": "b5775469-6d31-4187-8f46-4b0ff3aafb3a",
   "metadata": {},
   "source": []
  },
  {
   "cell_type": "markdown",
   "id": "60ba4b1e-b7f1-405b-9d7a-a0aac2941376",
   "metadata": {},
   "source": [
    "**Islands Homo sapiens**"
   ]
  },
  {
   "cell_type": "code",
   "execution_count": null,
   "id": "c09f8f61-a709-487f-8614-e2395b2ebf4e",
   "metadata": {},
   "outputs": [],
   "source": [
    "df = pd.read_csv(\"islands_HomoSapiens_SNVpos.bed\", sep='\\t', header=None)"
   ]
  },
  {
   "cell_type": "code",
   "execution_count": null,
   "id": "1481e7f1-5b91-4457-8000-fed6a773dade",
   "metadata": {},
   "outputs": [],
   "source": [
    "df[7] = df[4]+\"_\"+df[5].astype(str)+\"_\"+df[6].astype(str)"
   ]
  },
  {
   "cell_type": "code",
   "execution_count": null,
   "id": "828f067e-b952-4b29-bb6f-bcbcbf43e30b",
   "metadata": {},
   "outputs": [],
   "source": [
    "df.rename(columns={0:'chr',1:'SNV_start',2:'SNV_end',3:'rsID',4:'Chr',5:'region_start',6:'region_end', 7:'POS_region'},inplace=True)"
   ]
  },
  {
   "cell_type": "code",
   "execution_count": null,
   "id": "394655ba-8fce-429f-9240-5679511af263",
   "metadata": {},
   "outputs": [],
   "source": [
    "df.head(5)"
   ]
  },
  {
   "cell_type": "code",
   "execution_count": null,
   "id": "24a9eadd-5b9a-4001-85a0-6a965c2c02cf",
   "metadata": {},
   "outputs": [],
   "source": [
    "len(df)"
   ]
  },
  {
   "cell_type": "markdown",
   "id": "f6a79627-7d34-46d4-8b51-6cdfc50d7ca7",
   "metadata": {},
   "source": [
    "**Islands Homo sapiens**"
   ]
  },
  {
   "cell_type": "code",
   "execution_count": null,
   "id": "71852813-f460-4d60-86eb-57c45647ace6",
   "metadata": {},
   "outputs": [],
   "source": [
    "island = pd.read_csv(\"uniqID_islands_HomoSapiens.bed\", sep='\\t', header=None)"
   ]
  },
  {
   "cell_type": "code",
   "execution_count": null,
   "id": "e5761da4-6412-4f25-b513-570da7f727b2",
   "metadata": {},
   "outputs": [],
   "source": [
    "island[4] = island[0]+\"_\"+island[1].astype(str)+\"_\"+island[2].astype(str)"
   ]
  },
  {
   "cell_type": "code",
   "execution_count": null,
   "id": "83ac94ae-04d5-4390-b748-9703998b77e0",
   "metadata": {},
   "outputs": [],
   "source": [
    "island.head(2)"
   ]
  },
  {
   "cell_type": "code",
   "execution_count": null,
   "id": "c5b92283-c54b-4815-b52e-38a742e28929",
   "metadata": {},
   "outputs": [],
   "source": [
    "len(island)"
   ]
  },
  {
   "cell_type": "code",
   "execution_count": null,
   "id": "3153e2a6-d1ba-4b8d-9754-b77c41329bec",
   "metadata": {},
   "outputs": [],
   "source": [
    "island.rename(columns={0:'chr',1:'region_start',2:'region_end',3:'region_ID', 4:'POS_region'},inplace=True)"
   ]
  },
  {
   "cell_type": "code",
   "execution_count": null,
   "id": "715e1821-9ded-409a-82b4-cbc6b8ac3a86",
   "metadata": {},
   "outputs": [],
   "source": [
    "df = island.merge(df, how = 'inner', on = ['POS_region','chr', 'region_start', 'region_end'])"
   ]
  },
  {
   "cell_type": "code",
   "execution_count": null,
   "id": "4b58251f-68e1-4af2-9000-46bf2a4dabe5",
   "metadata": {},
   "outputs": [],
   "source": [
    "df = df.loc[:, df.columns != 'Chr']"
   ]
  },
  {
   "cell_type": "code",
   "execution_count": null,
   "id": "dcb6fbe0-66ad-4982-bedf-fcf5b6984a4f",
   "metadata": {},
   "outputs": [],
   "source": [
    "df.rename(columns={'region_start':\"island_start\", 'region_end':\"island_end\", \"POS_region\":\"POS_island\", \"region_ID\":\"island_ID\"}, inplace=True) #for consistency"
   ]
  },
  {
   "cell_type": "code",
   "execution_count": null,
   "id": "84a25af8-7962-4b3b-9cdb-6eac4c248567",
   "metadata": {},
   "outputs": [],
   "source": [
    "df.head(2)"
   ]
  },
  {
   "cell_type": "raw",
   "id": "f68361f9-b8af-4642-9ab7-7aeca4efdbe5",
   "metadata": {},
   "source": []
  },
  {
   "cell_type": "markdown",
   "id": "c735c29b-7153-450d-b9ff-c3b7c276137f",
   "metadata": {},
   "source": [
    "**Assigning gene names to each region** (based on GREAT result)"
   ]
  },
  {
   "cell_type": "code",
   "execution_count": null,
   "id": "7f704a9b-409b-411e-b88a-52f6bf4d9e0b",
   "metadata": {},
   "outputs": [],
   "source": [
    "great_res  = pd.read_csv(\"./20221104-public-4.0.4-Qvpddd-hg38-all-region.txt.gz\", sep='\\t', compression='gzip')\n",
    "\n",
    "great_res = great_res.iloc[:,0:2]\n",
    "\n",
    "great_res.rename(columns={'# GREAT version 4.0.4':\"island_ID\", 'Species assembly: hg38':'gene_name'}, inplace=True)\n",
    "\n",
    "\n",
    "len(great_res)"
   ]
  },
  {
   "cell_type": "code",
   "execution_count": null,
   "id": "211154b5-4f14-4d7a-92be-7c38e6c94bdf",
   "metadata": {},
   "outputs": [],
   "source": [
    "len(great_res)-great_res['gene_name'].value_counts()[0] #without NONE"
   ]
  },
  {
   "cell_type": "raw",
   "id": "1fac065b-e0f0-49f8-bdc5-8ba6c134fea5",
   "metadata": {},
   "source": []
  },
  {
   "cell_type": "code",
   "execution_count": null,
   "id": "1ade624d-a8ec-4f43-8935-9f8496aff6ae",
   "metadata": {},
   "outputs": [],
   "source": [
    "#Output from GREAT (hg38): 20221029-public-4.0.4-lQ7Q3G-hg38-all-region\n",
    "great_res  = pd.read_csv(\"./20221104-public-4.0.4-Qvpddd-hg38-all-region.txt.gz\", sep='\\t', compression='gzip')\n",
    "\n",
    "great_res = great_res.iloc[:,0:2]\n",
    "great_res.rename(columns={'# GREAT version 4.0.4':\"peak_name\", 'Species assembly: hg38':'gene_name'}, inplace=True)\n",
    "\n",
    "great_res['gene_name'] = great_res['gene_name'].str.replace(r\"\\(.*?\\)\", \"\", regex=True).str.strip().str.split(\" , \")\n",
    "\n",
    "\n",
    "great_res = great_res.explode('gene_name')\n",
    "\n",
    "great_res = great_res[great_res[\"gene_name\"].str.contains(\"NONE\")==False]\n",
    "\n",
    "great_res = great_res.groupby(['peak_name'], as_index=False).agg(', '.join)\n",
    "\n",
    "great_res.rename(columns={'peak_name':'island_ID'}, inplace=True)"
   ]
  },
  {
   "cell_type": "code",
   "execution_count": null,
   "id": "95edf607-7d48-4f5f-bde2-27875309f267",
   "metadata": {},
   "outputs": [],
   "source": [
    "great_res.head(2)"
   ]
  },
  {
   "cell_type": "code",
   "execution_count": null,
   "id": "2852ffe1-185a-4bd9-a5f8-082515259cf8",
   "metadata": {},
   "outputs": [],
   "source": [
    "len(great_res) #PANDAS PROCESSING DID WORK WELL"
   ]
  },
  {
   "cell_type": "code",
   "execution_count": null,
   "id": "f68a4540-1793-4b55-8cdf-eadd5c66f736",
   "metadata": {},
   "outputs": [],
   "source": [
    "!cat uniqID_islands_HomoSapiens.bed | head -n 2"
   ]
  },
  {
   "cell_type": "code",
   "execution_count": null,
   "id": "b57a5489-8a58-460e-9f83-aa41e30bced8",
   "metadata": {},
   "outputs": [],
   "source": [
    "uniqID = pd.read_csv(\"./uniqID_islands_HomoSapiens.bed\", header=None, sep='\\t') #input GREAT\n",
    "\n",
    "\n",
    "\n",
    "uniqID[4] = uniqID[0]+\"_\"+uniqID[1].astype(str)+\"_\"+uniqID[2].astype(str)\n",
    "uniqID.rename(columns={0:'chr',1:'island_start',2:'island_end',3:'island_ID', 4:'POS_island'},inplace=True)\n",
    "\n",
    "uniqID.head(2)"
   ]
  },
  {
   "cell_type": "code",
   "execution_count": null,
   "id": "a2f6f9b7-f352-4ed7-b884-831e446d4b7d",
   "metadata": {},
   "outputs": [],
   "source": [
    "len(uniqID)"
   ]
  },
  {
   "cell_type": "code",
   "execution_count": null,
   "id": "a09cf687-248c-4128-9756-f83c6d878667",
   "metadata": {},
   "outputs": [],
   "source": [
    "great_res['island_ID'][0]"
   ]
  },
  {
   "cell_type": "code",
   "execution_count": null,
   "id": "37694495-9f2a-4822-aff0-ac3739055bbd",
   "metadata": {},
   "outputs": [],
   "source": [
    "uniqID['island_ID'][0]"
   ]
  },
  {
   "cell_type": "code",
   "execution_count": null,
   "id": "e685f8c9-12e2-4dba-8f9e-73013bfe9f87",
   "metadata": {},
   "outputs": [],
   "source": [
    "uniqID['island_ID'] = uniqID['island_ID'].str.strip()"
   ]
  },
  {
   "cell_type": "code",
   "execution_count": null,
   "id": "1b05d34f-8e9d-478b-b1a8-1131b630674d",
   "metadata": {},
   "outputs": [],
   "source": [
    "df_great = uniqID.merge(great_res, how = 'outer', on = ['island_ID'])"
   ]
  },
  {
   "cell_type": "code",
   "execution_count": null,
   "id": "e2d0f922-615c-46c0-b935-265b209aebfc",
   "metadata": {},
   "outputs": [],
   "source": [
    "df_great.head(2)"
   ]
  },
  {
   "cell_type": "code",
   "execution_count": null,
   "id": "ac33e007-e559-4179-b07f-e0ac062a55fe",
   "metadata": {},
   "outputs": [],
   "source": [
    "df['island_ID'] = df['island_ID'].str.strip()"
   ]
  },
  {
   "cell_type": "code",
   "execution_count": null,
   "id": "5ee0cece-44a3-488c-a215-7b427e4937b7",
   "metadata": {},
   "outputs": [],
   "source": [
    "df_great.columns[:-1].to_list()"
   ]
  },
  {
   "cell_type": "code",
   "execution_count": null,
   "id": "1057f760-8579-49a3-aa74-9f6b8513a035",
   "metadata": {},
   "outputs": [],
   "source": [
    "df_final = df.merge(df_great, how = 'outer', on = df_great.columns[:-1].to_list())"
   ]
  },
  {
   "cell_type": "code",
   "execution_count": null,
   "id": "5db582ce-747f-47b8-850f-2180f3f211ab",
   "metadata": {},
   "outputs": [],
   "source": [
    "df_final.to_csv(\"hg38_regulatory_islands_genenames.tsv\", sep='\\t', index=False)"
   ]
  },
  {
   "cell_type": "code",
   "execution_count": null,
   "id": "227f9418-f038-4007-bfa2-92eb65981b77",
   "metadata": {},
   "outputs": [],
   "source": [
    "df_final.to_csv(\"/home/jovyan/jm_jlab/CBL_data/indirectNeurogenesis/regulatory_islands/hg38_regulatory_islands_genenames.tsv\", sep='\\t', index=False)"
   ]
  },
  {
   "cell_type": "code",
   "execution_count": null,
   "id": "73464739-be72-4d03-81b9-19ce1eaca62e",
   "metadata": {},
   "outputs": [],
   "source": []
  },
  {
   "cell_type": "markdown",
   "id": "39633aae-eb43-4202-ae05-bf5c5bdb4005",
   "metadata": {},
   "source": [
    "**For intersections**"
   ]
  },
  {
   "cell_type": "code",
   "execution_count": null,
   "id": "85a14ffa-29ae-4932-96d6-8666a58e464f",
   "metadata": {},
   "outputs": [],
   "source": [
    "pwd"
   ]
  },
  {
   "cell_type": "code",
   "execution_count": null,
   "id": "b3fe47c5-28a7-43a1-b010-af1ea8b2ff37",
   "metadata": {},
   "outputs": [],
   "source": [
    "!mkdir intersections_hg38"
   ]
  },
  {
   "cell_type": "code",
   "execution_count": null,
   "id": "9c16d762-d853-441d-a5a5-5576c9cd4918",
   "metadata": {},
   "outputs": [],
   "source": [
    "df_final.to_csv(\"./intersections_hg38/hg38_regulatory_islands.bed\", sep='\\t', header=None, index=False)"
   ]
  },
  {
   "cell_type": "code",
   "execution_count": null,
   "id": "cca008b9-b46c-4b7d-8628-dc6b589c9cda",
   "metadata": {},
   "outputs": [],
   "source": [
    "!cat ./intersections_hg38/hg38_regulatory_islands.bed | head -n 2"
   ]
  },
  {
   "cell_type": "raw",
   "id": "7612546c-fda7-49f2-b8b1-2c080bbdf1c2",
   "metadata": {},
   "source": []
  },
  {
   "cell_type": "code",
   "execution_count": null,
   "id": "588923c3-6279-493c-bbd0-192239e40aae",
   "metadata": {},
   "outputs": [],
   "source": []
  },
  {
   "cell_type": "markdown",
   "id": "5c263c67-8d53-4cd0-a3f8-80fca476691a",
   "metadata": {
    "tags": []
   },
   "source": [
    "# Regulatory islands to hg19"
   ]
  },
  {
   "cell_type": "code",
   "execution_count": null,
   "id": "7300af2d-2d58-49cd-ad77-f7b887ec3610",
   "metadata": {},
   "outputs": [],
   "source": [
    "!mkdir hg38_to_hg19"
   ]
  },
  {
   "cell_type": "code",
   "execution_count": null,
   "id": "01ad0f51-bc27-4011-b24e-f4b9b64c4d07",
   "metadata": {},
   "outputs": [],
   "source": [
    "!wget --timestamping 'ftp://hgdownload.soe.ucsc.edu/goldenPath/hg38/liftOver/hg38ToHg19.over.chain.gz' -O /home/jovyan/jm_jlab/data_CBL/indNeuro_tmp/regulatory_region_data/hg38_to_hg19/hg38ToHg19.over.chain.gz"
   ]
  },
  {
   "cell_type": "code",
   "execution_count": null,
   "id": "8f499dc9-e629-4b07-b7de-8e4f13c94059",
   "metadata": {},
   "outputs": [],
   "source": []
  },
  {
   "cell_type": "raw",
   "id": "f600e50f-a711-4608-85b7-cb48cd9485a7",
   "metadata": {},
   "source": [
    "liftOver ./regulatory_region_results/uniqID_islands_HomoSapiens.bed ./hg38_to_hg19/hg38ToHg19.over.chain.gz hg19_uniqID_islands_HomoSapiens.bed hg19_uniqID_islands_HomoSapiens_unlifted.bed"
   ]
  },
  {
   "cell_type": "code",
   "execution_count": null,
   "id": "91b5de94-fd20-44c6-9e79-fd430a2ab618",
   "metadata": {},
   "outputs": [],
   "source": [
    "!cat ./regulatory_region_results/hg38_regulatory_islands_genenames.tsv | awk 'BEGIN {OFS=\"\\t\"} { print $1,$6,$7,$8 }' > ./regulatory_region_results/hg38_regulatory_islands_SNVs.bed"
   ]
  },
  {
   "cell_type": "code",
   "execution_count": null,
   "id": "54516a3d-1add-405c-8cbd-d042b44e6602",
   "metadata": {},
   "outputs": [],
   "source": [
    "!cat ./regulatory_region_results/hg38_regulatory_islands_SNVs.bed | awk 'NR>2 {print last} {last=$0}' > ./regulatory_region_results/hg38_regulatory_islands_SNVs_woHeader.bed"
   ]
  },
  {
   "cell_type": "raw",
   "id": "6f02d034-5450-48d3-b675-58b7965e27d6",
   "metadata": {},
   "source": [
    "liftOver ./regulatory_region_results/hg38_regulatory_islands_SNVs_woHeader.bed ./hg38_to_hg19/hg38ToHg19.over.chain.gz hg19_regulatory_islands_SNVs.bed hg19_regulatory_islands_SNVs_unlifted.bed"
   ]
  },
  {
   "cell_type": "raw",
   "id": "21e43ad4-670d-4f5a-adbc-9a98fe1bd447",
   "metadata": {},
   "source": [
    "hg19_islands_SNVs = pd.read_csv(\"./regulatory_region_results/hg19_regulatory_islands_SNVs.bed\", sep='\\t', header=None)"
   ]
  },
  {
   "cell_type": "raw",
   "id": "3cddca89-0669-4d6e-bac0-f6f277ae0c1a",
   "metadata": {},
   "source": [
    "hg19_islands_SNVs.head()"
   ]
  },
  {
   "cell_type": "raw",
   "id": "88885bb0-bdd3-4aaf-8a6d-b5f40833aa8e",
   "metadata": {},
   "source": [
    "len(hg19_islands_SNVs)"
   ]
  },
  {
   "cell_type": "raw",
   "id": "ba2889bb-9a04-4927-9fa5-a16ec2ca7ff0",
   "metadata": {},
   "source": [
    "hg19_islands_SNVs['POS'] = hg19_islands_SNVs[0].str.split(\"chr\", expand=True, n=2)[1].astype(str)+\":\"+hg19_islands_SNVs[2].astype(str)"
   ]
  },
  {
   "cell_type": "raw",
   "id": "8fd54f6a-869c-46f4-bed2-44509af9ae3d",
   "metadata": {},
   "source": [
    "martin = pd.read_csv(\"/home/jovyan/jm_jlab/Na_high_freq.tsv\", sep='\\t')"
   ]
  },
  {
   "cell_type": "raw",
   "id": "527bf828-d18e-436f-b426-a1333f13aa61",
   "metadata": {},
   "source": [
    "len(hg19_islands_SNVs['POS'].isin(martin['POS']))"
   ]
  },
  {
   "cell_type": "raw",
   "id": "bda7203d-c80f-4e59-b3e1-a26700b95392",
   "metadata": {},
   "source": [
    "martin[martin['POS'].isin(hg19_islands_SNVs['POS'])]"
   ]
  },
  {
   "cell_type": "code",
   "execution_count": null,
   "id": "817b0cf9-a896-4731-a555-585c139c1184",
   "metadata": {},
   "outputs": [],
   "source": []
  },
  {
   "cell_type": "code",
   "execution_count": null,
   "id": "7a4d659b-032f-4287-b236-cc8aefc90ed2",
   "metadata": {},
   "outputs": [],
   "source": [
    "hg19_islands = pd.read_csv(\"./hg19_uniqID_islands_HomoSapiens.bed\", sep='\\t', header=None)"
   ]
  },
  {
   "cell_type": "code",
   "execution_count": null,
   "id": "eef9b987-c236-4294-a9e3-d45af56fade2",
   "metadata": {},
   "outputs": [],
   "source": [
    "hg19_islands.rename(columns={0:'chr_hg19', 1:'island_start_hg19', 2:'island_end_hg19', 3:'island_ID'}, inplace=True)"
   ]
  },
  {
   "cell_type": "code",
   "execution_count": null,
   "id": "bf70a5a1-d22f-45a0-9dbd-0a5d81a1a6f8",
   "metadata": {},
   "outputs": [],
   "source": [
    "hg38_islands = pd.read_csv(\"./regulatory_region_results/hg38_regulatory_islands_genenames.tsv\", sep='\\t')"
   ]
  },
  {
   "cell_type": "code",
   "execution_count": null,
   "id": "b58eb594-4d9e-447e-a265-aa62475946a0",
   "metadata": {},
   "outputs": [],
   "source": [
    "hg38_islands.rename(columns={'island_start':'island_start_hg38',\n",
    "                             'island_end':'island_end_hg38',\n",
    "                            'SNV_start':'SNV_start_hg38',\n",
    "                            'SNV_end':'SNV_end_hg38'}, inplace=True)"
   ]
  },
  {
   "cell_type": "code",
   "execution_count": null,
   "id": "f298eaf7-4804-49c6-b917-ef7cf46d7783",
   "metadata": {},
   "outputs": [],
   "source": [
    "rr_islands_hg38 = pd.merge(hg19_islands, hg38_islands, on='island_ID')"
   ]
  },
  {
   "cell_type": "code",
   "execution_count": null,
   "id": "8ec3fbcd-92a9-4730-9834-65927f7906bc",
   "metadata": {},
   "outputs": [],
   "source": [
    "rr_islands_hg38['SNP_number'] = rr_islands_hg38.index.astype(str)"
   ]
  },
  {
   "cell_type": "code",
   "execution_count": null,
   "id": "123c2f90-4107-47ca-accc-25320a8a31a1",
   "metadata": {},
   "outputs": [],
   "source": [
    "rr_islands_hg38.columns"
   ]
  },
  {
   "cell_type": "code",
   "execution_count": null,
   "id": "9a06d1a1-2574-45e8-abd4-0ce977a307dc",
   "metadata": {},
   "outputs": [],
   "source": [
    "rr_islands_hg38[['chr','SNV_start_hg38','SNV_end_hg38','SNP_number']].to_csv('./regulatory_region_results/hg38_regulatory_islands_SNVs.bed', header=None, sep='\\t', index=False)"
   ]
  },
  {
   "cell_type": "raw",
   "id": "982cb712-57ac-4dc6-a5b3-40e208fb46f8",
   "metadata": {},
   "source": [
    "liftOver ./regulatory_region_results/hg38_regulatory_islands_SNVs.bed ./hg38_to_hg19/hg38ToHg19.over.chain.gz ./regulatory_region_results/hg19_regulatory_islands_SNVs.bed ./regulatory_region_results/hg19_regulatory_islands_SNVs_unlifted.bed"
   ]
  },
  {
   "cell_type": "code",
   "execution_count": null,
   "id": "e2d204d7-41c9-4505-95c2-f3ea0ef036f7",
   "metadata": {},
   "outputs": [],
   "source": []
  },
  {
   "cell_type": "code",
   "execution_count": null,
   "id": "6aea1017-4b64-4887-9e96-6525c642cb27",
   "metadata": {},
   "outputs": [],
   "source": [
    "hg19_islands_SNVs = pd.read_csv(\"./regulatory_region_results/hg19_regulatory_islands_SNVs.bed\", sep='\\t', header=None)"
   ]
  },
  {
   "cell_type": "code",
   "execution_count": null,
   "id": "76eda990-9c40-4f9d-8559-b68d830c160e",
   "metadata": {},
   "outputs": [],
   "source": [
    "hg19_islands_SNVs.rename(columns={0:'Chr',1:'SNV_start_hg19',2:'SNV_end_hg19',3:'SNP_number'}, inplace=True)"
   ]
  },
  {
   "cell_type": "code",
   "execution_count": null,
   "id": "3f7dd3b0-5e54-4849-8f74-23a8c6d95e8c",
   "metadata": {},
   "outputs": [],
   "source": [
    "hg19_islands_SNVs['SNP_number'] = hg19_islands_SNVs['SNP_number'].astype(str)"
   ]
  },
  {
   "cell_type": "code",
   "execution_count": null,
   "id": "81c9e20c-8d93-4604-8799-e8c15da519c7",
   "metadata": {},
   "outputs": [],
   "source": [
    "final_genomesVersions = pd.merge(rr_islands_hg38, hg19_islands_SNVs, on='SNP_number')"
   ]
  },
  {
   "cell_type": "code",
   "execution_count": null,
   "id": "48f53958-6845-44e8-a928-e47cf94a357c",
   "metadata": {},
   "outputs": [],
   "source": [
    "final_genomesVersions.drop(columns=['SNP_number'], inplace=True)"
   ]
  },
  {
   "cell_type": "code",
   "execution_count": null,
   "id": "64c2625c-6500-4c93-9b0e-bf4aef33f38b",
   "metadata": {},
   "outputs": [],
   "source": [
    "final_genomesVersions.head()"
   ]
  },
  {
   "cell_type": "code",
   "execution_count": null,
   "id": "d9a30fc6-1de0-46b8-80fe-a0fdad91ccdb",
   "metadata": {},
   "outputs": [],
   "source": [
    "final_genomesVersions['POS'] = final_genomesVersions['Chr'].str.split(\"chr\", expand=True, n=2)[1].astype(str)+\":\"+final_genomesVersions['SNV_end_hg19'].astype(str)"
   ]
  },
  {
   "cell_type": "code",
   "execution_count": null,
   "id": "2984b965-03c8-4c51-8d11-b305ff85ccfb",
   "metadata": {},
   "outputs": [],
   "source": [
    "final_hg19hg38 = pd.merge(final_genomesVersions,martin[['POS', 'REF', 'ALT']], on='POS')"
   ]
  },
  {
   "cell_type": "code",
   "execution_count": null,
   "id": "d3afd71a-c020-40cb-ab53-69014e7be3b9",
   "metadata": {},
   "outputs": [],
   "source": [
    "final_hg19hg38.to_csv(\"./regulatory_region_results/regulatory_islands_completeINFO.tsv\", sep='\\t', index=False)"
   ]
  },
  {
   "cell_type": "markdown",
   "id": "6209a886-ce21-4179-b2d8-2f8db611ed01",
   "metadata": {
    "tags": []
   },
   "source": [
    "# Intersections with evolutionary-relevant regions"
   ]
  },
  {
   "cell_type": "markdown",
   "id": "697a67c5-4951-4ef1-abff-037b6248d815",
   "metadata": {},
   "source": [
    "**Pey and Akey to hg38**"
   ]
  },
  {
   "cell_type": "raw",
   "id": "8b23b66b-9cb9-4dc1-8533-1dd7c4fdeb4c",
   "metadata": {},
   "source": [
    "liftOver 2020_akeydeserts_coords.bed ../hg19ToHg38.over.chain.gz akeydeserts_hg38_sorted.bed akey_unlifted.bed"
   ]
  },
  {
   "cell_type": "raw",
   "id": "d7270770-a5f7-4a1f-a863-545cb978f801",
   "metadata": {},
   "source": [
    "liftOver 2020_pey_coords.bed ../hg19ToHg38.over.chain.gz pey_hg38_sorted.bed pey_unlifted.bed"
   ]
  },
  {
   "cell_type": "raw",
   "id": "9ee89663-2086-4b4f-a3df-36e585174c4d",
   "metadata": {},
   "source": []
  },
  {
   "cell_type": "code",
   "execution_count": null,
   "id": "05d848c8-a5d6-412a-9a3c-c46c69742472",
   "metadata": {},
   "outputs": [],
   "source": [
    "pwd"
   ]
  },
  {
   "cell_type": "code",
   "execution_count": null,
   "id": "d15b8665-d56e-4900-b5b5-2cffe6e3ca91",
   "metadata": {},
   "outputs": [],
   "source": [
    "!intersectBed -wo -f 1 -a /home/jovyan/jm_jlab/data_CBL/indNeuro_tmp/regulatory_region_data/regulatory_region_results/intersections_hg38/hg38_regulatory_islands.bed -b /home/jovyan/jm_jlab/martinboeckx_to_hg38/bed_files/akeydeserts_hg38_sorted.bed | wc -l"
   ]
  },
  {
   "cell_type": "code",
   "execution_count": null,
   "id": "b7194e4a-1ac5-42b2-a0d2-38b75ee3ae56",
   "metadata": {},
   "outputs": [],
   "source": [
    "!intersectBed -wo -f 1 -a /home/jovyan/jm_jlab/data_CBL/indNeuro_tmp/regulatory_region_data/regulatory_region_results/intersections_hg38/hg38_regulatory_islands.bed -b /home/jovyan/jm_jlab/martinboeckx_to_hg38/bed_files/akeydeserts_hg38_sorted.bed | head -n 2"
   ]
  },
  {
   "cell_type": "raw",
   "id": "7687cb8a-67c9-4b95-930f-b09f6c29f2e1",
   "metadata": {},
   "source": [
    "Akey"
   ]
  },
  {
   "cell_type": "code",
   "execution_count": null,
   "id": "eb0ccb8d-0af3-4d66-b2b7-f14ab97cf982",
   "metadata": {},
   "outputs": [],
   "source": [
    "!intersectBed -wo -f 1 -a /home/jovyan/jm_jlab/data_CBL/indNeuro_tmp/regulatory_region_data/regulatory_region_results/intersections_hg38/hg38_regulatory_islands.bed -b /home/jovyan/jm_jlab/martinboeckx_to_hg38/bed_files/akeydeserts_hg38_sorted.bed > /home/jovyan/jm_jlab/data_CBL/indNeuro_tmp/regulatory_region_data/regulatory_region_results/intersections_hg38/hg38_regulatory_islands_DESERTS.tsv"
   ]
  },
  {
   "cell_type": "raw",
   "id": "2f91f241-e53c-4f94-843c-006d3d065ab4",
   "metadata": {},
   "source": [
    "#adding header\n",
    "!sed -i $'1 cchr\\tisland_start\\tisland_end\\tisland_ID\\tPOS_island\\tSNV_start\\tSNV_END\\trsID\\tgene_name\\tchr\\tDesert_start\\tDesert_end\\tbp_overlap' ./intersections_hg38/hg38_regulatory_islands_DESERTS.tsv"
   ]
  },
  {
   "cell_type": "code",
   "execution_count": null,
   "id": "5479ec12-dbd5-41e8-abc3-cdc1074fc66e",
   "metadata": {},
   "outputs": [],
   "source": [
    "#adding header\n",
    "\n",
    "!echo -e 'chr\\tisland_start\\tisland_end\\tisland_ID\\tPOS_island\\tSNV_start\\tSNV_END\\trsID\\tgene_name\\tchr\\tDesert_start\\tDesert_end\\tbp_overlap' | cat - /home/jovyan/jm_jlab/data_CBL/indNeuro_tmp/regulatory_region_data/regulatory_region_results/intersections_hg38/hg38_regulatory_islands_DESERTS.tsv > ./out && mv ./out /home/jovyan/jm_jlab/data_CBL/indNeuro_tmp/regulatory_region_data/regulatory_region_results/intersections_hg38/hg38_regulatory_islands_DESERTS.tsv"
   ]
  },
  {
   "cell_type": "raw",
   "id": "00813768-76a4-47ff-80eb-8f8b41f0251b",
   "metadata": {},
   "source": [
    "Pey"
   ]
  },
  {
   "cell_type": "code",
   "execution_count": null,
   "id": "0e287fdd-192b-4f46-9711-2e9dd8368fc4",
   "metadata": {},
   "outputs": [],
   "source": [
    "!intersectBed -wo -f 1 -a ./regulatory_region_results/intersections_hg38/hg38_regulatory_islands.bed -b /home/jovyan/jm_jlab/martinboeckx_to_hg38/bed_files/pey_hg38_sorted.bed | wc -l"
   ]
  },
  {
   "cell_type": "code",
   "execution_count": null,
   "id": "329561e5-a753-4f27-b8ba-f61a32d16ce2",
   "metadata": {},
   "outputs": [],
   "source": [
    "!intersectBed -wo -f 1 -a ./regulatory_region_results/intersections_hg38/hg38_regulatory_islands.bed -b /home/jovyan/jm_jlab/martinboeckx_to_hg38/bed_files/pey_hg38_sorted.bed > ./regulatory_region_results/intersections_hg38/hg38_regulatory_islands_POS_Sel.tsv"
   ]
  },
  {
   "cell_type": "code",
   "execution_count": null,
   "id": "5b630260-1d6d-4272-9443-6038a7ef7303",
   "metadata": {},
   "outputs": [],
   "source": [
    "#adding header\n",
    "\n",
    "!echo -e 'chr\\tisland_start\\tisland_end\\tisland_ID\\tPOS_island\\tSNV_start\\tSNV_END\\trsID\\tgene_name\\tchr\\tPosSel_start\\tPosSel_end\\tbp_overlap' | cat - /home/jovyan/jm_jlab/data_CBL/indNeuro_tmp/regulatory_region_data/regulatory_region_results/intersections_hg38/hg38_regulatory_islands_POS_Sel.tsv > ./out && mv ./out /home/jovyan/jm_jlab/data_CBL/indNeuro_tmp/regulatory_region_data/regulatory_region_results/intersections_hg38/hg38_regulatory_islands_POS_Sel.tsv"
   ]
  },
  {
   "cell_type": "raw",
   "id": "f3e62216-6a7c-4a13-951e-5a98f22ce50a",
   "metadata": {},
   "source": []
  },
  {
   "cell_type": "markdown",
   "id": "2f4f6dba-2dc5-4f8d-9b4b-554f109cf6c5",
   "metadata": {},
   "source": [
    "**Human accelerated regions - HARs (hg38)**"
   ]
  },
  {
   "cell_type": "raw",
   "id": "8d9cef0c-6efd-4e05-928b-802352d8baa0",
   "metadata": {},
   "source": [
    "Three-dimensional genome re-wiring in loci with Human Accelerated Regions\n",
    "Keough 2022 bioRxiv - Pollard's lab\n",
    "\n",
    "https://doi.org/10.1101/2022.10.04.510859"
   ]
  },
  {
   "cell_type": "raw",
   "id": "4c39bba7-95de-4b33-b9d1-dc428acc9ba0",
   "metadata": {},
   "source": [
    "Supplementary Table 1 - zooHARs"
   ]
  },
  {
   "cell_type": "code",
   "execution_count": null,
   "id": "a80c0949-ba2d-4592-9e68-fd8f66fd3617",
   "metadata": {},
   "outputs": [],
   "source": [
    "pwd"
   ]
  },
  {
   "cell_type": "code",
   "execution_count": null,
   "id": "cea427cf-050d-42e6-b154-fcaab872b75f",
   "metadata": {},
   "outputs": [],
   "source": [
    "!wget https://www.biorxiv.org/content/biorxiv/early/2022/10/05/2022.10.04.510859/DC1/embed/media-1.xlsx?download=true -O ST1_hg38_zooHARs.xlsx"
   ]
  },
  {
   "cell_type": "code",
   "execution_count": null,
   "id": "dc8f6b75-6914-4d8a-87d1-432d31ae5e69",
   "metadata": {},
   "outputs": [],
   "source": [
    "#To bed\n",
    "df = pd.read_excel(\"/home/jovyan/jm_jlab/data_CBL/indNeuro_tmp/regulatory_region_data/ST1_hg38_zooHARs.xlsx\", sheet_name='zooHARs')\n",
    "\n",
    "df['start'] = df['start']-1 #must be 0-based\n",
    "\n",
    "df.iloc[:,0:3].to_csv(\"/home/jovyan/jm_jlab/data_CBL/indNeuro_tmp/regulatory_region_data/ST1_hg38_zooHARs.bed\", sep='\\t', index=False, header=None)\n",
    "\n",
    "# !cat /home/jovyan/jm_jlab/data_CBL/indNeuro_tmp/regulatory_region_data/ST1_hg38_zooHARs.bed | head\n",
    "\n",
    "!rm /home/jovyan/jm_jlab/data_CBL/indNeuro_tmp/regulatory_region_data/ST1_hg38_zooHARs.xlsx \n",
    "\n",
    "!bedtools sort -i /home/jovyan/jm_jlab/data_CBL/indNeuro_tmp/regulatory_region_data/ST1_hg38_zooHARs.bed > /home/jovyan/jm_jlab/data_CBL/indNeuro_tmp/regulatory_region_data/ST1_hg38_zooHARs_sorted.bed\n",
    "\n",
    "!rm /home/jovyan/jm_jlab/data_CBL/indNeuro_tmp/regulatory_region_data/ST1_hg38_zooHARs.bed"
   ]
  },
  {
   "cell_type": "code",
   "execution_count": null,
   "id": "3faae09e-2ef1-410b-ad40-8cb5906f3c09",
   "metadata": {},
   "outputs": [],
   "source": [
    "!cat ./ST1_hg38_zooHARs_sorted.bed | wc -l # n as expected"
   ]
  },
  {
   "cell_type": "code",
   "execution_count": null,
   "id": "132fa347-9b6c-47ae-b0e0-4701286925c0",
   "metadata": {},
   "outputs": [],
   "source": [
    "!intersectBed -wo -f 1 -a /home/jovyan/jm_jlab/data_CBL/indNeuro_tmp/regulatory_region_data/ST1_hg38_zooHARs_sorted.bed -b ./regulatory_region_results/intersections_hg38/hg38_regulatory_islands.bed  > ./regulatory_region_results/intersections_hg38/hg38_HARs_overlaps_regulatory_islands.bed"
   ]
  },
  {
   "cell_type": "code",
   "execution_count": null,
   "id": "e50d6931-057b-45eb-b871-d4c9f9f6f77d",
   "metadata": {},
   "outputs": [],
   "source": [
    "#adding header\n",
    "\n",
    "!echo -e 'chr\\tHAR_start\\tHAR_end\\tchr\\tisland_start\\tisland_end\\tisland_ID\\tPOS_island\\tSNV_start\\tSNV_END\\trsID\\tgene_name\\tbp_overlap' | cat - ./regulatory_region_results/intersections_hg38/hg38_HARs_overlaps_regulatory_islands.bed > ./out && mv ./out ./regulatory_region_results/intersections_hg38/hg38_HARs_overlaps_regulatory_islands.tsv"
   ]
  },
  {
   "cell_type": "code",
   "execution_count": null,
   "id": "f2bfa6da-5d14-4b82-be66-847270e9aa9f",
   "metadata": {},
   "outputs": [],
   "source": [
    "!rm ./regulatory_region_results/intersections_hg38/hg38_HARs_overlaps_regulatory_islands.bed\n",
    "!rm ./ST1_hg38_zooHARs_sorted.bed"
   ]
  },
  {
   "cell_type": "code",
   "execution_count": null,
   "id": "1999b8cc-3777-4094-a014-d7dc89630a49",
   "metadata": {},
   "outputs": [],
   "source": []
  },
  {
   "cell_type": "markdown",
   "id": "05195cf0-d537-4444-a6e7-8d8b73c28bb2",
   "metadata": {},
   "source": [
    "**human ancestor quickly evolved regions - HAQERs (hg38)**"
   ]
  },
  {
   "cell_type": "raw",
   "id": "4e5f67e3-aab5-44be-a9e7-f4b6193a5fa1",
   "metadata": {},
   "source": [
    "Adaptive sequence divergence forged new neurodevelopmental enhancers in humans\n",
    "\n",
    "https://doi.org/10.1016/j.cell.2022.10.016"
   ]
  },
  {
   "cell_type": "raw",
   "id": "d6093d87-42bc-4177-a126-78045d5f3497",
   "metadata": {},
   "source": [
    "Supplementary Table 1 - HAQERS"
   ]
  },
  {
   "cell_type": "code",
   "execution_count": null,
   "id": "4a194951-cd59-4d0e-8f0b-5da6fa8ccdea",
   "metadata": {},
   "outputs": [],
   "source": [
    "pwd"
   ]
  },
  {
   "cell_type": "code",
   "execution_count": null,
   "id": "dd1f45b6-b3af-4e8d-93ec-382761ba70cf",
   "metadata": {},
   "outputs": [],
   "source": [
    "!wget https://www.cell.com/cms/10.1016/j.cell.2022.10.016/attachment/fed00158-7a2e-4561-b879-29d0b84c2bd2/mmc1.xlsx -O ST1_hg38_HAQERs.xlsx"
   ]
  },
  {
   "cell_type": "code",
   "execution_count": null,
   "id": "c0aff369-ae45-4e3f-bb53-35f228d29ce1",
   "metadata": {},
   "outputs": [],
   "source": [
    "#To bed\n",
    "df = pd.read_excel(\"/home/jovyan/jm_jlab/data_CBL/indNeuro_tmp/regulatory_region_data/ST1_hg38_HAQERs.xlsx\", sheet_name='HaqerOverlaps')\n",
    "\n",
    "df['START (hg38)'] = df['START (hg38)']-1 #0-based\n",
    "df.loc[35,'CHROM (hg38)'] = \"chr14\" #missing entry\n",
    "\n",
    "df.iloc[:,1:4].to_csv(\"/home/jovyan/jm_jlab/data_CBL/indNeuro_tmp/regulatory_region_data/ST1_hg38_HAQERs.bed\", sep='\\t', index=False, header=None)\n",
    "\n",
    "# !cat /home/jovyan/jm_jlab/data_CBL/indNeuro_tmp/regulatory_region_data/ST1_hg38_HAQERs.bed | head\n",
    "\n",
    "!rm /home/jovyan/jm_jlab/data_CBL/indNeuro_tmp/regulatory_region_data/ST1_hg38_HAQERs.xlsx \n",
    "\n",
    "!bedtools sort -i /home/jovyan/jm_jlab/data_CBL/indNeuro_tmp/regulatory_region_data/ST1_hg38_HAQERs.bed > /home/jovyan/jm_jlab/data_CBL/indNeuro_tmp/regulatory_region_data/ST1_hg38_HAQERs_sorted.bed\n",
    "\n",
    "!rm /home/jovyan/jm_jlab/data_CBL/indNeuro_tmp/regulatory_region_data/ST1_hg38_HAQERs.bed"
   ]
  },
  {
   "cell_type": "code",
   "execution_count": null,
   "id": "dcb4ba4d-972e-4348-a8da-8423dbdbb249",
   "metadata": {},
   "outputs": [],
   "source": [
    "!cat ./ST1_hg38_HAQERs_sorted.bed | wc -l # n as expected"
   ]
  },
  {
   "cell_type": "code",
   "execution_count": null,
   "id": "a6da4278-7f67-40bd-9c93-30df5c50d55b",
   "metadata": {},
   "outputs": [],
   "source": [
    "!intersectBed -wo -f 1 -a ./ST1_hg38_HAQERs_sorted.bed -b ./regulatory_region_results/intersections_hg38/hg38_regulatory_islands.bed  | wc -l"
   ]
  },
  {
   "cell_type": "code",
   "execution_count": null,
   "id": "2c0941f9-68ec-4321-bf62-d0179e3d91ac",
   "metadata": {},
   "outputs": [],
   "source": [
    "!intersectBed -wo -f 1 -a ./ST1_hg38_HAQERs_sorted.bed -b ./regulatory_region_results/intersections_hg38/hg38_regulatory_islands.bed  | head -n 2"
   ]
  },
  {
   "cell_type": "code",
   "execution_count": null,
   "id": "82185013-d310-4b01-b657-6b4881f06802",
   "metadata": {},
   "outputs": [],
   "source": [
    "!intersectBed -wo -f 1 -a ./ST1_hg38_HAQERs_sorted.bed -b ./regulatory_region_results/intersections_hg38/hg38_regulatory_islands.bed  > ./regulatory_region_results/intersections_hg38/hg38_HAQERs_overlaps_regulatory_islands.bed"
   ]
  },
  {
   "cell_type": "code",
   "execution_count": null,
   "id": "68427476-cd8f-4db7-bd09-e45881b894c2",
   "metadata": {},
   "outputs": [],
   "source": [
    "#adding header\n",
    "\n",
    "!echo -e 'chr\\tHAQER_start\\tHAQER_end\\tchr\\tisland_start\\tisland_end\\tisland_ID\\tPOS_island\\tSNV_start\\tSNV_END\\trsID\\tgene_name\\tbp_overlap' | cat - ./regulatory_region_results/intersections_hg38/hg38_HAQERs_overlaps_regulatory_islands.bed > ./out && mv ./out ./regulatory_region_results/intersections_hg38/hg38_HAQERs_overlaps_regulatory_islands.tsv"
   ]
  },
  {
   "cell_type": "code",
   "execution_count": null,
   "id": "6b447f5d-39c6-44a8-b61d-a2f95f1ff027",
   "metadata": {},
   "outputs": [],
   "source": [
    "!rm ./regulatory_region_results/intersections_hg38/hg38_HAQERs_overlaps_regulatory_islands.bed\n",
    "!rm ./ST1_hg38_HAQERs_sorted.bed"
   ]
  },
  {
   "cell_type": "code",
   "execution_count": null,
   "id": "5bd8bd67-ec6e-4fee-8d95-8ce982acaa97",
   "metadata": {},
   "outputs": [],
   "source": []
  },
  {
   "cell_type": "markdown",
   "id": "a1f12cb9-4882-41b9-85e3-0b141d5a858a",
   "metadata": {},
   "source": [
    "**human gained enhancers - HGEs** do not match in stages considered here"
   ]
  },
  {
   "cell_type": "raw",
   "id": "25baf045-baa7-4982-ae0c-27cffd9a5b11",
   "metadata": {},
   "source": []
  },
  {
   "cell_type": "markdown",
   "id": "baf862be-84db-45cf-acdd-e4c5d819cdb9",
   "metadata": {},
   "source": [
    "**Copying to CBL_data**"
   ]
  },
  {
   "cell_type": "code",
   "execution_count": null,
   "id": "de0a3d0c-fc42-4df1-938b-0ddcbbe4ec95",
   "metadata": {},
   "outputs": [],
   "source": [
    "!ls /home/jovyan/jm_jlab/data_CBL/indNeuro_tmp/regulatory_region_data/regulatory_region_results/intersections_hg38/"
   ]
  },
  {
   "cell_type": "raw",
   "id": "c474234a-2314-43b2-8b05-5d2132293ee2",
   "metadata": {},
   "source": []
  },
  {
   "cell_type": "code",
   "execution_count": null,
   "id": "e72798a7-9360-4c90-8b3c-0accfda4a653",
   "metadata": {},
   "outputs": [],
   "source": [
    "!cp  /home/jovyan/jm_jlab/data_CBL/indNeuro_tmp/regulatory_region_data/regulatory_region_results/intersections_hg38/hg38_* /home/jovyan/jm_jlab/CBL_data/indirectNeurogenesis/regulatory_islands/"
   ]
  },
  {
   "cell_type": "code",
   "execution_count": null,
   "id": "78d3586e-214f-4e94-9b4a-79b35760eb2a",
   "metadata": {},
   "outputs": [],
   "source": []
  },
  {
   "cell_type": "markdown",
   "id": "cd7f8496-175f-412e-a7b7-b173af57212f",
   "metadata": {},
   "source": [
    "**Plots**"
   ]
  },
  {
   "cell_type": "code",
   "execution_count": null,
   "id": "54c198d7-c0cf-4147-9f00-ca900a1d0571",
   "metadata": {
    "scrolled": true
   },
   "outputs": [],
   "source": [
    "!wc -l /home/jovyan/jm_jlab/data_CBL/indNeuro_tmp/regulatory_region_data/regulatory_region_results/intersections_hg38/* #some with header"
   ]
  },
  {
   "cell_type": "code",
   "execution_count": null,
   "id": "63222104-1052-4d79-92d9-9302b1a1b47e",
   "metadata": {},
   "outputs": [],
   "source": [
    "data_files = os.listdir('./regulatory_region_results/intersections_hg38/')\n",
    "\n",
    "for filename in data_files:\n",
    "    if \"hg38\" in filename:\n",
    "        print(filename)"
   ]
  },
  {
   "cell_type": "code",
   "execution_count": null,
   "id": "b76f6584-0f0c-4ab7-9cea-f9810ac31f47",
   "metadata": {},
   "outputs": [],
   "source": [
    "mydir+filename"
   ]
  },
  {
   "cell_type": "code",
   "execution_count": null,
   "id": "ad16c08e-2cec-49d5-bf9e-2f7d75696400",
   "metadata": {},
   "outputs": [],
   "source": [
    "data_files = os.listdir('./regulatory_region_results/intersections_hg38/')\n",
    "mydir = '/home/jovyan/jm_jlab/data_CBL/indNeuro_tmp/regulatory_region_data/regulatory_region_results/intersections_hg38/'\n",
    "\n",
    "df_list = []\n",
    "\n",
    "for filename in data_files:\n",
    "    if \"hg38\" in filename and \"hg38_regulatory_islands.bed\" not in filename:\n",
    "        print(filename)\n",
    "        df_list.append(pd.read_csv(mydir+filename, sep='\\t'))\n"
   ]
  },
  {
   "cell_type": "code",
   "execution_count": null,
   "id": "67a2e3b1-c6fc-49a8-8f6c-de7c603db621",
   "metadata": {},
   "outputs": [],
   "source": [
    "#unique number of islands\n",
    "for i in np.arange(0,len(df_list)):\n",
    "    print(len(df_list[i].island_ID.unique()))"
   ]
  },
  {
   "cell_type": "raw",
   "id": "09b9ce6b-bef0-4578-9959-cc95155aee7b",
   "metadata": {},
   "source": [
    "d = {'Dataset': ['regulatory_islands', 'HS_Positive_selection', 'HS_deserts', 'HARs', 'HAQERs'], 'number of regions': [4836, 116, 68, 3, 9]}"
   ]
  },
  {
   "cell_type": "code",
   "execution_count": null,
   "id": "538ed2a6-3904-42ff-b695-baf5674613cc",
   "metadata": {},
   "outputs": [],
   "source": [
    "d = {'Dataset': ['HS_Positive_selection', 'HS_deserts', 'HARs', 'HAQERs'], 'n regulatory islands': [116, 68, 3, 9]}"
   ]
  },
  {
   "cell_type": "code",
   "execution_count": null,
   "id": "c7ab944c-d8ec-4096-ab64-d08028d4ebef",
   "metadata": {},
   "outputs": [],
   "source": [
    "d1 = pd.DataFrame(d)"
   ]
  },
  {
   "cell_type": "code",
   "execution_count": null,
   "id": "fce903cc-0f69-403c-884a-a35efbe8d346",
   "metadata": {},
   "outputs": [],
   "source": [
    "sns.barplot(data=d1, x=\"Dataset\", y=\"n regulatory islands\")"
   ]
  },
  {
   "cell_type": "raw",
   "id": "17cb887b",
   "metadata": {},
   "source": []
  }
 ],
 "metadata": {
  "kernelspec": {
   "display_name": "Python 3 (ipykernel)",
   "language": "python",
   "name": "python3"
  },
  "language_info": {
   "codemirror_mode": {
    "name": "ipython",
    "version": 3
   },
   "file_extension": ".py",
   "mimetype": "text/x-python",
   "name": "python",
   "nbconvert_exporter": "python",
   "pygments_lexer": "ipython3",
   "version": "3.10.5"
  }
 },
 "nbformat": 4,
 "nbformat_minor": 5
}
