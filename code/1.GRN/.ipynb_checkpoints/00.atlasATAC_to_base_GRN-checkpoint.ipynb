{
 "cells": [
  {
   "cell_type": "markdown",
   "id": "6f2b1b9a-9ca6-4ff3-b29a-1ab935c34456",
   "metadata": {
    "tags": []
   },
   "source": [
    "# **base GRN - *from atlas of ATAC regulatory regions***"
   ]
  },
  {
   "cell_type": "code",
   "execution_count": null,
   "id": "34165deb-bdc3-437a-ba6a-b989b44dffa2",
   "metadata": {},
   "outputs": [],
   "source": [
    "import pandas as pd"
   ]
  },
  {
   "cell_type": "code",
   "execution_count": null,
   "id": "bfe13b41-1406-414f-8b54-c6e92a359cf3",
   "metadata": {},
   "outputs": [],
   "source": [
    "cd /home/jovyan/jm_jlab/data_indNeuro/consensus_atlas_ATACregions_hg38/GREAT_results/"
   ]
  },
  {
   "cell_type": "code",
   "execution_count": null,
   "id": "7e532133-e284-4faa-b551-fbbaa95fb50b",
   "metadata": {},
   "outputs": [],
   "source": [
    "great_output  = pd.read_csv(\"./consensus_peaks_hg38_GREAT.txt\", sep='\\t')"
   ]
  },
  {
   "cell_type": "code",
   "execution_count": null,
   "id": "01840bd5-0f22-4a7f-900c-8aa8aae52ff7",
   "metadata": {},
   "outputs": [],
   "source": [
    "len(great_output)"
   ]
  },
  {
   "cell_type": "code",
   "execution_count": null,
   "id": "9084da85-89e3-4a3b-8036-14a4eebce71d",
   "metadata": {},
   "outputs": [],
   "source": [
    "great_output.head()"
   ]
  },
  {
   "cell_type": "code",
   "execution_count": null,
   "id": "4f030f5b-37f1-4feb-b182-5c3228c80e63",
   "metadata": {},
   "outputs": [],
   "source": [
    "great_output = great_output.iloc[:,0:2]\n",
    "great_output.rename(columns={'# GREAT version 4.0.4':\"peak_name\", 'Species assembly: hg38':'gene_short_name'}, inplace=True)"
   ]
  },
  {
   "cell_type": "code",
   "execution_count": null,
   "id": "01e42b90-582f-4627-9d23-0e32b24bc776",
   "metadata": {},
   "outputs": [],
   "source": [
    "len(great_output)"
   ]
  },
  {
   "cell_type": "code",
   "execution_count": null,
   "id": "0482c10e-4831-4ab7-bf19-5f717155c668",
   "metadata": {
    "scrolled": true
   },
   "outputs": [],
   "source": [
    "#Cleaning output\n",
    "great_output.head()"
   ]
  },
  {
   "cell_type": "code",
   "execution_count": null,
   "id": "7ac41c4a-a76e-4355-a194-0f5a5f60a05e",
   "metadata": {},
   "outputs": [],
   "source": [
    "#Cleaning output\n",
    "great_output.tail()"
   ]
  },
  {
   "cell_type": "code",
   "execution_count": null,
   "id": "77c92b13-ed16-401a-9fb7-461985a40473",
   "metadata": {},
   "outputs": [],
   "source": [
    "great_output['gene_short_name'] = great_output['gene_short_name'].str.replace(r\"\\(.*?\\)\", \"\", regex=True).str.strip().str.split(\" , \")"
   ]
  },
  {
   "cell_type": "code",
   "execution_count": null,
   "id": "9ad2968a-f2a2-4efa-9888-5f916a2ca7c9",
   "metadata": {},
   "outputs": [],
   "source": [
    "great_output = great_output.explode('gene_short_name')"
   ]
  },
  {
   "cell_type": "code",
   "execution_count": null,
   "id": "d82f15fe-5c77-46d6-8350-15abce8627c6",
   "metadata": {},
   "outputs": [],
   "source": [
    "great_output = great_output[great_output[\"gene_short_name\"].str.contains(\"NONE\")==False]"
   ]
  },
  {
   "cell_type": "code",
   "execution_count": null,
   "id": "329eefdc-dfee-4f4f-afe8-9ff0649ceeec",
   "metadata": {},
   "outputs": [],
   "source": [
    "print(great_output.head())\n",
    "print(len(great_output))"
   ]
  },
  {
   "cell_type": "code",
   "execution_count": null,
   "id": "eb3f679b-d44e-4f61-ac2a-8210b5b6035a",
   "metadata": {},
   "outputs": [],
   "source": [
    "all_sorted = pd.read_csv(\"/home/jovyan/jm_jlab/data_indNeuro/consensus_atlas_ATACregions_hg38/consensus_signals.bed\", sep='\\t', header=None)"
   ]
  },
  {
   "cell_type": "code",
   "execution_count": null,
   "id": "aae1f7ac-9dbf-43cf-a6dc-e05f710441be",
   "metadata": {},
   "outputs": [],
   "source": [
    "all_sorted.head(2)"
   ]
  },
  {
   "cell_type": "code",
   "execution_count": null,
   "id": "b925a836-a50e-4e73-802e-1cbf38ae19cd",
   "metadata": {},
   "outputs": [],
   "source": [
    "all_sorted.rename(columns={0:'chr',1:'start',2:'end',3:'peak_name'}, inplace=True)"
   ]
  },
  {
   "cell_type": "code",
   "execution_count": null,
   "id": "122eb37c-42ac-4ea8-ab37-d5f3dbea60d7",
   "metadata": {},
   "outputs": [],
   "source": [
    "great_output = great_output.merge(all_sorted, on = ['peak_name'])"
   ]
  },
  {
   "cell_type": "code",
   "execution_count": null,
   "id": "37549f53-3efe-4b11-ac78-4d27c2c64a33",
   "metadata": {},
   "outputs": [],
   "source": [
    "great_output.head(2)"
   ]
  },
  {
   "cell_type": "code",
   "execution_count": null,
   "id": "68cb9e7e-a87c-4a46-8cd2-f7cc9f20037c",
   "metadata": {},
   "outputs": [],
   "source": [
    "data = {'peak_id': great_output.iloc[:,2].astype(str)+\"_\"+great_output.iloc[:,3].astype(str)+\"_\"+great_output.iloc[:,4].astype(str), \n",
    " 'gene_short_name': great_output.iloc[:,1]}"
   ]
  },
  {
   "cell_type": "code",
   "execution_count": null,
   "id": "1783113d-3a00-4971-bbda-795c489d3ed4",
   "metadata": {},
   "outputs": [],
   "source": [
    "annotated = pd.DataFrame(data)"
   ]
  },
  {
   "cell_type": "code",
   "execution_count": null,
   "id": "be3287b1-8f32-479c-8d9c-0be19b57d729",
   "metadata": {},
   "outputs": [],
   "source": [
    "annotated.head(2)"
   ]
  },
  {
   "cell_type": "code",
   "execution_count": null,
   "id": "374730d9-aa91-4005-8f57-131673ccfe56",
   "metadata": {},
   "outputs": [],
   "source": [
    "print(len(annotated))"
   ]
  },
  {
   "cell_type": "markdown",
   "id": "7205e99f-030e-41cd-b8a4-da6d3d3b9d0c",
   "metadata": {},
   "source": [
    "# **Scan for TF binding motifs** - CELLORACLE"
   ]
  },
  {
   "cell_type": "markdown",
   "id": "b0fd7590-0557-4c85-adaf-00b4b609638b",
   "metadata": {},
   "source": [
    "**Scan for TF binding motifs** - CELLORACLE"
   ]
  },
  {
   "cell_type": "code",
   "execution_count": null,
   "id": "166ee36a-189d-4776-a19f-1ff07fc1158b",
   "metadata": {},
   "outputs": [],
   "source": [
    "import pandas as pd\n",
    "import numpy as np\n",
    "import matplotlib.pyplot as plt\n",
    "\n",
    "\n",
    "import seaborn as sns\n",
    "\n",
    "import os, sys, shutil, importlib, glob\n",
    "from tqdm.notebook import tqdm\n",
    "\n",
    "import celloracle as co\n",
    "from celloracle import motif_analysis as ma\n",
    "from celloracle.utility import save_as_pickled_object\n",
    "co.__version__"
   ]
  },
  {
   "cell_type": "code",
   "execution_count": null,
   "id": "5f31bdff-c14c-4e50-a46b-baa36e504588",
   "metadata": {},
   "outputs": [],
   "source": [
    "%config InlineBackend.figure_format = 'retina'\n",
    "%matplotlib inline\n",
    "\n",
    "plt.rcParams['figure.figsize'] = (15,7)\n",
    "plt.rcParams[\"savefig.dpi\"] = 600"
   ]
  },
  {
   "cell_type": "raw",
   "id": "d0fbf1bc",
   "metadata": {},
   "source": [
    "# PLEASE make sure reference genome is correct.\n",
    "ref_genome = \"hg38\"\n",
    "\n",
    "genome_installation = ma.is_genome_installed(ref_genome=ref_genome)\n",
    "print(ref_genome, \"installation: \", genome_installation)"
   ]
  },
  {
   "cell_type": "raw",
   "id": "0986cbed",
   "metadata": {},
   "source": [
    "import genomepy"
   ]
  },
  {
   "cell_type": "raw",
   "id": "28ed33e7",
   "metadata": {},
   "source": [
    "genomepy.install_genome(name=\"hg38\", provider=\"UCSC\")"
   ]
  },
  {
   "cell_type": "code",
   "execution_count": null,
   "id": "a2457509",
   "metadata": {},
   "outputs": [],
   "source": [
    "if not genome_installation:\n",
    "    import genomepy\n",
    "    genomepy.install_genome(name=ref_genome, provider=\"UCSC\")\n",
    "else:\n",
    "    print(ref_genome, \"is installed.\")"
   ]
  },
  {
   "cell_type": "code",
   "execution_count": null,
   "id": "c38a37c9-1d83-4035-9382-b812d20a1612",
   "metadata": {},
   "outputs": [],
   "source": [
    "def decompose_chrstr(peak_str):\n",
    "    \"\"\"\n",
    "    Args:\n",
    "        peak_str (str): peak_str. e.g. 'chr1_3094484_3095479'\n",
    "\n",
    "    Returns:\n",
    "        tuple: chromosome name, start position, end position\n",
    "    \"\"\"\n",
    "\n",
    "    *chr_, start, end = peak_str.split(\"_\")\n",
    "    chr_ = \"_\".join(chr_)\n",
    "    return chr_, start, end\n",
    "\n",
    "from genomepy import Genome\n",
    "\n",
    "def check_peak_format(peaks_df, ref_genome):\n",
    "    \"\"\"\n",
    "    Check peak format.\n",
    "     (1) Check chromosome name.\n",
    "     (2) Check peak size (length) and remove sort DNA sequences (<5bp)\n",
    "\n",
    "    \"\"\"\n",
    "\n",
    "    df = peaks_df.copy()\n",
    "\n",
    "    n_peaks_before = df.shape[0]\n",
    "\n",
    "    # Decompose peaks and make df\n",
    "    decomposed = [decompose_chrstr(peak_str) for peak_str in df[\"peak_id\"]]\n",
    "    df_decomposed = pd.DataFrame(np.array(decomposed), index=peaks_df.index)\n",
    "    df_decomposed.columns = [\"chr\", \"start\", \"end\"]\n",
    "    df_decomposed[\"start\"] = df_decomposed[\"start\"].astype(int)\n",
    "    df_decomposed[\"end\"] = df_decomposed[\"end\"].astype(int)\n",
    "\n",
    "    # Load genome data\n",
    "    genome_data = Genome(ref_genome)\n",
    "    all_chr_list = list(genome_data.keys())\n",
    "\n",
    "\n",
    "    # DNA length check\n",
    "    lengths = np.abs(df_decomposed[\"end\"] - df_decomposed[\"start\"])\n",
    "\n",
    "\n",
    "    # Filter peaks with invalid chromosome name\n",
    "    n_threshold = 5\n",
    "    df = df[(lengths >= n_threshold) & df_decomposed.chr.isin(all_chr_list)]\n",
    "\n",
    "    # DNA length check\n",
    "    lengths = np.abs(df_decomposed[\"end\"] - df_decomposed[\"start\"])\n",
    "\n",
    "    # Data counting\n",
    "    n_invalid_length = len(lengths[lengths < n_threshold])\n",
    "    n_peaks_invalid_chr = n_peaks_before - df_decomposed.chr.isin(all_chr_list).sum()\n",
    "    n_peaks_after = df.shape[0]\n",
    "\n",
    "\n",
    "    #\n",
    "    print(\"Peaks before filtering: \", n_peaks_before)\n",
    "    print(\"Peaks with invalid chr_name: \", n_peaks_invalid_chr)\n",
    "    print(\"Peaks with invalid length: \", n_invalid_length)\n",
    "    print(\"Peaks after filtering: \", n_peaks_after)\n",
    "\n",
    "    return df"
   ]
  },
  {
   "cell_type": "code",
   "execution_count": null,
   "id": "be0e2932-70b6-41df-9ee6-a07f283bf53b",
   "metadata": {
    "scrolled": true
   },
   "outputs": [],
   "source": [
    "peaks = check_peak_format(annotated, ref_genome)"
   ]
  },
  {
   "cell_type": "code",
   "execution_count": null,
   "id": "e697babc-5a61-44f2-a2dc-4057b6008e2f",
   "metadata": {
    "scrolled": true
   },
   "outputs": [],
   "source": [
    "peaks.head()"
   ]
  },
  {
   "cell_type": "code",
   "execution_count": null,
   "id": "5e600580-e945-4cb1-9eb4-fe6a2ff59cde",
   "metadata": {},
   "outputs": [],
   "source": [
    "# Instantiate TFinfo object\n",
    "tfi = ma.TFinfo(peak_data_frame=peaks,\n",
    "                ref_genome=ref_genome)"
   ]
  },
  {
   "cell_type": "raw",
   "id": "6d98239d",
   "metadata": {},
   "source": [
    "If you do not specify the motifs or set motifs to None, the default motifs will be loaded automatically.\n",
    "For mouse and human, “gimme.vertebrate.v5.0.” will be used as the default motifs."
   ]
  },
  {
   "cell_type": "code",
   "execution_count": null,
   "id": "8131dd5e-1410-4c6a-976c-b54e21282066",
   "metadata": {},
   "outputs": [],
   "source": [
    "import os, glob\n",
    "from gimmemotifs.motif import MotifConfig\n",
    "config = MotifConfig()\n",
    "motif_dir = config.get_motif_dir()\n",
    "\n",
    "# Get motif data names\n",
    "motifs_data_name = [i for i in os.listdir(motif_dir) if i.endswith(\".pfm\")]\n",
    "motifs_data_name.sort()\n",
    "motifs_data_name"
   ]
  },
  {
   "cell_type": "markdown",
   "id": "46e0259f-da52-4371-9401-8a41175df703",
   "metadata": {},
   "source": [
    "**Homococo**"
   ]
  },
  {
   "cell_type": "code",
   "execution_count": null,
   "id": "f0e012c2-7156-4b9a-ac99-1e54f4d4fc2f",
   "metadata": {},
   "outputs": [],
   "source": [
    "# You can load motif files with \"read_motifs\"\n",
    "from gimmemotifs.motif import read_motifs\n",
    "\n",
    "path = os.path.join(motif_dir, \"HOCOMOCOv11_HUMAN.pfm\")\n",
    "motifs = read_motifs(path)\n",
    "\n",
    "# Check first 10 motifs\n",
    "motifs[:10]"
   ]
  },
  {
   "cell_type": "raw",
   "id": "4c5babd3-42b4-4fe9-8294-2e0ade7c25d9",
   "metadata": {},
   "source": [
    "# You can load motif files with \"read_motifs\"\n",
    "from gimmemotifs.motif import read_motifs\n",
    "\n",
    "path = os.path.join(motif_dir, \"JASPAR2022_vertebrates.pfm\")\n",
    "motifs = read_motifs(path)\n",
    "\n",
    "# Check first 10 motifs\n",
    "motifs[:10]"
   ]
  },
  {
   "cell_type": "raw",
   "id": "dfcb791a-1c3d-40bc-92b6-5b9bc9322ac0",
   "metadata": {},
   "source": [
    "# You can load motif files with \"read_motifs\"\n",
    "from gimmemotifs.motif import read_motifs\n",
    "\n",
    "path = os.path.join(motif_dir, \"HOMER.pfm\")\n",
    "motifs = read_motifs(path)\n",
    "\n",
    "# Check first 10 motifs\n",
    "motifs[:10]"
   ]
  },
  {
   "cell_type": "code",
   "execution_count": null,
   "id": "9273d82e-570f-4637-9dff-5361e317e121",
   "metadata": {},
   "outputs": [],
   "source": []
  },
  {
   "cell_type": "code",
   "execution_count": null,
   "id": "ba25df0f-9ddb-4b31-8abc-230edaf977a3",
   "metadata": {},
   "outputs": [],
   "source": [
    "tfi.scan(motifs=motifs, verbose=True) #error with HOMOCOCO v11"
   ]
  },
  {
   "cell_type": "code",
   "execution_count": null,
   "id": "c06c745b",
   "metadata": {},
   "outputs": [],
   "source": [
    "# Check motif scan results\n",
    "tfi.scanned_df.head()"
   ]
  },
  {
   "cell_type": "code",
   "execution_count": null,
   "id": "2179c373-f2c0-4aa2-abca-f1dcae11bbae",
   "metadata": {},
   "outputs": [],
   "source": [
    "# Reset filtering\n",
    "tfi.reset_filtering()\n",
    "\n",
    "# Do filtering\n",
    "tfi.filter_motifs_by_score(threshold=10)\n",
    "\n",
    "# Format post-filtering results.\n",
    "tfi.make_TFinfo_dataframe_and_dictionary(verbose=True)"
   ]
  },
  {
   "cell_type": "code",
   "execution_count": null,
   "id": "594e95fa-0ed6-4376-956b-7c5b52b76deb",
   "metadata": {
    "scrolled": true
   },
   "outputs": [],
   "source": [
    "df = tfi.to_dataframe()\n",
    "df.head()"
   ]
  },
  {
   "cell_type": "code",
   "execution_count": null,
   "id": "d7bb123c-d1f0-434b-884d-084e93b7e27a",
   "metadata": {},
   "outputs": [],
   "source": [
    "pwd"
   ]
  },
  {
   "cell_type": "code",
   "execution_count": null,
   "id": "314c5715-e0a4-47d2-98d2-5b9b3c1d00f5",
   "metadata": {},
   "outputs": [],
   "source": [
    "# Save result as a dataframe\n",
    "df.to_parquet(\"/home/jovyan/jm_jlab/data_indNeuro/consensus_atlas_ATACregions_hg38/base_GRN_dataframe_HOCOMOCOv11.parquet\")"
   ]
  }
 ],
 "metadata": {
  "kernelspec": {
   "display_name": "Python 3 (ipykernel)",
   "language": "python",
   "name": "python3"
  },
  "language_info": {
   "codemirror_mode": {
    "name": "ipython",
    "version": 3
   },
   "file_extension": ".py",
   "mimetype": "text/x-python",
   "name": "python",
   "nbconvert_exporter": "python",
   "pygments_lexer": "ipython3",
   "version": "3.10.5"
  }
 },
 "nbformat": 4,
 "nbformat_minor": 5
}
