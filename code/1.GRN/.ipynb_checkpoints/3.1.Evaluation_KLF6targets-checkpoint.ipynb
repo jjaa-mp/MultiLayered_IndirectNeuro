{
 "cells": [
  {
   "cell_type": "markdown",
   "id": "f9610af5",
   "metadata": {},
   "source": [
    "# Evaluation of KLF6 targets "
   ]
  },
  {
   "cell_type": "code",
   "execution_count": null,
   "id": "b6d0ac99",
   "metadata": {},
   "outputs": [],
   "source": [
    "import os\n",
    "import sys\n",
    "\n",
    "import matplotlib.pyplot as plt\n",
    "import numpy as np\n",
    "import pandas as pd\n",
    "import scanpy as sc\n",
    "import seaborn as sns"
   ]
  },
  {
   "cell_type": "code",
   "execution_count": null,
   "id": "3341562c",
   "metadata": {},
   "outputs": [],
   "source": [
    "# visualization settings\n",
    "%config InlineBackend.figure_format = 'retina'\n",
    "%matplotlib inline"
   ]
  },
  {
   "cell_type": "code",
   "execution_count": null,
   "id": "e6724d05",
   "metadata": {
    "scrolled": true
   },
   "outputs": [],
   "source": [
    "import celloracle as co\n",
    "co.__version__"
   ]
  },
  {
   "cell_type": "code",
   "execution_count": null,
   "id": "02513989",
   "metadata": {},
   "outputs": [],
   "source": [
    "from gprofiler import GProfiler"
   ]
  },
  {
   "cell_type": "code",
   "execution_count": null,
   "id": "e86ac2cf",
   "metadata": {},
   "outputs": [],
   "source": [
    "gp = GProfiler(return_dataframe=True)"
   ]
  },
  {
   "cell_type": "raw",
   "id": "7dda15d8",
   "metadata": {},
   "source": []
  },
  {
   "cell_type": "markdown",
   "id": "9b481192",
   "metadata": {},
   "source": [
    "## Trevino et al 2021"
   ]
  },
  {
   "cell_type": "code",
   "execution_count": null,
   "id": "9f7f7b25",
   "metadata": {},
   "outputs": [],
   "source": [
    "links = co.load_hdf5(file_path=\"/home/jovyan/jm_jlab/data_indNeuro/1.GRN/milestones_pcw16_baggindridge.celloracle.links\")"
   ]
  },
  {
   "cell_type": "code",
   "execution_count": null,
   "id": "a1a2ab83",
   "metadata": {
    "scrolled": true
   },
   "outputs": [],
   "source": [
    "sc.set_figure_params(figsize=(8,4))\n",
    "\n",
    "links.plot_score_per_cluster(goi=\"KLF6\")"
   ]
  },
  {
   "cell_type": "code",
   "execution_count": null,
   "id": "1ca5af87",
   "metadata": {},
   "outputs": [],
   "source": [
    "klf6_vRG = links.filtered_links['vRG'][links.filtered_links['vRG']['source'] == 'KLF6']['target']\n",
    "klf6_oRG = links.filtered_links['oRG'][links.filtered_links['oRG']['source'] == 'KLF6']['target']"
   ]
  },
  {
   "cell_type": "raw",
   "id": "4aa8f4f0",
   "metadata": {},
   "source": [
    "Saving targets for exploration"
   ]
  },
  {
   "cell_type": "raw",
   "id": "8918a5ed",
   "metadata": {},
   "source": [
    "#oRG\n",
    "df_klf6_oRG = pd.DataFrame(klf6_oRG)\n",
    "df_klf6_oRG.rename(columns={'target':\"KLF6_targets_oRG\"}, inplace=True)\n",
    "#vRG\n",
    "df_klf6_vRG = pd.DataFrame(klf6_vRG)\n",
    "df_klf6_vRG.rename(columns={'target':\"KLF6_targets_vRG\"}, inplace=True)\n",
    "\n",
    "output_directory = '/home/jovyan/jm_jlab/CBL_data/indirectNeurogenesis/GRN_CellOracle/'\n",
    "\n",
    "writer = pd.ExcelWriter(output_directory+\"KLF6targets_gene_names.xlsx\", engine='xlsxwriter')\n",
    "\n",
    "for i,n in enumerate([df_klf6_oRG, df_klf6_vRG]):\n",
    "    n.to_excel(writer, sheet_name=n.columns[0], index=False)\n",
    "writer.close()"
   ]
  },
  {
   "cell_type": "raw",
   "id": "20ce0a18",
   "metadata": {},
   "source": []
  },
  {
   "cell_type": "code",
   "execution_count": null,
   "id": "503c3844",
   "metadata": {},
   "outputs": [],
   "source": [
    "klf6_oRG.isin(klf6_vRG).sum()/len(klf6_oRG)"
   ]
  },
  {
   "cell_type": "code",
   "execution_count": null,
   "id": "d88a3d83",
   "metadata": {},
   "outputs": [],
   "source": [
    "enrich_oRG = gp.profile(organism='hsapiens',\n",
    "            query=klf6_oRG.tolist(), no_evidences=False)"
   ]
  },
  {
   "cell_type": "code",
   "execution_count": null,
   "id": "e23c75bd",
   "metadata": {},
   "outputs": [],
   "source": [
    "enrich_vRG = gp.profile(organism='hsapiens',\n",
    "            query=klf6_vRG.tolist(), no_evidences=False)"
   ]
  },
  {
   "cell_type": "raw",
   "id": "d56d78a9",
   "metadata": {},
   "source": [
    "enrich_vRG"
   ]
  },
  {
   "cell_type": "markdown",
   "id": "b0d608f4",
   "metadata": {},
   "source": [
    "## Polioudakis et al 2019"
   ]
  },
  {
   "cell_type": "code",
   "execution_count": null,
   "id": "800a2326",
   "metadata": {},
   "outputs": [],
   "source": [
    "# You can load files with the following command.\n",
    "links_pol = co.load_hdf5(file_path=\"/home/jovyan/jm_jlab/data_indNeuro/1.GRN/pol19_baggingridge.links.celloracle.links\")"
   ]
  },
  {
   "cell_type": "code",
   "execution_count": null,
   "id": "bce5cb1f",
   "metadata": {},
   "outputs": [],
   "source": [
    "sc.set_figure_params(figsize=(8,4))\n",
    "\n",
    "links_pol.plot_score_per_cluster(goi=\"KLF6\")"
   ]
  },
  {
   "cell_type": "code",
   "execution_count": null,
   "id": "5d86e3f8",
   "metadata": {},
   "outputs": [],
   "source": [
    "klf6_vRG_pol = links_pol.filtered_links['vRG'][links_pol.filtered_links['vRG']['source'] == 'KLF6']['target']\n",
    "klf6_oRG_pol = links_pol.filtered_links['oRG'][links_pol.filtered_links['oRG']['source'] == 'KLF6']['target']"
   ]
  },
  {
   "cell_type": "code",
   "execution_count": null,
   "id": "b8140d78",
   "metadata": {
    "scrolled": true
   },
   "outputs": [],
   "source": [
    "klf6_oRG_pol.isin(klf6_vRG_pol).sum()/len(klf6_oRG_pol)"
   ]
  },
  {
   "cell_type": "code",
   "execution_count": null,
   "id": "6510be5a",
   "metadata": {},
   "outputs": [],
   "source": [
    "enrich_oRG_KLF6_pol19 = gp.profile(organism='hsapiens',\n",
    "            query=klf6_oRG_pol.tolist(), \n",
    "               no_evidences=False)"
   ]
  },
  {
   "cell_type": "raw",
   "id": "612af956",
   "metadata": {},
   "source": [
    "enrich_oRG_KLF6_pol19[enrich_oRG_KLF6_pol19['source'] != 'tf'].sort_values('p_value')"
   ]
  },
  {
   "cell_type": "code",
   "execution_count": null,
   "id": "f219dded",
   "metadata": {},
   "outputs": [],
   "source": [
    "enrich_vRG_KLF6_pol19 = gp.profile(organism='hsapiens',\n",
    "            query=klf6_vRG_pol.tolist(), \n",
    "               no_evidences=False)"
   ]
  },
  {
   "cell_type": "raw",
   "id": "c40aa307",
   "metadata": {},
   "source": [
    "enrich_vRG_KLF6_pol19[enrich_vRG_KLF6_pol19['source'] != 'tf'].sort_values('p_value')"
   ]
  },
  {
   "cell_type": "markdown",
   "id": "a3fb7356",
   "metadata": {},
   "source": [
    "### Shared targets between datasets"
   ]
  },
  {
   "cell_type": "code",
   "execution_count": null,
   "id": "2ebbde98",
   "metadata": {},
   "outputs": [],
   "source": [
    "d = {'Trevino21': [klf6_oRG.isin(klf6_oRG).sum()/len(klf6_oRG)*100, \n",
    "               klf6_oRG.isin(klf6_oRG_pol).sum()/len(klf6_oRG)*100,\n",
    " klf6_vRG.isin(klf6_vRG).sum()/len(klf6_vRG)*100, \n",
    " klf6_vRG.isin(klf6_vRG_pol).sum()/len(klf6_vRG)*100],\n",
    "     \n",
    " \n",
    " \n",
    " 'Polioudakis19': [klf6_oRG_pol.isin(klf6_oRG).sum()/len(klf6_oRG_pol)*100, \n",
    "                 klf6_oRG_pol.isin(klf6_oRG_pol).sum()/len(klf6_oRG_pol)*100,\n",
    "                 klf6_vRG_pol.isin(klf6_vRG).sum()/len(klf6_vRG_pol)*100, \n",
    "                 klf6_vRG_pol.isin(klf6_vRG_pol).sum()/len(klf6_vRG_pol)*100]}"
   ]
  },
  {
   "cell_type": "code",
   "execution_count": null,
   "id": "3ba0dde3",
   "metadata": {},
   "outputs": [],
   "source": [
    "overlap = pd.DataFrame(d, index=['Trevino21_oRG', 'Polioudakis19_oRG', 'Trevino21_vRG', 'Polioudakis19_vRG'])"
   ]
  },
  {
   "cell_type": "raw",
   "id": "06dacc83",
   "metadata": {},
   "source": []
  },
  {
   "cell_type": "markdown",
   "id": "f9c6da7b",
   "metadata": {},
   "source": [
    "### **Polioudakis 2019 KLF6 regulon**"
   ]
  },
  {
   "cell_type": "code",
   "execution_count": null,
   "id": "491f46f9",
   "metadata": {},
   "outputs": [],
   "source": [
    "!wget https://www.cell.com/cms/10.1016/j.neuron.2019.06.011/attachment/d6337751-fed2-4e9c-ac8d-1a0d3ad24373/mmc8.xlsx -O mmc8.xlsx"
   ]
  },
  {
   "cell_type": "code",
   "execution_count": null,
   "id": "9d3bfb9a",
   "metadata": {
    "scrolled": true
   },
   "outputs": [],
   "source": [
    "regulons = pd.read_excel(\"mmc8.xlsx\", sheet_name=\"TF gene modules\")"
   ]
  },
  {
   "cell_type": "code",
   "execution_count": null,
   "id": "e1559ee8",
   "metadata": {},
   "outputs": [],
   "source": [
    "klf6_regulon = regulons[['KLF6']].dropna()"
   ]
  },
  {
   "cell_type": "code",
   "execution_count": null,
   "id": "9d3660c5",
   "metadata": {},
   "outputs": [],
   "source": [
    "klf6_regulon_list = klf6_regulon.KLF6.values.tolist()"
   ]
  },
  {
   "cell_type": "code",
   "execution_count": null,
   "id": "86dbc7f8",
   "metadata": {},
   "outputs": [],
   "source": [
    "klf6_regulon_list.append(\"KLF6\")"
   ]
  },
  {
   "cell_type": "code",
   "execution_count": null,
   "id": "2cc2e585",
   "metadata": {},
   "outputs": [],
   "source": [
    "enrich_regulon_pol19 = gp.profile(organism='hsapiens',\n",
    "            query=klf6_regulon_list, \n",
    "               no_evidences=False)"
   ]
  },
  {
   "cell_type": "code",
   "execution_count": null,
   "id": "c71296cd",
   "metadata": {},
   "outputs": [],
   "source": [
    "!rm mmc8.xlsx"
   ]
  },
  {
   "cell_type": "markdown",
   "id": "f74465b7",
   "metadata": {},
   "source": [
    "### Saving results to xlsx file"
   ]
  },
  {
   "cell_type": "raw",
   "id": "e2c59329",
   "metadata": {},
   "source": [
    "output_directory = '/home/jovyan/jm_jlab/data_indNeuro/consensus_atlas_ATACregions_hg38/'"
   ]
  },
  {
   "cell_type": "code",
   "execution_count": null,
   "id": "b0e1282f",
   "metadata": {},
   "outputs": [],
   "source": [
    "sheet_names_klf6 = dict({0:\"oRG_Trevino21_KLF6\",1:\"vRG_Trevino21_KLF6\",2:\"oRG_Polioudakis19_KLF6\",3:\"vRG_Polioudakis19_KLF6\",4:'KLF6targets_overlap',5:'Polioudakis19_KLF6regulon'})"
   ]
  },
  {
   "cell_type": "code",
   "execution_count": null,
   "id": "20e94499",
   "metadata": {},
   "outputs": [],
   "source": [
    "sheet_names_klf6"
   ]
  },
  {
   "cell_type": "raw",
   "id": "87f17f95",
   "metadata": {},
   "source": [
    "writer = pd.ExcelWriter(output_directory+\"KLF6targets_GOenrich.xlsx\", engine='xlsxwriter')\n",
    "\n",
    "for i,n in enumerate([enrich_oRG,enrich_vRG, enrich_oRG_KLF6_pol19, enrich_vRG_KLF6_pol19, overlap, enrich_regulon_pol19]):\n",
    "\n",
    "    if sheet_names_klf6[i] != \"KLF6targets_overlap\":\n",
    "        n.to_excel(writer, sheet_name=sheet_names_klf6[i], index=False)\n",
    "    else:\n",
    "        n.to_excel(writer, sheet_name=sheet_names_klf6[i])\n",
    "writer.close()"
   ]
  },
  {
   "cell_type": "code",
   "execution_count": null,
   "id": "1e6bd6b9",
   "metadata": {},
   "outputs": [],
   "source": [
    "cbl_github = '/home/jovyan/jm_jlab/CBL_data/indirectNeurogenesis/GRN_CellOracle/'"
   ]
  },
  {
   "cell_type": "raw",
   "id": "cf83165c",
   "metadata": {},
   "source": [
    "writer = pd.ExcelWriter(cbl_github+\"KLF6targets_GOenrich.xlsx\", engine='xlsxwriter')\n",
    "\n",
    "for i,n in enumerate([enrich_oRG,enrich_vRG, enrich_oRG_KLF6_pol19, enrich_vRG_KLF6_pol19, overlap, enrich_regulon_pol19]):\n",
    "\n",
    "    if sheet_names_klf6[i] != \"KLF6targets_overlap\":\n",
    "        n.to_excel(writer, sheet_name=sheet_names_klf6[i], index=False)\n",
    "    else:\n",
    "        n.to_excel(writer, sheet_name=sheet_names_klf6[i])\n",
    "writer.close()"
   ]
  },
  {
   "cell_type": "markdown",
   "id": "88295ea1",
   "metadata": {},
   "source": [
    "### GO plot"
   ]
  },
  {
   "cell_type": "raw",
   "id": "0dd82351",
   "metadata": {},
   "source": [
    "%pylab inline"
   ]
  },
  {
   "cell_type": "code",
   "execution_count": null,
   "id": "cbeab9b2",
   "metadata": {},
   "outputs": [],
   "source": [
    "top10_vRG = enrich_vRG[enrich_vRG['source'] != 'TF'].sort_values('p_value').head(10)\n",
    "top10_oRG = enrich_oRG[enrich_oRG['source'] != 'TF'].sort_values('p_value').head(10)\n",
    "\n",
    "top10_oRG['p_value'] = -np.log10(top10_oRG['p_value'])\n",
    "\n",
    "top10_vRG['p_value'] = np.log10(top10_vRG['p_value'])\n",
    "\n",
    "\n",
    "\n",
    "top10_oRG = top10_oRG[['name', 'p_value']]\n",
    "top10_oRG['color'] = 'oRG'\n",
    "\n",
    "top10_vRG = top10_vRG[['name', 'p_value']]\n",
    "top10_vRG['color'] = 'vRG'\n",
    "\n",
    "mydf = top10_oRG.append(top10_vRG, ignore_index=True)\n",
    "\n",
    "mydf['name'][0]\n",
    "\n",
    "mydf['name'][0] = 'Cholesterol metabolism' #For plotting purposes, instead of Cholesterol metabolism with Bloch and Kandutsc...\n",
    "\n",
    "plt.rcParams[\"figure.figsize\"] = [10, 6]\n",
    "\n",
    "\n",
    "g = sns.barplot(data=mydf,\n",
    "    x='p_value',\n",
    "    y='name',\n",
    "    hue='color', palette=dict({\"oRG\": \"#279E68\", \"vRG\": '#D62728'})\n",
    ")\n",
    "g.set(xlabel=\"-log10 p-value\") \n",
    "g.set(ylabel=None)  # remove the axis label\n",
    "g.set_xticklabels(np.array([0, 7.5, 5, 2.5, 0, 2.5, 5, 7.5, 10])) #all log10\n",
    "sns.despine()\n",
    "\n",
    "plt.legend(title=\"\", loc=4)\n",
    "plt.yticks(fontsize=15, rotation=0)\n",
    "plt.show()"
   ]
  },
  {
   "cell_type": "code",
   "execution_count": null,
   "id": "d54e6668",
   "metadata": {},
   "outputs": [],
   "source": [
    "top10_vRG = enrich_vRG[enrich_vRG['source'] != 'TF'].sort_values('p_value').head(10)\n",
    "top10_oRG = enrich_oRG[enrich_oRG['source'] != 'TF'].sort_values('p_value').head(10)\n",
    "\n",
    "top10_oRG['p_value'] = -np.log10(top10_oRG['p_value'])\n",
    "\n",
    "top10_vRG['p_value'] = np.log10(top10_vRG['p_value'])\n",
    "\n",
    "\n",
    "\n",
    "top10_oRG = top10_oRG[['name', 'p_value']]\n",
    "top10_oRG['color'] = 'oRG'\n",
    "\n",
    "top10_vRG = top10_vRG[['name', 'p_value']]\n",
    "top10_vRG['color'] = 'vRG'\n",
    "\n",
    "mydf = top10_oRG.append(top10_vRG, ignore_index=True)\n",
    "\n",
    "mydf['name'][0]\n",
    "\n",
    "mydf['name'][0] = 'Cholesterol metabolism' #For plotting purposes, instead of Cholesterol metabolism with Bloch and Kandutsc...\n",
    "\n",
    "plt.rcParams[\"figure.figsize\"] = [6, 6]\n",
    "\n",
    "\n",
    "g = sns.barplot(data=mydf,\n",
    "    x='p_value',\n",
    "    y='name',\n",
    "    hue='color', palette=dict({\"oRG\": \"#279E68\", \"vRG\": '#D62728'})\n",
    ")\n",
    "g.set(xlabel=\"-log10 p-value\") \n",
    "g.set(ylabel=None)  # remove the axis label\n",
    "g.set_xticklabels(np.array([0, 7.5, 5, 2.5, 0, 2.5, 5, 7.5, 10])) #all log10\n",
    "sns.despine()\n",
    "\n",
    "plt.legend(title=\"\", loc=4)\n",
    "plt.yticks(fontsize=15, rotation=0)\n",
    "plt.show()"
   ]
  },
  {
   "cell_type": "raw",
   "id": "f806a10f",
   "metadata": {},
   "source": [
    "Polioudakis et al 2019 data"
   ]
  },
  {
   "cell_type": "code",
   "execution_count": null,
   "id": "8bcc680f",
   "metadata": {
    "scrolled": true
   },
   "outputs": [],
   "source": [
    "top10_vRG_pol = enrich_vRG_KLF6_pol19[enrich_vRG_KLF6_pol19['source'] != 'TF'].sort_values('p_value').head(10)\n",
    "top10_oRG_pol = enrich_oRG_KLF6_pol19[enrich_oRG_KLF6_pol19['source'] != 'TF'].sort_values('p_value').head(10)\n",
    "\n",
    "top10_oRG_pol['p_value'] = -np.log10(top10_oRG_pol['p_value'])\n",
    "\n",
    "top10_vRG_pol['p_value'] = np.log10(top10_vRG_pol['p_value'])\n",
    "\n",
    "\n",
    "\n",
    "top10_oRG_pol = top10_oRG_pol[['name', 'p_value']]\n",
    "top10_oRG_pol['color'] = 'oRG'\n",
    "\n",
    "top10_vRG_pol = top10_vRG_pol[['name', 'p_value']]\n",
    "top10_vRG_pol['color'] = 'vRG'\n",
    "\n",
    "mydf = top10_oRG_pol.append(top10_vRG_pol, ignore_index=True)\n",
    "\n",
    "plt.rcParams[\"figure.figsize\"] = [10, 6]\n",
    "\n",
    "\n",
    "g = sns.barplot(data=mydf,\n",
    "    x='p_value',\n",
    "    y='name',\n",
    "    hue='color', palette=dict({\"oRG\": \"#279E68\", \"vRG\": '#D62728'})\n",
    ")\n",
    "g.set(xlabel=\"-log10 p-value\") \n",
    "g.set(ylabel=None)  # remove the axis label\n",
    "g.set_xticklabels(np.array([0, 7.5, 5, 2.5, 0, 2.5, 5, 7.5, 10])) #all log10\n",
    "sns.despine()\n",
    "\n",
    "plt.legend(title=\"\", loc=4)\n",
    "plt.yticks(fontsize=15, rotation=0)\n",
    "plt.show()"
   ]
  },
  {
   "cell_type": "raw",
   "id": "b732d6b9",
   "metadata": {},
   "source": [
    "\n",
    "\n",
    "\n",
    "\n"
   ]
  },
  {
   "cell_type": "markdown",
   "id": "201dd2b3",
   "metadata": {},
   "source": [
    "# Evaluation KLF6 targets in NMF cholesterol module "
   ]
  },
  {
   "cell_type": "raw",
   "id": "8622d988",
   "metadata": {},
   "source": [
    "links = co.load_hdf5(file_path=\"/home/jovyan/jm_jlab/data_indNeuro/1.GRN/milestones_pcw16_baggindridge.celloracle.links\")"
   ]
  },
  {
   "cell_type": "raw",
   "id": "5125f67f",
   "metadata": {},
   "source": [
    "klf6_oRG = links.filtered_links['oRG'][links.filtered_links['oRG']['source'] == 'KLF6']['target']"
   ]
  },
  {
   "cell_type": "raw",
   "id": "7f7f26b8",
   "metadata": {},
   "source": [
    "klf6_oRG.head(2)"
   ]
  },
  {
   "cell_type": "raw",
   "id": "c39d6495",
   "metadata": {},
   "source": [
    "klf6_oRG[klf6_oRG.isin(piNMF_oRG['Module_4'])]"
   ]
  },
  {
   "cell_type": "raw",
   "id": "4b0676b7",
   "metadata": {},
   "source": [
    "klf6_oRG[klf6_oRG.isin(piNMF_oRG['Module_4'])].tolist()"
   ]
  },
  {
   "cell_type": "code",
   "execution_count": null,
   "id": "26176ef9",
   "metadata": {},
   "outputs": [],
   "source": [
    "piNMF_oRG = pd.read_csv(\"/home/jovyan/jm_jlab/data_indNeuro/3.NMF_data/4k_oRG_pcw16/4k_oRG_pcw16modules_to_oRG_topgenes_pcw16_4K_piNMF.tsv\", sep='\\t')"
   ]
  },
  {
   "cell_type": "code",
   "execution_count": null,
   "id": "1f1fd8f0",
   "metadata": {},
   "outputs": [],
   "source": [
    "output_directory = '/home/jovyan/jm_jlab/CBL_data/indirectNeurogenesis/GRN_CellOracle/'"
   ]
  },
  {
   "cell_type": "code",
   "execution_count": null,
   "id": "be4ab13d",
   "metadata": {},
   "outputs": [],
   "source": [
    "writer = pd.ExcelWriter(output_directory+\"KLF6targets_in_piNMF-Modules_GOenrich.xlsx\", engine='xlsxwriter')\n",
    "\n",
    "for i in ['Module_1', 'Module_2', 'Module_3', 'Module_4']:\n",
    "    tmp = gp.profile(organism='hsapiens',\n",
    "            query=klf6_oRG[klf6_oRG.isin(piNMF_oRG[i])].tolist(), \n",
    "               no_evidences=False)\n",
    "    print(i)\n",
    "    \n",
    "    tmp.to_excel(writer, sheet_name=f\"KLF6 targets in piNMF {i}\")\n",
    "    \n",
    "writer.close()"
   ]
  }
 ],
 "metadata": {
  "kernelspec": {
   "display_name": "Python 3 (ipykernel)",
   "language": "python",
   "name": "python3"
  },
  "language_info": {
   "codemirror_mode": {
    "name": "ipython",
    "version": 3
   },
   "file_extension": ".py",
   "mimetype": "text/x-python",
   "name": "python",
   "nbconvert_exporter": "python",
   "pygments_lexer": "ipython3",
   "version": "3.10.5"
  }
 },
 "nbformat": 4,
 "nbformat_minor": 5
}
