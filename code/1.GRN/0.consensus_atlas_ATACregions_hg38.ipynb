{
 "cells": [
  {
   "cell_type": "markdown",
   "id": "1a22e100-7803-4fa5-b5cd-218747b5597a",
   "metadata": {},
   "source": [
    "# **Consensus atlas of ATAC regions (hg38)** "
   ]
  },
  {
   "cell_type": "code",
   "execution_count": 2,
   "id": "aa0fe30e-afb5-4567-a95f-7d39a83781ec",
   "metadata": {},
   "outputs": [],
   "source": [
    "import pandas as pd\n",
    "\n",
    "import numpy as np\n",
    "\n",
    "import seaborn as sns\n",
    "\n",
    "import matplotlib.pyplot as plt\n",
    "\n",
    "import os\n",
    "\n",
    "# pip install gprofiler\n",
    "from gprofiler import gprofiler"
   ]
  },
  {
   "cell_type": "raw",
   "id": "1bfdd45a-e58d-4280-83e6-d8bd588cce3a",
   "metadata": {},
   "source": []
  },
  {
   "cell_type": "markdown",
   "id": "0bef1075-04a7-47b9-8d53-31b04757c738",
   "metadata": {
    "tags": []
   },
   "source": [
    "# **ATAC regulatory regions from human brain primary samples**"
   ]
  },
  {
   "cell_type": "code",
   "execution_count": 3,
   "id": "a54c862e-308c-4855-b439-9116a5aa0616",
   "metadata": {},
   "outputs": [
    {
     "data": {
      "text/plain": [
       "'/home/jovyan/jm_jlab/data_CBL/indNeuro_tmp/1.GRN'"
      ]
     },
     "execution_count": 3,
     "metadata": {},
     "output_type": "execute_result"
    }
   ],
   "source": [
    "pwd"
   ]
  },
  {
   "cell_type": "code",
   "execution_count": 4,
   "id": "db7167d6-42b9-4b22-8cd3-d3765effaf87",
   "metadata": {},
   "outputs": [],
   "source": [
    "!mkdir /home/jovyan/jm_jlab/data_indNeuro/consensus_atlas_ATACregions_hg38/"
   ]
  },
  {
   "cell_type": "code",
   "execution_count": 5,
   "id": "e341933e-e4d8-4fa6-9e66-002cc6361e2a",
   "metadata": {},
   "outputs": [],
   "source": [
    "folder = \"/home/jovyan/jm_jlab/data_indNeuro/consensus_atlas_ATACregions_hg38/\""
   ]
  },
  {
   "cell_type": "code",
   "execution_count": 6,
   "id": "5f440ae8-4110-40d8-85f3-99c38f21cc9d",
   "metadata": {},
   "outputs": [
    {
     "name": "stdout",
     "output_type": "stream",
     "text": [
      "/home/jovyan/jm_jlab/data_indNeuro/consensus_atlas_ATACregions_hg38\n"
     ]
    }
   ],
   "source": [
    "cd $folder"
   ]
  },
  {
   "cell_type": "raw",
   "id": "24fef130-068e-4309-afe4-dcc0fff7a795",
   "metadata": {},
   "source": []
  },
  {
   "cell_type": "markdown",
   "id": "d66f2bf0-a711-4eac-bdf6-aa774214dff6",
   "metadata": {},
   "source": [
    "### **Trevino all (hg38)**"
   ]
  },
  {
   "cell_type": "code",
   "execution_count": 7,
   "id": "45087741-668f-494d-b45e-0e2d6bb5f5c1",
   "metadata": {},
   "outputs": [
    {
     "name": "stdout",
     "output_type": "stream",
     "text": [
      "--2023-01-20 10:16:07--  https://atrev.s3.amazonaws.com/brainchromatin/multiome_atac_consensus_peaks.txt.gz\n",
      "Resolving atrev.s3.amazonaws.com (atrev.s3.amazonaws.com)... 52.217.142.65, 52.217.199.25, 52.217.234.65, ...\n",
      "Connecting to atrev.s3.amazonaws.com (atrev.s3.amazonaws.com)|52.217.142.65|:443... connected.\n",
      "HTTP request sent, awaiting response... 200 OK\n",
      "Length: 18315449 (17M) [application/octet-stream]\n",
      "Saving to: ‘tr21multiome.txt.gz’\n",
      "\n",
      "tr21multiome.txt.gz 100%[===================>]  17.47M  3.40MB/s    in 13s     \n",
      "\n",
      "2023-01-20 10:16:20 (1.39 MB/s) - ‘tr21multiome.txt.gz’ saved [18315449/18315449]\n",
      "\n",
      "--2023-01-20 10:16:21--  https://atrev.s3.amazonaws.com/brainchromatin/atac_consensus_peaks.bed.gz\n",
      "Resolving atrev.s3.amazonaws.com (atrev.s3.amazonaws.com)... 54.231.171.57, 54.231.225.73, 52.216.168.235, ...\n",
      "Connecting to atrev.s3.amazonaws.com (atrev.s3.amazonaws.com)|54.231.171.57|:443... connected.\n",
      "HTTP request sent, awaiting response... 200 OK\n",
      "Length: 5289232 (5.0M) [application/octet-stream]\n",
      "Saving to: ‘tr21atac.bed.gz’\n",
      "\n",
      "tr21atac.bed.gz     100%[===================>]   5.04M  3.58MB/s    in 1.4s    \n",
      "\n",
      "2023-01-20 10:16:23 (3.58 MB/s) - ‘tr21atac.bed.gz’ saved [5289232/5289232]\n",
      "\n"
     ]
    }
   ],
   "source": [
    "# From GitHub: https://github.com/GreenleafLab/brainchromatin/blob/main/links.txt\n",
    "\n",
    "#Multiome:\n",
    "!wget https://atrev.s3.amazonaws.com/brainchromatin/multiome_atac_consensus_peaks.txt.gz -O tr21multiome.txt.gz\n",
    "\n",
    "#single ATAC-seq\n",
    "!wget https://atrev.s3.amazonaws.com/brainchromatin/atac_consensus_peaks.bed.gz -O tr21atac.bed.gz"
   ]
  },
  {
   "cell_type": "markdown",
   "id": "6d8a3143-f0b7-44ce-8455-f4151d3f3e5d",
   "metadata": {},
   "source": [
    "**Markenscoff-Papadimitriou et al (hg38)**"
   ]
  },
  {
   "cell_type": "code",
   "execution_count": 8,
   "id": "04265d24-b048-47c2-a970-7d4e7395dab8",
   "metadata": {},
   "outputs": [
    {
     "name": "stdout",
     "output_type": "stream",
     "text": [
      "--2023-01-20 10:16:24--  https://ftp.ncbi.nlm.nih.gov/geo/series/GSE149nnn/GSE149268/suppl/GSE149268%5Fannotation%2Docr%2Dhg38%2Ebed%2Egz\n",
      "Resolving ftp.ncbi.nlm.nih.gov (ftp.ncbi.nlm.nih.gov)... 130.14.250.10, 165.112.9.230, 2607:f220:41e:250::12, ...\n",
      "Connecting to ftp.ncbi.nlm.nih.gov (ftp.ncbi.nlm.nih.gov)|130.14.250.10|:443... connected.\n",
      "HTTP request sent, awaiting response... 200 OK\n",
      "Length: 862987 (843K) [application/x-gzip]\n",
      "Saving to: ‘mk20ocr.txt.gz’\n",
      "\n",
      "mk20ocr.txt.gz      100%[===================>] 842.76K   622KB/s    in 1.4s    \n",
      "\n",
      "2023-01-20 10:16:27 (622 KB/s) - ‘mk20ocr.txt.gz’ saved [862987/862987]\n",
      "\n"
     ]
    }
   ],
   "source": [
    "!wget https://ftp.ncbi.nlm.nih.gov/geo/series/GSE149nnn/GSE149268/suppl/GSE149268%5Fannotation%2Docr%2Dhg38%2Ebed%2Egz -O mk20ocr.txt.gz"
   ]
  },
  {
   "cell_type": "markdown",
   "id": "e6f41abf-81ee-408d-85be-4ec43da6a225",
   "metadata": {},
   "source": [
    "**de la Torre-Ubieta et. al (hg19)**"
   ]
  },
  {
   "cell_type": "raw",
   "id": "6f80ea41-e454-42d8-bb15-018dceaa1a1a",
   "metadata": {},
   "source": [
    "n = ~62k\n",
    "The DiffBind (Ross-Innes et al., 2012) package (v1.10.2) was used to find high confidence peaks present in at least 40% of samples. We used a 40% threshold for overlapping peaks across samples as a stringent threshold to define a peak, because each peak identified in this fashion must be present in all donors of a given condition (GZ or CP). This stringent threshold increases confidence that these peaks are reproducible, as each peak must be called multiple times in both technical and biological replicates. When we used lower thresholds ranging from 10%–30% we found the expected decrease in correlation across replicates, further supporting the 40% threshold, which gave maximum confidence, while not requiring the peaks to be present in both GZ and CP, which would be the case if a higher threshold were used. Using our conservative thresholds we identified 62,005 peaks with an average merged peak width of 1188 bp (SD ± 757 bp)"
   ]
  },
  {
   "cell_type": "code",
   "execution_count": 9,
   "id": "bfcacec6-53bc-477f-b8ae-fa22c1837504",
   "metadata": {},
   "outputs": [
    {
     "name": "stdout",
     "output_type": "stream",
     "text": [
      "--2023-01-20 10:16:28--  https://www.cell.com/cms/10.1016/j.cell.2017.12.014/attachment/ec8faf3a-8470-4855-886d-cfb014c48573/mmc1.xlsx\n",
      "Resolving www.cell.com (www.cell.com)... 104.18.123.114, 104.18.124.114\n",
      "Connecting to www.cell.com (www.cell.com)|104.18.123.114|:443... connected.\n",
      "HTTP request sent, awaiting response... 200 OK\n",
      "Length: 9764146 (9.3M) [application/octet-stream]\n",
      "Saving to: ‘dT.xlsx’\n",
      "\n",
      "dT.xlsx             100%[===================>]   9.31M  10.5MB/s    in 0.9s    \n",
      "\n",
      "2023-01-20 10:16:30 (10.5 MB/s) - ‘dT.xlsx’ saved [9764146/9764146]\n",
      "\n"
     ]
    }
   ],
   "source": [
    "!wget https://www.cell.com/cms/10.1016/j.cell.2017.12.014/attachment/ec8faf3a-8470-4855-886d-cfb014c48573/mmc1.xlsx -O dT.xlsx"
   ]
  },
  {
   "cell_type": "markdown",
   "id": "bbd7ac71-e106-499c-952c-8918d50b6ae7",
   "metadata": {},
   "source": [
    "**Processing**"
   ]
  },
  {
   "cell_type": "code",
   "execution_count": 10,
   "id": "7f20b3f1-9fc3-4be8-aa76-3cda919410f2",
   "metadata": {},
   "outputs": [
    {
     "name": "stdout",
     "output_type": "stream",
     "text": [
      "dT.xlsx  \u001b[0m\u001b[01;31mmk20ocr.txt.gz\u001b[0m  \u001b[01;31mtr21atac.bed.gz\u001b[0m  \u001b[01;31mtr21multiome.txt.gz\u001b[0m\n"
     ]
    }
   ],
   "source": [
    "ls"
   ]
  },
  {
   "cell_type": "code",
   "execution_count": 11,
   "id": "22885b8e-cc45-450b-908d-6b54eab0b028",
   "metadata": {},
   "outputs": [],
   "source": [
    "mk20 = pd.read_csv(\"mk20ocr.txt.gz\", sep='\\t', header=None, compression=\"gzip\")\n",
    "mk20[3] = \"mk20_\"+mk20.index.astype(str)\n",
    "mk20 = mk20[~mk20[0].isin(['chr7_KI270803v1_alt', 'chr8_KI270821v1_alt', 'chr15_KI270850v1_alt', 'chr22_KI270879v1_alt'])]"
   ]
  },
  {
   "cell_type": "code",
   "execution_count": 13,
   "id": "a6109ddd-1193-4a81-aca4-75d3a0827f17",
   "metadata": {},
   "outputs": [
    {
     "name": "stdout",
     "output_type": "stream",
     "text": [
      "Number of peaks: 103804\n"
     ]
    }
   ],
   "source": [
    "#print(mk20.head())\n",
    "print(\"Number of peaks: %d\" %len(mk20))"
   ]
  },
  {
   "cell_type": "code",
   "execution_count": 14,
   "id": "8456ca78-c62b-4464-892e-96a3ff086b20",
   "metadata": {},
   "outputs": [
    {
     "name": "stdout",
     "output_type": "stream",
     "text": [
      "--2023-01-20 10:18:33--  https://hgdownload.cse.ucsc.edu/goldenpath/hg38/bigZips/hg38.chrom.sizes\n",
      "Resolving hgdownload.cse.ucsc.edu (hgdownload.cse.ucsc.edu)... 128.114.119.163\n",
      "Connecting to hgdownload.cse.ucsc.edu (hgdownload.cse.ucsc.edu)|128.114.119.163|:443... connected.\n",
      "HTTP request sent, awaiting response... 200 OK\n",
      "Length: 11672 (11K)\n",
      "Saving to: ‘hg38.chrom.sizes’\n",
      "\n",
      "hg38.chrom.sizes    100%[===================>]  11.40K  --.-KB/s    in 0s      \n",
      "\n",
      "2023-01-20 10:18:35 (92.5 MB/s) - ‘hg38.chrom.sizes’ saved [11672/11672]\n",
      "\n"
     ]
    }
   ],
   "source": [
    "# Downloading hg38 chromosome sizes as required for flankBed\n",
    "!wget https://hgdownload.cse.ucsc.edu/goldenpath/hg38/bigZips/hg38.chrom.sizes"
   ]
  },
  {
   "cell_type": "markdown",
   "id": "6be6670d-ce63-4a9b-9dcb-c7686631d466",
   "metadata": {},
   "source": [
    "**Function for plotting peak count per chromosome and lineplot for chromosome size**"
   ]
  },
  {
   "cell_type": "code",
   "execution_count": 16,
   "id": "8fd7a6b5-4fe8-40f7-a200-980e3bca3d86",
   "metadata": {},
   "outputs": [],
   "source": [
    "def peak_count_plot(dataframe):\n",
    "    df_plot = dataframe.iloc[:,0].value_counts().rename_axis('chromosomes').reset_index(name='counts')\n",
    "    df_plot['counts'] = np.log(df_plot['counts'])\n",
    "\n",
    "    chrsizes = pd.read_csv(\"/home/jovyan/jm_jlab/data_indNeuro/consensus_atlas_ATACregions_hg38/hg38.chrom.sizes\", header=None, sep='\\t')\n",
    "\n",
    "    chrsizes.rename(columns={0:\"chromosomes\", 1:\"size\"}, inplace=True)\n",
    "\n",
    "    df_plot = df_plot.merge(chrsizes, how = 'inner', on = ['chromosomes'])\n",
    "    df_plot['size'] = np.log(df_plot['size'])\n",
    "\n",
    "    df_plot['chromosomes'] = df_plot['chromosomes'].str.replace(r'chr', '')\n",
    "    df_plot.sort_values(by=['chromosomes'], inplace=True)\n",
    "    print(df_plot.head())\n",
    "    print(len(df_plot.head()))\n",
    "\n",
    "    chr_list = dataframe.iloc[:,0].value_counts().rename_axis('chromosomes').reset_index(name='counts')['chromosomes'].unique()   \n",
    "    \n",
    "    if len(chr_list) < 22:\n",
    "        raise \"Function was expecting at least 22 chromosomes\"\n",
    "    if 'chrX' and 'chrY' in chr_list:\n",
    "        p1 = sns.barplot(data=df_plot, x=\"chromosomes\", y=\"size\", order=np.arange(1,23).astype(str).tolist()+['X','Y'])\n",
    "        p1.set_xticklabels(p1.get_xticklabels(), rotation=90)\n",
    "    if ('chrX' in chr_list) and ('chrY' not in chr_list):\n",
    "        p1 = sns.barplot(data=df_plot, x=\"chromosomes\", y=\"size\", order=np.arange(1,23).astype(str).tolist()+['X'])\n",
    "        p1.set_xticklabels(p1.get_xticklabels(), rotation=90)\n",
    "    if ('chrY' in chr_list) and ('chrX' not in chr_list):\n",
    "        p1 = sns.barplot(data=df_plot, x=\"chromosomes\", y=\"size\", order=np.arange(1,23).astype(str).tolist()+['Y'])\n",
    "        p1.set_xticklabels(p1.get_xticklabels(), rotation=90)\n",
    "    if ('chrY' not in chr_list) and ('chrX' not in chr_list):\n",
    "        p1 = sns.barplot(data=df_plot, x=\"chromosomes\", y=\"size\", order=np.arange(1,23).astype(str).tolist())\n",
    "        p1.set_xticklabels(p1.get_xticklabels(), rotation=90)\n",
    "        \n",
    "    # get the xtick locations\n",
    "    xticks = p1.get_xticks()\n",
    "\n",
    "    # plot the line to the xtick locs (or df.index)\n",
    "    p2 = sns.lineplot(data=df_plot, x=xticks, y='counts', marker='o', ax=p1)\n",
    "\n",
    "    p1.set(ylabel='log peak count (bar) or log chr size (line)', xlabel='chromosome')\n",
    "    plt.show()\n",
    "      "
   ]
  },
  {
   "cell_type": "code",
   "execution_count": 17,
   "id": "4497a9dd-4d53-40f7-b345-729fb3098b53",
   "metadata": {},
   "outputs": [
    {
     "name": "stdout",
     "output_type": "stream",
     "text": [
      "   chromosomes    counts       size\n",
      "1            1  9.052048  19.332788\n",
      "9           10  8.538367  18.711837\n",
      "8           11  8.564077  18.721427\n",
      "10          12  8.473659  18.707928\n",
      "12          13  8.227643  18.554900\n",
      "5\n"
     ]
    },
    {
     "data": {
      "image/png": "[encoded data removed]",
      "text/plain": [
       "<Figure size 432x288 with 1 Axes>"
      ]
     },
     "metadata": {
      "needs_background": "light"
     },
     "output_type": "display_data"
    }
   ],
   "source": [
    "peak_count_plot(mk20)"
   ]
  },
  {
   "cell_type": "raw",
   "id": "309e1ee7-d227-4515-9d5a-ac92b9d60015",
   "metadata": {},
   "source": []
  },
  {
   "cell_type": "code",
   "execution_count": 18,
   "id": "e1296427-82f1-4e26-b0c8-f5aabf9df2a0",
   "metadata": {},
   "outputs": [],
   "source": [
    "tr21singl = pd.read_csv(\"tr21atac.bed.gz\", sep='\\t', header=None, compression='gzip')\n",
    "tr21singl = tr21singl.iloc[:,0:3]\n",
    "tr21singl[3] = \"tr21singleome_\"+tr21singl.index.astype(str)\n",
    "tr21mult = pd.read_csv(\"tr21multiome.txt.gz\", sep='\\t', compression='gzip')\n",
    "tr21mult = tr21mult.iloc[:,0:3]\n",
    "tr21mult['start'] = tr21mult['start']-1 #Must be 0-based\n",
    "tr21mult[3] = \"tr21multiome_\"+tr21mult.index.astype(str)"
   ]
  },
  {
   "cell_type": "code",
   "execution_count": 19,
   "id": "cf605c13-3b6d-44ad-b555-a3aa3777e7b4",
   "metadata": {},
   "outputs": [
    {
     "name": "stdout",
     "output_type": "stream",
     "text": [
      "Number of peaks Trevino singleome: 657930\n",
      "\n",
      "Number of peaks Trevino multiome: 467315\n"
     ]
    }
   ],
   "source": [
    "#print(tr21singl.head())\n",
    "print(\"Number of peaks Trevino singleome: %d\" %len(tr21singl))\n",
    "print(\"\")\n",
    "\n",
    "#print(tr21mult.head())\n",
    "print(\"Number of peaks Trevino multiome: %d\" %len(tr21mult))"
   ]
  },
  {
   "cell_type": "code",
   "execution_count": 20,
   "id": "fa7f549d-7074-4450-a635-c92b913fb534",
   "metadata": {},
   "outputs": [
    {
     "name": "stdout",
     "output_type": "stream",
     "text": [
      "   chromosomes     counts       size\n",
      "1            1  10.964138  19.332788\n",
      "9           10  10.421924  18.711837\n",
      "7           11  10.443280  18.721427\n",
      "10          12  10.387456  18.707928\n",
      "14          13   9.958686  18.554900\n",
      "5\n"
     ]
    },
    {
     "data": {
      "image/png": "[encoded data removed]",
      "text/plain": [
       "<Figure size 432x288 with 1 Axes>"
      ]
     },
     "metadata": {
      "needs_background": "light"
     },
     "output_type": "display_data"
    }
   ],
   "source": [
    "peak_count_plot(tr21singl)"
   ]
  },
  {
   "cell_type": "code",
   "execution_count": 21,
   "id": "e5e209b3-e2ae-4143-9e57-26e1c8707efe",
   "metadata": {},
   "outputs": [
    {
     "name": "stdout",
     "output_type": "stream",
     "text": [
      "   chromosomes     counts       size\n",
      "0            1  10.630674  19.332788\n",
      "9           10  10.065946  18.711837\n",
      "6           11  10.130822  18.721427\n",
      "10          12  10.024288  18.707928\n",
      "16          13   9.553292  18.554900\n",
      "5\n"
     ]
    },
    {
     "data": {
      "image/png": "[encoded data removed]",
      "text/plain": [
       "<Figure size 432x288 with 1 Axes>"
      ]
     },
     "metadata": {
      "needs_background": "light"
     },
     "output_type": "display_data"
    }
   ],
   "source": [
    "peak_count_plot(tr21mult)"
   ]
  },
  {
   "cell_type": "raw",
   "id": "d2b47f3f-84d3-426a-800d-3b2aed297e2d",
   "metadata": {},
   "source": []
  },
  {
   "cell_type": "code",
   "execution_count": 23,
   "id": "4ac98b8f-1bc1-4e29-a5a2-9cc92c70bd55",
   "metadata": {},
   "outputs": [
    {
     "name": "stdout",
     "output_type": "stream",
     "text": [
      "dT.xlsx  hg38.chrom.sizes  \u001b[0m\u001b[01;31mmk20ocr.txt.gz\u001b[0m  \u001b[01;31mtr21atac.bed.gz\u001b[0m  \u001b[01;31mtr21multiome.txt.gz\u001b[0m\n"
     ]
    }
   ],
   "source": [
    "ls"
   ]
  },
  {
   "cell_type": "code",
   "execution_count": 24,
   "id": "a98a0991-9229-43f0-b3a8-210024871f12",
   "metadata": {},
   "outputs": [
    {
     "name": "stdout",
     "output_type": "stream",
     "text": [
      "  Chr  peakstart  peakend   baseMean  log2FoldChange     lfcSE      stat  \\\n",
      "0   1      10063    10571  10.714139        0.609023  0.252019  2.416574   \n",
      "1   1     713768   714577  68.479998        0.048751  0.119628  0.407526   \n",
      "\n",
      "     pvalue      padj  GCcontent                      ENSGIDatTSS HGNCatTSS  \\\n",
      "0  0.015667  0.027984   0.550098                  ENSG00000223972   DDX11L1   \n",
      "1  0.683622  0.744199   0.649383  ENSG00000228327;ENSG00000237491         ;   \n",
      "\n",
      "                         biotypeatTSS  \n",
      "0  transcribed_unprocessed_pseudogene  \n",
      "1                     lincRNA;lincRNA  \n"
     ]
    },
    {
     "name": "stderr",
     "output_type": "stream",
     "text": [
      "/opt/conda/lib/python3.10/site-packages/openpyxl/worksheet/_reader.py:312: UserWarning: Unknown extension is not supported and will be removed\n",
      "  warn(msg)\n"
     ]
    }
   ],
   "source": [
    "dT_hg19 = pd.read_excel(\"./dT.xlsx\") #pip install openpyxl\n",
    "print(dT_hg19.head(2))"
   ]
  },
  {
   "cell_type": "code",
   "execution_count": 25,
   "id": "fc044b1d-9657-4b2c-8935-fb8cb3126689",
   "metadata": {},
   "outputs": [
    {
     "name": "stdout",
     "output_type": "stream",
     "text": [
      "    Chr  peakstart  peakend\n",
      "0  chr1      10063    10571\n",
      "1  chr1     713768   714577\n",
      "Number of peaks 62005\n"
     ]
    }
   ],
   "source": [
    "dT_hg19 = dT_hg19.iloc[:,0:3]\n",
    "dT_hg19['Chr'] = 'chr'+dT_hg19['Chr'].astype(str)\n",
    "print(dT_hg19.head(2))\n",
    "dT_hg19['peak_name'] = \"dT18_\"+dT_hg19.index.astype(str)\n",
    "print(\"Number of peaks %d\" %len(dT_hg19))"
   ]
  },
  {
   "cell_type": "code",
   "execution_count": 26,
   "id": "510becaa-9062-4520-bfc4-4c7964cfeab8",
   "metadata": {},
   "outputs": [
    {
     "name": "stdout",
     "output_type": "stream",
     "text": [
      "   chromosomes    counts       size\n",
      "1            1  8.555067  19.332788\n",
      "10          10  7.953670  18.711837\n",
      "8           11  8.087333  18.721427\n",
      "9           12  8.047829  18.707928\n",
      "12          13  7.742836  18.554900\n",
      "5\n"
     ]
    },
    {
     "data": {
      "image/png": "[encoded data removed]",
      "text/plain": [
       "<Figure size 432x288 with 1 Axes>"
      ]
     },
     "metadata": {
      "needs_background": "light"
     },
     "output_type": "display_data"
    }
   ],
   "source": [
    "peak_count_plot(dT_hg19) #chromosome size corresponds to hg38 though, just in case to spot weird things"
   ]
  },
  {
   "cell_type": "raw",
   "id": "8c409a36-e032-48eb-927b-dcf61717fb34",
   "metadata": {},
   "source": []
  },
  {
   "cell_type": "markdown",
   "id": "e345bfcf-d161-4d25-aa14-ad6d0a1a9f24",
   "metadata": {},
   "source": [
    "**Saving bed files**"
   ]
  },
  {
   "cell_type": "code",
   "execution_count": 27,
   "id": "7ec8a56f-3cfe-48df-8fd0-d774487fe080",
   "metadata": {},
   "outputs": [],
   "source": [
    "tr21singl.to_csv(\"./trS.bed\", sep='\\t', header=None, index=False)\n",
    "tr21mult.to_csv(\"./trM.bed\", sep='\\t', header=None, index=False)\n",
    "mk20.to_csv(\"./mk20.bed\", sep='\\t', header=None, index=False)\n",
    "dT_hg19.to_csv(\"./dT18_hg19.bed\", sep='\\t', header=None, index=False)"
   ]
  },
  {
   "cell_type": "code",
   "execution_count": 28,
   "id": "aeb62cd1-e463-4e37-9955-64b5a01ffcb0",
   "metadata": {},
   "outputs": [],
   "source": [
    "for item in ['tr21multiome.txt.gz', 'tr21atac.bed.gz', 'mk20ocr.txt.gz', 'dT.xlsx']:\n",
    "    os.remove(item)"
   ]
  },
  {
   "cell_type": "code",
   "execution_count": 29,
   "id": "bdad8b35-5f4a-48e5-8a5a-227af36fd3af",
   "metadata": {},
   "outputs": [
    {
     "name": "stdout",
     "output_type": "stream",
     "text": [
      "dT18_hg19.bed  hg38.chrom.sizes  mk20.bed  trM.bed  trS.bed\n"
     ]
    }
   ],
   "source": [
    "ls"
   ]
  },
  {
   "cell_type": "code",
   "execution_count": 30,
   "id": "afe407a5-b69a-4245-8230-2a58d218dd85",
   "metadata": {},
   "outputs": [],
   "source": [
    "!bedtools sort -i trS.bed > trS_sorted.bed"
   ]
  },
  {
   "cell_type": "code",
   "execution_count": 31,
   "id": "1097dc1c-8d72-4f57-a387-deecd12eda42",
   "metadata": {},
   "outputs": [],
   "source": [
    "!bedtools sort -i trM.bed > trM_sorted.bed"
   ]
  },
  {
   "cell_type": "code",
   "execution_count": 32,
   "id": "81be8141-5c9f-4e59-b0b9-4adab6607f90",
   "metadata": {},
   "outputs": [],
   "source": [
    "!bedtools sort -i mk20.bed > mk_sorted.bed"
   ]
  },
  {
   "cell_type": "code",
   "execution_count": 33,
   "id": "2b7f2650-7031-4dbf-b0f0-b277dbc67e05",
   "metadata": {},
   "outputs": [],
   "source": [
    "!bedtools sort -i dT18_hg19.bed > dT18_hg19_sorted.bed"
   ]
  },
  {
   "cell_type": "code",
   "execution_count": 34,
   "id": "5742ca13-fc62-47e4-a707-cad6e3b37c8b",
   "metadata": {},
   "outputs": [],
   "source": [
    "for item in ['dT18_hg19.bed',  'mk20.bed',  'trM.bed',  'trS.bed']:\n",
    "    os.remove(item)"
   ]
  },
  {
   "cell_type": "code",
   "execution_count": 35,
   "id": "b5d341e9-eb1d-42f1-b306-deed5f8007fe",
   "metadata": {},
   "outputs": [
    {
     "name": "stdout",
     "output_type": "stream",
     "text": [
      "657930\n",
      "467315\n",
      "103804\n",
      "62005\n"
     ]
    }
   ],
   "source": [
    "!cat trS_sorted.bed | wc -l\n",
    "!cat trM_sorted.bed | wc -l\n",
    "!cat mk_sorted.bed | wc -l\n",
    "!cat dT18_hg19_sorted.bed | wc -l"
   ]
  },
  {
   "cell_type": "markdown",
   "id": "f42c9d84-ebe6-4c00-981c-5d2ada463e29",
   "metadata": {},
   "source": [
    "**de la Torre-Ubieta hg19 to hg38**"
   ]
  },
  {
   "cell_type": "raw",
   "id": "c4ace9de-cd7d-4ef9-b49c-4c0735c8c362",
   "metadata": {},
   "source": [
    "conda install -c bioconda ucsc-liftover"
   ]
  },
  {
   "cell_type": "code",
   "execution_count": 36,
   "id": "9cf8483c-c4ca-4c28-ad0b-b31524906fb9",
   "metadata": {},
   "outputs": [
    {
     "name": "stdout",
     "output_type": "stream",
     "text": [
      "--2023-01-20 10:22:50--  https://hgdownload.cse.ucsc.edu/goldenpath/hg19/liftOver/hg19ToHg38.over.chain.gz\n",
      "Resolving hgdownload.cse.ucsc.edu (hgdownload.cse.ucsc.edu)... 128.114.119.163\n",
      "Connecting to hgdownload.cse.ucsc.edu (hgdownload.cse.ucsc.edu)|128.114.119.163|:443... connected.\n",
      "HTTP request sent, awaiting response... 200 OK\n",
      "Length: 227698 (222K) [application/x-gzip]\n",
      "Saving to: ‘hg19ToHg38.over.chain.gz’\n",
      "\n",
      "hg19ToHg38.over.cha 100%[===================>] 222.36K   343KB/s    in 0.6s    \n",
      "\n",
      "2023-01-20 10:22:51 (343 KB/s) - ‘hg19ToHg38.over.chain.gz’ saved [227698/227698]\n",
      "\n"
     ]
    }
   ],
   "source": [
    "!wget https://hgdownload.cse.ucsc.edu/goldenpath/hg19/liftOver/hg19ToHg38.over.chain.gz"
   ]
  },
  {
   "cell_type": "raw",
   "id": "3ac0b255-7525-4b88-beaa-2daee5a34751",
   "metadata": {},
   "source": [
    "#Terminal\n",
    "liftOver dT18_hg19_sorted.bed hg19ToHg38.over.chain.gz dT18_hg38_sorted.bed dT18_unlifted.bed"
   ]
  },
  {
   "cell_type": "code",
   "execution_count": 37,
   "id": "ed5151a4-2a2b-4489-84a5-8c5418702aff",
   "metadata": {},
   "outputs": [],
   "source": [
    "!rm dT18_unlifted.bed # wc -l: 48\n",
    "!rm dT18_hg19_sorted.bed"
   ]
  },
  {
   "cell_type": "code",
   "execution_count": 38,
   "id": "84d122b8-ae35-4b7c-873f-a3a0905faf1f",
   "metadata": {},
   "outputs": [
    {
     "name": "stdout",
     "output_type": "stream",
     "text": [
      "dT18_hg38_sorted.bed      hg38.chrom.sizes  trM_sorted.bed\n",
      "\u001b[0m\u001b[01;31mhg19ToHg38.over.chain.gz\u001b[0m  mk_sorted.bed     trS_sorted.bed\n"
     ]
    }
   ],
   "source": [
    "ls"
   ]
  },
  {
   "cell_type": "code",
   "execution_count": 40,
   "id": "951ccbdb-8bbe-471c-ad9c-73132dc58b72",
   "metadata": {},
   "outputs": [
    {
     "name": "stdout",
     "output_type": "stream",
     "text": [
      "chr1\t10027\t10528\ttr21singleome_0\tdT18_hg38_sorted.bed\tchr1\t10063\t10571\tdT18_0\t465\n",
      "chr1\t180646\t181147\ttr21singleome_1\ttrM_sorted.bed\tchr1\t180450\t180951\ttr21multiome_0\t305\n",
      "uniq: write error: Broken pipe\n"
     ]
    }
   ],
   "source": [
    "!intersectBed -wo -filenames -f 0.5 -a trS_sorted.bed -b trM_sorted.bed mk_sorted.bed dT18_hg38_sorted.bed | uniq | head -n 2 "
   ]
  },
  {
   "cell_type": "code",
   "execution_count": 41,
   "id": "b010477c-e78c-4531-9250-160e66c00f47",
   "metadata": {},
   "outputs": [
    {
     "name": "stdout",
     "output_type": "stream",
     "text": [
      "chr1\t10027\t10528\ttr21singleome_0\n",
      "chr1\t180646\t181147\ttr21singleome_1\n",
      "uniq: write error: Broken pipe\n"
     ]
    }
   ],
   "source": [
    "# -wa to show original entries; in this case, Trevino singleome\n",
    "!intersectBed -wa -f 0.5 -a trS_sorted.bed -b trM_sorted.bed mk_sorted.bed dT18_hg38_sorted.bed | uniq | head -n 2"
   ]
  },
  {
   "cell_type": "raw",
   "id": "5d52b570-f9da-480a-80cd-6a1bad6f8d29",
   "metadata": {},
   "source": []
  },
  {
   "cell_type": "code",
   "execution_count": 42,
   "id": "0f1a0400-2c0b-4cf2-a506-ec9751477cca",
   "metadata": {},
   "outputs": [],
   "source": [
    "# Saving (hg38). Trevino singleome ATAC contains the higher number of peaks.\n",
    "# These were required to overlap at least 50% with either:\n",
    "# 1) Trevino multiome\n",
    "# 2) Markenscoff-Papadimitriou ATAC\n",
    "# 3) de la Torre-Ubieta\n",
    "!intersectBed -wa -f 0.5 -a trS_sorted.bed -b trM_sorted.bed mk_sorted.bed dT18_hg38_sorted.bed | uniq > trS_intersected_consensus.bed"
   ]
  },
  {
   "cell_type": "markdown",
   "id": "125e2f32-419f-408b-aeb1-9903f3cc5731",
   "metadata": {},
   "source": [
    "**concat X, Y chr signals**"
   ]
  },
  {
   "cell_type": "code",
   "execution_count": 43,
   "id": "f2aaedb3-4376-42e6-a7a6-67ee1049daa6",
   "metadata": {},
   "outputs": [],
   "source": [
    "!grep 'chrY\\|chrX' mk_sorted.bed > mk_XY.bed\n",
    "!grep 'chrX' dT18_hg38_sorted.bed > dT18_X.bed"
   ]
  },
  {
   "cell_type": "code",
   "execution_count": 44,
   "id": "a00d8677-c4d8-4f23-8d55-852b89814976",
   "metadata": {},
   "outputs": [],
   "source": [
    "!cat mk_XY.bed dT18_X.bed > XY_all.bed\n",
    "!bedtools sort -i XY_all.bed > XY_all_sorted.bed\n",
    "!cat trS_intersected_consensus.bed XY_all_sorted.bed > consensus_signals.bed"
   ]
  },
  {
   "cell_type": "code",
   "execution_count": 45,
   "id": "f6176134-96c8-49f6-a512-7f0679be1747",
   "metadata": {},
   "outputs": [
    {
     "name": "stdout",
     "output_type": "stream",
     "text": [
      "chr1\t10027\t10528\ttr21singleome_0\n",
      "chr1\t180646\t181147\ttr21singleome_1\n",
      "chr1\t181233\t181734\ttr21singleome_2\n",
      "chr1\t191217\t191718\ttr21singleome_3\n",
      "chr1\t633776\t634277\ttr21singleome_8\n",
      "chr1\t778421\t778922\ttr21singleome_9\n",
      "chr1\t778935\t779436\ttr21singleome_10\n",
      "chr1\t826614\t827115\ttr21singleome_14\n",
      "chr1\t827252\t827753\ttr21singleome_15\n",
      "chr1\t858586\t859087\ttr21singleome_20\n",
      "cat: write error: Broken pipe\n"
     ]
    }
   ],
   "source": [
    "!cat consensus_signals.bed | head -n 10"
   ]
  },
  {
   "cell_type": "code",
   "execution_count": 46,
   "id": "49edec02-5374-4e95-8f3c-aa606e9bff7b",
   "metadata": {},
   "outputs": [
    {
     "name": "stdout",
     "output_type": "stream",
     "text": [
      "392961\n"
     ]
    }
   ],
   "source": [
    "!cat consensus_signals.bed | uniq | wc -l"
   ]
  },
  {
   "cell_type": "code",
   "execution_count": 47,
   "id": "b1273e13-46b8-487f-84ea-7906b5b8c6aa",
   "metadata": {},
   "outputs": [],
   "source": [
    "!rm *_sorted.bed\n",
    "\n",
    "!rm dT18_X.bed mk_XY.bed trS_intersected_consensus.bed XY_all.bed"
   ]
  },
  {
   "cell_type": "code",
   "execution_count": 48,
   "id": "9746ef3e-23f4-4570-84d2-5bfd906a5875",
   "metadata": {},
   "outputs": [
    {
     "name": "stdout",
     "output_type": "stream",
     "text": [
      "consensus_signals.bed  \u001b[0m\u001b[01;31mhg19ToHg38.over.chain.gz\u001b[0m  hg38.chrom.sizes\n"
     ]
    }
   ],
   "source": [
    "ls"
   ]
  },
  {
   "cell_type": "code",
   "execution_count": 49,
   "id": "89d9b0db-174e-4f5d-ba9a-48b3601d495d",
   "metadata": {},
   "outputs": [],
   "source": [
    "#plotting consensus peaks\n",
    "\n",
    "plot1 = pd.read_csv(\"/home/jovyan/jm_jlab/data_CBL/indNeuro_tmp/regulatory_region_data/regulatory_region_results/consensus_signals.bed\", sep='\\t', header=None)"
   ]
  },
  {
   "cell_type": "code",
   "execution_count": 50,
   "id": "bd2c88ef-7dfa-4f3e-8359-bc4b47cfd153",
   "metadata": {},
   "outputs": [
    {
     "name": "stdout",
     "output_type": "stream",
     "text": [
      "   chromosomes     counts       size\n",
      "1            1  10.440332  19.332788\n",
      "9           10   9.879912  18.711837\n",
      "7           11   9.935955  18.721427\n",
      "10          12   9.847076  18.707928\n",
      "15          13   9.403684  18.554900\n",
      "5\n"
     ]
    },
    {
     "data": {
      "image/png": "[encoded data removed]",
      "text/plain": [
       "<Figure size 432x288 with 1 Axes>"
      ]
     },
     "metadata": {
      "needs_background": "light"
     },
     "output_type": "display_data"
    }
   ],
   "source": [
    "peak_count_plot(plot1)"
   ]
  },
  {
   "cell_type": "raw",
   "id": "9a3815de-332f-41c1-91c6-5caab95d9112",
   "metadata": {},
   "source": [
    "\n",
    "\n"
   ]
  },
  {
   "cell_type": "markdown",
   "id": "406cd44e-27f7-47fc-babb-c4b3aa809df4",
   "metadata": {},
   "source": [
    "**consensus_signals.bed to GREAT web server to build base GRN**"
   ]
  },
  {
   "cell_type": "code",
   "execution_count": 54,
   "id": "ba4207ab-99f8-4790-a7ca-6df56468157b",
   "metadata": {},
   "outputs": [],
   "source": [
    "!mkdir ./GREAT_results"
   ]
  },
  {
   "cell_type": "markdown",
   "id": "bcf25d04-15d4-422f-bdd2-ad59ec265f3d",
   "metadata": {},
   "source": [
    "Using GREAT default options (version 4.0.4)\n",
    "    \n",
    "    Species Assembly: Human: GRCh38 (UCSC hg38, Dec. 2013)\n",
    "    Test regions: consensus_signals.bed\n",
    "    Background regions: Whole genome\n",
    "    Settings:\n",
    "         Basal plus extension\n",
    "             Proximal: 5 kb upstream, 1 kb downstream, plus Distal: 1000 up to kb\n",
    "         Included curated regulatory domains "
   ]
  },
  {
   "cell_type": "markdown",
   "id": "c0beec50-a209-47a2-a7bb-4652fbc81394",
   "metadata": {},
   "source": [
    "Files saved as:\n",
    "    Genomic region -> gene association table --> consensus_peaks_hg38_GREAT.txt\n",
    "    Gene-genomic region --> consensus_peaks_hg38_GREATallgenes.txt"
   ]
  },
  {
   "cell_type": "raw",
   "id": "c9a569ea-5317-44a8-99b7-c4fd134620b7",
   "metadata": {},
   "source": [
    "\n",
    "\n"
   ]
  },
  {
   "cell_type": "markdown",
   "id": "396b89ed-3329-4a1b-ab35-34158a091083",
   "metadata": {
    "tags": []
   },
   "source": [
    "#### **Regulatory region coordinates from human brain primary samples**\n",
    "\n",
    "#### *Intersecting with Homo species-specific changes*"
   ]
  },
  {
   "cell_type": "markdown",
   "id": "4072d2dc-2282-4ea0-a8ae-9ba7b9e23f0d",
   "metadata": {},
   "source": [
    "**(1) Replicated signals that contain Homo sapiens-derived changes**"
   ]
  },
  {
   "cell_type": "code",
   "execution_count": 51,
   "id": "7d6a6773-94cd-4554-ac15-2a03c56d1325",
   "metadata": {},
   "outputs": [
    {
     "data": {
      "text/plain": [
       "'/home/jovyan/jm_jlab/data_indNeuro/consensus_atlas_ATACregions_hg38'"
      ]
     },
     "execution_count": 51,
     "metadata": {},
     "output_type": "execute_result"
    }
   ],
   "source": [
    "pwd"
   ]
  },
  {
   "cell_type": "code",
   "execution_count": 91,
   "id": "2dea0412-088a-4250-a49f-bbcec58ffc4e",
   "metadata": {},
   "outputs": [
    {
     "name": "stdout",
     "output_type": "stream",
     "text": [
      "11705\n"
     ]
    }
   ],
   "source": [
    "# From Kulhwilm and Boeckx (2019)\n",
    "## Na_arcHFcoords_hg38.bed\n",
    "## Na_high_freq_hg38.bed\n",
    "\n",
    "!intersectBed -a /home/jovyan/jm_jlab/martinboeckx_to_hg38/Na_high_freq_hg38.bed -b consensus_signals.bed -wo -f 1 | uniq | wc -l"
   ]
  },
  {
   "cell_type": "code",
   "execution_count": 93,
   "id": "4c37c495-fe19-4f29-8e1c-4c512cd789b9",
   "metadata": {},
   "outputs": [],
   "source": [
    "!intersectBed -a /home/jovyan/jm_jlab/martinboeckx_to_hg38/Na_high_freq_hg38.bed -b consensus_signals.bed -wo -f 1 > consensus_signals_w_homosapiensSNV.bed"
   ]
  },
  {
   "cell_type": "code",
   "execution_count": 98,
   "id": "8cf0adef-720e-4605-a097-7e65c896df95",
   "metadata": {},
   "outputs": [
    {
     "name": "stdout",
     "output_type": "stream",
     "text": [
      "chr1\t99677045\t99677046\trs12063715\tchr1\t99676864\t99677365\ttr21singleome_27954\t1\n",
      "chr1\t99677091\t99677092\trs76085216\tchr1\t99676864\t99677365\ttr21singleome_27954\t1\n",
      "cat: write error: Broken pipe\n"
     ]
    }
   ],
   "source": [
    "!cat ./consensus_signals_w_homosapiensSNV.bed | head -n 2 # For enrichment too"
   ]
  },
  {
   "cell_type": "code",
   "execution_count": 99,
   "id": "6fec555c-50db-4414-8244-7dc230319e9b",
   "metadata": {},
   "outputs": [
    {
     "name": "stdout",
     "output_type": "stream",
     "text": [
      "consensus_signals.bed                   \u001b[0m\u001b[01;31mhg19ToHg38.over.chain.gz\u001b[0m\n",
      "consensus_signals_w_homosapiensSNV.bed  hg38.chrom.sizes\n"
     ]
    }
   ],
   "source": [
    "ls"
   ]
  },
  {
   "cell_type": "markdown",
   "id": "5fdbf716-23cc-4d80-ab4c-047e75c95100",
   "metadata": {},
   "source": [
    "**(2) Extending to 3k bp around variants**"
   ]
  },
  {
   "cell_type": "raw",
   "id": "f269572f-9d21-42bf-b5d2-c519149ca4a9",
   "metadata": {},
   "source": [
    "!cat consensus_signals_w_homosapiensSNV.bed | head -n 2"
   ]
  },
  {
   "cell_type": "raw",
   "id": "e0bdcc3e-d824-4fb0-949c-615bed849aad",
   "metadata": {},
   "source": [
    "!cat hg38.chrom.sizes | head"
   ]
  },
  {
   "cell_type": "code",
   "execution_count": 102,
   "id": "8f33616b-4ac8-4012-a165-bee2ed43789c",
   "metadata": {},
   "outputs": [],
   "source": [
    "# consensus_signals_w_homosapiensSNV.bed\n",
    "# (i) awk: Selecting first four columns (chr, start, end, rsID) and write tmp file as tab-delimited\n",
    "# (ii) Extending 3000bp around using flankBed (it requires chromosomes' size info)\n",
    "## If there are two SNPs close enough, the resulting island will be higher than 3000bp\n",
    "\n",
    "!cat consensus_signals_w_homosapiensSNV.bed | uniq | awk 'BEGIN {OFS=\"\\t\"}; { print $1, $2, $3, $4 }' > tmp_consensus_signals_w_homosapiensSNV.bed\n",
    "!flankBed -i tmp_consensus_signals_w_homosapiensSNV.bed -g hg38.chrom.sizes -b 1500 > tmp2_consensus_signals_w_homosapiensSNV.bed\n",
    "\n",
    "!rm tmp_consensus_signals_w_homosapiensSNV.bed\n",
    "\n",
    "!sortBed -i tmp2_consensus_signals_w_homosapiensSNV.bed > tmp2_consensus_signals_w_homosapiensSNV_sorted.bed\n",
    "\n",
    "!mergeBed -i tmp2_consensus_signals_w_homosapiensSNV_sorted.bed -d 1 > extended_consensus_w_homosapiensSNV_sorted.bed\n",
    "\n",
    "## Calculate length each interval:\n",
    "## !mergeBed -i tmp2_consensus_signals_w_homosapiensSNV_sorted.bed -d 1 | awk '{print($3-$2)}' | head\n",
    "\n",
    "!rm tmp2_consensus_signals_w_homosapiensSNV.bed tmp2_consensus_signals_w_homosapiensSNV_sorted.bed"
   ]
  },
  {
   "cell_type": "code",
   "execution_count": 104,
   "id": "5d67a3d4-cd07-4565-9f3c-92ea103a18fe",
   "metadata": {},
   "outputs": [
    {
     "name": "stdout",
     "output_type": "stream",
     "text": [
      "chr1\t1134796\t1137797\n",
      "chr1\t1596260\t1599261\n",
      "cat: write error: Broken pipe\n"
     ]
    }
   ],
   "source": [
    "!cat extended_consensus_w_homosapiensSNV_sorted.bed | head -n 2"
   ]
  },
  {
   "cell_type": "code",
   "execution_count": 105,
   "id": "55223f1b-54f7-4047-98d9-26938743227f",
   "metadata": {},
   "outputs": [
    {
     "name": "stdout",
     "output_type": "stream",
     "text": [
      "8976\n"
     ]
    }
   ],
   "source": [
    "!cat extended_consensus_w_homosapiensSNV_sorted.bed | wc -l"
   ]
  },
  {
   "cell_type": "markdown",
   "id": "e07c06cb-74c1-4323-8e46-96f19a7b372b",
   "metadata": {},
   "source": [
    "**(3) Excluding windows that contained Neanderthal/Denisovan variants: Homo sapiens-specific islands**"
   ]
  },
  {
   "cell_type": "code",
   "execution_count": 107,
   "id": "74ed357e-e348-4d81-946b-0ebdd11ac5fe",
   "metadata": {},
   "outputs": [
    {
     "name": "stdout",
     "output_type": "stream",
     "text": [
      "4836\n"
     ]
    }
   ],
   "source": [
    "# islands with Homo sapiens-derived variants\n",
    "!intersectBed -wo -v -a extended_consensus_w_homosapiensSNV_sorted.bed -b /home/jovyan/jm_jlab/martinboeckx_to_hg38/Na_arcHFcoords_hg38.bed | wc -l"
   ]
  },
  {
   "cell_type": "code",
   "execution_count": 109,
   "id": "daced5b9-7e13-4347-b3ee-3721e8de471f",
   "metadata": {},
   "outputs": [
    {
     "name": "stdout",
     "output_type": "stream",
     "text": [
      "chr1\t1596260\t1599261\n",
      "chr1\t2267948\t2270949\n"
     ]
    }
   ],
   "source": [
    "!intersectBed -wo -v -a extended_consensus_w_homosapiensSNV_sorted.bed -b /home/jovyan/jm_jlab/martinboeckx_to_hg38/Na_arcHFcoords_hg38.bed | head -n 2"
   ]
  },
  {
   "cell_type": "code",
   "execution_count": 112,
   "id": "ab4c1531-6059-4187-a75d-8d3adfd35ada",
   "metadata": {},
   "outputs": [],
   "source": [
    "!intersectBed -wo -v -a extended_consensus_w_homosapiensSNV_sorted.bed -b /home/jovyan/jm_jlab/martinboeckx_to_hg38/Na_arcHFcoords_hg38.bed > islands_HomoSapiens.bed"
   ]
  },
  {
   "cell_type": "code",
   "execution_count": 113,
   "id": "0a66cc65-5a48-48f9-a2a0-831446e271e8",
   "metadata": {},
   "outputs": [
    {
     "name": "stdout",
     "output_type": "stream",
     "text": [
      "chr1\t1596260\t1599261\n",
      "chr1\t2267948\t2270949\n",
      "chr1\t2310792\t2313793\n",
      "chr1\t2436081\t2439082\n",
      "chr1\t2910457\t2913458\n",
      "chr1\t2927293\t2930429\n",
      "chr1\t3118332\t3121333\n",
      "chr1\t3196887\t3199888\n",
      "chr1\t3214914\t3217915\n",
      "chr1\t3257573\t3260574\n",
      "cat: write error: Broken pipe\n"
     ]
    }
   ],
   "source": [
    "!cat islands_HomoSapiens.bed | head"
   ]
  },
  {
   "cell_type": "code",
   "execution_count": 114,
   "id": "defb4fd5-3052-45b6-b961-f446ce11bdf6",
   "metadata": {},
   "outputs": [
    {
     "name": "stdout",
     "output_type": "stream",
     "text": [
      "4836\n"
     ]
    }
   ],
   "source": [
    "!cat islands_HomoSapiens.bed | wc -l"
   ]
  },
  {
   "cell_type": "code",
   "execution_count": 116,
   "id": "6bab42f9-639b-4045-bb80-7024d72904ee",
   "metadata": {},
   "outputs": [
    {
     "name": "stdout",
     "output_type": "stream",
     "text": [
      "consensus_signals.bed                           \u001b[0m\u001b[01;31mhg19ToHg38.over.chain.gz\u001b[0m\n",
      "consensus_signals_w_homosapiensSNV.bed          hg38.chrom.sizes\n",
      "extended_consensus_w_homosapiensSNV_sorted.bed  islands_HomoSapiens.bed\n"
     ]
    }
   ],
   "source": [
    "ls"
   ]
  },
  {
   "cell_type": "code",
   "execution_count": 117,
   "id": "a9fddd53-d13e-46e5-8b23-668b9bc2b773",
   "metadata": {},
   "outputs": [],
   "source": [
    "# Add SNV position to the islands\n",
    "!intersectBed -wo -a /home/jovyan/jm_jlab/martinboeckx_to_hg38/Na_high_freq_hg38.bed -b islands_HomoSapiens.bed | uniq > islands_HomoSapiens_SNVpos.bed"
   ]
  },
  {
   "cell_type": "code",
   "execution_count": 119,
   "id": "88995a38-c505-42b1-a0c9-c98e59a2ca14",
   "metadata": {},
   "outputs": [
    {
     "name": "stdout",
     "output_type": "stream",
     "text": [
      "0\n"
     ]
    }
   ],
   "source": [
    "# Add SNV position to the islands\n",
    "!intersectBed -wo -v -b /home/jovyan/jm_jlab/martinboeckx_to_hg38/Na_high_freq_hg38.bed -a islands_HomoSapiens.bed | wc -l #as expected"
   ]
  },
  {
   "cell_type": "raw",
   "id": "a880f96c-14a0-4071-9352-e7595be8b50f",
   "metadata": {},
   "source": []
  },
  {
   "cell_type": "code",
   "execution_count": 122,
   "id": "1f6dfbe3-00f3-4f0e-8ab4-f4f855990d0c",
   "metadata": {},
   "outputs": [
    {
     "name": "stdout",
     "output_type": "stream",
     "text": [
      "4836\n"
     ]
    }
   ],
   "source": [
    "# extended regions that *do* contain Neanderthal/Denisovan variants\n",
    "!cat islands_HomoSapiens.bed | uniq | wc -l"
   ]
  },
  {
   "cell_type": "code",
   "execution_count": 125,
   "id": "29826af2-274f-4bcf-92d8-5016b18128f6",
   "metadata": {},
   "outputs": [
    {
     "name": "stdout",
     "output_type": "stream",
     "text": [
      "chr1\t1596260\t1599261\n",
      "chr1\t2267948\t2270949\n",
      "uniq: write error: Broken pipe\n"
     ]
    }
   ],
   "source": [
    "# extended regions that *do* contain Neanderthal/Denisovan variants\n",
    "!cat islands_HomoSapiens.bed | uniq | head -n 2"
   ]
  },
  {
   "cell_type": "code",
   "execution_count": 127,
   "id": "bedc8594-7e6b-448b-a7db-64f992e687ce",
   "metadata": {},
   "outputs": [],
   "source": [
    "!awk '{print  $0 \"\\t region_\" NR }' islands_HomoSapiens.bed > uniqID_islands_HomoSapiens.bed"
   ]
  },
  {
   "cell_type": "code",
   "execution_count": 128,
   "id": "17099fa1-3e3a-40ca-8c57-b6575db8fdb4",
   "metadata": {},
   "outputs": [
    {
     "name": "stdout",
     "output_type": "stream",
     "text": [
      "chr1\t1596260\t1599261\t region_1\n",
      "chr1\t2267948\t2270949\t region_2\n",
      "cat: write error: Broken pipe\n"
     ]
    }
   ],
   "source": [
    "!cat uniqID_islands_HomoSapiens.bed | head -n 2"
   ]
  },
  {
   "cell_type": "code",
   "execution_count": 129,
   "id": "97fc2760-93db-46ec-9285-b5f7b195599c",
   "metadata": {},
   "outputs": [
    {
     "name": "stdout",
     "output_type": "stream",
     "text": [
      "4836\n"
     ]
    }
   ],
   "source": [
    "!cat uniqID_islands_HomoSapiens.bed | wc -l "
   ]
  },
  {
   "cell_type": "markdown",
   "id": "d627780b-0497-4d0c-9e4f-b88f9a650764",
   "metadata": {},
   "source": [
    "# **Regulatory region-gene association via Genomic Regions Enrichment of Annotations Tool (GREAT)**"
   ]
  },
  {
   "cell_type": "raw",
   "id": "0eed61f1-a8a9-4f9f-83b2-84738ca719f5",
   "metadata": {},
   "source": [
    "uniqID_islands_HomoSapiens.bed Input for GREAT"
   ]
  },
  {
   "cell_type": "code",
   "execution_count": 130,
   "id": "aa7639fa-b123-45a4-8b05-c9ab6457f80d",
   "metadata": {},
   "outputs": [],
   "source": [
    "!gzip /home/jovyan/jm_jlab/data_CBL/indNeuro_tmp/regulatory_region_data/regulatory_region_results/20221104-public-4.0.4-Qvpddd-hg38-all-region.txt"
   ]
  },
  {
   "cell_type": "code",
   "execution_count": 176,
   "id": "50f2694c-ff37-44b7-b3a7-c2988c738d15",
   "metadata": {},
   "outputs": [],
   "source": [
    "!mkdir enrichment_results"
   ]
  },
  {
   "cell_type": "code",
   "execution_count": 132,
   "id": "ee457c96-4383-44e8-8ae9-5a4e9bcbe773",
   "metadata": {},
   "outputs": [],
   "source": [
    "#Output from GREAT (hg38): 20221029-public-4.0.4-lQ7Q3G-hg38-all-region\n",
    "\n",
    "great_output  = pd.read_csv(\"./20221104-public-4.0.4-Qvpddd-hg38-all-region.txt.gz\", sep='\\t', compression='gzip')"
   ]
  },
  {
   "cell_type": "code",
   "execution_count": 133,
   "id": "876bd70d-d63c-4825-bd04-9a33e4f6d0a4",
   "metadata": {},
   "outputs": [
    {
     "data": {
      "text/html": [
       "<div>\n",
       "<style scoped>\n",
       "    .dataframe tbody tr th:only-of-type {\n",
       "        vertical-align: middle;\n",
       "    }\n",
       "\n",
       "    .dataframe tbody tr th {\n",
       "        vertical-align: top;\n",
       "    }\n",
       "\n",
       "    .dataframe thead th {\n",
       "        text-align: right;\n",
       "    }\n",
       "</style>\n",
       "<table border=\"1\" class=\"dataframe\">\n",
       "  <thead>\n",
       "    <tr style=\"text-align: right;\">\n",
       "      <th></th>\n",
       "      <th># GREAT version 4.0.4</th>\n",
       "      <th>Species assembly: hg38</th>\n",
       "      <th>Association rule: Basal+extension: 5000 bp upstream, 1000 bp downstream, 1000000 bp max extension, curated regulatory domains included</th>\n",
       "    </tr>\n",
       "  </thead>\n",
       "  <tbody>\n",
       "    <tr>\n",
       "      <th>0</th>\n",
       "      <td>region_1</td>\n",
       "      <td>SSU72 (-22892), FNDC10 (+2335)</td>\n",
       "      <td>NaN</td>\n",
       "    </tr>\n",
       "    <tr>\n",
       "      <th>1</th>\n",
       "      <td>region_2</td>\n",
       "      <td>RER1 (-122384), SKI (+40754)</td>\n",
       "      <td>NaN</td>\n",
       "    </tr>\n",
       "    <tr>\n",
       "      <th>2</th>\n",
       "      <td>region_3</td>\n",
       "      <td>RER1 (-79540), SKI (+83598)</td>\n",
       "      <td>NaN</td>\n",
       "    </tr>\n",
       "    <tr>\n",
       "      <th>3</th>\n",
       "      <td>region_4</td>\n",
       "      <td>PLCH2 (-38733), PEX10 (-25052)</td>\n",
       "      <td>NaN</td>\n",
       "    </tr>\n",
       "    <tr>\n",
       "      <th>4</th>\n",
       "      <td>region_5</td>\n",
       "      <td>MMEL1 (-278968), ACTRT2 (-109525)</td>\n",
       "      <td>NaN</td>\n",
       "    </tr>\n",
       "  </tbody>\n",
       "</table>\n",
       "</div>"
      ],
      "text/plain": [
       "  # GREAT version 4.0.4             Species assembly: hg38  \\\n",
       "0              region_1     SSU72 (-22892), FNDC10 (+2335)   \n",
       "1              region_2       RER1 (-122384), SKI (+40754)   \n",
       "2              region_3        RER1 (-79540), SKI (+83598)   \n",
       "3              region_4     PLCH2 (-38733), PEX10 (-25052)   \n",
       "4              region_5  MMEL1 (-278968), ACTRT2 (-109525)   \n",
       "\n",
       "   Association rule: Basal+extension: 5000 bp upstream, 1000 bp downstream, 1000000 bp max extension, curated regulatory domains included  \n",
       "0                                                NaN                                                                                       \n",
       "1                                                NaN                                                                                       \n",
       "2                                                NaN                                                                                       \n",
       "3                                                NaN                                                                                       \n",
       "4                                                NaN                                                                                       "
      ]
     },
     "execution_count": 133,
     "metadata": {},
     "output_type": "execute_result"
    }
   ],
   "source": [
    "great_output.head()"
   ]
  },
  {
   "cell_type": "code",
   "execution_count": 134,
   "id": "51d9ba55-2724-45f3-a6a6-821ba9eedfd7",
   "metadata": {},
   "outputs": [],
   "source": [
    "great_output = great_output.iloc[:,0:2]\n",
    "great_output.rename(columns={'# GREAT version 4.0.4':\"peak_name\", 'Species assembly: hg38':'gene_name'}, inplace=True)"
   ]
  },
  {
   "cell_type": "code",
   "execution_count": 135,
   "id": "d3f36728-ee74-4dda-9e63-aaa785f2cd5c",
   "metadata": {},
   "outputs": [
    {
     "data": {
      "text/plain": [
       "4836"
      ]
     },
     "execution_count": 135,
     "metadata": {},
     "output_type": "execute_result"
    }
   ],
   "source": [
    "len(great_output)"
   ]
  },
  {
   "cell_type": "code",
   "execution_count": 136,
   "id": "8bbacf1c-f5e9-4a6e-9275-5a6f8b62b558",
   "metadata": {},
   "outputs": [],
   "source": [
    "great_output['gene_name'] = great_output['gene_name'].str.replace(r\"\\(.*?\\)\", \"\", regex=True).str.strip().str.split(\" , \")\n",
    "\n",
    "great_output = great_output.explode('gene_name')\n",
    "\n",
    "great_output = great_output[great_output[\"gene_name\"].str.contains(\"NONE\")==False]"
   ]
  },
  {
   "cell_type": "code",
   "execution_count": 137,
   "id": "6cf92685-0093-4f4e-83c0-9a4f5f45e775",
   "metadata": {},
   "outputs": [
    {
     "data": {
      "text/html": [
       "<div>\n",
       "<style scoped>\n",
       "    .dataframe tbody tr th:only-of-type {\n",
       "        vertical-align: middle;\n",
       "    }\n",
       "\n",
       "    .dataframe tbody tr th {\n",
       "        vertical-align: top;\n",
       "    }\n",
       "\n",
       "    .dataframe thead th {\n",
       "        text-align: right;\n",
       "    }\n",
       "</style>\n",
       "<table border=\"1\" class=\"dataframe\">\n",
       "  <thead>\n",
       "    <tr style=\"text-align: right;\">\n",
       "      <th></th>\n",
       "      <th>peak_name</th>\n",
       "      <th>gene_name</th>\n",
       "    </tr>\n",
       "  </thead>\n",
       "  <tbody>\n",
       "    <tr>\n",
       "      <th>0</th>\n",
       "      <td>region_1</td>\n",
       "      <td>SSU72</td>\n",
       "    </tr>\n",
       "    <tr>\n",
       "      <th>0</th>\n",
       "      <td>region_1</td>\n",
       "      <td>FNDC10</td>\n",
       "    </tr>\n",
       "  </tbody>\n",
       "</table>\n",
       "</div>"
      ],
      "text/plain": [
       "  peak_name gene_name\n",
       "0  region_1     SSU72\n",
       "0  region_1    FNDC10"
      ]
     },
     "execution_count": 137,
     "metadata": {},
     "output_type": "execute_result"
    }
   ],
   "source": [
    "great_output.head(2)"
   ]
  },
  {
   "cell_type": "code",
   "execution_count": 138,
   "id": "01d84014-6fff-4419-80d7-cb60bcfb349b",
   "metadata": {},
   "outputs": [
    {
     "name": "stdout",
     "output_type": "stream",
     "text": [
      "Number of genes associated to Homo sapiens regulatory islands: 4797\n"
     ]
    }
   ],
   "source": [
    "print(\"Number of genes associated to Homo sapiens regulatory islands: %d\" %len(great_output['gene_name'].unique()))"
   ]
  },
  {
   "cell_type": "code",
   "execution_count": 177,
   "id": "63913421-bbd1-4a8e-a937-bd89980d40ac",
   "metadata": {},
   "outputs": [],
   "source": [
    "pd.DataFrame(great_output['gene_name'].unique(), columns=[\"gene_names\"]).to_csv(\"./enrichment_results/uniqID_islands_HomoSapiens_genenames.tsv\", sep='\\t', index=False)"
   ]
  },
  {
   "cell_type": "code",
   "execution_count": 141,
   "id": "f71785ea-729d-4b05-ae56-827bd84d2ac4",
   "metadata": {},
   "outputs": [],
   "source": [
    "pd.DataFrame(great_output['gene_name'].unique(), \n",
    "             columns=[\"gene_names\"]).to_csv(\"/home/jovyan/jm_jlab/CBL_data/indirectNeurogenesis/regulatory_islands/uniqID_islands_HomoSapiens_genenames.tsv\", sep='\\t', index=False)"
   ]
  },
  {
   "cell_type": "code",
   "execution_count": 144,
   "id": "cf5c9a82-32f7-4238-b881-33afd6b29df7",
   "metadata": {},
   "outputs": [],
   "source": [
    "enrichment = gprofiler(great_output['gene_name'].unique(), organism='hsapiens')"
   ]
  },
  {
   "cell_type": "code",
   "execution_count": 178,
   "id": "0adcf96e-3c9b-4406-92d8-577ba57b6efb",
   "metadata": {},
   "outputs": [],
   "source": [
    "enrichment.to_csv(\"./enrichment_results/uniqID_islands_HomoSapiens_enrichment.tsv\", index=False, sep='\\t')"
   ]
  },
  {
   "cell_type": "code",
   "execution_count": 147,
   "id": "b4776876-dde5-4abd-9ca2-50ca699f298e",
   "metadata": {},
   "outputs": [],
   "source": [
    "enrichment.to_csv(\"/home/jovyan/jm_jlab/CBL_data/indirectNeurogenesis/regulatory_islands/uniqID_islands_HomoSapiens_enrichment.tsv\", index=False, sep='\\t')"
   ]
  },
  {
   "cell_type": "raw",
   "id": "a65de64f-5300-4eea-bfc8-bcc04a7b17a9",
   "metadata": {},
   "source": [
    "enrichment.sort_values('p.value').groupby('domain').head(5)"
   ]
  },
  {
   "cell_type": "raw",
   "id": "0d6fe739-d2f6-4d95-a447-3a9a671e0e16",
   "metadata": {},
   "source": [
    "enrichment[(enrichment['domain'] == 'BP')].sort_values('p.value').groupby('domain').head(5)"
   ]
  },
  {
   "cell_type": "code",
   "execution_count": 173,
   "id": "08f6298b-8c5f-48d8-83d6-42a010175559",
   "metadata": {},
   "outputs": [
    {
     "name": "stdout",
     "output_type": "stream",
     "text": [
      "Module: BP - Top results\n",
      "\n",
      "term.id\n",
      "GO:0007399           nervous system development\n",
      "GO:0048699                generation of neurons\n",
      "GO:0022008                         neurogenesis\n",
      "GO:0032502                developmental process\n",
      "GO:0030182               neuron differentiation\n",
      "Name: term.name, dtype: object\n",
      "\n",
      "Module: tf - Top results\n",
      "\n",
      "term.id\n",
      "TF:M00695_1          Factor: ETF; motif: GVGGMGG; match class: 1\n",
      "TF:M00695                            Factor: ETF; motif: GVGGMGG\n",
      "TF:M00695_0          Factor: ETF; motif: GVGGMGG; match class: 0\n",
      "TF:M01104_1         Factor: MOVO-B; motif: GNGGGGG; match cla...\n",
      "TF:M00333_1         Factor: ZF5; motif: NRNGNGCGCGCWN; match ...\n",
      "Name: term.name, dtype: object\n",
      "\n",
      "Module: CC - Top results\n",
      "\n",
      "term.id\n",
      "GO:0097458                                      neuron part\n",
      "GO:0043005                                neuron projection\n",
      "GO:0045202                                          synapse\n",
      "GO:0042995                                  cell projection\n",
      "GO:0120025          plasma membrane bounded cell projection\n",
      "Name: term.name, dtype: object\n",
      "\n",
      "Module: MF - Top results\n",
      "\n",
      "term.id\n",
      "GO:0005515                                      protein binding\n",
      "GO:0001012        RNA polymerase II regulatory region DNA bi...\n",
      "GO:0000977         RNA polymerase II regulatory region seque...\n",
      "GO:0044212          transcription regulatory region DNA binding\n",
      "GO:0001067               regulatory region nucleic acid binding\n",
      "Name: term.name, dtype: object\n",
      "\n",
      "Module: keg - Top results\n",
      "\n",
      "term.id\n",
      "KEGG:04916                                        Melanogenesis\n",
      "KEGG:04024                               cAMP signaling pathway\n",
      "KEGG:04925                  Aldosterone synthesis and secretion\n",
      "KEGG:04550       Signaling pathways regulating pluripotency ...\n",
      "KEGG:04360                                        Axon guidance\n",
      "Name: term.name, dtype: object\n",
      "\n",
      "Module: mir - Top results\n",
      "\n",
      "term.id\n",
      "MIRNA:hsa-miR-6867-5p       hsa-miR-6867-5p\n",
      "MIRNA:hsa-miR-218-5p         hsa-miR-218-5p\n",
      "MIRNA:hsa-miR-8485             hsa-miR-8485\n",
      "MIRNA:hsa-miR-5011-5p       hsa-miR-5011-5p\n",
      "MIRNA:hsa-miR-190a-3p       hsa-miR-190a-3p\n",
      "Name: term.name, dtype: object\n",
      "\n",
      "Module: rea - Top results\n",
      "\n",
      "term.id\n",
      "REAC:R-HSA-112316                                       Neuronal System\n",
      "REAC:R-HSA-422475                                         Axon guidance\n",
      "REAC:R-HSA-6794362             Protein-protein interactions at synapses\n",
      "REAC:R-HSA-9006934               Signaling by Receptor Tyrosine Kinases\n",
      "REAC:R-HSA-5083635       Defective B3GALTL causes Peters-plus syndro...\n",
      "Name: term.name, dtype: object\n",
      "\n",
      "Module: hp - Top results\n",
      "\n",
      "term.id\n",
      "HP:0011069              Increased number of teeth\n",
      "HP:0001274            Agenesis of corpus callosum\n",
      "HP:0002692               Hypoplastic facial bones\n",
      "HP:0007477               Abnormal dermatoglyphics\n",
      "HP:0001018        Abnormal palmar dermatoglyphics\n",
      "Name: term.name, dtype: object\n",
      "\n"
     ]
    }
   ],
   "source": [
    "for i in pd.DataFrame(enrichment['domain'].value_counts()).index:\n",
    "    print(\"Module: %s - Top results\" %i)\n",
    "    print(\"\")\n",
    "    print(enrichment[(enrichment['domain'] == i)].sort_values('p.value').groupby('domain').head(5)['term.name'])\n",
    "    print(\"\")\n"
   ]
  },
  {
   "cell_type": "raw",
   "id": "0a32d6ea-194f-45b5-a298-c433b89a2b22",
   "metadata": {},
   "source": []
  },
  {
   "cell_type": "markdown",
   "id": "ba9082d4-f9c8-4853-aefe-a89ae8fef3d7",
   "metadata": {},
   "source": [
    "# Dataframes"
   ]
  },
  {
   "cell_type": "raw",
   "id": "b5775469-6d31-4187-8f46-4b0ff3aafb3a",
   "metadata": {},
   "source": []
  },
  {
   "cell_type": "markdown",
   "id": "60ba4b1e-b7f1-405b-9d7a-a0aac2941376",
   "metadata": {},
   "source": [
    "**Islands Homo sapiens**"
   ]
  },
  {
   "cell_type": "code",
   "execution_count": 407,
   "id": "c09f8f61-a709-487f-8614-e2395b2ebf4e",
   "metadata": {},
   "outputs": [],
   "source": [
    "df = pd.read_csv(\"islands_HomoSapiens_SNVpos.bed\", sep='\\t', header=None)"
   ]
  },
  {
   "cell_type": "code",
   "execution_count": 408,
   "id": "1481e7f1-5b91-4457-8000-fed6a773dade",
   "metadata": {},
   "outputs": [],
   "source": [
    "df[7] = df[4]+\"_\"+df[5].astype(str)+\"_\"+df[6].astype(str)"
   ]
  },
  {
   "cell_type": "code",
   "execution_count": 409,
   "id": "828f067e-b952-4b29-bb6f-bcbcbf43e30b",
   "metadata": {},
   "outputs": [],
   "source": [
    "df.rename(columns={0:'chr',1:'SNV_start',2:'SNV_end',3:'rsID',4:'Chr',5:'region_start',6:'region_end', 7:'POS_region'},inplace=True)"
   ]
  },
  {
   "cell_type": "code",
   "execution_count": 410,
   "id": "394655ba-8fce-429f-9240-5679511af263",
   "metadata": {},
   "outputs": [
    {
     "data": {
      "text/html": [
       "<div>\n",
       "<style scoped>\n",
       "    .dataframe tbody tr th:only-of-type {\n",
       "        vertical-align: middle;\n",
       "    }\n",
       "\n",
       "    .dataframe tbody tr th {\n",
       "        vertical-align: top;\n",
       "    }\n",
       "\n",
       "    .dataframe thead th {\n",
       "        text-align: right;\n",
       "    }\n",
       "</style>\n",
       "<table border=\"1\" class=\"dataframe\">\n",
       "  <thead>\n",
       "    <tr style=\"text-align: right;\">\n",
       "      <th></th>\n",
       "      <th>chr</th>\n",
       "      <th>SNV_start</th>\n",
       "      <th>SNV_end</th>\n",
       "      <th>rsID</th>\n",
       "      <th>Chr</th>\n",
       "      <th>region_start</th>\n",
       "      <th>region_end</th>\n",
       "      <th>POS_region</th>\n",
       "    </tr>\n",
       "  </thead>\n",
       "  <tbody>\n",
       "    <tr>\n",
       "      <th>0</th>\n",
       "      <td>chr1</td>\n",
       "      <td>99677045</td>\n",
       "      <td>99677046</td>\n",
       "      <td>rs12063715</td>\n",
       "      <td>chr1</td>\n",
       "      <td>99675545</td>\n",
       "      <td>99678592</td>\n",
       "      <td>chr1_99675545_99678592</td>\n",
       "    </tr>\n",
       "    <tr>\n",
       "      <th>1</th>\n",
       "      <td>chr1</td>\n",
       "      <td>99677091</td>\n",
       "      <td>99677092</td>\n",
       "      <td>rs76085216</td>\n",
       "      <td>chr1</td>\n",
       "      <td>99675545</td>\n",
       "      <td>99678592</td>\n",
       "      <td>chr1_99675545_99678592</td>\n",
       "    </tr>\n",
       "    <tr>\n",
       "      <th>2</th>\n",
       "      <td>chr1</td>\n",
       "      <td>99677483</td>\n",
       "      <td>99677484</td>\n",
       "      <td>rs11166290</td>\n",
       "      <td>chr1</td>\n",
       "      <td>99675545</td>\n",
       "      <td>99678592</td>\n",
       "      <td>chr1_99675545_99678592</td>\n",
       "    </tr>\n",
       "    <tr>\n",
       "      <th>3</th>\n",
       "      <td>chr1</td>\n",
       "      <td>99677835</td>\n",
       "      <td>99677836</td>\n",
       "      <td>rs11166292</td>\n",
       "      <td>chr1</td>\n",
       "      <td>99675545</td>\n",
       "      <td>99678592</td>\n",
       "      <td>chr1_99675545_99678592</td>\n",
       "    </tr>\n",
       "    <tr>\n",
       "      <th>4</th>\n",
       "      <td>chr1</td>\n",
       "      <td>99684095</td>\n",
       "      <td>99684096</td>\n",
       "      <td>rs6698660</td>\n",
       "      <td>chr1</td>\n",
       "      <td>99683767</td>\n",
       "      <td>99686768</td>\n",
       "      <td>chr1_99683767_99686768</td>\n",
       "    </tr>\n",
       "  </tbody>\n",
       "</table>\n",
       "</div>"
      ],
      "text/plain": [
       "    chr  SNV_start   SNV_end        rsID   Chr  region_start  region_end  \\\n",
       "0  chr1   99677045  99677046  rs12063715  chr1      99675545    99678592   \n",
       "1  chr1   99677091  99677092  rs76085216  chr1      99675545    99678592   \n",
       "2  chr1   99677483  99677484  rs11166290  chr1      99675545    99678592   \n",
       "3  chr1   99677835  99677836  rs11166292  chr1      99675545    99678592   \n",
       "4  chr1   99684095  99684096   rs6698660  chr1      99683767    99686768   \n",
       "\n",
       "               POS_region  \n",
       "0  chr1_99675545_99678592  \n",
       "1  chr1_99675545_99678592  \n",
       "2  chr1_99675545_99678592  \n",
       "3  chr1_99675545_99678592  \n",
       "4  chr1_99683767_99686768  "
      ]
     },
     "execution_count": 410,
     "metadata": {},
     "output_type": "execute_result"
    }
   ],
   "source": [
    "df.head(5)"
   ]
  },
  {
   "cell_type": "code",
   "execution_count": 411,
   "id": "24a9eadd-5b9a-4001-85a0-6a965c2c02cf",
   "metadata": {},
   "outputs": [
    {
     "data": {
      "text/plain": [
       "9091"
      ]
     },
     "execution_count": 411,
     "metadata": {},
     "output_type": "execute_result"
    }
   ],
   "source": [
    "len(df)"
   ]
  },
  {
   "cell_type": "markdown",
   "id": "f6a79627-7d34-46d4-8b51-6cdfc50d7ca7",
   "metadata": {},
   "source": [
    "**Islands Homo sapiens**"
   ]
  },
  {
   "cell_type": "code",
   "execution_count": 412,
   "id": "71852813-f460-4d60-86eb-57c45647ace6",
   "metadata": {},
   "outputs": [],
   "source": [
    "island = pd.read_csv(\"uniqID_islands_HomoSapiens.bed\", sep='\\t', header=None)"
   ]
  },
  {
   "cell_type": "code",
   "execution_count": 414,
   "id": "e5761da4-6412-4f25-b513-570da7f727b2",
   "metadata": {},
   "outputs": [],
   "source": [
    "island[4] = island[0]+\"_\"+island[1].astype(str)+\"_\"+island[2].astype(str)"
   ]
  },
  {
   "cell_type": "code",
   "execution_count": 415,
   "id": "83ac94ae-04d5-4390-b748-9703998b77e0",
   "metadata": {},
   "outputs": [
    {
     "data": {
      "text/html": [
       "<div>\n",
       "<style scoped>\n",
       "    .dataframe tbody tr th:only-of-type {\n",
       "        vertical-align: middle;\n",
       "    }\n",
       "\n",
       "    .dataframe tbody tr th {\n",
       "        vertical-align: top;\n",
       "    }\n",
       "\n",
       "    .dataframe thead th {\n",
       "        text-align: right;\n",
       "    }\n",
       "</style>\n",
       "<table border=\"1\" class=\"dataframe\">\n",
       "  <thead>\n",
       "    <tr style=\"text-align: right;\">\n",
       "      <th></th>\n",
       "      <th>0</th>\n",
       "      <th>1</th>\n",
       "      <th>2</th>\n",
       "      <th>3</th>\n",
       "      <th>4</th>\n",
       "    </tr>\n",
       "  </thead>\n",
       "  <tbody>\n",
       "    <tr>\n",
       "      <th>0</th>\n",
       "      <td>chr1</td>\n",
       "      <td>1596260</td>\n",
       "      <td>1599261</td>\n",
       "      <td>region_1</td>\n",
       "      <td>chr1_1596260_1599261</td>\n",
       "    </tr>\n",
       "    <tr>\n",
       "      <th>1</th>\n",
       "      <td>chr1</td>\n",
       "      <td>2267948</td>\n",
       "      <td>2270949</td>\n",
       "      <td>region_2</td>\n",
       "      <td>chr1_2267948_2270949</td>\n",
       "    </tr>\n",
       "  </tbody>\n",
       "</table>\n",
       "</div>"
      ],
      "text/plain": [
       "      0        1        2          3                     4\n",
       "0  chr1  1596260  1599261   region_1  chr1_1596260_1599261\n",
       "1  chr1  2267948  2270949   region_2  chr1_2267948_2270949"
      ]
     },
     "execution_count": 415,
     "metadata": {},
     "output_type": "execute_result"
    }
   ],
   "source": [
    "island.head(2)"
   ]
  },
  {
   "cell_type": "code",
   "execution_count": 416,
   "id": "c5b92283-c54b-4815-b52e-38a742e28929",
   "metadata": {},
   "outputs": [
    {
     "data": {
      "text/plain": [
       "4836"
      ]
     },
     "execution_count": 416,
     "metadata": {},
     "output_type": "execute_result"
    }
   ],
   "source": [
    "len(island)"
   ]
  },
  {
   "cell_type": "code",
   "execution_count": 417,
   "id": "3153e2a6-d1ba-4b8d-9754-b77c41329bec",
   "metadata": {},
   "outputs": [],
   "source": [
    "island.rename(columns={0:'chr',1:'region_start',2:'region_end',3:'region_ID', 4:'POS_region'},inplace=True)"
   ]
  },
  {
   "cell_type": "code",
   "execution_count": 421,
   "id": "715e1821-9ded-409a-82b4-cbc6b8ac3a86",
   "metadata": {},
   "outputs": [],
   "source": [
    "df = island.merge(df, how = 'inner', on = ['POS_region','chr', 'region_start', 'region_end'])"
   ]
  },
  {
   "cell_type": "code",
   "execution_count": 426,
   "id": "4b58251f-68e1-4af2-9000-46bf2a4dabe5",
   "metadata": {},
   "outputs": [],
   "source": [
    "df = df.loc[:, df.columns != 'Chr']"
   ]
  },
  {
   "cell_type": "code",
   "execution_count": 428,
   "id": "dcb6fbe0-66ad-4982-bedf-fcf5b6984a4f",
   "metadata": {},
   "outputs": [],
   "source": [
    "df.rename(columns={'region_start':\"island_start\", 'region_end':\"island_end\", \"POS_region\":\"POS_island\", \"region_ID\":\"island_ID\"}, inplace=True) #for consistency"
   ]
  },
  {
   "cell_type": "code",
   "execution_count": 429,
   "id": "84a25af8-7962-4b3b-9cdb-6eac4c248567",
   "metadata": {},
   "outputs": [
    {
     "data": {
      "text/html": [
       "<div>\n",
       "<style scoped>\n",
       "    .dataframe tbody tr th:only-of-type {\n",
       "        vertical-align: middle;\n",
       "    }\n",
       "\n",
       "    .dataframe tbody tr th {\n",
       "        vertical-align: top;\n",
       "    }\n",
       "\n",
       "    .dataframe thead th {\n",
       "        text-align: right;\n",
       "    }\n",
       "</style>\n",
       "<table border=\"1\" class=\"dataframe\">\n",
       "  <thead>\n",
       "    <tr style=\"text-align: right;\">\n",
       "      <th></th>\n",
       "      <th>chr</th>\n",
       "      <th>island_start</th>\n",
       "      <th>island_end</th>\n",
       "      <th>island_ID</th>\n",
       "      <th>POS_island</th>\n",
       "      <th>SNV_start</th>\n",
       "      <th>SNV_end</th>\n",
       "      <th>rsID</th>\n",
       "    </tr>\n",
       "  </thead>\n",
       "  <tbody>\n",
       "    <tr>\n",
       "      <th>0</th>\n",
       "      <td>chr1</td>\n",
       "      <td>1596260</td>\n",
       "      <td>1599261</td>\n",
       "      <td>region_1</td>\n",
       "      <td>chr1_1596260_1599261</td>\n",
       "      <td>1597760</td>\n",
       "      <td>1597761</td>\n",
       "      <td>rs28694168</td>\n",
       "    </tr>\n",
       "    <tr>\n",
       "      <th>1</th>\n",
       "      <td>chr1</td>\n",
       "      <td>2267948</td>\n",
       "      <td>2270949</td>\n",
       "      <td>region_2</td>\n",
       "      <td>chr1_2267948_2270949</td>\n",
       "      <td>2269448</td>\n",
       "      <td>2269449</td>\n",
       "      <td>rs139878717</td>\n",
       "    </tr>\n",
       "  </tbody>\n",
       "</table>\n",
       "</div>"
      ],
      "text/plain": [
       "    chr  island_start  island_end  island_ID            POS_island  SNV_start  \\\n",
       "0  chr1       1596260     1599261   region_1  chr1_1596260_1599261    1597760   \n",
       "1  chr1       2267948     2270949   region_2  chr1_2267948_2270949    2269448   \n",
       "\n",
       "   SNV_end         rsID  \n",
       "0  1597761   rs28694168  \n",
       "1  2269449  rs139878717  "
      ]
     },
     "execution_count": 429,
     "metadata": {},
     "output_type": "execute_result"
    }
   ],
   "source": [
    "df.head(2)"
   ]
  },
  {
   "cell_type": "raw",
   "id": "f68361f9-b8af-4642-9ab7-7aeca4efdbe5",
   "metadata": {},
   "source": []
  },
  {
   "cell_type": "markdown",
   "id": "c735c29b-7153-450d-b9ff-c3b7c276137f",
   "metadata": {},
   "source": [
    "**Assigning gene names to each region** (based on GREAT result)"
   ]
  },
  {
   "cell_type": "code",
   "execution_count": 430,
   "id": "7f704a9b-409b-411e-b88a-52f6bf4d9e0b",
   "metadata": {},
   "outputs": [
    {
     "data": {
      "text/plain": [
       "4836"
      ]
     },
     "execution_count": 430,
     "metadata": {},
     "output_type": "execute_result"
    }
   ],
   "source": [
    "great_res  = pd.read_csv(\"./20221104-public-4.0.4-Qvpddd-hg38-all-region.txt.gz\", sep='\\t', compression='gzip')\n",
    "\n",
    "great_res = great_res.iloc[:,0:2]\n",
    "\n",
    "great_res.rename(columns={'# GREAT version 4.0.4':\"island_ID\", 'Species assembly: hg38':'gene_name'}, inplace=True)\n",
    "\n",
    "\n",
    "len(great_res)"
   ]
  },
  {
   "cell_type": "code",
   "execution_count": 431,
   "id": "211154b5-4f14-4d7a-92be-7c38e6c94bdf",
   "metadata": {},
   "outputs": [
    {
     "data": {
      "text/plain": [
       "4730"
      ]
     },
     "execution_count": 431,
     "metadata": {},
     "output_type": "execute_result"
    }
   ],
   "source": [
    "len(great_res)-great_res['gene_name'].value_counts()[0] #without NONE"
   ]
  },
  {
   "cell_type": "raw",
   "id": "1fac065b-e0f0-49f8-bdc5-8ba6c134fea5",
   "metadata": {},
   "source": []
  },
  {
   "cell_type": "code",
   "execution_count": 432,
   "id": "1ade624d-a8ec-4f43-8935-9f8496aff6ae",
   "metadata": {},
   "outputs": [],
   "source": [
    "#Output from GREAT (hg38): 20221029-public-4.0.4-lQ7Q3G-hg38-all-region\n",
    "great_res  = pd.read_csv(\"./20221104-public-4.0.4-Qvpddd-hg38-all-region.txt.gz\", sep='\\t', compression='gzip')\n",
    "\n",
    "great_res = great_res.iloc[:,0:2]\n",
    "great_res.rename(columns={'# GREAT version 4.0.4':\"peak_name\", 'Species assembly: hg38':'gene_name'}, inplace=True)\n",
    "\n",
    "great_res['gene_name'] = great_res['gene_name'].str.replace(r\"\\(.*?\\)\", \"\", regex=True).str.strip().str.split(\" , \")\n",
    "\n",
    "\n",
    "great_res = great_res.explode('gene_name')\n",
    "\n",
    "great_res = great_res[great_res[\"gene_name\"].str.contains(\"NONE\")==False]\n",
    "\n",
    "great_res = great_res.groupby(['peak_name'], as_index=False).agg(', '.join)\n",
    "\n",
    "great_res.rename(columns={'peak_name':'island_ID'}, inplace=True)"
   ]
  },
  {
   "cell_type": "code",
   "execution_count": 433,
   "id": "95edf607-7d48-4f5f-bde2-27875309f267",
   "metadata": {},
   "outputs": [
    {
     "data": {
      "text/html": [
       "<div>\n",
       "<style scoped>\n",
       "    .dataframe tbody tr th:only-of-type {\n",
       "        vertical-align: middle;\n",
       "    }\n",
       "\n",
       "    .dataframe tbody tr th {\n",
       "        vertical-align: top;\n",
       "    }\n",
       "\n",
       "    .dataframe thead th {\n",
       "        text-align: right;\n",
       "    }\n",
       "</style>\n",
       "<table border=\"1\" class=\"dataframe\">\n",
       "  <thead>\n",
       "    <tr style=\"text-align: right;\">\n",
       "      <th></th>\n",
       "      <th>island_ID</th>\n",
       "      <th>gene_name</th>\n",
       "    </tr>\n",
       "  </thead>\n",
       "  <tbody>\n",
       "    <tr>\n",
       "      <th>0</th>\n",
       "      <td>region_1</td>\n",
       "      <td>SSU72, FNDC10</td>\n",
       "    </tr>\n",
       "    <tr>\n",
       "      <th>1</th>\n",
       "      <td>region_10</td>\n",
       "      <td>ARHGEF16, PRDM16</td>\n",
       "    </tr>\n",
       "  </tbody>\n",
       "</table>\n",
       "</div>"
      ],
      "text/plain": [
       "   island_ID         gene_name\n",
       "0   region_1     SSU72, FNDC10\n",
       "1  region_10  ARHGEF16, PRDM16"
      ]
     },
     "execution_count": 433,
     "metadata": {},
     "output_type": "execute_result"
    }
   ],
   "source": [
    "great_res.head(2)"
   ]
  },
  {
   "cell_type": "code",
   "execution_count": 434,
   "id": "2852ffe1-185a-4bd9-a5f8-082515259cf8",
   "metadata": {},
   "outputs": [
    {
     "data": {
      "text/plain": [
       "4730"
      ]
     },
     "execution_count": 434,
     "metadata": {},
     "output_type": "execute_result"
    }
   ],
   "source": [
    "len(great_res) #PANDAS PROCESSING DID WORK WELL"
   ]
  },
  {
   "cell_type": "code",
   "execution_count": 435,
   "id": "f68a4540-1793-4b55-8cdf-eadd5c66f736",
   "metadata": {},
   "outputs": [
    {
     "name": "stdout",
     "output_type": "stream",
     "text": [
      "chr1\t1596260\t1599261\t region_1\n",
      "chr1\t2267948\t2270949\t region_2\n",
      "cat: write error: Broken pipe\n"
     ]
    }
   ],
   "source": [
    "!cat uniqID_islands_HomoSapiens.bed | head -n 2"
   ]
  },
  {
   "cell_type": "code",
   "execution_count": 445,
   "id": "b57a5489-8a58-460e-9f83-aa41e30bced8",
   "metadata": {},
   "outputs": [
    {
     "data": {
      "text/html": [
       "<div>\n",
       "<style scoped>\n",
       "    .dataframe tbody tr th:only-of-type {\n",
       "        vertical-align: middle;\n",
       "    }\n",
       "\n",
       "    .dataframe tbody tr th {\n",
       "        vertical-align: top;\n",
       "    }\n",
       "\n",
       "    .dataframe thead th {\n",
       "        text-align: right;\n",
       "    }\n",
       "</style>\n",
       "<table border=\"1\" class=\"dataframe\">\n",
       "  <thead>\n",
       "    <tr style=\"text-align: right;\">\n",
       "      <th></th>\n",
       "      <th>chr</th>\n",
       "      <th>island_start</th>\n",
       "      <th>island_end</th>\n",
       "      <th>island_ID</th>\n",
       "      <th>POS_island</th>\n",
       "    </tr>\n",
       "  </thead>\n",
       "  <tbody>\n",
       "    <tr>\n",
       "      <th>0</th>\n",
       "      <td>chr1</td>\n",
       "      <td>1596260</td>\n",
       "      <td>1599261</td>\n",
       "      <td>region_1</td>\n",
       "      <td>chr1_1596260_1599261</td>\n",
       "    </tr>\n",
       "    <tr>\n",
       "      <th>1</th>\n",
       "      <td>chr1</td>\n",
       "      <td>2267948</td>\n",
       "      <td>2270949</td>\n",
       "      <td>region_2</td>\n",
       "      <td>chr1_2267948_2270949</td>\n",
       "    </tr>\n",
       "  </tbody>\n",
       "</table>\n",
       "</div>"
      ],
      "text/plain": [
       "    chr  island_start  island_end  island_ID            POS_island\n",
       "0  chr1       1596260     1599261   region_1  chr1_1596260_1599261\n",
       "1  chr1       2267948     2270949   region_2  chr1_2267948_2270949"
      ]
     },
     "execution_count": 445,
     "metadata": {},
     "output_type": "execute_result"
    }
   ],
   "source": [
    "uniqID = pd.read_csv(\"./uniqID_islands_HomoSapiens.bed\", header=None, sep='\\t') #input GREAT\n",
    "\n",
    "\n",
    "\n",
    "uniqID[4] = uniqID[0]+\"_\"+uniqID[1].astype(str)+\"_\"+uniqID[2].astype(str)\n",
    "uniqID.rename(columns={0:'chr',1:'island_start',2:'island_end',3:'island_ID', 4:'POS_island'},inplace=True)\n",
    "\n",
    "uniqID.head(2)"
   ]
  },
  {
   "cell_type": "code",
   "execution_count": 446,
   "id": "a2f6f9b7-f352-4ed7-b884-831e446d4b7d",
   "metadata": {},
   "outputs": [
    {
     "data": {
      "text/plain": [
       "4836"
      ]
     },
     "execution_count": 446,
     "metadata": {},
     "output_type": "execute_result"
    }
   ],
   "source": [
    "len(uniqID)"
   ]
  },
  {
   "cell_type": "code",
   "execution_count": 447,
   "id": "a09cf687-248c-4128-9756-f83c6d878667",
   "metadata": {},
   "outputs": [
    {
     "data": {
      "text/plain": [
       "'region_1'"
      ]
     },
     "execution_count": 447,
     "metadata": {},
     "output_type": "execute_result"
    }
   ],
   "source": [
    "great_res['island_ID'][0]"
   ]
  },
  {
   "cell_type": "code",
   "execution_count": 448,
   "id": "37694495-9f2a-4822-aff0-ac3739055bbd",
   "metadata": {},
   "outputs": [
    {
     "data": {
      "text/plain": [
       "' region_1'"
      ]
     },
     "execution_count": 448,
     "metadata": {},
     "output_type": "execute_result"
    }
   ],
   "source": [
    "uniqID['island_ID'][0]"
   ]
  },
  {
   "cell_type": "code",
   "execution_count": 449,
   "id": "e685f8c9-12e2-4dba-8f9e-73013bfe9f87",
   "metadata": {},
   "outputs": [],
   "source": [
    "uniqID['island_ID'] = uniqID['island_ID'].str.strip()"
   ]
  },
  {
   "cell_type": "code",
   "execution_count": 450,
   "id": "1b05d34f-8e9d-478b-b1a8-1131b630674d",
   "metadata": {},
   "outputs": [],
   "source": [
    "df_great = uniqID.merge(great_res, how = 'outer', on = ['island_ID'])"
   ]
  },
  {
   "cell_type": "code",
   "execution_count": 451,
   "id": "e2d0f922-615c-46c0-b935-265b209aebfc",
   "metadata": {},
   "outputs": [
    {
     "data": {
      "text/html": [
       "<div>\n",
       "<style scoped>\n",
       "    .dataframe tbody tr th:only-of-type {\n",
       "        vertical-align: middle;\n",
       "    }\n",
       "\n",
       "    .dataframe tbody tr th {\n",
       "        vertical-align: top;\n",
       "    }\n",
       "\n",
       "    .dataframe thead th {\n",
       "        text-align: right;\n",
       "    }\n",
       "</style>\n",
       "<table border=\"1\" class=\"dataframe\">\n",
       "  <thead>\n",
       "    <tr style=\"text-align: right;\">\n",
       "      <th></th>\n",
       "      <th>chr</th>\n",
       "      <th>island_start</th>\n",
       "      <th>island_end</th>\n",
       "      <th>island_ID</th>\n",
       "      <th>POS_island</th>\n",
       "      <th>gene_name</th>\n",
       "    </tr>\n",
       "  </thead>\n",
       "  <tbody>\n",
       "    <tr>\n",
       "      <th>0</th>\n",
       "      <td>chr1</td>\n",
       "      <td>1596260</td>\n",
       "      <td>1599261</td>\n",
       "      <td>region_1</td>\n",
       "      <td>chr1_1596260_1599261</td>\n",
       "      <td>SSU72, FNDC10</td>\n",
       "    </tr>\n",
       "    <tr>\n",
       "      <th>1</th>\n",
       "      <td>chr1</td>\n",
       "      <td>2267948</td>\n",
       "      <td>2270949</td>\n",
       "      <td>region_2</td>\n",
       "      <td>chr1_2267948_2270949</td>\n",
       "      <td>RER1, SKI</td>\n",
       "    </tr>\n",
       "  </tbody>\n",
       "</table>\n",
       "</div>"
      ],
      "text/plain": [
       "    chr  island_start  island_end island_ID            POS_island  \\\n",
       "0  chr1       1596260     1599261  region_1  chr1_1596260_1599261   \n",
       "1  chr1       2267948     2270949  region_2  chr1_2267948_2270949   \n",
       "\n",
       "       gene_name  \n",
       "0  SSU72, FNDC10  \n",
       "1      RER1, SKI  "
      ]
     },
     "execution_count": 451,
     "metadata": {},
     "output_type": "execute_result"
    }
   ],
   "source": [
    "df_great.head(2)"
   ]
  },
  {
   "cell_type": "code",
   "execution_count": 468,
   "id": "ac33e007-e559-4179-b07f-e0ac062a55fe",
   "metadata": {},
   "outputs": [],
   "source": [
    "df['island_ID'] = df['island_ID'].str.strip()"
   ]
  },
  {
   "cell_type": "code",
   "execution_count": 463,
   "id": "5ee0cece-44a3-488c-a215-7b427e4937b7",
   "metadata": {},
   "outputs": [
    {
     "data": {
      "text/plain": [
       "['chr', 'island_start', 'island_end', 'island_ID', 'POS_island']"
      ]
     },
     "execution_count": 463,
     "metadata": {},
     "output_type": "execute_result"
    }
   ],
   "source": [
    "df_great.columns[:-1].to_list()"
   ]
  },
  {
   "cell_type": "code",
   "execution_count": 471,
   "id": "1057f760-8579-49a3-aa74-9f6b8513a035",
   "metadata": {},
   "outputs": [],
   "source": [
    "df_final = df.merge(df_great, how = 'outer', on = df_great.columns[:-1].to_list())"
   ]
  },
  {
   "cell_type": "code",
   "execution_count": 473,
   "id": "5db582ce-747f-47b8-850f-2180f3f211ab",
   "metadata": {},
   "outputs": [],
   "source": [
    "df_final.to_csv(\"hg38_regulatory_islands_genenames.tsv\", sep='\\t', index=False)"
   ]
  },
  {
   "cell_type": "code",
   "execution_count": 474,
   "id": "227f9418-f038-4007-bfa2-92eb65981b77",
   "metadata": {},
   "outputs": [],
   "source": [
    "df_final.to_csv(\"/home/jovyan/jm_jlab/CBL_data/indirectNeurogenesis/regulatory_islands/hg38_regulatory_islands_genenames.tsv\", sep='\\t', index=False)"
   ]
  },
  {
   "cell_type": "code",
   "execution_count": null,
   "id": "73464739-be72-4d03-81b9-19ce1eaca62e",
   "metadata": {},
   "outputs": [],
   "source": []
  },
  {
   "cell_type": "markdown",
   "id": "39633aae-eb43-4202-ae05-bf5c5bdb4005",
   "metadata": {},
   "source": [
    "**For intersections**"
   ]
  },
  {
   "cell_type": "code",
   "execution_count": 475,
   "id": "85a14ffa-29ae-4932-96d6-8666a58e464f",
   "metadata": {},
   "outputs": [
    {
     "data": {
      "text/plain": [
       "'/home/jovyan/jm_jlab/data_CBL/indNeuro_tmp/regulatory_region_data/regulatory_region_results'"
      ]
     },
     "execution_count": 475,
     "metadata": {},
     "output_type": "execute_result"
    }
   ],
   "source": [
    "pwd"
   ]
  },
  {
   "cell_type": "code",
   "execution_count": 212,
   "id": "b3fe47c5-28a7-43a1-b010-af1ea8b2ff37",
   "metadata": {},
   "outputs": [],
   "source": [
    "!mkdir intersections_hg38"
   ]
  },
  {
   "cell_type": "code",
   "execution_count": 479,
   "id": "9c16d762-d853-441d-a5a5-5576c9cd4918",
   "metadata": {},
   "outputs": [],
   "source": [
    "df_final.to_csv(\"./intersections_hg38/hg38_regulatory_islands.bed\", sep='\\t', header=None, index=False)"
   ]
  },
  {
   "cell_type": "code",
   "execution_count": 481,
   "id": "cca008b9-b46c-4b7d-8628-dc6b589c9cda",
   "metadata": {},
   "outputs": [
    {
     "name": "stdout",
     "output_type": "stream",
     "text": [
      "chr1\t1596260\t1599261\tregion_1\tchr1_1596260_1599261\t1597760\t1597761\trs28694168\tSSU72, FNDC10\n",
      "chr1\t2267948\t2270949\tregion_2\tchr1_2267948_2270949\t2269448\t2269449\trs139878717\tRER1, SKI\n",
      "cat: write error: Broken pipe\n"
     ]
    }
   ],
   "source": [
    "!cat ./intersections_hg38/hg38_regulatory_islands.bed | head -n 2"
   ]
  },
  {
   "cell_type": "raw",
   "id": "7612546c-fda7-49f2-b8b1-2c080bbdf1c2",
   "metadata": {},
   "source": []
  },
  {
   "cell_type": "code",
   "execution_count": null,
   "id": "588923c3-6279-493c-bbd0-192239e40aae",
   "metadata": {},
   "outputs": [],
   "source": []
  },
  {
   "cell_type": "markdown",
   "id": "5c263c67-8d53-4cd0-a3f8-80fca476691a",
   "metadata": {
    "tags": []
   },
   "source": [
    "# Regulatory islands to hg19"
   ]
  },
  {
   "cell_type": "code",
   "execution_count": 2,
   "id": "7300af2d-2d58-49cd-ad77-f7b887ec3610",
   "metadata": {},
   "outputs": [],
   "source": [
    "!mkdir hg38_to_hg19"
   ]
  },
  {
   "cell_type": "code",
   "execution_count": 6,
   "id": "01ad0f51-bc27-4011-b24e-f4b9b64c4d07",
   "metadata": {},
   "outputs": [
    {
     "name": "stdout",
     "output_type": "stream",
     "text": [
      "WARNING: timestamping does nothing in combination with -O. See the manual\n",
      "for details.\n",
      "\n",
      "--2022-12-20 16:55:51--  ftp://hgdownload.soe.ucsc.edu/goldenPath/hg38/liftOver/hg38ToHg19.over.chain.gz\n",
      "           => ‘/home/jovyan/jm_jlab/data_CBL/indNeuro_tmp/regulatory_region_data/hg38_to_hg19/hg38ToHg19.over.chain.gz’\n",
      "Resolving hgdownload.soe.ucsc.edu (hgdownload.soe.ucsc.edu)... 128.114.119.163\n",
      "Connecting to hgdownload.soe.ucsc.edu (hgdownload.soe.ucsc.edu)|128.114.119.163|:21... connected.\n",
      "Logging in as anonymous ... Logged in!\n",
      "==> SYST ... done.    ==> PWD ... done.\n",
      "==> TYPE I ... done.  ==> CWD (1) /goldenPath/hg38/liftOver ... done.\n",
      "==> SIZE hg38ToHg19.over.chain.gz ... 1246411\n",
      "==> PASV ... done.    ==> RETR hg38ToHg19.over.chain.gz ... done.\n",
      "Length: 1246411 (1.2M) (unauthoritative)\n",
      "\n",
      "hg38ToHg19.over.cha 100%[===================>]   1.19M   529KB/s    in 2.3s    \n",
      "\n",
      "2022-12-20 16:55:56 (529 KB/s) - ‘/home/jovyan/jm_jlab/data_CBL/indNeuro_tmp/regulatory_region_data/hg38_to_hg19/hg38ToHg19.over.chain.gz’ saved [1246411]\n",
      "\n"
     ]
    }
   ],
   "source": [
    "!wget --timestamping 'ftp://hgdownload.soe.ucsc.edu/goldenPath/hg38/liftOver/hg38ToHg19.over.chain.gz' -O /home/jovyan/jm_jlab/data_CBL/indNeuro_tmp/regulatory_region_data/hg38_to_hg19/hg38ToHg19.over.chain.gz"
   ]
  },
  {
   "cell_type": "code",
   "execution_count": null,
   "id": "8f499dc9-e629-4b07-b7de-8e4f13c94059",
   "metadata": {},
   "outputs": [],
   "source": []
  },
  {
   "cell_type": "raw",
   "id": "f600e50f-a711-4608-85b7-cb48cd9485a7",
   "metadata": {},
   "source": [
    "liftOver ./regulatory_region_results/uniqID_islands_HomoSapiens.bed ./hg38_to_hg19/hg38ToHg19.over.chain.gz hg19_uniqID_islands_HomoSapiens.bed hg19_uniqID_islands_HomoSapiens_unlifted.bed"
   ]
  },
  {
   "cell_type": "code",
   "execution_count": 47,
   "id": "91b5de94-fd20-44c6-9e79-fd430a2ab618",
   "metadata": {},
   "outputs": [],
   "source": [
    "!cat ./regulatory_region_results/hg38_regulatory_islands_genenames.tsv | awk 'BEGIN {OFS=\"\\t\"} { print $1,$6,$7,$8 }' > ./regulatory_region_results/hg38_regulatory_islands_SNVs.bed"
   ]
  },
  {
   "cell_type": "code",
   "execution_count": 52,
   "id": "54516a3d-1add-405c-8cbd-d042b44e6602",
   "metadata": {},
   "outputs": [],
   "source": [
    "!cat ./regulatory_region_results/hg38_regulatory_islands_SNVs.bed | awk 'NR>2 {print last} {last=$0}' > ./regulatory_region_results/hg38_regulatory_islands_SNVs_woHeader.bed"
   ]
  },
  {
   "cell_type": "raw",
   "id": "6f02d034-5450-48d3-b675-58b7965e27d6",
   "metadata": {},
   "source": [
    "liftOver ./regulatory_region_results/hg38_regulatory_islands_SNVs_woHeader.bed ./hg38_to_hg19/hg38ToHg19.over.chain.gz hg19_regulatory_islands_SNVs.bed hg19_regulatory_islands_SNVs_unlifted.bed"
   ]
  },
  {
   "cell_type": "raw",
   "id": "21e43ad4-670d-4f5a-adbc-9a98fe1bd447",
   "metadata": {},
   "source": [
    "hg19_islands_SNVs = pd.read_csv(\"./regulatory_region_results/hg19_regulatory_islands_SNVs.bed\", sep='\\t', header=None)"
   ]
  },
  {
   "cell_type": "raw",
   "id": "3cddca89-0669-4d6e-bac0-f6f277ae0c1a",
   "metadata": {},
   "source": [
    "hg19_islands_SNVs.head()"
   ]
  },
  {
   "cell_type": "raw",
   "id": "88885bb0-bdd3-4aaf-8a6d-b5f40833aa8e",
   "metadata": {},
   "source": [
    "len(hg19_islands_SNVs)"
   ]
  },
  {
   "cell_type": "raw",
   "id": "ba2889bb-9a04-4927-9fa5-a16ec2ca7ff0",
   "metadata": {},
   "source": [
    "hg19_islands_SNVs['POS'] = hg19_islands_SNVs[0].str.split(\"chr\", expand=True, n=2)[1].astype(str)+\":\"+hg19_islands_SNVs[2].astype(str)"
   ]
  },
  {
   "cell_type": "raw",
   "id": "8fd54f6a-869c-46f4-bed2-44509af9ae3d",
   "metadata": {},
   "source": [
    "martin = pd.read_csv(\"/home/jovyan/jm_jlab/Na_high_freq.tsv\", sep='\\t')"
   ]
  },
  {
   "cell_type": "raw",
   "id": "527bf828-d18e-436f-b426-a1333f13aa61",
   "metadata": {},
   "source": [
    "len(hg19_islands_SNVs['POS'].isin(martin['POS']))"
   ]
  },
  {
   "cell_type": "raw",
   "id": "bda7203d-c80f-4e59-b3e1-a26700b95392",
   "metadata": {},
   "source": [
    "martin[martin['POS'].isin(hg19_islands_SNVs['POS'])]"
   ]
  },
  {
   "cell_type": "code",
   "execution_count": null,
   "id": "817b0cf9-a896-4731-a555-585c139c1184",
   "metadata": {},
   "outputs": [],
   "source": []
  },
  {
   "cell_type": "code",
   "execution_count": 21,
   "id": "7a4d659b-032f-4287-b236-cc8aefc90ed2",
   "metadata": {},
   "outputs": [],
   "source": [
    "hg19_islands = pd.read_csv(\"./hg19_uniqID_islands_HomoSapiens.bed\", sep='\\t', header=None)"
   ]
  },
  {
   "cell_type": "code",
   "execution_count": 23,
   "id": "eef9b987-c236-4294-a9e3-d45af56fade2",
   "metadata": {},
   "outputs": [],
   "source": [
    "hg19_islands.rename(columns={0:'chr_hg19', 1:'island_start_hg19', 2:'island_end_hg19', 3:'island_ID'}, inplace=True)"
   ]
  },
  {
   "cell_type": "code",
   "execution_count": 27,
   "id": "bf70a5a1-d22f-45a0-9dbd-0a5d81a1a6f8",
   "metadata": {},
   "outputs": [],
   "source": [
    "hg38_islands = pd.read_csv(\"./regulatory_region_results/hg38_regulatory_islands_genenames.tsv\", sep='\\t')"
   ]
  },
  {
   "cell_type": "code",
   "execution_count": 28,
   "id": "b58eb594-4d9e-447e-a265-aa62475946a0",
   "metadata": {},
   "outputs": [],
   "source": [
    "hg38_islands.rename(columns={'island_start':'island_start_hg38',\n",
    "                             'island_end':'island_end_hg38',\n",
    "                            'SNV_start':'SNV_start_hg38',\n",
    "                            'SNV_end':'SNV_end_hg38'}, inplace=True)"
   ]
  },
  {
   "cell_type": "code",
   "execution_count": 73,
   "id": "f298eaf7-4804-49c6-b917-ef7cf46d7783",
   "metadata": {},
   "outputs": [],
   "source": [
    "rr_islands_hg38 = pd.merge(hg19_islands, hg38_islands, on='island_ID')"
   ]
  },
  {
   "cell_type": "code",
   "execution_count": 76,
   "id": "8ec3fbcd-92a9-4730-9834-65927f7906bc",
   "metadata": {},
   "outputs": [],
   "source": [
    "rr_islands_hg38['SNP_number'] = rr_islands_hg38.index.astype(str)"
   ]
  },
  {
   "cell_type": "code",
   "execution_count": 83,
   "id": "123c2f90-4107-47ca-accc-25320a8a31a1",
   "metadata": {},
   "outputs": [
    {
     "data": {
      "text/plain": [
       "Index(['chr_hg19', 'island_start_hg19', 'island_end_hg19', 'island_ID', 'chr',\n",
       "       'island_start_hg38', 'island_end_hg38', 'POS_island', 'SNV_start_hg38',\n",
       "       'SNV_end_hg38', 'rsID', 'gene_name', 'SNP_number'],\n",
       "      dtype='object')"
      ]
     },
     "execution_count": 83,
     "metadata": {},
     "output_type": "execute_result"
    }
   ],
   "source": [
    "rr_islands_hg38.columns"
   ]
  },
  {
   "cell_type": "code",
   "execution_count": 85,
   "id": "9a06d1a1-2574-45e8-abd4-0ce977a307dc",
   "metadata": {},
   "outputs": [],
   "source": [
    "rr_islands_hg38[['chr','SNV_start_hg38','SNV_end_hg38','SNP_number']].to_csv('./regulatory_region_results/hg38_regulatory_islands_SNVs.bed', header=None, sep='\\t', index=False)"
   ]
  },
  {
   "cell_type": "raw",
   "id": "982cb712-57ac-4dc6-a5b3-40e208fb46f8",
   "metadata": {},
   "source": [
    "liftOver ./regulatory_region_results/hg38_regulatory_islands_SNVs.bed ./hg38_to_hg19/hg38ToHg19.over.chain.gz ./regulatory_region_results/hg19_regulatory_islands_SNVs.bed ./regulatory_region_results/hg19_regulatory_islands_SNVs_unlifted.bed"
   ]
  },
  {
   "cell_type": "code",
   "execution_count": null,
   "id": "e2d204d7-41c9-4505-95c2-f3ea0ef036f7",
   "metadata": {},
   "outputs": [],
   "source": []
  },
  {
   "cell_type": "code",
   "execution_count": 104,
   "id": "6aea1017-4b64-4887-9e96-6525c642cb27",
   "metadata": {},
   "outputs": [],
   "source": [
    "hg19_islands_SNVs = pd.read_csv(\"./regulatory_region_results/hg19_regulatory_islands_SNVs.bed\", sep='\\t', header=None)"
   ]
  },
  {
   "cell_type": "code",
   "execution_count": 105,
   "id": "76eda990-9c40-4f9d-8559-b68d830c160e",
   "metadata": {},
   "outputs": [],
   "source": [
    "hg19_islands_SNVs.rename(columns={0:'Chr',1:'SNV_start_hg19',2:'SNV_end_hg19',3:'SNP_number'}, inplace=True)"
   ]
  },
  {
   "cell_type": "code",
   "execution_count": 106,
   "id": "3f7dd3b0-5e54-4849-8f74-23a8c6d95e8c",
   "metadata": {},
   "outputs": [],
   "source": [
    "hg19_islands_SNVs['SNP_number'] = hg19_islands_SNVs['SNP_number'].astype(str)"
   ]
  },
  {
   "cell_type": "code",
   "execution_count": 108,
   "id": "81c9e20c-8d93-4604-8799-e8c15da519c7",
   "metadata": {},
   "outputs": [],
   "source": [
    "final_genomesVersions = pd.merge(rr_islands_hg38, hg19_islands_SNVs, on='SNP_number')"
   ]
  },
  {
   "cell_type": "code",
   "execution_count": 110,
   "id": "48f53958-6845-44e8-a928-e47cf94a357c",
   "metadata": {},
   "outputs": [],
   "source": [
    "final_genomesVersions.drop(columns=['SNP_number'], inplace=True)"
   ]
  },
  {
   "cell_type": "code",
   "execution_count": 111,
   "id": "64c2625c-6500-4c93-9b0e-bf4aef33f38b",
   "metadata": {},
   "outputs": [
    {
     "data": {
      "text/html": [
       "<div>\n",
       "<style scoped>\n",
       "    .dataframe tbody tr th:only-of-type {\n",
       "        vertical-align: middle;\n",
       "    }\n",
       "\n",
       "    .dataframe tbody tr th {\n",
       "        vertical-align: top;\n",
       "    }\n",
       "\n",
       "    .dataframe thead th {\n",
       "        text-align: right;\n",
       "    }\n",
       "</style>\n",
       "<table border=\"1\" class=\"dataframe\">\n",
       "  <thead>\n",
       "    <tr style=\"text-align: right;\">\n",
       "      <th></th>\n",
       "      <th>chr_hg19</th>\n",
       "      <th>island_start_hg19</th>\n",
       "      <th>island_end_hg19</th>\n",
       "      <th>island_ID</th>\n",
       "      <th>chr</th>\n",
       "      <th>island_start_hg38</th>\n",
       "      <th>island_end_hg38</th>\n",
       "      <th>POS_island</th>\n",
       "      <th>SNV_start_hg38</th>\n",
       "      <th>SNV_end_hg38</th>\n",
       "      <th>rsID</th>\n",
       "      <th>gene_name</th>\n",
       "      <th>Chr</th>\n",
       "      <th>SNV_start_hg19</th>\n",
       "      <th>SNV_end_hg19</th>\n",
       "    </tr>\n",
       "  </thead>\n",
       "  <tbody>\n",
       "    <tr>\n",
       "      <th>0</th>\n",
       "      <td>chr1</td>\n",
       "      <td>1531640</td>\n",
       "      <td>1534641</td>\n",
       "      <td>region_1</td>\n",
       "      <td>chr1</td>\n",
       "      <td>1596260</td>\n",
       "      <td>1599261</td>\n",
       "      <td>chr1_1596260_1599261</td>\n",
       "      <td>1597760</td>\n",
       "      <td>1597761</td>\n",
       "      <td>rs28694168</td>\n",
       "      <td>SSU72, FNDC10</td>\n",
       "      <td>chr1</td>\n",
       "      <td>1533140</td>\n",
       "      <td>1533141</td>\n",
       "    </tr>\n",
       "    <tr>\n",
       "      <th>1</th>\n",
       "      <td>chr1</td>\n",
       "      <td>2199387</td>\n",
       "      <td>2202388</td>\n",
       "      <td>region_2</td>\n",
       "      <td>chr1</td>\n",
       "      <td>2267948</td>\n",
       "      <td>2270949</td>\n",
       "      <td>chr1_2267948_2270949</td>\n",
       "      <td>2269448</td>\n",
       "      <td>2269449</td>\n",
       "      <td>rs139878717</td>\n",
       "      <td>RER1, SKI</td>\n",
       "      <td>chr1</td>\n",
       "      <td>2200887</td>\n",
       "      <td>2200888</td>\n",
       "    </tr>\n",
       "    <tr>\n",
       "      <th>2</th>\n",
       "      <td>chr1</td>\n",
       "      <td>2242231</td>\n",
       "      <td>2245232</td>\n",
       "      <td>region_3</td>\n",
       "      <td>chr1</td>\n",
       "      <td>2310792</td>\n",
       "      <td>2313793</td>\n",
       "      <td>chr1_2310792_2313793</td>\n",
       "      <td>2312292</td>\n",
       "      <td>2312293</td>\n",
       "      <td>rs150611165</td>\n",
       "      <td>RER1, SKI</td>\n",
       "      <td>chr1</td>\n",
       "      <td>2243731</td>\n",
       "      <td>2243732</td>\n",
       "    </tr>\n",
       "    <tr>\n",
       "      <th>3</th>\n",
       "      <td>chr1</td>\n",
       "      <td>2367520</td>\n",
       "      <td>2370521</td>\n",
       "      <td>region_4</td>\n",
       "      <td>chr1</td>\n",
       "      <td>2436081</td>\n",
       "      <td>2439082</td>\n",
       "      <td>chr1_2436081_2439082</td>\n",
       "      <td>2437581</td>\n",
       "      <td>2437582</td>\n",
       "      <td>rs61763907</td>\n",
       "      <td>PLCH2, PEX10</td>\n",
       "      <td>chr1</td>\n",
       "      <td>2369020</td>\n",
       "      <td>2369021</td>\n",
       "    </tr>\n",
       "    <tr>\n",
       "      <th>4</th>\n",
       "      <td>chr1</td>\n",
       "      <td>2827022</td>\n",
       "      <td>2830023</td>\n",
       "      <td>region_5</td>\n",
       "      <td>chr1</td>\n",
       "      <td>2910457</td>\n",
       "      <td>2913458</td>\n",
       "      <td>chr1_2910457_2913458</td>\n",
       "      <td>2911957</td>\n",
       "      <td>2911958</td>\n",
       "      <td>rs76287201</td>\n",
       "      <td>MMEL1, ACTRT2</td>\n",
       "      <td>chr1</td>\n",
       "      <td>2828522</td>\n",
       "      <td>2828523</td>\n",
       "    </tr>\n",
       "  </tbody>\n",
       "</table>\n",
       "</div>"
      ],
      "text/plain": [
       "  chr_hg19  island_start_hg19  island_end_hg19 island_ID   chr  \\\n",
       "0     chr1            1531640          1534641  region_1  chr1   \n",
       "1     chr1            2199387          2202388  region_2  chr1   \n",
       "2     chr1            2242231          2245232  region_3  chr1   \n",
       "3     chr1            2367520          2370521  region_4  chr1   \n",
       "4     chr1            2827022          2830023  region_5  chr1   \n",
       "\n",
       "   island_start_hg38  island_end_hg38            POS_island  SNV_start_hg38  \\\n",
       "0            1596260          1599261  chr1_1596260_1599261         1597760   \n",
       "1            2267948          2270949  chr1_2267948_2270949         2269448   \n",
       "2            2310792          2313793  chr1_2310792_2313793         2312292   \n",
       "3            2436081          2439082  chr1_2436081_2439082         2437581   \n",
       "4            2910457          2913458  chr1_2910457_2913458         2911957   \n",
       "\n",
       "   SNV_end_hg38         rsID      gene_name   Chr  SNV_start_hg19  \\\n",
       "0       1597761   rs28694168  SSU72, FNDC10  chr1         1533140   \n",
       "1       2269449  rs139878717      RER1, SKI  chr1         2200887   \n",
       "2       2312293  rs150611165      RER1, SKI  chr1         2243731   \n",
       "3       2437582   rs61763907   PLCH2, PEX10  chr1         2369020   \n",
       "4       2911958   rs76287201  MMEL1, ACTRT2  chr1         2828522   \n",
       "\n",
       "   SNV_end_hg19  \n",
       "0       1533141  \n",
       "1       2200888  \n",
       "2       2243732  \n",
       "3       2369021  \n",
       "4       2828523  "
      ]
     },
     "execution_count": 111,
     "metadata": {},
     "output_type": "execute_result"
    }
   ],
   "source": [
    "final_genomesVersions.head()"
   ]
  },
  {
   "cell_type": "code",
   "execution_count": 113,
   "id": "d9a30fc6-1de0-46b8-80fe-a0fdad91ccdb",
   "metadata": {},
   "outputs": [],
   "source": [
    "final_genomesVersions['POS'] = final_genomesVersions['Chr'].str.split(\"chr\", expand=True, n=2)[1].astype(str)+\":\"+final_genomesVersions['SNV_end_hg19'].astype(str)"
   ]
  },
  {
   "cell_type": "code",
   "execution_count": 119,
   "id": "2984b965-03c8-4c51-8d11-b305ff85ccfb",
   "metadata": {},
   "outputs": [],
   "source": [
    "final_hg19hg38 = pd.merge(final_genomesVersions,martin[['POS', 'REF', 'ALT']], on='POS')"
   ]
  },
  {
   "cell_type": "code",
   "execution_count": 121,
   "id": "d3afd71a-c020-40cb-ab53-69014e7be3b9",
   "metadata": {},
   "outputs": [],
   "source": [
    "final_hg19hg38.to_csv(\"./regulatory_region_results/regulatory_islands_completeINFO.tsv\", sep='\\t', index=False)"
   ]
  },
  {
   "cell_type": "markdown",
   "id": "6209a886-ce21-4179-b2d8-2f8db611ed01",
   "metadata": {
    "tags": []
   },
   "source": [
    "# Intersections with evolutionary-relevant regions"
   ]
  },
  {
   "cell_type": "markdown",
   "id": "697a67c5-4951-4ef1-abff-037b6248d815",
   "metadata": {},
   "source": [
    "**Pey and Akey to hg38**"
   ]
  },
  {
   "cell_type": "raw",
   "id": "8b23b66b-9cb9-4dc1-8533-1dd7c4fdeb4c",
   "metadata": {},
   "source": [
    "liftOver 2020_akeydeserts_coords.bed ../hg19ToHg38.over.chain.gz akeydeserts_hg38_sorted.bed akey_unlifted.bed"
   ]
  },
  {
   "cell_type": "raw",
   "id": "d7270770-a5f7-4a1f-a863-545cb978f801",
   "metadata": {},
   "source": [
    "liftOver 2020_pey_coords.bed ../hg19ToHg38.over.chain.gz pey_hg38_sorted.bed pey_unlifted.bed"
   ]
  },
  {
   "cell_type": "raw",
   "id": "9ee89663-2086-4b4f-a3df-36e585174c4d",
   "metadata": {},
   "source": []
  },
  {
   "cell_type": "code",
   "execution_count": 132,
   "id": "05d848c8-a5d6-412a-9a3c-c46c69742472",
   "metadata": {},
   "outputs": [
    {
     "data": {
      "text/plain": [
       "'/home/jovyan/jm_jlab/data_CBL/indNeuro_tmp/regulatory_region_data'"
      ]
     },
     "execution_count": 132,
     "metadata": {},
     "output_type": "execute_result"
    }
   ],
   "source": [
    "pwd"
   ]
  },
  {
   "cell_type": "code",
   "execution_count": 138,
   "id": "d15b8665-d56e-4900-b5b5-2cffe6e3ca91",
   "metadata": {},
   "outputs": [
    {
     "name": "stdout",
     "output_type": "stream",
     "text": [
      "121\n"
     ]
    }
   ],
   "source": [
    "!intersectBed -wo -f 1 -a /home/jovyan/jm_jlab/data_CBL/indNeuro_tmp/regulatory_region_data/regulatory_region_results/intersections_hg38/hg38_regulatory_islands.bed -b /home/jovyan/jm_jlab/martinboeckx_to_hg38/bed_files/akeydeserts_hg38_sorted.bed | wc -l"
   ]
  },
  {
   "cell_type": "code",
   "execution_count": 139,
   "id": "b7194e4a-1ac5-42b2-a0d2-38b75ee3ae56",
   "metadata": {},
   "outputs": [
    {
     "name": "stdout",
     "output_type": "stream",
     "text": [
      "chr1\t105353008\t105356009\tregion_214\tchr1_105353008_105356009\t105354508\t105354509\tNan\t\tchr1\t104857377\t120057386\t3001\n",
      "chr1\t107101728\t107104729\tregion_215\tchr1_107101728_107104729\t107101959\t107101960\trs116509870\tNTNG1, PRMT6\tchr1\t104857377\t120057386\t3001\n"
     ]
    }
   ],
   "source": [
    "!intersectBed -wo -f 1 -a /home/jovyan/jm_jlab/data_CBL/indNeuro_tmp/regulatory_region_data/regulatory_region_results/intersections_hg38/hg38_regulatory_islands.bed -b /home/jovyan/jm_jlab/martinboeckx_to_hg38/bed_files/akeydeserts_hg38_sorted.bed | head -n 2"
   ]
  },
  {
   "cell_type": "raw",
   "id": "7687cb8a-67c9-4b95-930f-b09f6c29f2e1",
   "metadata": {},
   "source": [
    "Akey"
   ]
  },
  {
   "cell_type": "code",
   "execution_count": 140,
   "id": "eb0ccb8d-0af3-4d66-b2b7-f14ab97cf982",
   "metadata": {},
   "outputs": [],
   "source": [
    "!intersectBed -wo -f 1 -a /home/jovyan/jm_jlab/data_CBL/indNeuro_tmp/regulatory_region_data/regulatory_region_results/intersections_hg38/hg38_regulatory_islands.bed -b /home/jovyan/jm_jlab/martinboeckx_to_hg38/bed_files/akeydeserts_hg38_sorted.bed > /home/jovyan/jm_jlab/data_CBL/indNeuro_tmp/regulatory_region_data/regulatory_region_results/intersections_hg38/hg38_regulatory_islands_DESERTS.tsv"
   ]
  },
  {
   "cell_type": "raw",
   "id": "2f91f241-e53c-4f94-843c-006d3d065ab4",
   "metadata": {},
   "source": [
    "#adding header\n",
    "!sed -i $'1 cchr\\tisland_start\\tisland_end\\tisland_ID\\tPOS_island\\tSNV_start\\tSNV_END\\trsID\\tgene_name\\tchr\\tDesert_start\\tDesert_end\\tbp_overlap' ./intersections_hg38/hg38_regulatory_islands_DESERTS.tsv"
   ]
  },
  {
   "cell_type": "code",
   "execution_count": 141,
   "id": "5479ec12-dbd5-41e8-abc3-cdc1074fc66e",
   "metadata": {},
   "outputs": [],
   "source": [
    "#adding header\n",
    "\n",
    "!echo -e 'chr\\tisland_start\\tisland_end\\tisland_ID\\tPOS_island\\tSNV_start\\tSNV_END\\trsID\\tgene_name\\tchr\\tDesert_start\\tDesert_end\\tbp_overlap' | cat - /home/jovyan/jm_jlab/data_CBL/indNeuro_tmp/regulatory_region_data/regulatory_region_results/intersections_hg38/hg38_regulatory_islands_DESERTS.tsv > ./out && mv ./out /home/jovyan/jm_jlab/data_CBL/indNeuro_tmp/regulatory_region_data/regulatory_region_results/intersections_hg38/hg38_regulatory_islands_DESERTS.tsv"
   ]
  },
  {
   "cell_type": "raw",
   "id": "00813768-76a4-47ff-80eb-8f8b41f0251b",
   "metadata": {},
   "source": [
    "Pey"
   ]
  },
  {
   "cell_type": "code",
   "execution_count": 144,
   "id": "0e287fdd-192b-4f46-9711-2e9dd8368fc4",
   "metadata": {},
   "outputs": [
    {
     "name": "stdout",
     "output_type": "stream",
     "text": [
      "301\n"
     ]
    }
   ],
   "source": [
    "!intersectBed -wo -f 1 -a ./regulatory_region_results/intersections_hg38/hg38_regulatory_islands.bed -b /home/jovyan/jm_jlab/martinboeckx_to_hg38/bed_files/pey_hg38_sorted.bed | wc -l"
   ]
  },
  {
   "cell_type": "code",
   "execution_count": 147,
   "id": "329561e5-a753-4f27-b8ba-f61a32d16ce2",
   "metadata": {},
   "outputs": [],
   "source": [
    "!intersectBed -wo -f 1 -a ./regulatory_region_results/intersections_hg38/hg38_regulatory_islands.bed -b /home/jovyan/jm_jlab/martinboeckx_to_hg38/bed_files/pey_hg38_sorted.bed > ./regulatory_region_results/intersections_hg38/hg38_regulatory_islands_POS_Sel.tsv"
   ]
  },
  {
   "cell_type": "code",
   "execution_count": 148,
   "id": "5b630260-1d6d-4272-9443-6038a7ef7303",
   "metadata": {},
   "outputs": [],
   "source": [
    "#adding header\n",
    "\n",
    "!echo -e 'chr\\tisland_start\\tisland_end\\tisland_ID\\tPOS_island\\tSNV_start\\tSNV_END\\trsID\\tgene_name\\tchr\\tPosSel_start\\tPosSel_end\\tbp_overlap' | cat - /home/jovyan/jm_jlab/data_CBL/indNeuro_tmp/regulatory_region_data/regulatory_region_results/intersections_hg38/hg38_regulatory_islands_POS_Sel.tsv > ./out && mv ./out /home/jovyan/jm_jlab/data_CBL/indNeuro_tmp/regulatory_region_data/regulatory_region_results/intersections_hg38/hg38_regulatory_islands_POS_Sel.tsv"
   ]
  },
  {
   "cell_type": "raw",
   "id": "f3e62216-6a7c-4a13-951e-5a98f22ce50a",
   "metadata": {},
   "source": []
  },
  {
   "cell_type": "markdown",
   "id": "2f4f6dba-2dc5-4f8d-9b4b-554f109cf6c5",
   "metadata": {},
   "source": [
    "**Human accelerated regions - HARs (hg38)**"
   ]
  },
  {
   "cell_type": "raw",
   "id": "8d9cef0c-6efd-4e05-928b-802352d8baa0",
   "metadata": {},
   "source": [
    "Three-dimensional genome re-wiring in loci with Human Accelerated Regions\n",
    "Keough 2022 bioRxiv - Pollard's lab\n",
    "\n",
    "https://doi.org/10.1101/2022.10.04.510859"
   ]
  },
  {
   "cell_type": "raw",
   "id": "4c39bba7-95de-4b33-b9d1-dc428acc9ba0",
   "metadata": {},
   "source": [
    "Supplementary Table 1 - zooHARs"
   ]
  },
  {
   "cell_type": "code",
   "execution_count": 1,
   "id": "a80c0949-ba2d-4592-9e68-fd8f66fd3617",
   "metadata": {},
   "outputs": [
    {
     "data": {
      "text/plain": [
       "'/home/jovyan/jm_jlab/data_CBL/indNeuro_tmp/regulatory_region_data'"
      ]
     },
     "execution_count": 1,
     "metadata": {},
     "output_type": "execute_result"
    }
   ],
   "source": [
    "pwd"
   ]
  },
  {
   "cell_type": "code",
   "execution_count": 166,
   "id": "cea427cf-050d-42e6-b154-fcaab872b75f",
   "metadata": {},
   "outputs": [
    {
     "name": "stdout",
     "output_type": "stream",
     "text": [
      "--2022-12-08 11:21:18--  https://www.biorxiv.org/content/biorxiv/early/2022/10/05/2022.10.04.510859/DC1/embed/media-1.xlsx?download=true\n",
      "Resolving www.biorxiv.org (www.biorxiv.org)... 104.18.28.142, 104.18.29.142\n",
      "Connecting to www.biorxiv.org (www.biorxiv.org)|104.18.28.142|:443... connected.\n",
      "HTTP request sent, awaiting response... 200 OK\n",
      "Length: unspecified [application/vnd.openxmlformats-officedocument.spreadsheetml.sheet]\n",
      "Saving to: ‘ST1_hg38_zooHARs.xlsx’\n",
      "\n",
      "ST1_hg38_zooHARs.xl     [ <=>                ]  31.59K  --.-KB/s    in 0.002s  \n",
      "\n",
      "2022-12-08 11:21:24 (19.9 MB/s) - ‘ST1_hg38_zooHARs.xlsx’ saved [32347]\n",
      "\n"
     ]
    }
   ],
   "source": [
    "!wget https://www.biorxiv.org/content/biorxiv/early/2022/10/05/2022.10.04.510859/DC1/embed/media-1.xlsx?download=true -O ST1_hg38_zooHARs.xlsx"
   ]
  },
  {
   "cell_type": "code",
   "execution_count": 167,
   "id": "dc8f6b75-6914-4d8a-87d1-432d31ae5e69",
   "metadata": {},
   "outputs": [],
   "source": [
    "#To bed\n",
    "df = pd.read_excel(\"/home/jovyan/jm_jlab/data_CBL/indNeuro_tmp/regulatory_region_data/ST1_hg38_zooHARs.xlsx\", sheet_name='zooHARs')\n",
    "\n",
    "df['start'] = df['start']-1 #must be 0-based\n",
    "\n",
    "df.iloc[:,0:3].to_csv(\"/home/jovyan/jm_jlab/data_CBL/indNeuro_tmp/regulatory_region_data/ST1_hg38_zooHARs.bed\", sep='\\t', index=False, header=None)\n",
    "\n",
    "# !cat /home/jovyan/jm_jlab/data_CBL/indNeuro_tmp/regulatory_region_data/ST1_hg38_zooHARs.bed | head\n",
    "\n",
    "!rm /home/jovyan/jm_jlab/data_CBL/indNeuro_tmp/regulatory_region_data/ST1_hg38_zooHARs.xlsx \n",
    "\n",
    "!bedtools sort -i /home/jovyan/jm_jlab/data_CBL/indNeuro_tmp/regulatory_region_data/ST1_hg38_zooHARs.bed > /home/jovyan/jm_jlab/data_CBL/indNeuro_tmp/regulatory_region_data/ST1_hg38_zooHARs_sorted.bed\n",
    "\n",
    "!rm /home/jovyan/jm_jlab/data_CBL/indNeuro_tmp/regulatory_region_data/ST1_hg38_zooHARs.bed"
   ]
  },
  {
   "cell_type": "code",
   "execution_count": 168,
   "id": "3faae09e-2ef1-410b-ad40-8cb5906f3c09",
   "metadata": {},
   "outputs": [
    {
     "name": "stdout",
     "output_type": "stream",
     "text": [
      "312\n"
     ]
    }
   ],
   "source": [
    "!cat ./ST1_hg38_zooHARs_sorted.bed | wc -l # n as expected"
   ]
  },
  {
   "cell_type": "code",
   "execution_count": 169,
   "id": "132fa347-9b6c-47ae-b0e0-4701286925c0",
   "metadata": {},
   "outputs": [],
   "source": [
    "!intersectBed -wo -f 1 -a /home/jovyan/jm_jlab/data_CBL/indNeuro_tmp/regulatory_region_data/ST1_hg38_zooHARs_sorted.bed -b ./regulatory_region_results/intersections_hg38/hg38_regulatory_islands.bed  > ./regulatory_region_results/intersections_hg38/hg38_HARs_overlaps_regulatory_islands.bed"
   ]
  },
  {
   "cell_type": "code",
   "execution_count": 170,
   "id": "e50d6931-057b-45eb-b871-d4c9f9f6f77d",
   "metadata": {},
   "outputs": [],
   "source": [
    "#adding header\n",
    "\n",
    "!echo -e 'chr\\tHAR_start\\tHAR_end\\tchr\\tisland_start\\tisland_end\\tisland_ID\\tPOS_island\\tSNV_start\\tSNV_END\\trsID\\tgene_name\\tbp_overlap' | cat - ./regulatory_region_results/intersections_hg38/hg38_HARs_overlaps_regulatory_islands.bed > ./out && mv ./out ./regulatory_region_results/intersections_hg38/hg38_HARs_overlaps_regulatory_islands.tsv"
   ]
  },
  {
   "cell_type": "code",
   "execution_count": 171,
   "id": "f2bfa6da-5d14-4b82-be66-847270e9aa9f",
   "metadata": {},
   "outputs": [],
   "source": [
    "!rm ./regulatory_region_results/intersections_hg38/hg38_HARs_overlaps_regulatory_islands.bed\n",
    "!rm ./ST1_hg38_zooHARs_sorted.bed"
   ]
  },
  {
   "cell_type": "code",
   "execution_count": null,
   "id": "1999b8cc-3777-4094-a014-d7dc89630a49",
   "metadata": {},
   "outputs": [],
   "source": []
  },
  {
   "cell_type": "markdown",
   "id": "05195cf0-d537-4444-a6e7-8d8b73c28bb2",
   "metadata": {},
   "source": [
    "**human ancestor quickly evolved regions - HAQERs (hg38)**"
   ]
  },
  {
   "cell_type": "raw",
   "id": "4e5f67e3-aab5-44be-a9e7-f4b6193a5fa1",
   "metadata": {},
   "source": [
    "Adaptive sequence divergence forged new neurodevelopmental enhancers in humans\n",
    "\n",
    "https://doi.org/10.1016/j.cell.2022.10.016"
   ]
  },
  {
   "cell_type": "raw",
   "id": "d6093d87-42bc-4177-a126-78045d5f3497",
   "metadata": {},
   "source": [
    "Supplementary Table 1 - HAQERS"
   ]
  },
  {
   "cell_type": "code",
   "execution_count": 172,
   "id": "4a194951-cd59-4d0e-8f0b-5da6fa8ccdea",
   "metadata": {},
   "outputs": [
    {
     "data": {
      "text/plain": [
       "'/home/jovyan/jm_jlab/data_CBL/indNeuro_tmp/regulatory_region_data'"
      ]
     },
     "execution_count": 172,
     "metadata": {},
     "output_type": "execute_result"
    }
   ],
   "source": [
    "pwd"
   ]
  },
  {
   "cell_type": "code",
   "execution_count": 210,
   "id": "dd1f45b6-b3af-4e8d-93ec-382761ba70cf",
   "metadata": {},
   "outputs": [
    {
     "name": "stdout",
     "output_type": "stream",
     "text": [
      "--2022-12-08 11:32:40--  https://www.cell.com/cms/10.1016/j.cell.2022.10.016/attachment/fed00158-7a2e-4561-b879-29d0b84c2bd2/mmc1.xlsx\n",
      "Resolving www.cell.com (www.cell.com)... 104.18.124.114, 104.18.123.114\n",
      "Connecting to www.cell.com (www.cell.com)|104.18.124.114|:443... connected.\n",
      "HTTP request sent, awaiting response... 200 OK\n",
      "Length: 216677 (212K) [application/octet-stream]\n",
      "Saving to: ‘ST1_hg38_HAQERs.xlsx’\n",
      "\n",
      "ST1_hg38_HAQERs.xls 100%[===================>] 211.60K  --.-KB/s    in 0.06s   \n",
      "\n",
      "2022-12-08 11:32:45 (3.50 MB/s) - ‘ST1_hg38_HAQERs.xlsx’ saved [216677/216677]\n",
      "\n"
     ]
    }
   ],
   "source": [
    "!wget https://www.cell.com/cms/10.1016/j.cell.2022.10.016/attachment/fed00158-7a2e-4561-b879-29d0b84c2bd2/mmc1.xlsx -O ST1_hg38_HAQERs.xlsx"
   ]
  },
  {
   "cell_type": "code",
   "execution_count": 211,
   "id": "c0aff369-ae45-4e3f-bb53-35f228d29ce1",
   "metadata": {},
   "outputs": [],
   "source": [
    "#To bed\n",
    "df = pd.read_excel(\"/home/jovyan/jm_jlab/data_CBL/indNeuro_tmp/regulatory_region_data/ST1_hg38_HAQERs.xlsx\", sheet_name='HaqerOverlaps')\n",
    "\n",
    "df['START (hg38)'] = df['START (hg38)']-1 #0-based\n",
    "df.loc[35,'CHROM (hg38)'] = \"chr14\" #missing entry\n",
    "\n",
    "df.iloc[:,1:4].to_csv(\"/home/jovyan/jm_jlab/data_CBL/indNeuro_tmp/regulatory_region_data/ST1_hg38_HAQERs.bed\", sep='\\t', index=False, header=None)\n",
    "\n",
    "# !cat /home/jovyan/jm_jlab/data_CBL/indNeuro_tmp/regulatory_region_data/ST1_hg38_HAQERs.bed | head\n",
    "\n",
    "!rm /home/jovyan/jm_jlab/data_CBL/indNeuro_tmp/regulatory_region_data/ST1_hg38_HAQERs.xlsx \n",
    "\n",
    "!bedtools sort -i /home/jovyan/jm_jlab/data_CBL/indNeuro_tmp/regulatory_region_data/ST1_hg38_HAQERs.bed > /home/jovyan/jm_jlab/data_CBL/indNeuro_tmp/regulatory_region_data/ST1_hg38_HAQERs_sorted.bed\n",
    "\n",
    "!rm /home/jovyan/jm_jlab/data_CBL/indNeuro_tmp/regulatory_region_data/ST1_hg38_HAQERs.bed"
   ]
  },
  {
   "cell_type": "code",
   "execution_count": 212,
   "id": "dcb4ba4d-972e-4348-a8da-8423dbdbb249",
   "metadata": {},
   "outputs": [
    {
     "name": "stdout",
     "output_type": "stream",
     "text": [
      "1581\n"
     ]
    }
   ],
   "source": [
    "!cat ./ST1_hg38_HAQERs_sorted.bed | wc -l # n as expected"
   ]
  },
  {
   "cell_type": "code",
   "execution_count": 217,
   "id": "a6da4278-7f67-40bd-9c93-30df5c50d55b",
   "metadata": {},
   "outputs": [
    {
     "name": "stdout",
     "output_type": "stream",
     "text": [
      "18\n"
     ]
    }
   ],
   "source": [
    "!intersectBed -wo -f 1 -a ./ST1_hg38_HAQERs_sorted.bed -b ./regulatory_region_results/intersections_hg38/hg38_regulatory_islands.bed  | wc -l"
   ]
  },
  {
   "cell_type": "code",
   "execution_count": 218,
   "id": "2c0941f9-68ec-4321-bf62-d0179e3d91ac",
   "metadata": {},
   "outputs": [
    {
     "name": "stdout",
     "output_type": "stream",
     "text": [
      "chr11\t11246736\t11247331\tchr11\t11245750\t11248751\tregion_696\tchr11_11245750_11248751\t11247250\t11247251\trs12416848\tZBED5, CSNK2A3\t595\n",
      "chr18\t2905609\t2907371\tchr18\t2901832\t2907475\tregion_1973\tchr18_2901832_2907475\t2903332\t2903333\trs28497228\tEMILIN2, LPIN2\t1762\n"
     ]
    }
   ],
   "source": [
    "!intersectBed -wo -f 1 -a ./ST1_hg38_HAQERs_sorted.bed -b ./regulatory_region_results/intersections_hg38/hg38_regulatory_islands.bed  | head -n 2"
   ]
  },
  {
   "cell_type": "code",
   "execution_count": 219,
   "id": "82185013-d310-4b01-b657-6b4881f06802",
   "metadata": {},
   "outputs": [],
   "source": [
    "!intersectBed -wo -f 1 -a ./ST1_hg38_HAQERs_sorted.bed -b ./regulatory_region_results/intersections_hg38/hg38_regulatory_islands.bed  > ./regulatory_region_results/intersections_hg38/hg38_HAQERs_overlaps_regulatory_islands.bed"
   ]
  },
  {
   "cell_type": "code",
   "execution_count": 220,
   "id": "68427476-cd8f-4db7-bd09-e45881b894c2",
   "metadata": {},
   "outputs": [],
   "source": [
    "#adding header\n",
    "\n",
    "!echo -e 'chr\\tHAQER_start\\tHAQER_end\\tchr\\tisland_start\\tisland_end\\tisland_ID\\tPOS_island\\tSNV_start\\tSNV_END\\trsID\\tgene_name\\tbp_overlap' | cat - ./regulatory_region_results/intersections_hg38/hg38_HAQERs_overlaps_regulatory_islands.bed > ./out && mv ./out ./regulatory_region_results/intersections_hg38/hg38_HAQERs_overlaps_regulatory_islands.tsv"
   ]
  },
  {
   "cell_type": "code",
   "execution_count": 221,
   "id": "6b447f5d-39c6-44a8-b61d-a2f95f1ff027",
   "metadata": {},
   "outputs": [],
   "source": [
    "!rm ./regulatory_region_results/intersections_hg38/hg38_HAQERs_overlaps_regulatory_islands.bed\n",
    "!rm ./ST1_hg38_HAQERs_sorted.bed"
   ]
  },
  {
   "cell_type": "code",
   "execution_count": null,
   "id": "5bd8bd67-ec6e-4fee-8d95-8ce982acaa97",
   "metadata": {},
   "outputs": [],
   "source": []
  },
  {
   "cell_type": "markdown",
   "id": "a1f12cb9-4882-41b9-85e3-0b141d5a858a",
   "metadata": {},
   "source": [
    "**human gained enhancers - HGEs** do not match in stages considered here"
   ]
  },
  {
   "cell_type": "raw",
   "id": "25baf045-baa7-4982-ae0c-27cffd9a5b11",
   "metadata": {},
   "source": []
  },
  {
   "cell_type": "markdown",
   "id": "baf862be-84db-45cf-acdd-e4c5d819cdb9",
   "metadata": {},
   "source": [
    "**Copying to CBL_data**"
   ]
  },
  {
   "cell_type": "code",
   "execution_count": 1,
   "id": "de0a3d0c-fc42-4df1-938b-0ddcbbe4ec95",
   "metadata": {},
   "outputs": [
    {
     "name": "stdout",
     "output_type": "stream",
     "text": [
      "hg38_HAQERs_overlaps_regulatory_islands.tsv\n",
      "hg38_HARs_overlaps_regulatory_islands.tsv\n",
      "hg38_regulatory_islands.bed\n",
      "hg38_regulatory_islands_DESERTS.tsv\n",
      "hg38_regulatory_islands_POS_Sel.tsv\n"
     ]
    }
   ],
   "source": [
    "!ls /home/jovyan/jm_jlab/data_CBL/indNeuro_tmp/regulatory_region_data/regulatory_region_results/intersections_hg38/"
   ]
  },
  {
   "cell_type": "raw",
   "id": "c474234a-2314-43b2-8b05-5d2132293ee2",
   "metadata": {},
   "source": []
  },
  {
   "cell_type": "code",
   "execution_count": 2,
   "id": "e72798a7-9360-4c90-8b3c-0accfda4a653",
   "metadata": {},
   "outputs": [],
   "source": [
    "!cp  /home/jovyan/jm_jlab/data_CBL/indNeuro_tmp/regulatory_region_data/regulatory_region_results/intersections_hg38/hg38_* /home/jovyan/jm_jlab/CBL_data/indirectNeurogenesis/regulatory_islands/"
   ]
  },
  {
   "cell_type": "code",
   "execution_count": null,
   "id": "78d3586e-214f-4e94-9b4a-79b35760eb2a",
   "metadata": {},
   "outputs": [],
   "source": []
  },
  {
   "cell_type": "markdown",
   "id": "cd7f8496-175f-412e-a7b7-b173af57212f",
   "metadata": {},
   "source": [
    "**Plots**"
   ]
  },
  {
   "cell_type": "code",
   "execution_count": 224,
   "id": "54c198d7-c0cf-4147-9f00-ca900a1d0571",
   "metadata": {
    "scrolled": true
   },
   "outputs": [
    {
     "name": "stdout",
     "output_type": "stream",
     "text": [
      "    19 /home/jovyan/jm_jlab/data_CBL/indNeuro_tmp/regulatory_region_data/regulatory_region_results/intersections_hg38/hg38_HAQERs_overlaps_regulatory_islands.tsv\n",
      "    11 /home/jovyan/jm_jlab/data_CBL/indNeuro_tmp/regulatory_region_data/regulatory_region_results/intersections_hg38/hg38_HARs_overlaps_regulatory_islands.tsv\n",
      "  9091 /home/jovyan/jm_jlab/data_CBL/indNeuro_tmp/regulatory_region_data/regulatory_region_results/intersections_hg38/hg38_regulatory_islands.bed\n",
      "   122 /home/jovyan/jm_jlab/data_CBL/indNeuro_tmp/regulatory_region_data/regulatory_region_results/intersections_hg38/hg38_regulatory_islands_DESERTS.tsv\n",
      "   302 /home/jovyan/jm_jlab/data_CBL/indNeuro_tmp/regulatory_region_data/regulatory_region_results/intersections_hg38/hg38_regulatory_islands_POS_Sel.tsv\n",
      "  9545 total\n"
     ]
    }
   ],
   "source": [
    "!wc -l /home/jovyan/jm_jlab/data_CBL/indNeuro_tmp/regulatory_region_data/regulatory_region_results/intersections_hg38/* #some with header"
   ]
  },
  {
   "cell_type": "code",
   "execution_count": 231,
   "id": "63222104-1052-4d79-92d9-9302b1a1b47e",
   "metadata": {},
   "outputs": [
    {
     "name": "stdout",
     "output_type": "stream",
     "text": [
      "hg38_regulatory_islands.bed\n",
      "hg38_regulatory_islands_DESERTS.tsv\n",
      "hg38_regulatory_islands_POS_Sel.tsv\n",
      "hg38_HARs_overlaps_regulatory_islands.tsv\n",
      "hg38_HAQERs_overlaps_regulatory_islands.tsv\n"
     ]
    }
   ],
   "source": [
    "data_files = os.listdir('./regulatory_region_results/intersections_hg38/')\n",
    "\n",
    "for filename in data_files:\n",
    "    if \"hg38\" in filename:\n",
    "        print(filename)"
   ]
  },
  {
   "cell_type": "code",
   "execution_count": 244,
   "id": "b76f6584-0f0c-4ab7-9cea-f9810ac31f47",
   "metadata": {},
   "outputs": [
    {
     "data": {
      "text/plain": [
       "'/home/jovyan/jm_jlab/data_CBL/indNeuro_tmp/regulatory_region_data/regulatory_region_results/intersections_hg38/hg38_regulatory_islands.bed'"
      ]
     },
     "execution_count": 244,
     "metadata": {},
     "output_type": "execute_result"
    }
   ],
   "source": [
    "mydir+filename"
   ]
  },
  {
   "cell_type": "code",
   "execution_count": 286,
   "id": "ad16c08e-2cec-49d5-bf9e-2f7d75696400",
   "metadata": {},
   "outputs": [
    {
     "name": "stdout",
     "output_type": "stream",
     "text": [
      "hg38_regulatory_islands_DESERTS.tsv\n",
      "hg38_regulatory_islands_POS_Sel.tsv\n",
      "hg38_HARs_overlaps_regulatory_islands.tsv\n",
      "hg38_HAQERs_overlaps_regulatory_islands.tsv\n"
     ]
    }
   ],
   "source": [
    "data_files = os.listdir('./regulatory_region_results/intersections_hg38/')\n",
    "mydir = '/home/jovyan/jm_jlab/data_CBL/indNeuro_tmp/regulatory_region_data/regulatory_region_results/intersections_hg38/'\n",
    "\n",
    "df_list = []\n",
    "\n",
    "for filename in data_files:\n",
    "    if \"hg38\" in filename and \"hg38_regulatory_islands.bed\" not in filename:\n",
    "        print(filename)\n",
    "        df_list.append(pd.read_csv(mydir+filename, sep='\\t'))\n"
   ]
  },
  {
   "cell_type": "code",
   "execution_count": 285,
   "id": "67a2e3b1-c6fc-49a8-8f6c-de7c603db621",
   "metadata": {},
   "outputs": [
    {
     "name": "stdout",
     "output_type": "stream",
     "text": [
      "68\n",
      "116\n",
      "3\n",
      "9\n"
     ]
    }
   ],
   "source": [
    "#unique number of islands\n",
    "for i in np.arange(0,len(df_list)):\n",
    "    print(len(df_list[i].island_ID.unique()))"
   ]
  },
  {
   "cell_type": "raw",
   "id": "09b9ce6b-bef0-4578-9959-cc95155aee7b",
   "metadata": {},
   "source": [
    "d = {'Dataset': ['regulatory_islands', 'HS_Positive_selection', 'HS_deserts', 'HARs', 'HAQERs'], 'number of regions': [4836, 116, 68, 3, 9]}"
   ]
  },
  {
   "cell_type": "code",
   "execution_count": 299,
   "id": "538ed2a6-3904-42ff-b695-baf5674613cc",
   "metadata": {},
   "outputs": [],
   "source": [
    "d = {'Dataset': ['HS_Positive_selection', 'HS_deserts', 'HARs', 'HAQERs'], 'n regulatory islands': [116, 68, 3, 9]}"
   ]
  },
  {
   "cell_type": "code",
   "execution_count": 300,
   "id": "c7ab944c-d8ec-4096-ab64-d08028d4ebef",
   "metadata": {},
   "outputs": [],
   "source": [
    "d1 = pd.DataFrame(d)"
   ]
  },
  {
   "cell_type": "code",
   "execution_count": 301,
   "id": "fce903cc-0f69-403c-884a-a35efbe8d346",
   "metadata": {},
   "outputs": [
    {
     "data": {
      "text/plain": [
       "<AxesSubplot: xlabel='Dataset', ylabel='n regulatory islands'>"
      ]
     },
     "execution_count": 301,
     "metadata": {},
     "output_type": "execute_result"
    },
    {
     "data": {
      "image/png": "[encoded data removed]",
      "text/plain": [
       "<Figure size 640x480 with 1 Axes>"
      ]
     },
     "metadata": {},
     "output_type": "display_data"
    }
   ],
   "source": [
    "sns.barplot(data=d1, x=\"Dataset\", y=\"n regulatory islands\")"
   ]
  },
  {
   "cell_type": "raw",
   "id": "17cb887b",
   "metadata": {},
   "source": []
  }
 ],
 "metadata": {
  "kernelspec": {
   "display_name": "Python 3 (ipykernel)",
   "language": "python",
   "name": "python3"
  },
  "language_info": {
   "codemirror_mode": {
    "name": "ipython",
    "version": 3
   },
   "file_extension": ".py",
   "mimetype": "text/x-python",
   "name": "python",
   "nbconvert_exporter": "python",
   "pygments_lexer": "ipython3",
   "version": "3.8.15"
  }
 },
 "nbformat": 4,
 "nbformat_minor": 5
}
