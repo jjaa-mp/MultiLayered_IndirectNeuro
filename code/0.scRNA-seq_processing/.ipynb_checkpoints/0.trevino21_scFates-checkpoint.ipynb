{
 "cells": [
  {
   "cell_type": "markdown",
   "id": "33c0a014-8717-48da-83ff-d8a184ba486a",
   "metadata": {
    "tags": []
   },
   "source": [
    "## **Inferring neural progenitor states during indirect neurogenesis from single cell data - scFates** \n",
    "\n",
    "(Trevino et al 2021 dataset)"
   ]
  },
  {
   "cell_type": "code",
   "execution_count": null,
   "id": "35e3a06b-f399-4ed2-99c7-320f90974753",
   "metadata": {},
   "outputs": [],
   "source": [
    "pwd"
   ]
  },
  {
   "cell_type": "markdown",
   "id": "c86371e4-d6e1-46a6-921f-d4678402d62a",
   "metadata": {
    "tags": []
   },
   "source": [
    "### **Loading modules and settings**"
   ]
  },
  {
   "cell_type": "code",
   "execution_count": null,
   "id": "4833d4cc-42a1-42a7-b7dd-d188a73c2d3d",
   "metadata": {},
   "outputs": [],
   "source": [
    "import sys\n",
    "#!{sys.executable} -m pip -q install palantir fa2\n",
    "import warnings\n",
    "warnings.filterwarnings(\"ignore\")\n",
    "from anndata import AnnData\n",
    "import numpy as np\n",
    "import pandas as pd\n",
    "import scanpy as sc\n",
    "import scFates as scf\n",
    "import palantir\n",
    "import matplotlib.pyplot as plt\n",
    "sc.settings.verbosity = 3\n",
    "sc.settings.logfile = sys.stdout\n",
    "## fix palantir breaking down some plots\n",
    "import seaborn \n",
    "seaborn.reset_orig()\n",
    "%matplotlib inline\n",
    "\n",
    "sc.set_figure_params()\n",
    "scf.set_figure_pubready()\n",
    "\n",
    "\n",
    "from matplotlib.gridspec import GridSpec\n",
    "import matplotlib.pyplot as plt"
   ]
  },
  {
   "cell_type": "code",
   "execution_count": null,
   "id": "b5cc563e-4217-4077-8088-e369b7a29ec5",
   "metadata": {},
   "outputs": [],
   "source": [
    "from pathlib import Path\n",
    "Path(\"/home/jovyan/jm_jlab/data_indNeuro/0.Figures_scRNA-seq_processing/\").mkdir(parents=True, exist_ok=True)"
   ]
  },
  {
   "cell_type": "code",
   "execution_count": null,
   "id": "52410357-3f18-4780-80c7-36b9bce679aa",
   "metadata": {
    "tags": []
   },
   "outputs": [],
   "source": [
    "figures_path = \"/home/jovyan/jm_jlab/data_indNeuro/0.Figures_scRNA-seq_processing/\""
   ]
  },
  {
   "cell_type": "markdown",
   "id": "c7e9ae8d-e18c-4d16-8374-73df83fe9dbc",
   "metadata": {},
   "source": [
    "### **Loading data with Seurat PCA coordinates and normalization**"
   ]
  },
  {
   "cell_type": "code",
   "execution_count": null,
   "id": "5d8fb5a7-0e58-4377-a458-d7ef648db0bf",
   "metadata": {},
   "outputs": [],
   "source": [
    "adata = sc.read_h5ad(\"/home/jovyan/jm_jlab/data_indNeuro/intermediate_files/rna_counts.h5ad\")\n",
    "\n",
    "adata.layers['raw_counts'] = adata.X.copy()\n",
    "sc.pp.filter_genes(adata, min_cells=50)\n",
    "sc.pp.normalize_per_cell(adata, key_n_counts='n_counts_all')\n",
    "sc.pp.highly_variable_genes(adata, n_top_genes=4000, flavor='seurat_v3') #let's retain more genes before further filtering\n",
    "print(sc.pl.highly_variable_genes(adata))\n",
    "\n",
    "#adata=adata[:,adata.var.highly_variable]\n",
    "#Renormalized after filtering\n",
    "#sc.pp.normalize_per_cell(adata, key_n_counts='n_counts_all')\n",
    "\n",
    "# keep raw count data before log transformation\n",
    "adata.raw = adata\n",
    "adata.layers[\"raw_count\"] = adata.raw.X.copy()\n",
    "\n",
    "# Log transformation\n",
    "sc.pp.log1p(adata)\n",
    "\n",
    "cellembeddings = pd.read_csv(\"/home/jovyan/jm_jlab/data_indNeuro/intermediate_files/cellembeddings.tsv\", sep='\\t')\n",
    "cellembeddings.iloc[:,1] = cellembeddings.iloc[:,1]*-1 #for better geometry\n",
    "adata.obsm['X_pca'] = cellembeddings.to_numpy() #sharing embeddings\n",
    "\n",
    "pca_projections = pd.DataFrame(adata.obsm[\"X_pca\"],index=adata.obs_names)"
   ]
  },
  {
   "cell_type": "code",
   "execution_count": null,
   "id": "1aae75f6-d4cf-4599-a3e4-f7f60ee3be2d",
   "metadata": {},
   "outputs": [],
   "source": [
    "sc.set_figure_params(figsize=(4,4))\n",
    "\n",
    "sc.pl.highly_variable_genes(adata[:,adata.var['means'] < 50])"
   ]
  },
  {
   "cell_type": "raw",
   "id": "6919e8fb-8205-4a7c-a494-2eba86001e59",
   "metadata": {},
   "source": []
  },
  {
   "cell_type": "code",
   "execution_count": null,
   "id": "e9875f60-8516-4f9a-abf5-7d2c3b6f3321",
   "metadata": {},
   "outputs": [],
   "source": [
    "sc.set_figure_params(figsize=(4,4))\n",
    "\n",
    "sc.pl.pca(adata, color='Cluster.Name')"
   ]
  },
  {
   "cell_type": "code",
   "execution_count": null,
   "id": "78920194-75b9-4450-940f-533990eb7155",
   "metadata": {},
   "outputs": [],
   "source": [
    "sc.set_figure_params(figsize=(4,4))\n",
    "\n",
    "sc.pl.pca(adata, color='Batch', alpha=1,  save=\"SF1_pca_batches.png\")"
   ]
  },
  {
   "cell_type": "raw",
   "id": "b6cb9564-662c-445f-b30a-d84a854cfa8a",
   "metadata": {},
   "source": [
    "adata.obs"
   ]
  },
  {
   "cell_type": "code",
   "execution_count": null,
   "id": "2d4730a5-9140-4d22-a5b7-6379a77a2eb9",
   "metadata": {},
   "outputs": [],
   "source": [
    "adata.obs['Batch'].value_counts()"
   ]
  },
  {
   "cell_type": "markdown",
   "id": "94cbb376-ba69-4bb6-b63d-06d078040bdd",
   "metadata": {},
   "source": [
    "**Coarse clustering**"
   ]
  },
  {
   "cell_type": "code",
   "execution_count": null,
   "id": "e97c0039-28ac-498a-88e4-21df6fc22616",
   "metadata": {},
   "outputs": [],
   "source": [
    "sc.pp.neighbors(adata, n_pcs=2, n_neighbors=75, method='gauss') #Also necessary for later force-directed graph computation\n",
    "\n",
    "sc.tl.leiden(adata, resolution=0.1) # for coarse clustering\n",
    "\n",
    "adata.uns['leiden_colors'] = ['#279e68', '#d62728', '#ff7f0e'] # for match with scFates milestones later\n",
    "\n",
    "sc.pl.pca(adata, color=['leiden', 'EGR1', 'HOPX', 'EOMES'])"
   ]
  },
  {
   "cell_type": "code",
   "execution_count": null,
   "id": "c190e979-791a-406c-8c77-262b72194364",
   "metadata": {},
   "outputs": [],
   "source": [
    "import seaborn as sns"
   ]
  },
  {
   "cell_type": "code",
   "execution_count": null,
   "id": "672ec1fd-107d-4d80-90d6-6bfe2949f94b",
   "metadata": {},
   "outputs": [],
   "source": [
    "sns.color_palette(\"colorblind\")"
   ]
  },
  {
   "cell_type": "code",
   "execution_count": null,
   "id": "799fcfde-e776-4310-899a-c70fe3364ce7",
   "metadata": {},
   "outputs": [],
   "source": [
    "sns.color_palette(\"colorblind\",4).as_hex()"
   ]
  },
  {
   "cell_type": "code",
   "execution_count": null,
   "id": "ff792e24-8615-4225-a316-57c6d637df0e",
   "metadata": {},
   "outputs": [],
   "source": [
    "adata.uns['leiden_colors'] = [sns.color_palette(\"colorblind\",4).as_hex()[2], sns.color_palette(\"colorblind\",4).as_hex()[3], sns.color_palette(\"colorblind\",4).as_hex()[1]] # for match with scFates milestones later\n",
    "\n",
    "sc.pl.pca(adata, color=['leiden', 'EGR1', 'HOPX', 'EOMES'])"
   ]
  },
  {
   "cell_type": "code",
   "execution_count": null,
   "id": "0702c362-bd55-4165-8361-839b5f540d3f",
   "metadata": {},
   "outputs": [],
   "source": [
    "sc.pl.pca(adata, color=['leiden'], save='SF1_CoarseClustering.png')"
   ]
  },
  {
   "cell_type": "markdown",
   "id": "a6059fe0-4586-493c-b9b6-74e3efcceea2",
   "metadata": {},
   "source": [
    "**DEG - Logistic regression**"
   ]
  },
  {
   "cell_type": "code",
   "execution_count": null,
   "id": "dd59d850-5530-4685-8d43-cb0bc973ad86",
   "metadata": {},
   "outputs": [],
   "source": [
    "# Logistic regression\n",
    "sc.set_figure_params(figsize=(4, 4),dpi_save=300)\n",
    "\n",
    "sc.tl.rank_genes_groups(adata, 'leiden', method='logreg', key_added = \"logreg\")"
   ]
  },
  {
   "cell_type": "code",
   "execution_count": null,
   "id": "7de397ec-56fe-403b-82cd-c1c5b128296e",
   "metadata": {},
   "outputs": [],
   "source": [
    "pwd"
   ]
  },
  {
   "cell_type": "code",
   "execution_count": null,
   "id": "0a19e4c5-b787-46e8-a263-934aace33b90",
   "metadata": {},
   "outputs": [],
   "source": [
    "sc.pl.rank_genes_groups(adata,key='logreg', n_genes=10, save=\"SF1_DEG_logistic.png\")"
   ]
  },
  {
   "cell_type": "raw",
   "id": "e97937be-75d5-4b85-a952-783d43f4d9be",
   "metadata": {},
   "source": [
    "sc.set_figure_params(figsize=(23, 4))\n",
    "\n",
    "fig=plt.figure()\n",
    "\n",
    "gs=GridSpec(1,4)\n",
    "\n",
    "\n",
    "ax0=fig.add_subplot(gs[0,0])\n",
    "ax1=fig.add_subplot(gs[0,1])\n",
    "ax2=fig.add_subplot(gs[0,2]) \n",
    "ax3=fig.add_subplot(gs[0,3])\n",
    "\n",
    "sc.pl.pca(adata, color=[\"leiden\"],  frameon=True, ax=ax0, show=False, title=\"\", legend_loc='on data')\n",
    "sc.pl.rank_genes_groups_violin(adata, groups=['0'], key='logreg', ax=ax1, n_genes=10, show=False)\n",
    "sc.pl.rank_genes_groups_violin(adata, groups=['1'], key='logreg', ax=ax2, n_genes=10, show=False)\n",
    "sc.pl.rank_genes_groups_violin(adata, groups=['2'], key='logreg', ax=ax3, n_genes=10, show=False)\n",
    "\n",
    "fig.savefig(figures_path+'tr21_Coarse_clustering_DEG_logisticregression.pdf')"
   ]
  },
  {
   "cell_type": "markdown",
   "id": "8dc4c712-e2eb-429c-9735-d164d90c6168",
   "metadata": {},
   "source": [
    "**DEG - Wilcoxon**"
   ]
  },
  {
   "cell_type": "code",
   "execution_count": null,
   "id": "90ed609a-02b3-4487-81e2-39bd30074d7f",
   "metadata": {},
   "outputs": [],
   "source": [
    "sc.set_figure_params(figsize=(4, 4))\n",
    "\n",
    "sc.tl.rank_genes_groups(adata, 'leiden', method='wilcoxon', key_added = \"wilcoxon\")\n",
    "sc.pl.rank_genes_groups(adata, n_genes=10, key= 'wilcoxon', sharey=False)"
   ]
  },
  {
   "cell_type": "raw",
   "id": "37cfa921-7e70-4887-afd7-7cf723d0049e",
   "metadata": {},
   "source": [
    "sc.set_figure_params(figsize=(23, 4))\n",
    "\n",
    "fig=plt.figure()\n",
    "\n",
    "gs=GridSpec(1,4)\n",
    "\n",
    "\n",
    "ax0=fig.add_subplot(gs[0,0])\n",
    "ax1=fig.add_subplot(gs[0,1])\n",
    "ax2=fig.add_subplot(gs[0,2]) \n",
    "ax3=fig.add_subplot(gs[0,3])\n",
    "\n",
    "sc.pl.pca(adata, color=[\"leiden\"],  frameon=True, ax=ax0, show=False, title=\"\", legend_loc='on data')\n",
    "sc.pl.rank_genes_groups_violin(adata, groups=['0'], key='wilcoxon', ax=ax1, n_genes=10, show=False)\n",
    "sc.pl.rank_genes_groups_violin(adata, groups=['1'], key='wilcoxon', ax=ax2, n_genes=10, show=False)\n",
    "sc.pl.rank_genes_groups_violin(adata, groups=['2'], key='wilcoxon', ax=ax3, n_genes=10, show=False)\n",
    "\n",
    "fig.savefig(figures_path+'tr21_Coarse_clustering_DEG_wilcoxon.pdf')"
   ]
  },
  {
   "cell_type": "raw",
   "id": "24a85200-c9f8-40d8-a57e-2fa214924b1d",
   "metadata": {},
   "source": []
  },
  {
   "cell_type": "markdown",
   "id": "3b63d9cc-ce9c-4d15-bee9-7cf328253487",
   "metadata": {},
   "source": [
    "**Renaming leiden clustering**"
   ]
  },
  {
   "cell_type": "code",
   "execution_count": null,
   "id": "f5f96f55-6555-4b48-9fd5-f47223e26fe4",
   "metadata": {},
   "outputs": [],
   "source": [
    "new_cluster_names = [\n",
    "    'oRG', 'vRG',\n",
    "    'IP']\n",
    "adata.rename_categories('leiden', new_cluster_names)"
   ]
  },
  {
   "cell_type": "code",
   "execution_count": null,
   "id": "128c77bd-55e4-431f-9f7f-ed4238bd5127",
   "metadata": {},
   "outputs": [],
   "source": [
    "sc.set_figure_params(figsize=(4,4))\n",
    "\n",
    "sc.pl.pca(adata, color='leiden', legend_loc='right margin', title='', frameon=True)"
   ]
  },
  {
   "cell_type": "raw",
   "id": "910f72dd-db67-4880-8ac5-295b416fd082",
   "metadata": {},
   "source": [
    "\n",
    "\n"
   ]
  },
  {
   "cell_type": "markdown",
   "id": "00413025-65ea-4724-87b3-0a253dfdc500",
   "metadata": {},
   "source": [
    "### **Computing force-directed graph**"
   ]
  },
  {
   "cell_type": "raw",
   "id": "35727503-c20b-49bf-9af6-4efaae58baed",
   "metadata": {},
   "source": [
    "sc.pp.neighbors already computed"
   ]
  },
  {
   "cell_type": "code",
   "execution_count": null,
   "id": "dd0f3353-10e7-45d1-a958-6cbed916566b",
   "metadata": {},
   "outputs": [],
   "source": [
    "adata.obsm[\"X_pca2d\"]=adata.obsm[\"X_pca\"][:,:2]\n",
    "\n",
    "sc.tl.draw_graph(adata,init_pos='X_pca2d')\n",
    "\n",
    "sc.pl.draw_graph(adata, color='Cluster.Name') #Trevino et al 2021 clustering"
   ]
  },
  {
   "cell_type": "markdown",
   "id": "4d8ebf61-7ecd-445f-b20f-cca3bc70dd8b",
   "metadata": {},
   "source": [
    "### **Run Palantir to obtain multiscale diffusion space**"
   ]
  },
  {
   "cell_type": "code",
   "execution_count": null,
   "id": "e04f9118-ea93-43b5-be40-67ed0623ae5c",
   "metadata": {},
   "outputs": [],
   "source": [
    "dm_res = palantir.utils.run_diffusion_maps(pca_projections.iloc[:,0:2])\n",
    "ms_data = palantir.utils.determine_multiscale_space(dm_res,n_eigs=4)\n",
    "adata.obsm[\"X_palantir\"]=ms_data.values"
   ]
  },
  {
   "cell_type": "raw",
   "id": "191a156f-59c7-4b7e-9ddc-c39275e7c808",
   "metadata": {},
   "source": []
  },
  {
   "cell_type": "markdown",
   "id": "5a6021e4-72ed-48de-a07f-4c1469b6be81",
   "metadata": {},
   "source": [
    "## **Tree learning with EPG** - Exploration"
   ]
  },
  {
   "cell_type": "raw",
   "id": "5617dc8a-9279-4e07-b412-1203dfe4f528",
   "metadata": {},
   "source": [
    "for i in [25, 35, 40, 50]:\n",
    "    scf.tl.tree(adata,method=\"epg\",Nodes=i,use_rep=\"palantir\",\n",
    "            device=\"cpu\",seed=1)\n",
    "    print(scf.pl.graph(adata))"
   ]
  },
  {
   "cell_type": "markdown",
   "id": "190e9901-6802-4eb6-b104-5d3e87518a45",
   "metadata": {},
   "source": [
    "### **Selection of number nodes 25**"
   ]
  },
  {
   "cell_type": "code",
   "execution_count": null,
   "id": "deebcd77-9e1c-4e29-8ed5-efb71032829a",
   "metadata": {},
   "outputs": [],
   "source": [
    "sc.set_figure_params(figsize=(4,4))\n",
    "\n",
    "scf.tl.tree(adata,method=\"epg\",Nodes=25,use_rep=\"palantir\",\n",
    "            device=\"cpu\",seed=1)\n",
    "scf.pl.graph(adata)"
   ]
  },
  {
   "cell_type": "markdown",
   "id": "843a4a74-fc85-4b0f-b1c8-2fc3f82f0c9f",
   "metadata": {},
   "source": [
    "#### Projecting into PCA dim red"
   ]
  },
  {
   "cell_type": "code",
   "execution_count": null,
   "id": "b2ffa7bd-fb90-4c0b-b5a9-f3c5c2c1a1f0",
   "metadata": {},
   "outputs": [],
   "source": [
    "sc.set_figure_params(figsize=(4,4))\n",
    "\n",
    "scf.pl.graph(adata, basis=\"pca\")"
   ]
  },
  {
   "cell_type": "markdown",
   "id": "e83453dd-0ac5-4b7e-a8a0-e7d515a2a3b5",
   "metadata": {},
   "source": [
    "### **Selecting a root using FOS expression and computing pseudotime**"
   ]
  },
  {
   "cell_type": "code",
   "execution_count": null,
   "id": "700495dc-b0e2-4568-a7fb-aa2a4ad40c72",
   "metadata": {},
   "outputs": [],
   "source": [
    "adata"
   ]
  },
  {
   "cell_type": "code",
   "execution_count": null,
   "id": "a266592d-340a-4f26-b7f6-bd3bf271974b",
   "metadata": {},
   "outputs": [],
   "source": [
    "scf.tl.root(adata,\"FOS\")\n",
    "\n",
    "scf.tl.convert_to_soft(adata,1,1000) #soft assignment\n",
    "\n",
    "scf.tl.pseudotime(adata,n_jobs=16,n_map=100,seed=42)"
   ]
  },
  {
   "cell_type": "code",
   "execution_count": null,
   "id": "4cc0eace-e284-405c-968c-1cfd614c9d4b",
   "metadata": {},
   "outputs": [],
   "source": [
    "sc.set_figure_params(figsize=(4,4))\n",
    "\n",
    "scf.pl.trajectory(adata)"
   ]
  },
  {
   "cell_type": "code",
   "execution_count": null,
   "id": "e7277d6b-466f-4fe8-8ab4-03e6be4b5c08",
   "metadata": {},
   "outputs": [],
   "source": [
    "sc.set_figure_params(figsize=(4,4))\n",
    "\n",
    "sc.pl.draw_graph(adata,color=[\"seg\",\"milestones\"]) "
   ]
  },
  {
   "cell_type": "code",
   "execution_count": null,
   "id": "da89f15d-714e-4ae6-abe4-e31977cc385e",
   "metadata": {},
   "outputs": [],
   "source": [
    "scf.tl.rename_milestones(adata,[\"transient\",\"IPC\",\"oRG\",\"vRG\"])"
   ]
  },
  {
   "cell_type": "code",
   "execution_count": null,
   "id": "27cc31ff-1136-4cf1-8706-7c71bdcec703",
   "metadata": {},
   "outputs": [],
   "source": [
    "sc.set_figure_params(figsize=(4,4))\n",
    "\n",
    "sc.pl.draw_graph(adata,color=[\"seg\",\"milestones\"])"
   ]
  },
  {
   "cell_type": "raw",
   "id": "98b10e05-6c07-41ad-ac39-c4813070dd16",
   "metadata": {},
   "source": [
    "Highlight single-branch"
   ]
  },
  {
   "cell_type": "code",
   "execution_count": null,
   "id": "357c7cc9-b679-4154-885f-c6d19df9d5de",
   "metadata": {},
   "outputs": [],
   "source": [
    "#Single branch\n",
    "root_to_oRG=scf.tl.subset_tree(adata,root_milestone=\"vRG\",milestones=[\"oRG\"],copy=True)\n",
    "#\n",
    "root_to_IPC=scf.tl.subset_tree(adata,root_milestone=\"vRG\",milestones=[\"IPC\"],copy=True)"
   ]
  },
  {
   "cell_type": "raw",
   "id": "976e3f71-0bdc-40c2-9246-1410507be5cf",
   "metadata": {},
   "source": [
    "sc.set_figure_params(figsize=(4,4))\n",
    "\n",
    "ax=sc.pl.scatter(adata,basis=\"draw_graph_fa\",color=\"whitesmoke\",show=False)\n",
    "scf.pl.graph(root_to_oRG,basis=\"draw_graph_fa\",size_nodes=.1,ax=ax, save=\"_tr21_oRGbranch.pdf\")"
   ]
  },
  {
   "cell_type": "raw",
   "id": "55888286-0a15-427a-be25-84544f620900",
   "metadata": {},
   "source": [
    "sc.set_figure_params(figsize=(4,4))\n",
    "\n",
    "ax=sc.pl.scatter(adata,basis=\"draw_graph_fa\",color=\"whitesmoke\",show=False)\n",
    "scf.pl.graph(root_to_IPC,basis=\"draw_graph_fa\",size_nodes=.1,ax=ax, save=\"_tr21_IPCbranch.pdf\")"
   ]
  },
  {
   "cell_type": "raw",
   "id": "5b6e33a0-4d46-42e9-b8c9-aa916f9fce76",
   "metadata": {
    "tags": []
   },
   "source": [
    "sc.set_figure_params()\n",
    "fig, axs=plt.subplots(2,2,figsize=(8,8))\n",
    "axs=axs.ravel()\n",
    "scf.pl.graph(adata,basis=\"draw_graph_fa\",show=False,ax=axs[0])\n",
    "scf.pl.trajectory(adata,basis=\"draw_graph_fa\",show=False,ax=axs[1])\n",
    "sc.pl.draw_graph(adata,color=[\"seg\"],legend_loc=\"on data\",show=False,ax=axs[2],legend_fontoutline=True)\n",
    "scf.pl.milestones(adata,ax=axs[3],show=False,annotate=True)"
   ]
  },
  {
   "cell_type": "markdown",
   "id": "79a89732-97fc-4881-8b70-114f539800e3",
   "metadata": {},
   "source": [
    "### **Dendrogram representation**"
   ]
  },
  {
   "cell_type": "code",
   "execution_count": null,
   "id": "38caae04-e6b2-4f6e-95f3-50229ab1d469",
   "metadata": {},
   "outputs": [],
   "source": [
    "scf.tl.dendrogram(adata)"
   ]
  },
  {
   "cell_type": "code",
   "execution_count": null,
   "id": "1dd0736a-2180-4989-8895-23c72dc94207",
   "metadata": {},
   "outputs": [],
   "source": [
    "sc.set_figure_params(figsize=(4,4))\n",
    "\n",
    "scf.pl.dendrogram(adata,color=\"milestones\")"
   ]
  },
  {
   "cell_type": "code",
   "execution_count": null,
   "id": "1f66dbe5-5b06-4a85-9a5f-bd60aba6a77e",
   "metadata": {},
   "outputs": [],
   "source": [
    "scf.pl.dendrogram(adata,color=\"milestones\",legend_loc=\"right margin\",color_milestones=True,legend_fontoutline=True, frameon=False)"
   ]
  },
  {
   "cell_type": "code",
   "execution_count": null,
   "id": "920f922c-355a-49bc-a970-dfc7867f3408",
   "metadata": {},
   "outputs": [],
   "source": [
    "sc.set_figure_params(figsize=(1.5,4),frameon=False,dpi_save=300)\n",
    "scf.pl.dendrogram(adata,color=\"t\",show_info=False,cmap=\"viridis\", save=\"_pseudotimeDendrogram\")\n",
    "scf.pl.dendrogram(adata,color=\"milestones\",legend_loc=\"on data\",color_milestones=True,legend_fontoutline=True, save=\"_milestoensDendrogram\")\n",
    "scf.pl.dendrogram(adata,color=\"seg\",legend_loc=\"on data\",color_milestones=True,legend_fontoutline=True, save=\"_segmentsDendrogram\")"
   ]
  },
  {
   "cell_type": "markdown",
   "id": "bc9441b8-6132-45e8-b027-da037df6cdaf",
   "metadata": {
    "tags": []
   },
   "source": [
    "## Test and fit features associated with the tree\n",
    "\n",
    "Let's find out which genes are significantly changing along the tree."
   ]
  },
  {
   "cell_type": "code",
   "execution_count": null,
   "id": "d375f7c5-0bbf-42e2-b490-416cad93b155",
   "metadata": {},
   "outputs": [],
   "source": [
    "scf.tl.test_association(adata,n_jobs=16, A_cut=0.8)"
   ]
  },
  {
   "cell_type": "code",
   "execution_count": null,
   "id": "c328ab9a-47a1-418e-b842-3756535b2d44",
   "metadata": {},
   "outputs": [],
   "source": [
    "scf.pl.test_association(adata)"
   ]
  },
  {
   "cell_type": "code",
   "execution_count": null,
   "id": "07a86611-5491-4f6e-b6a8-d5fe8976621c",
   "metadata": {},
   "outputs": [],
   "source": [
    "adata.var[adata.var['signi'] == True].index #significant genes n=233"
   ]
  },
  {
   "cell_type": "code",
   "execution_count": null,
   "id": "25aa2e49-886f-4ca8-9dd2-cd4942659bef",
   "metadata": {},
   "outputs": [],
   "source": [
    "scf.tl.fit(adata,n_jobs=16)"
   ]
  },
  {
   "cell_type": "code",
   "execution_count": null,
   "id": "d46ba41b-f7bc-4c4a-8699-da0f17776882",
   "metadata": {},
   "outputs": [],
   "source": [
    "sc.set_figure_params()\n",
    "\n",
    "sc.pl.draw_graph(adata,color=[\"seg\"],legend_loc=\"on data\",show=False,legend_fontoutline=True)"
   ]
  },
  {
   "cell_type": "code",
   "execution_count": null,
   "id": "93f3b41d-d48b-4c87-88c1-73d8de94aba0",
   "metadata": {},
   "outputs": [],
   "source": [
    "adata.obs['segmentation'] = np.select([adata.obs['seg'] == '1', adata.obs['seg'] == '3'],\n",
    "                            ['s_IPC',  's_vRG'], \n",
    "                            default='s_oRG')"
   ]
  },
  {
   "cell_type": "raw",
   "id": "148e37d6-ae15-4a02-ae54-95fe8e6516f7",
   "metadata": {},
   "source": [
    "# Saving scFates clustering for GRN analysis\n",
    "adata.obs[['milestones', 'seg', 'segmentation']]"
   ]
  },
  {
   "cell_type": "raw",
   "id": "9337319a-850e-40e6-a9ad-3553099cf099",
   "metadata": {},
   "source": [
    "!mkdir /home/jovyan/jm_jlab/data_indNeuro/scFates_output"
   ]
  },
  {
   "cell_type": "code",
   "execution_count": null,
   "id": "1681f029-4500-4fb7-8f05-20a2e076c2db",
   "metadata": {},
   "outputs": [],
   "source": [
    "!ls /home/jovyan/jm_jlab/data_indNeuro/scFates_output"
   ]
  },
  {
   "cell_type": "markdown",
   "id": "5b9b80f6-581b-4972-b49a-f2e14489d72c",
   "metadata": {},
   "source": [
    "### **Saving for later analysis**"
   ]
  },
  {
   "cell_type": "raw",
   "id": "2aae35d4-3832-4129-ba30-14ea79c2f234",
   "metadata": {},
   "source": [
    "# Saving scFates clustering for GRN analysis\n",
    "adata.obs[['milestones', 'segmentation', 't']].to_csv(\"/home/jovyan/jm_jlab/data_indNeuro/scFates_output/scFates_clustering.tsv\", sep='\\t', index=True)"
   ]
  },
  {
   "cell_type": "markdown",
   "id": "4f93ee56-771c-4691-aa32-7a2c8dbeb815",
   "metadata": {
    "tags": []
   },
   "source": [
    "#### Plotting specific markers"
   ]
  },
  {
   "cell_type": "code",
   "execution_count": null,
   "id": "5e5ee2b9-f2b8-4f15-9933-4d3ad1c648b0",
   "metadata": {},
   "outputs": [],
   "source": [
    "pd.DataFrame(adata.var_names).to_csv(\"/home/jovyan/jm_jlab/data_indNeuro/scFates_test_gene_tree.tsv\", sep='\\t', index=False, header=None)"
   ]
  },
  {
   "cell_type": "code",
   "execution_count": null,
   "id": "7c18790c-a2e5-423e-92c7-d120f66b1f23",
   "metadata": {},
   "outputs": [],
   "source": [
    "sc.set_figure_params(figsize=(.8,4),frameon=False)\n",
    "scf.set_figure_pubready()\n",
    "scf.pl.single_trend(adata,\"KLF6\",basis=\"dendro\",wspace=-.25)"
   ]
  },
  {
   "cell_type": "code",
   "execution_count": null,
   "id": "2d70dfb2-13dd-42f5-b132-6cc0875faf2f",
   "metadata": {},
   "outputs": [],
   "source": [
    "sc.set_figure_params(figsize=(5,3),frameon=False,dpi=300)\n",
    "scf.set_figure_pubready()\n",
    "scf.pl.single_trend(adata,\"KLF6\",basis=\"dendro\",wspace=-.25, plot_emb=False, save=\"KLF6_t.png\")"
   ]
  },
  {
   "cell_type": "code",
   "execution_count": null,
   "id": "3185f7e8-3007-424e-b051-2b98552b46e6",
   "metadata": {},
   "outputs": [],
   "source": [
    "sc.set_figure_params(figsize=(.8,4),frameon=False)\n",
    "scf.set_figure_pubready()\n",
    "scf.pl.single_trend(adata,\"EGR1\",basis=\"dendro\",wspace=-.25)\n",
    "scf.pl.single_trend(adata,\"HOPX\",basis=\"dendro\",wspace=-.25)\n",
    "scf.pl.single_trend(adata,\"EOMES\",basis=\"dendro\",wspace=-.25)\n",
    "scf.pl.single_trend(adata,\"GLI3\",basis=\"dendro\",wspace=-.25)"
   ]
  },
  {
   "cell_type": "code",
   "execution_count": null,
   "id": "a0292c9f-1dcb-4a10-9906-fe1349139ec4",
   "metadata": {},
   "outputs": [],
   "source": [
    "adata.layers['fitted'].shape"
   ]
  },
  {
   "cell_type": "raw",
   "id": "51cd8c79-000a-45f4-b839-8b9f73fd79bc",
   "metadata": {},
   "source": [
    "import seaborn as sns"
   ]
  },
  {
   "cell_type": "raw",
   "id": "1f45df1b-b005-4838-a23e-b9d2a1b84521",
   "metadata": {},
   "source": [
    "to_oRG = adata[(adata.obs['segmentation'] == 's_vRG') | (adata.obs['segmentation'] == 's_oRG'),:]\n",
    "to_IPC = adata[(adata.obs['segmentation'] == 's_vRG') | (adata.obs['segmentation'] == 's_IPC'),:]"
   ]
  },
  {
   "cell_type": "raw",
   "id": "233d7c91-ba11-4790-9e02-adcf311e5e33",
   "metadata": {},
   "source": [
    "df_to_oRG = pd.DataFrame(to_oRG.layers['fitted'], columns=to_oRG.var_names, index=to_oRG.obs['t']).sort_index()"
   ]
  },
  {
   "cell_type": "raw",
   "id": "1ddbc258-1add-4e03-934f-e2fe823b0b1d",
   "metadata": {},
   "source": [
    "df_to_ipc = pd.DataFrame(to_IPC.layers['fitted'], columns=to_IPC.var_names, index=to_IPC.obs['t']).sort_index()"
   ]
  },
  {
   "cell_type": "code",
   "execution_count": null,
   "id": "9b6b0dc3-110a-46e2-a6cb-5cd68fe8c1cd",
   "metadata": {},
   "outputs": [],
   "source": []
  },
  {
   "cell_type": "code",
   "execution_count": null,
   "id": "1e354780-a611-4369-9638-c76c33311ac0",
   "metadata": {},
   "outputs": [],
   "source": [
    "plot_fig1_data = adata[:,adata.var['highly_variable']].copy()"
   ]
  },
  {
   "cell_type": "code",
   "execution_count": null,
   "id": "7538893b-36ec-4cc0-a4c3-5ec903c0f51c",
   "metadata": {},
   "outputs": [],
   "source": [
    "plot_fig1_data2 = plot_fig1_data[:,plot_fig1_data.var.sort_values(by='highly_variable_rank').head(20).index].copy()"
   ]
  },
  {
   "cell_type": "code",
   "execution_count": null,
   "id": "b31e319f-15dc-4ecf-92f3-f970596cf876",
   "metadata": {},
   "outputs": [],
   "source": [
    "plot_fig1_df =  pd.DataFrame(np.log1p(plot_fig1_data2.layers['raw_counts'].todense()), columns=plot_fig1_data2.var_names, index=plot_fig1_data2.obs['t']).sort_index()"
   ]
  },
  {
   "cell_type": "code",
   "execution_count": null,
   "id": "5565f9f4-2274-4e5e-8f6c-a370726e3b6a",
   "metadata": {},
   "outputs": [],
   "source": [
    "g = sns.clustermap(plot_fig1_df.transpose(), figsize=(5, 15), row_cluster=True,col_cluster=False, xticklabels=False, dendrogram_ratio=(.2, .3))\n",
    "ax = g.ax_heatmap\n",
    "ax.set_xlabel(\"pseudotime\")\n",
    "ax.set_ylabel(\"\")\n",
    "plt.savefig(\"/home/jovyan/jm_jlab/test.png\",dpi=300)"
   ]
  },
  {
   "cell_type": "code",
   "execution_count": null,
   "id": "43d44f10-5e81-408e-bd15-6686b1b98558",
   "metadata": {},
   "outputs": [],
   "source": []
  },
  {
   "cell_type": "markdown",
   "id": "c4e7e892-6fba-4ff5-a7e6-4dad93b834ee",
   "metadata": {
    "tags": []
   },
   "source": [
    "## **Final plots**"
   ]
  },
  {
   "cell_type": "raw",
   "id": "ba3a41f1-b6fe-4f50-8d27-160fe8759d9e",
   "metadata": {},
   "source": [
    "scf.pl.dendrogram(adata,color=\"milestones\",legend_loc=\"on data\", frameon=False, color_milestones=True,legend_fontoutline=True, title=\"\")"
   ]
  },
  {
   "cell_type": "code",
   "execution_count": null,
   "id": "d8855a9d-5b73-4850-a494-e239b1a98cbf",
   "metadata": {},
   "outputs": [],
   "source": [
    "figures_path"
   ]
  },
  {
   "cell_type": "code",
   "execution_count": null,
   "id": "bae51f5c-faa5-476d-a0fc-44f164fcda8f",
   "metadata": {},
   "outputs": [],
   "source": [
    "from matplotlib.gridspec import GridSpec\n",
    "import matplotlib.pyplot as plt\n",
    "\n",
    "sc.set_figure_params(figsize=(20, 11),dpi_save=300)\n",
    "\n",
    "fig=plt.figure()\n",
    "\n",
    "gs=GridSpec(4,6)\n",
    "\n",
    "\n",
    "ax0=fig.add_subplot(gs[0,0:1])\n",
    "ax1=fig.add_subplot(gs[1:3,0:2])\n",
    "ax2=fig.add_subplot(gs[0,1:2])\n",
    "ax3=fig.add_subplot(gs[3:4,0:1])\n",
    "ax33=fig.add_subplot(gs[3:4,1:2])\n",
    "\n",
    "ax20=fig.add_subplot(gs[0,2:3]) \n",
    "ax21=fig.add_subplot(gs[1,2:3]) \n",
    "ax22=fig.add_subplot(gs[2,2:3]) \n",
    "\n",
    "ax5=fig.add_subplot(gs[0,3:6])\n",
    "#ax5.set_title('ax1 title')\n",
    "\n",
    "ax6=fig.add_subplot(gs[1,3:6])\n",
    "ax7=fig.add_subplot(gs[2,3:6])\n",
    "\n",
    "# PCA plot\n",
    "\n",
    "sc.pl.pca(adata, color=[\"Age\"],  frameon=True, ax=ax0, show=False, title=\"\", legend_loc=None)\n",
    "\n",
    "scf.pl.dendrogram(adata,color=\"milestones\",ax=ax2, legend_loc=\"on data\", frameon=False, show=False, color_milestones=True,legend_fontoutline=True, title=\"\")\n",
    "\n",
    "\n",
    "scf.pl.graph(adata,basis=\"draw_graph_fa\", ax=ax1,\n",
    "             color_cells=['t'], forks=False, tips=False, show=False, size_nodes=75 )\n",
    "\n",
    "ax3.axis('off')\n",
    "ax33.axis('off')\n",
    "\n",
    "\n",
    "sc.pl.draw_graph(adata, color='EGR1', ax=ax20, show=False, title=\"\") \n",
    "sc.pl.draw_graph(adata, color='HOPX', ax=ax21, show=False, title=\"\") \n",
    "sc.pl.draw_graph(adata, color='EOMES', ax=ax22, show=False, title=\"\") \n",
    "\n",
    "\n",
    "scf.pl.single_trend(adata,\"EGR1\",basis=\"dendro\", ax_trend=ax5, wspace=-.25, ylab=None, title=False, plot_emb=False, show=False)\n",
    "scf.pl.single_trend(adata,\"HOPX\",basis=\"dendro\", ax_trend=ax6, wspace=-.25, ylab=None, title=True, plot_emb=False, show=False)\n",
    "scf.pl.single_trend(adata,\"EOMES\",basis=\"dendro\", ax_trend=ax7, wspace=-.25, ylab=None, title=True, plot_emb=False, show=False)\n",
    "\n",
    "ax5.set_xlabel('')\n",
    "ax6.set_xlabel('')\n",
    "ax6.set_xlabel('')\n",
    "\n",
    "#fig.savefig(figures_path+'Fig1.pdf',dpi=300)"
   ]
  },
  {
   "cell_type": "raw",
   "id": "573d55ce-855b-4c38-888c-344c46b2481e",
   "metadata": {},
   "source": [
    "For paper figure"
   ]
  },
  {
   "cell_type": "code",
   "execution_count": null,
   "id": "bc729f10-5740-4ccf-83e9-a5a224b035b6",
   "metadata": {},
   "outputs": [],
   "source": [
    "from matplotlib.gridspec import GridSpec\n",
    "import matplotlib.pyplot as plt\n",
    "\n",
    "sc.set_figure_params(figsize=(20, 11),dpi_save=300)\n",
    "\n",
    "fig=plt.figure()\n",
    "\n",
    "gs=GridSpec(3,6)\n",
    "\n",
    "\n",
    "ax0=fig.add_subplot(gs[0,0:1])\n",
    "ax1=fig.add_subplot(gs[1:2,0:1])\n",
    "ax2=fig.add_subplot(gs[0,1:2])\n",
    "ax3=fig.add_subplot(gs[2:3,0:1])\n",
    "ax33=fig.add_subplot(gs[2:3,1:2])\n",
    "\n",
    "#ax20=fig.add_subplot(gs[0,2:3]) \n",
    "#ax21=fig.add_subplot(gs[1,2:3]) \n",
    "#ax22=fig.add_subplot(gs[2,2:3]) \n",
    "\n",
    "ax5=fig.add_subplot(gs[0,2:4])\n",
    "#ax5.set_title('ax1 title')\n",
    "\n",
    "ax6=fig.add_subplot(gs[1,2:4])\n",
    "ax7=fig.add_subplot(gs[2,2:4])\n",
    "\n",
    "\n",
    "# Space for summary strategy\n",
    "ax0.axis('off')\n",
    "ax2.axis('off')\n",
    "\n",
    "# PCA plot\n",
    "sc.pl.pca(adata, color=[\"Age\"],  frameon=True, ax=ax1, show=False, title=\"\", legend_loc=None)\n",
    "\n",
    "\n",
    "# Bottom left\n",
    "scf.pl.graph(adata,basis=\"draw_graph_fa\", ax=ax3, forks=False, tips=False, show=False)\n",
    "\n",
    "scf.pl.dendrogram(adata,color=\"milestones\",ax=ax33, legend_loc=\"on data\", frameon=False, show=False, color_milestones=False,legend_fontoutline=False, title=\"\")\n",
    "\n",
    "\n",
    "#ax20.axis('off')\n",
    "#ax21.axis('off')\n",
    "#ax22.axis('off')\n",
    "\n",
    "\n",
    "scf.pl.single_trend(adata,\"EGR1\",basis=\"dendro\", ax_trend=ax5, wspace=-.25, ylab=None, title=False, plot_emb=False, show=False)\n",
    "scf.pl.single_trend(adata,\"HOPX\",basis=\"dendro\", ax_trend=ax6, wspace=-.25, ylab=None, title=True, plot_emb=False, show=False)\n",
    "scf.pl.single_trend(adata,\"EOMES\",basis=\"dendro\", ax_trend=ax7, wspace=-.25, ylab=None, title=True, plot_emb=False, show=False)\n",
    "\n",
    "ax5.set_xlabel('')\n",
    "ax6.set_xlabel('')\n",
    "ax6.set_xlabel('')\n",
    "\n",
    "fig.tight_layout(pad=3.0)\n",
    " \n",
    "fig.savefig(figures_path+'Fig1.pdf',dpi=300)"
   ]
  },
  {
   "cell_type": "raw",
   "id": "668d69c4-a7af-45be-8a10-89877800b50e",
   "metadata": {},
   "source": [
    "\n",
    "\n",
    "\n",
    "\n"
   ]
  }
 ],
 "metadata": {
  "kernelspec": {
   "display_name": "scfates",
   "language": "python",
   "name": "scfates"
  },
  "language_info": {
   "codemirror_mode": {
    "name": "ipython",
    "version": 3
   },
   "file_extension": ".py",
   "mimetype": "text/x-python",
   "name": "python",
   "nbconvert_exporter": "python",
   "pygments_lexer": "ipython3",
   "version": "3.8.15"
  }
 },
 "nbformat": 4,
 "nbformat_minor": 5
}
