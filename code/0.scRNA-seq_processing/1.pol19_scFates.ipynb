{
 "cells": [
  {
   "cell_type": "markdown",
   "id": "33c0a014-8717-48da-83ff-d8a184ba486a",
   "metadata": {
    "tags": []
   },
   "source": [
    "# *Polioudakis 2019 dataset:* Inferring neural progenitor states during indirect neurogenesis from single cell data - scFates"
   ]
  },
  {
   "cell_type": "code",
   "execution_count": null,
   "id": "35e3a06b-f399-4ed2-99c7-320f90974753",
   "metadata": {},
   "outputs": [],
   "source": [
    "pwd"
   ]
  },
  {
   "cell_type": "markdown",
   "id": "c86371e4-d6e1-46a6-921f-d4678402d62a",
   "metadata": {
    "tags": []
   },
   "source": [
    "### **Loading modules and settings**"
   ]
  },
  {
   "cell_type": "code",
   "execution_count": null,
   "id": "4833d4cc-42a1-42a7-b7dd-d188a73c2d3d",
   "metadata": {},
   "outputs": [],
   "source": [
    "import sys\n",
    "#!{sys.executable} -m pip -q install palantir fa2\n",
    "import warnings\n",
    "warnings.filterwarnings(\"ignore\")\n",
    "from anndata import AnnData\n",
    "import numpy as np\n",
    "import pandas as pd\n",
    "import scanpy as sc\n",
    "import scFates as scf\n",
    "import palantir\n",
    "import matplotlib.pyplot as plt\n",
    "from matplotlib.gridspec import GridSpec\n",
    "\n",
    "sc.settings.verbosity = 3\n",
    "sc.settings.logfile = sys.stdout\n",
    "## fix palantir breaking down some plots\n",
    "import seaborn \n",
    "seaborn.reset_orig()\n",
    "%matplotlib inline\n",
    "\n",
    "sc.set_figure_params()\n",
    "scf.set_figure_pubready()"
   ]
  },
  {
   "cell_type": "markdown",
   "id": "c7e9ae8d-e18c-4d16-8374-73df83fe9dbc",
   "metadata": {},
   "source": [
    "### **Loading data with Seurat PCA coordinates and normalization**"
   ]
  },
  {
   "cell_type": "code",
   "execution_count": null,
   "id": "8cef573e-cd42-42a7-a753-5f8ed6b4b68c",
   "metadata": {},
   "outputs": [],
   "source": [
    "# JM\n",
    "adata = sc.read_h5ad(\"/home/jovyan/jm_jlab/data_indNeuro/intermediate_files/pol19_counts.h5ad\")\n",
    "\n",
    "milestones = pd.read_csv(\"/home/jovyan/jm_jlab/data_indNeuro/scFates_output/polioudakis19_scFates_clustering.tsv\", sep='\\t', index_col=0)\n",
    "\n",
    "adata.obs = pd.concat([adata.obs, milestones], axis=1)\n",
    "\n",
    "cellembeddings = pd.read_csv(\"/home/jovyan/jm_jlab/data_indNeuro/intermediate_files/integrated_polioudakis19_cellembeddings.tsv\", sep='\\t')\n",
    "cellembeddings.iloc[:,0] = cellembeddings.iloc[:,0]*-1 #for consistent better geometry\n",
    "cellembeddings.iloc[:,1] = cellembeddings.iloc[:,1]*-1 #for consistent better geometry\n",
    "cellembeddings = cellembeddings[cellembeddings.index.str.contains(\"pol19\")]\n",
    "cellembeddings.index = pd.DataFrame(cellembeddings.index)[0].str.split(\"pol19_\", expand=True)[1]\n",
    "adata = adata[adata.obs.index.isin(cellembeddings.index),:].copy()\n",
    "cellembeddings = cellembeddings[cellembeddings.index.isin(adata.obs.index)].copy()\n",
    "cellembeddings = cellembeddings.reindex(adata.obs.index)\n",
    "\n",
    "adata.obsm['X_pca'] = cellembeddings.to_numpy() #sharing embeddings\n",
    "pca_projections = pd.DataFrame(adata.obsm[\"X_pca\"],index=adata.obs_names)"
   ]
  },
  {
   "cell_type": "code",
   "execution_count": null,
   "id": "4ec46852-fea6-42e2-9843-95e3310a8de7",
   "metadata": {},
   "outputs": [],
   "source": [
    "adata.obs.drop(columns=['t'], inplace=True) #will give problems later on, remove now"
   ]
  },
  {
   "cell_type": "code",
   "execution_count": null,
   "id": "002c4bb5-f57d-45be-b3c4-c502c7ec973d",
   "metadata": {},
   "outputs": [],
   "source": [
    "sc.pp.filter_genes(adata, min_cells=50)\n",
    "sc.pp.normalize_per_cell(adata, key_n_counts='n_counts_all')\n",
    "sc.pp.highly_variable_genes(adata, n_top_genes=4000, flavor='seurat_v3')"
   ]
  },
  {
   "cell_type": "code",
   "execution_count": null,
   "id": "99dedc74-bc81-4fa1-a0e6-cfc1b952216a",
   "metadata": {},
   "outputs": [],
   "source": [
    "adata=adata[:,adata.var.highly_variable]\n",
    "\n",
    "#Renormalized after filtering\n",
    "sc.pp.normalize_per_cell(adata, key_n_counts='n_counts_all')\n",
    "\n",
    "# keep raw cont data before log transformation\n",
    "adata.raw = adata.copy()\n",
    "adata.layers[\"raw_count\"] = adata.raw.X.copy()\n",
    "\n",
    "# Log transformation\n",
    "sc.pp.log1p(adata)"
   ]
  },
  {
   "cell_type": "code",
   "execution_count": null,
   "id": "c713706a-72be-4bf1-a112-37b6ff41ef03",
   "metadata": {
    "tags": []
   },
   "outputs": [],
   "source": [
    "from matplotlib.gridspec import GridSpec\n",
    "import matplotlib.pyplot as plt\n",
    "\n",
    "sc.set_figure_params(figsize=(9,9),dpi_save=300)\n",
    "\n",
    "fig=plt.figure()\n",
    "\n",
    "gs=GridSpec(2,3) # 2 rows, 3 columns\n",
    "\n",
    "\n",
    "ax1=fig.add_subplot(gs[0,0:2])\n",
    "ax2=fig.add_subplot(gs[1,0]) \n",
    "ax3=fig.add_subplot(gs[1,1])\n",
    "ax4=fig.add_subplot(gs[1,2])\n",
    "\n",
    "sc.pl.pca(adata, color=[\"Gestation_week\"], frameon=True, ax=ax1, show=False, title=\"\")\n",
    "sc.pl.pca(adata, color=[\"EGR1\"], frameon=False, ax=ax2, show=False)\n",
    "sc.pl.pca(adata, color=[\"HOPX\"], frameon=False, ax=ax3, show=False)\n",
    "sc.pl.pca(adata, color=[\"EOMES\"], frameon=False, ax=ax4, show=False)\n",
    "\n",
    "\n",
    "#fig.savefig('/home/jovyan/jm_jlab/data_indNeuro/tmp_figures/FigXt.pdf')"
   ]
  },
  {
   "cell_type": "markdown",
   "id": "9362b427-2ff6-4934-b496-26333047c984",
   "metadata": {},
   "source": [
    "**Clustering form original publication**"
   ]
  },
  {
   "cell_type": "code",
   "execution_count": null,
   "id": "5da98c3a-267c-4990-8b49-024d71b083f3",
   "metadata": {},
   "outputs": [],
   "source": [
    "sc.set_figure_params(figsize=(4,4))\n",
    "\n",
    "sc.pl.pca(adata, color=['Cluster'])"
   ]
  },
  {
   "cell_type": "code",
   "execution_count": null,
   "id": "b5cc563e-4217-4077-8088-e369b7a29ec5",
   "metadata": {},
   "outputs": [],
   "source": [
    "from pathlib import Path\n",
    "Path(\"/home/jovyan/jm_jlab/data_indNeuro/tmp_figures/\").mkdir(parents=True, exist_ok=True)"
   ]
  },
  {
   "cell_type": "markdown",
   "id": "00413025-65ea-4724-87b3-0a253dfdc500",
   "metadata": {},
   "source": [
    "### **Computing force-directed graph**"
   ]
  },
  {
   "cell_type": "code",
   "execution_count": null,
   "id": "d5229be6",
   "metadata": {},
   "outputs": [],
   "source": [
    "sc.pp.neighbors(adata, n_pcs=2, n_neighbors=50, method='gauss') #Also necessary for later force-directed graph computation"
   ]
  },
  {
   "cell_type": "code",
   "execution_count": null,
   "id": "dd0f3353-10e7-45d1-a958-6cbed916566b",
   "metadata": {},
   "outputs": [],
   "source": [
    "adata.obsm[\"X_pca2d\"]=adata.obsm[\"X_pca\"][:,:2]\n",
    "\n",
    "sc.tl.draw_graph(adata,init_pos='X_pca2d')\n",
    "\n",
    "sc.pl.draw_graph(adata, color='Cluster') #Polioudakis et al 2019 clustering"
   ]
  },
  {
   "cell_type": "markdown",
   "id": "4d8ebf61-7ecd-445f-b20f-cca3bc70dd8b",
   "metadata": {},
   "source": [
    "### **Run Palantir to obtain multiscale diffusion space**"
   ]
  },
  {
   "cell_type": "code",
   "execution_count": null,
   "id": "e04f9118-ea93-43b5-be40-67ed0623ae5c",
   "metadata": {},
   "outputs": [],
   "source": [
    "dm_res = palantir.utils.run_diffusion_maps(pca_projections.iloc[:,0:2])\n",
    "ms_data = palantir.utils.determine_multiscale_space(dm_res,n_eigs=4)\n",
    "adata.obsm[\"X_palantir\"]=ms_data.values"
   ]
  },
  {
   "cell_type": "raw",
   "id": "191a156f-59c7-4b7e-9ddc-c39275e7c808",
   "metadata": {},
   "source": []
  },
  {
   "cell_type": "markdown",
   "id": "5a6021e4-72ed-48de-a07f-4c1469b6be81",
   "metadata": {
    "tags": []
   },
   "source": [
    "## Tree learning"
   ]
  },
  {
   "cell_type": "markdown",
   "id": "1b36ce80-0ed7-4adc-91bd-328ab1c46e98",
   "metadata": {},
   "source": [
    "## **Tree learning with EPG** - Exploration"
   ]
  },
  {
   "cell_type": "raw",
   "id": "54c87c7e-1b5b-4da7-953d-d0d6b1c467ee",
   "metadata": {},
   "source": [
    "for i in [25, 30, 35, 40, 50]:\n",
    "    scf.tl.tree(adata,method=\"epg\",Nodes=i,use_rep=\"palantir\",\n",
    "            device=\"cpu\",seed=1)\n",
    "    print(scf.pl.graph(adata))"
   ]
  },
  {
   "cell_type": "markdown",
   "id": "2b88d810-c0ba-4932-bd25-9c8c78898c70",
   "metadata": {},
   "source": [
    "## **Tree learning with EPG** - Selection"
   ]
  },
  {
   "cell_type": "code",
   "execution_count": null,
   "id": "deebcd77-9e1c-4e29-8ed5-efb71032829a",
   "metadata": {},
   "outputs": [],
   "source": [
    "sc.set_figure_params(figsize=(4,4))\n",
    "\n",
    "scf.tl.tree(adata,method=\"epg\",Nodes=50,use_rep=\"palantir\",\n",
    "            device=\"cpu\",seed=1)\n",
    "scf.pl.graph(adata)"
   ]
  },
  {
   "cell_type": "markdown",
   "id": "843a4a74-fc85-4b0f-b1c8-2fc3f82f0c9f",
   "metadata": {},
   "source": [
    "#### Projecting into PCA dim red"
   ]
  },
  {
   "cell_type": "code",
   "execution_count": null,
   "id": "e5319058-8782-4d00-ad34-b2bbe3c57187",
   "metadata": {},
   "outputs": [],
   "source": [
    "adata"
   ]
  },
  {
   "cell_type": "code",
   "execution_count": null,
   "id": "b2ffa7bd-fb90-4c0b-b5a9-f3c5c2c1a1f0",
   "metadata": {},
   "outputs": [],
   "source": [
    "sc.set_figure_params(figsize=(4,4))\n",
    "\n",
    "scf.pl.graph(adata, basis=\"pca\")"
   ]
  },
  {
   "cell_type": "markdown",
   "id": "e83453dd-0ac5-4b7e-a8a0-e7d515a2a3b5",
   "metadata": {},
   "source": [
    "### Selecting a root and computing pseudotime\n",
    "\n",
    "Using FOS marker"
   ]
  },
  {
   "cell_type": "code",
   "execution_count": null,
   "id": "a2cf5334-8096-4304-a784-844f2fc8a8c4",
   "metadata": {},
   "outputs": [],
   "source": [
    "adata"
   ]
  },
  {
   "cell_type": "code",
   "execution_count": null,
   "id": "f3af62c1-ab05-40bc-bbfe-e1b1365bff63",
   "metadata": {},
   "outputs": [],
   "source": [
    "adata.var_names[adata.var_names.isin([\"FOS\"])]"
   ]
  },
  {
   "cell_type": "code",
   "execution_count": null,
   "id": "dad1879e-8f78-440d-9755-3834db0613f5",
   "metadata": {},
   "outputs": [],
   "source": [
    "scf.tl.root(adata,\"FOS\")\n",
    "\n",
    "scf.tl.convert_to_soft(adata,1,1000) #soft assignment"
   ]
  },
  {
   "cell_type": "raw",
   "id": "a6e38181-c5db-4ab8-897e-bfca043fa01a",
   "metadata": {},
   "source": [
    "adata.uns['graph']['pp_seg']"
   ]
  },
  {
   "cell_type": "raw",
   "id": "3a3f7024-8df0-46d1-8951-40d24441c068",
   "metadata": {},
   "source": [
    "adata.uns['graph']['pp_info']"
   ]
  },
  {
   "cell_type": "code",
   "execution_count": null,
   "id": "2cba8f99-dbbd-45c0-884d-9eee37230679",
   "metadata": {},
   "outputs": [],
   "source": [
    "adata.obsm['X_R'].shape"
   ]
  },
  {
   "cell_type": "code",
   "execution_count": null,
   "id": "e012edaa-0c52-4113-81d8-f77a2448bbb8",
   "metadata": {},
   "outputs": [],
   "source": [
    "adata.obsm['X_pca'].shape"
   ]
  },
  {
   "cell_type": "code",
   "execution_count": null,
   "id": "af10a038-ff78-4c00-9666-95f3314c1aab",
   "metadata": {},
   "outputs": [],
   "source": [
    "adata.obsm['X_palantir'].shape"
   ]
  },
  {
   "cell_type": "code",
   "execution_count": null,
   "id": "8a450715-d930-4bbe-a4a0-07b0a1aed3ea",
   "metadata": {},
   "outputs": [],
   "source": [
    "scf.pl.graph(adata)"
   ]
  },
  {
   "cell_type": "code",
   "execution_count": null,
   "id": "dec349f4-4ce2-4f58-bc1f-1257131d8c5e",
   "metadata": {},
   "outputs": [],
   "source": [
    "scf.tl.pseudotime(adata, n_jobs=16, n_map=100, seed=42)"
   ]
  },
  {
   "cell_type": "code",
   "execution_count": null,
   "id": "5ceea86a-0abc-4db4-afca-ecf40976c1cb",
   "metadata": {},
   "outputs": [],
   "source": []
  },
  {
   "cell_type": "code",
   "execution_count": null,
   "id": "4cc0eace-e284-405c-968c-1cfd614c9d4b",
   "metadata": {},
   "outputs": [],
   "source": [
    "sc.set_figure_params(figsize=(4,4))\n",
    "\n",
    "scf.pl.trajectory(adata)"
   ]
  },
  {
   "cell_type": "code",
   "execution_count": null,
   "id": "e7277d6b-466f-4fe8-8ab4-03e6be4b5c08",
   "metadata": {},
   "outputs": [],
   "source": [
    "sc.set_figure_params(figsize=(4,4))\n",
    "\n",
    "sc.pl.draw_graph(adata,color=[\"seg\",\"milestones\"]) "
   ]
  },
  {
   "cell_type": "code",
   "execution_count": null,
   "id": "da89f15d-714e-4ae6-abe4-e31977cc385e",
   "metadata": {},
   "outputs": [],
   "source": [
    "scf.tl.rename_milestones(adata,[\"transient\",\"IPC\",\"oRG\",\"vRG\"])"
   ]
  },
  {
   "cell_type": "code",
   "execution_count": null,
   "id": "27cc31ff-1136-4cf1-8706-7c71bdcec703",
   "metadata": {},
   "outputs": [],
   "source": [
    "sc.set_figure_params(figsize=(4,4))\n",
    "\n",
    "sc.pl.draw_graph(adata,color=[\"seg\",\"milestones\"])"
   ]
  },
  {
   "cell_type": "markdown",
   "id": "3d03c837-89e9-4ba4-88f0-bc8917e6de1c",
   "metadata": {},
   "source": [
    "**Highlight single-branch**"
   ]
  },
  {
   "cell_type": "code",
   "execution_count": null,
   "id": "357c7cc9-b679-4154-885f-c6d19df9d5de",
   "metadata": {},
   "outputs": [],
   "source": [
    "#Single branch\n",
    "root_to_oRG=scf.tl.subset_tree(adata,root_milestone=\"vRG\",milestones=[\"oRG\"],copy=True)\n",
    "#\n",
    "root_to_IPC=scf.tl.subset_tree(adata,root_milestone=\"vRG\",milestones=[\"IPC\"],copy=True)"
   ]
  },
  {
   "cell_type": "code",
   "execution_count": null,
   "id": "80fe41a5-a658-48a3-9f45-15b403b57d32",
   "metadata": {},
   "outputs": [],
   "source": [
    "sc.set_figure_params(figsize=(4,4))\n",
    "\n",
    "ax=sc.pl.scatter(adata,basis=\"draw_graph_fa\",color=\"whitesmoke\",show=False)\n",
    "scf.pl.graph(root_to_oRG,basis=\"draw_graph_fa\",size_nodes=.1,ax=ax)#, save=\"_tr21_oRGbranch.pdf\")"
   ]
  },
  {
   "cell_type": "code",
   "execution_count": null,
   "id": "4bc960b8-f645-431d-8352-b6976ba62007",
   "metadata": {},
   "outputs": [],
   "source": [
    "sc.set_figure_params(figsize=(4,4))\n",
    "\n",
    "ax=sc.pl.scatter(adata,basis=\"draw_graph_fa\",color=\"whitesmoke\",show=False)\n",
    "scf.pl.graph(root_to_IPC,basis=\"draw_graph_fa\",size_nodes=.1,ax=ax)#, save=\"_tr21_IPCbranch.pdf\")"
   ]
  },
  {
   "cell_type": "raw",
   "id": "c3be5691-6fa7-48c4-a073-e4d9a81e8141",
   "metadata": {},
   "source": []
  },
  {
   "cell_type": "code",
   "execution_count": null,
   "id": "b45466cd",
   "metadata": {
    "tags": []
   },
   "outputs": [],
   "source": [
    "sc.set_figure_params()\n",
    "fig, axs=plt.subplots(2,2,figsize=(8,8))\n",
    "axs=axs.ravel()\n",
    "scf.pl.graph(adata,basis=\"draw_graph_fa\",show=False,ax=axs[0])\n",
    "scf.pl.trajectory(adata,basis=\"draw_graph_fa\",show=False,ax=axs[1])\n",
    "sc.pl.draw_graph(adata,color=[\"seg\"],legend_loc=\"on data\",show=False,ax=axs[2],legend_fontoutline=True)\n",
    "scf.pl.milestones(adata,ax=axs[3],show=False,annotate=True)"
   ]
  },
  {
   "cell_type": "markdown",
   "id": "79a89732-97fc-4881-8b70-114f539800e3",
   "metadata": {},
   "source": [
    "### **Dendrogram representation**"
   ]
  },
  {
   "cell_type": "code",
   "execution_count": null,
   "id": "38caae04-e6b2-4f6e-95f3-50229ab1d469",
   "metadata": {},
   "outputs": [],
   "source": [
    "scf.tl.dendrogram(adata)\n",
    "\n",
    "scf.pl.dendrogram(adata,color=\"seg\")"
   ]
  },
  {
   "cell_type": "code",
   "execution_count": null,
   "id": "1dd0736a-2180-4989-8895-23c72dc94207",
   "metadata": {},
   "outputs": [],
   "source": [
    "scf.pl.dendrogram(adata,color=\"milestones\")"
   ]
  },
  {
   "cell_type": "code",
   "execution_count": null,
   "id": "29572e9b-3699-44e1-a3b8-615de9af86ac",
   "metadata": {},
   "outputs": [],
   "source": [
    "pwd"
   ]
  },
  {
   "cell_type": "code",
   "execution_count": null,
   "id": "920f922c-355a-49bc-a970-dfc7867f3408",
   "metadata": {},
   "outputs": [],
   "source": [
    "sc.set_figure_params(figsize=(1.5,4),frameon=False,dpi_save=300)\n",
    "scf.pl.dendrogram(adata,color=\"t\",show_info=False,save=\"pol19_d1\",cmap=\"viridis\")\n",
    "scf.pl.dendrogram(adata,color=\"milestones\",legend_loc=\"on data\",color_milestones=True,legend_fontoutline=True,save=\"pol19_d2\")\n",
    "scf.pl.dendrogram(adata,color=\"seg\",legend_loc=\"on data\",color_milestones=True,legend_fontoutline=True,save=\"pol19_d3\")"
   ]
  },
  {
   "cell_type": "markdown",
   "id": "bc9441b8-6132-45e8-b027-da037df6cdaf",
   "metadata": {
    "tags": []
   },
   "source": [
    "## Test and fit features associated with the tree\n",
    "\n",
    "Let's find out which genes are significantly changing along the tree."
   ]
  },
  {
   "cell_type": "raw",
   "id": "026b03fc-f0fb-4bb1-b90e-2cc168ee16d2",
   "metadata": {},
   "source": [
    "adata"
   ]
  },
  {
   "cell_type": "code",
   "execution_count": null,
   "id": "d375f7c5-0bbf-42e2-b490-416cad93b155",
   "metadata": {},
   "outputs": [],
   "source": [
    "scf.tl.test_association(adata,n_jobs=16, A_cut=0.5) #to compare same genes with Trevino 21, A_cut = 1 to high"
   ]
  },
  {
   "cell_type": "code",
   "execution_count": null,
   "id": "c328ab9a-47a1-418e-b842-3756535b2d44",
   "metadata": {},
   "outputs": [],
   "source": [
    "sc.set_figure_params()\n",
    "scf.pl.test_association(adata)\n",
    "#plt.savefig(\"figures/C.pdf\",dpi=300)"
   ]
  },
  {
   "cell_type": "code",
   "execution_count": null,
   "id": "dbb8efbe-8c2b-456d-af9e-65d3b7e70922",
   "metadata": {},
   "outputs": [],
   "source": [
    "adata.var[adata.var['signi'] == True].index #significantly genes n=179"
   ]
  },
  {
   "cell_type": "code",
   "execution_count": null,
   "id": "b5063672-88b2-44dd-9855-9b20e5352c4a",
   "metadata": {},
   "outputs": [],
   "source": [
    "scf.tl.fit(adata,n_jobs=16)"
   ]
  },
  {
   "cell_type": "code",
   "execution_count": null,
   "id": "beef9e16-9ee4-48eb-980e-eecfa3deeaa8",
   "metadata": {},
   "outputs": [],
   "source": [
    "sc.pl.pca(adata, color = ['Cluster', 'milestones', 'seg'])"
   ]
  },
  {
   "cell_type": "code",
   "execution_count": null,
   "id": "7b193b87-8d16-47ba-b602-5d91b110bc79",
   "metadata": {},
   "outputs": [],
   "source": [
    "adata.obs['segmentation'] = np.select([adata.obs['seg'] == '1', adata.obs['seg'] == '3'],\n",
    "                            ['s_IPC',  's_vRG'], \n",
    "                            default='s_oRG')"
   ]
  },
  {
   "cell_type": "raw",
   "id": "1ec7572d-0084-4ce0-abc5-812fa4ff3d8c",
   "metadata": {},
   "source": [
    "!mkdir /home/jovyan/jm_jlab/data_indNeuro/scFates_output"
   ]
  },
  {
   "cell_type": "markdown",
   "id": "84f5d662-fa51-49c0-b31f-5ebc61f48ac9",
   "metadata": {},
   "source": [
    "### **Saving for later analysis**"
   ]
  },
  {
   "cell_type": "raw",
   "id": "bfed79f3-548c-451a-9df8-184185f4b300",
   "metadata": {},
   "source": [
    "# Saving scFates clustering for GRN analysis\n",
    "adata.obs[['milestones', 'segmentation', 't']].to_csv(\"/home/jovyan/jm_jlab/data_indNeuro/scFates_output/polioudakis19_scFates_clustering.tsv\", sep='\\t', index=True)"
   ]
  },
  {
   "cell_type": "markdown",
   "id": "4f93ee56-771c-4691-aa32-7a2c8dbeb815",
   "metadata": {},
   "source": [
    "#### Plotting specific markers"
   ]
  },
  {
   "cell_type": "raw",
   "id": "d185eb0e-3830-4ac9-9f69-565a8ad55d7f",
   "metadata": {},
   "source": [
    "sc.set_figure_params(figsize=(.8,4),frameon=False)\n",
    "scf.set_figure_pubready()\n",
    "scf.pl.single_trend(adata,\"EGR1\",basis=\"dendro\",wspace=-.25)#,save=\"_E1.pdf\")\n",
    "scf.pl.single_trend(adata,\"HOPX\",basis=\"dendro\",wspace=-.25)#,save=\"_E2.pdf\")\n",
    "scf.pl.single_trend(adata,\"EOMES\",basis=\"dendro\",wspace=-.25)#,save=\"_E3.pdf\")"
   ]
  },
  {
   "cell_type": "code",
   "execution_count": null,
   "id": "824369d4-c5d5-4e74-90ef-19f58c3c2fb3",
   "metadata": {},
   "outputs": [],
   "source": [
    "sc.set_figure_params(figsize=(.8,4),frameon=False)\n",
    "scf.set_figure_pubready()\n",
    "scf.pl.single_trend(adata,\"EGR1\",basis=\"dendro\",wspace=-.25)#,save=\"_E1.pdf\")\n",
    "scf.pl.single_trend(adata,\"HOPX\",basis=\"dendro\",wspace=-.25)#,save=\"_E2.pdf\")\n",
    "scf.pl.single_trend(adata,\"EOMES\",basis=\"dendro\",wspace=-.25)#,save=\"_E3.pdf\")"
   ]
  },
  {
   "cell_type": "raw",
   "id": "e4498f4a-a7f8-4e8a-b70c-cffef8205e19",
   "metadata": {},
   "source": [
    "scf.pl.single_trend(adata,\"KLF6\",basis=\"dendro\")"
   ]
  },
  {
   "cell_type": "markdown",
   "id": "c4e7e892-6fba-4ff5-a7e6-4dad93b834ee",
   "metadata": {},
   "source": [
    "## **Final plot**"
   ]
  },
  {
   "cell_type": "code",
   "execution_count": null,
   "id": "5efad8e2-8732-4b79-b732-3c47b832882c",
   "metadata": {},
   "outputs": [],
   "source": [
    "from matplotlib.gridspec import GridSpec\n",
    "import matplotlib.pyplot as plt\n",
    "\n",
    "sc.set_figure_params(figsize=(22, 14),dpi_save=300)\n",
    "\n",
    "fig=plt.figure()\n",
    "\n",
    "gs=GridSpec(5,6)\n",
    "\n",
    "\n",
    "ax0=fig.add_subplot(gs[0,0:1])\n",
    "ax1=fig.add_subplot(gs[1:2,0:2])\n",
    "ax11=fig.add_subplot(gs[2:3,0:2])\n",
    "ax111=fig.add_subplot(gs[3:4,0:2])\n",
    "\n",
    "ax2=fig.add_subplot(gs[0,1:2])\n",
    "ax3=fig.add_subplot(gs[3:4,0:1])\n",
    "ax33=fig.add_subplot(gs[3:4,1:2])\n",
    "\n",
    "ax20=fig.add_subplot(gs[0,2:3]) \n",
    "ax21=fig.add_subplot(gs[1,2:3]) \n",
    "ax22=fig.add_subplot(gs[2,2:3]) \n",
    "\n",
    "ax5=fig.add_subplot(gs[0,3:6])\n",
    "#ax5.set_title('ax1 title')\n",
    "\n",
    "ax6=fig.add_subplot(gs[1,3:6])\n",
    "ax7=fig.add_subplot(gs[2,3:6])\n",
    "\n",
    "# PCA plot\n",
    "\n",
    "scf.pl.milestones(adata,show=False,ax=ax0,annotate=True, title=\"\")\n",
    "\n",
    "scf.pl.graph(adata,basis=\"draw_graph_fa\", ax=ax2, forks=False, tips=False, show=False)\n",
    "\n",
    "scf.pl.single_trend(adata,\"EGR1\",basis=\"dendro\", ax_trend=ax1, wspace=-.25, ylab=None, title=False, plot_emb=False, show=False)\n",
    "scf.pl.single_trend(adata,\"HOPX\",basis=\"dendro\", ax_trend=ax11, wspace=-.25, ylab=None, title=True, plot_emb=False, show=False)\n",
    "scf.pl.single_trend(adata,\"EOMES\",basis=\"dendro\", ax_trend=ax111, wspace=-.25, ylab=None, title=True, plot_emb=False, show=False)\n",
    "\n",
    "\n",
    "ax3.axis('off')\n",
    "ax33.axis('off')\n",
    "ax20.axis('off')\n",
    "ax21.axis('off')\n",
    "ax22.axis('off')\n",
    "ax5.axis('off')\n",
    "ax6.axis('off')\n",
    "ax7.axis('off')\n",
    "\n",
    "fig.tight_layout()\n",
    "\n",
    "fig.savefig('/home/jovyan/jm_jlab/SF_1.pdf',dpi=300)"
   ]
  },
  {
   "cell_type": "raw",
   "id": "04743069-045c-4fd6-8aef-5b29d145ef89",
   "metadata": {},
   "source": []
  }
 ],
 "metadata": {
  "kernelspec": {
   "display_name": "scfates",
   "language": "python",
   "name": "scfates"
  },
  "language_info": {
   "codemirror_mode": {
    "name": "ipython",
    "version": 3
   },
   "file_extension": ".py",
   "mimetype": "text/x-python",
   "name": "python",
   "nbconvert_exporter": "python",
   "pygments_lexer": "ipython3",
   "version": "3.8.15"
  }
 },
 "nbformat": 4,
 "nbformat_minor": 5
}
